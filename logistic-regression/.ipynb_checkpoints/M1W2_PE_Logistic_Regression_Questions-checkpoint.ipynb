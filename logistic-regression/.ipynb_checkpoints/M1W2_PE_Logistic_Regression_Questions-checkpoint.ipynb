{
 "cells": [
  {
   "cell_type": "markdown",
   "metadata": {
    "colab_type": "text",
    "id": "tq8Bbtn4_sNL"
   },
   "source": [
    "# Logistic regression"
   ]
  },
  {
   "cell_type": "markdown",
   "metadata": {},
   "source": [
    "## Context\n",
    "The original dataset contains 1000 entries with 20 categorial/symbolic attributes prepared by Prof. Hofmann. In this dataset, each entry represents a person who takes a credit by a bank. Each person is classified as good or bad credit risks according to the set of attributes. It is almost impossible to understand the original dataset due to its complicated system of categories and symbols. Thus, the attributes in this dataset is a subset of the original dataset. Several columns are simply ignored, and some of the important attritubes like age, account balance etc. are retained."
   ]
  },
  {
   "cell_type": "markdown",
   "metadata": {
    "colab_type": "text",
    "id": "IRBfiJLo_sNO"
   },
   "source": [
    "## Dataset: German Credit Risk\n",
    "\n",
    "- Age (Numeric : Age in years)\n",
    "- Sex (Categories : male, female)\n",
    "- Job (Categories : 0 - unskilled and non-resident, 1 - unskilled and resident, 2 - skilled, 3 - highly skilled)\n",
    "- Housing (Categories : own, rent, or free)\n",
    "- Saving accounts (Categories : little, moderate, quite rich, rich)\n",
    "- Checking account (Categories : little, moderate, rich)\n",
    "- Credit amount (Numeric : Amount of credit in DM - Deutsche Mark)\n",
    "- Duration (Numeric : Duration for which the credit is given in months)\n",
    "- Purpose (Categories: car, furniture/equipment, radio/TV, domestic appliances, repairs, education, business, vacation/others)\n",
    "- Risk (0 - Person is not at risk, 1 - Pesron is at risk(defaulter))"
   ]
  },
  {
   "cell_type": "markdown",
   "metadata": {
    "colab_type": "text",
    "id": "9-NdpVy-_sNS"
   },
   "source": [
    "# Objective\n",
    "\n",
    "The objective is to estimate probabilities whether a person would default or not using logistic regression. In this dataset, the target variable is 'Risk'."
   ]
  },
  {
   "cell_type": "markdown",
   "metadata": {
    "colab_type": "text",
    "id": "fHxngd4e_sNT"
   },
   "source": [
    "# 1. Load Libraries and data"
   ]
  },
  {
   "cell_type": "code",
   "execution_count": 2,
   "metadata": {},
   "outputs": [],
   "source": [
    "import pandas as pd\n",
    "import seaborn as sns\n",
    "import matplotlib.pyplot as plt\n",
    "import numpy as np\n",
    "%matplotlib inline"
   ]
  },
  {
   "cell_type": "code",
   "execution_count": 3,
   "metadata": {},
   "outputs": [
    {
     "name": "stdout",
     "output_type": "stream",
     "text": [
      "German_Credit.csv         pima-indians-diabetes.csv\r\n"
     ]
    }
   ],
   "source": [
    "!ls *.csv"
   ]
  },
  {
   "cell_type": "code",
   "execution_count": 4,
   "metadata": {},
   "outputs": [],
   "source": [
    "df = pd.read_csv(\"German_Credit.csv\")"
   ]
  },
  {
   "cell_type": "code",
   "execution_count": 5,
   "metadata": {},
   "outputs": [
    {
     "data": {
      "text/html": [
       "<div>\n",
       "<style scoped>\n",
       "    .dataframe tbody tr th:only-of-type {\n",
       "        vertical-align: middle;\n",
       "    }\n",
       "\n",
       "    .dataframe tbody tr th {\n",
       "        vertical-align: top;\n",
       "    }\n",
       "\n",
       "    .dataframe thead th {\n",
       "        text-align: right;\n",
       "    }\n",
       "</style>\n",
       "<table border=\"1\" class=\"dataframe\">\n",
       "  <thead>\n",
       "    <tr style=\"text-align: right;\">\n",
       "      <th></th>\n",
       "      <th>Age</th>\n",
       "      <th>Sex</th>\n",
       "      <th>Job</th>\n",
       "      <th>Housing</th>\n",
       "      <th>Saving accounts</th>\n",
       "      <th>Checking account</th>\n",
       "      <th>Credit amount</th>\n",
       "      <th>Duration</th>\n",
       "      <th>Purpose</th>\n",
       "      <th>Risk</th>\n",
       "    </tr>\n",
       "  </thead>\n",
       "  <tbody>\n",
       "    <tr>\n",
       "      <th>0</th>\n",
       "      <td>67</td>\n",
       "      <td>male</td>\n",
       "      <td>2</td>\n",
       "      <td>own</td>\n",
       "      <td>NaN</td>\n",
       "      <td>little</td>\n",
       "      <td>1169</td>\n",
       "      <td>6</td>\n",
       "      <td>radio/TV</td>\n",
       "      <td>0</td>\n",
       "    </tr>\n",
       "    <tr>\n",
       "      <th>1</th>\n",
       "      <td>22</td>\n",
       "      <td>female</td>\n",
       "      <td>2</td>\n",
       "      <td>own</td>\n",
       "      <td>little</td>\n",
       "      <td>moderate</td>\n",
       "      <td>5951</td>\n",
       "      <td>48</td>\n",
       "      <td>radio/TV</td>\n",
       "      <td>1</td>\n",
       "    </tr>\n",
       "    <tr>\n",
       "      <th>2</th>\n",
       "      <td>49</td>\n",
       "      <td>male</td>\n",
       "      <td>1</td>\n",
       "      <td>own</td>\n",
       "      <td>little</td>\n",
       "      <td>NaN</td>\n",
       "      <td>2096</td>\n",
       "      <td>12</td>\n",
       "      <td>education</td>\n",
       "      <td>0</td>\n",
       "    </tr>\n",
       "    <tr>\n",
       "      <th>3</th>\n",
       "      <td>45</td>\n",
       "      <td>male</td>\n",
       "      <td>2</td>\n",
       "      <td>free</td>\n",
       "      <td>little</td>\n",
       "      <td>little</td>\n",
       "      <td>7882</td>\n",
       "      <td>42</td>\n",
       "      <td>furniture/equipment</td>\n",
       "      <td>0</td>\n",
       "    </tr>\n",
       "    <tr>\n",
       "      <th>4</th>\n",
       "      <td>53</td>\n",
       "      <td>male</td>\n",
       "      <td>2</td>\n",
       "      <td>free</td>\n",
       "      <td>little</td>\n",
       "      <td>little</td>\n",
       "      <td>4870</td>\n",
       "      <td>24</td>\n",
       "      <td>car</td>\n",
       "      <td>1</td>\n",
       "    </tr>\n",
       "  </tbody>\n",
       "</table>\n",
       "</div>"
      ],
      "text/plain": [
       "   Age     Sex  Job Housing Saving accounts Checking account  Credit amount  \\\n",
       "0   67    male    2     own             NaN           little           1169   \n",
       "1   22  female    2     own          little         moderate           5951   \n",
       "2   49    male    1     own          little              NaN           2096   \n",
       "3   45    male    2    free          little           little           7882   \n",
       "4   53    male    2    free          little           little           4870   \n",
       "\n",
       "   Duration              Purpose  Risk  \n",
       "0         6             radio/TV     0  \n",
       "1        48             radio/TV     1  \n",
       "2        12            education     0  \n",
       "3        42  furniture/equipment     0  \n",
       "4        24                  car     1  "
      ]
     },
     "execution_count": 5,
     "metadata": {},
     "output_type": "execute_result"
    }
   ],
   "source": [
    "df.head()"
   ]
  },
  {
   "cell_type": "code",
   "execution_count": 6,
   "metadata": {},
   "outputs": [
    {
     "name": "stdout",
     "output_type": "stream",
     "text": [
      "<class 'pandas.core.frame.DataFrame'>\n",
      "RangeIndex: 1000 entries, 0 to 999\n",
      "Data columns (total 10 columns):\n",
      " #   Column            Non-Null Count  Dtype \n",
      "---  ------            --------------  ----- \n",
      " 0   Age               1000 non-null   int64 \n",
      " 1   Sex               1000 non-null   object\n",
      " 2   Job               1000 non-null   int64 \n",
      " 3   Housing           1000 non-null   object\n",
      " 4   Saving accounts   817 non-null    object\n",
      " 5   Checking account  606 non-null    object\n",
      " 6   Credit amount     1000 non-null   int64 \n",
      " 7   Duration          1000 non-null   int64 \n",
      " 8   Purpose           1000 non-null   object\n",
      " 9   Risk              1000 non-null   int64 \n",
      "dtypes: int64(5), object(5)\n",
      "memory usage: 78.2+ KB\n"
     ]
    }
   ],
   "source": [
    "df.info()"
   ]
  },
  {
   "cell_type": "code",
   "execution_count": 7,
   "metadata": {},
   "outputs": [
    {
     "data": {
      "text/plain": [
       "male      690\n",
       "female    310\n",
       "Name: Sex, dtype: int64"
      ]
     },
     "execution_count": 7,
     "metadata": {},
     "output_type": "execute_result"
    }
   ],
   "source": [
    "df['Sex'].value_counts()"
   ]
  },
  {
   "cell_type": "markdown",
   "metadata": {
    "colab_type": "text",
    "id": "a8t1RWUn_sNt"
   },
   "source": [
    "# 2. Calculate the percentage of missing values for each column and fill those missing values.\n"
   ]
  },
  {
   "cell_type": "code",
   "execution_count": 25,
   "metadata": {
    "colab": {},
    "colab_type": "code",
    "id": "kzNbWyQO_sNu",
    "outputId": "838d1afc-1b4f-422c-86f0-bbec7c0323a7"
   },
   "outputs": [
    {
     "name": "stdout",
     "output_type": "stream",
     "text": [
      "Age\n",
      "False    1.0\n",
      "Name: Age, dtype: float64\n",
      "\n",
      "Sex\n",
      "False    1.0\n",
      "Name: Sex, dtype: float64\n",
      "\n",
      "Job\n",
      "False    1.0\n",
      "Name: Job, dtype: float64\n",
      "\n",
      "Housing\n",
      "False    1.0\n",
      "Name: Housing, dtype: float64\n",
      "\n",
      "Saving accounts\n",
      "False    0.817\n",
      "True     0.183\n",
      "Name: Saving accounts, dtype: float64\n",
      "\n",
      "Checking account\n",
      "False    0.606\n",
      "True     0.394\n",
      "Name: Checking account, dtype: float64\n",
      "\n",
      "Credit amount\n",
      "False    1.0\n",
      "Name: Credit amount, dtype: float64\n",
      "\n",
      "Duration\n",
      "False    1.0\n",
      "Name: Duration, dtype: float64\n",
      "\n",
      "Purpose\n",
      "False    1.0\n",
      "Name: Purpose, dtype: float64\n",
      "\n",
      "Risk\n",
      "False    1.0\n",
      "Name: Risk, dtype: float64\n",
      "\n"
     ]
    }
   ],
   "source": [
    "columns = df.columns\n",
    "for col in columns:\n",
    "    print(col)\n",
    "    print(df[col].isna().value_counts(normalize=True))\n",
    "    print()"
   ]
  },
  {
   "cell_type": "code",
   "execution_count": 29,
   "metadata": {},
   "outputs": [
    {
     "data": {
      "text/plain": [
       "0    little\n",
       "dtype: object"
      ]
     },
     "execution_count": 29,
     "metadata": {},
     "output_type": "execute_result"
    }
   ],
   "source": [
    "df['Saving accounts'].mode()"
   ]
  },
  {
   "cell_type": "code",
   "execution_count": 30,
   "metadata": {},
   "outputs": [
    {
     "data": {
      "text/plain": [
       "little        603\n",
       "moderate      103\n",
       "quite rich     63\n",
       "rich           48\n",
       "Name: Saving accounts, dtype: int64"
      ]
     },
     "execution_count": 30,
     "metadata": {},
     "output_type": "execute_result"
    }
   ],
   "source": [
    "df['Saving accounts'].value_counts()"
   ]
  },
  {
   "cell_type": "code",
   "execution_count": 32,
   "metadata": {},
   "outputs": [],
   "source": [
    "df['Saving accounts'].fillna('little',inplace=True)"
   ]
  },
  {
   "cell_type": "code",
   "execution_count": 34,
   "metadata": {},
   "outputs": [
    {
     "data": {
      "text/plain": [
       "0    little\n",
       "dtype: object"
      ]
     },
     "execution_count": 34,
     "metadata": {},
     "output_type": "execute_result"
    }
   ],
   "source": [
    "df['Checking account'].mode()"
   ]
  },
  {
   "cell_type": "code",
   "execution_count": 35,
   "metadata": {},
   "outputs": [],
   "source": [
    "df['Checking account'].fillna('little',inplace=True)"
   ]
  },
  {
   "cell_type": "code",
   "execution_count": 36,
   "metadata": {},
   "outputs": [
    {
     "name": "stdout",
     "output_type": "stream",
     "text": [
      "Age\n",
      "False    1.0\n",
      "Name: Age, dtype: float64\n",
      "\n",
      "Sex\n",
      "False    1.0\n",
      "Name: Sex, dtype: float64\n",
      "\n",
      "Job\n",
      "False    1.0\n",
      "Name: Job, dtype: float64\n",
      "\n",
      "Housing\n",
      "False    1.0\n",
      "Name: Housing, dtype: float64\n",
      "\n",
      "Saving accounts\n",
      "False    1.0\n",
      "Name: Saving accounts, dtype: float64\n",
      "\n",
      "Checking account\n",
      "False    1.0\n",
      "Name: Checking account, dtype: float64\n",
      "\n",
      "Credit amount\n",
      "False    1.0\n",
      "Name: Credit amount, dtype: float64\n",
      "\n",
      "Duration\n",
      "False    1.0\n",
      "Name: Duration, dtype: float64\n",
      "\n",
      "Purpose\n",
      "False    1.0\n",
      "Name: Purpose, dtype: float64\n",
      "\n",
      "Risk\n",
      "False    1.0\n",
      "Name: Risk, dtype: float64\n",
      "\n"
     ]
    }
   ],
   "source": [
    "columns = df.columns\n",
    "for col in columns:\n",
    "    print(col)\n",
    "    print(df[col].isna().value_counts(normalize=True))\n",
    "    print()"
   ]
  },
  {
   "cell_type": "markdown",
   "metadata": {
    "colab_type": "text",
    "id": "6wXNl8gJ_sN4"
   },
   "source": [
    "# 3. Plot histogram for columns 'Credit amount' and 'Age'"
   ]
  },
  {
   "cell_type": "code",
   "execution_count": 24,
   "metadata": {
    "colab": {},
    "colab_type": "code",
    "id": "cb4zwYHt_sN5",
    "outputId": "8dc92796-edcc-4efb-8e19-b7b595370448"
   },
   "outputs": [
    {
     "data": {
      "text/plain": [
       "<AxesSubplot:xlabel='Credit amount'>"
      ]
     },
     "execution_count": 24,
     "metadata": {},
     "output_type": "execute_result"
    },
    {
     "data": {
      "image/png": "[encoded data removed]",
      "text/plain": [
       "<Figure size 432x288 with 1 Axes>"
      ]
     },
     "metadata": {
      "needs_background": "light"
     },
     "output_type": "display_data"
    }
   ],
   "source": [
    "sns.distplot(df['Credit amount'],kde=False)"
   ]
  },
  {
   "cell_type": "code",
   "execution_count": 37,
   "metadata": {},
   "outputs": [
    {
     "data": {
      "text/plain": [
       "<AxesSubplot:xlabel='Age'>"
      ]
     },
     "execution_count": 37,
     "metadata": {},
     "output_type": "execute_result"
    },
    {
     "data": {
      "image/png": "[encoded data removed]",
      "text/plain": [
       "<Figure size 432x288 with 1 Axes>"
      ]
     },
     "metadata": {
      "needs_background": "light"
     },
     "output_type": "display_data"
    }
   ],
   "source": [
    "sns.distplot(df['Age'],kde=False)"
   ]
  },
  {
   "cell_type": "markdown",
   "metadata": {},
   "source": [
    "# 4. Create counplots for columns 'Duration', 'Purpose'. What durations are most common and for what purposes most credits are taken?"
   ]
  },
  {
   "cell_type": "code",
   "execution_count": 49,
   "metadata": {},
   "outputs": [
    {
     "data": {
      "text/plain": [
       "<AxesSubplot:xlabel='Duration', ylabel='count'>"
      ]
     },
     "execution_count": 49,
     "metadata": {},
     "output_type": "execute_result"
    },
    {
     "data": {
      "image/png": "[encoded data removed]",
      "text/plain": [
       "<Figure size 1152x432 with 1 Axes>"
      ]
     },
     "metadata": {
      "needs_background": "light"
     },
     "output_type": "display_data"
    }
   ],
   "source": [
    "plt.figure(figsize=(16, 6))\n",
    "\n",
    "\n",
    "sns.countplot('Duration',data=df,orient='v')"
   ]
  },
  {
   "cell_type": "code",
   "execution_count": 126,
   "metadata": {},
   "outputs": [
    {
     "data": {
      "image/png": "[encoded data removed]",
      "text/plain": [
       "<Figure size 1152x432 with 1 Axes>"
      ]
     },
     "metadata": {
      "needs_background": "light"
     },
     "output_type": "display_data"
    }
   ],
   "source": [
    "plt.figure(figsize=(16, 6))\n",
    "chart = sns.countplot('Purpose',data=df,orient='h')\n",
    "chart.set_xticklabels(chart.get_xticklabels(),rotation=45);"
   ]
  },
  {
   "cell_type": "markdown",
   "metadata": {
    "colab_type": "text",
    "id": "OTi19aryIF9e"
   },
   "source": [
    "# 5. Which 'Job', 'Savings account', 'Checking account' has highest number of defaulters?"
   ]
  },
  {
   "cell_type": "code",
   "execution_count": 45,
   "metadata": {},
   "outputs": [
    {
     "data": {
      "text/plain": [
       "2    186\n",
       "1     56\n",
       "3     51\n",
       "0      7\n",
       "Name: Job, dtype: int64"
      ]
     },
     "execution_count": 45,
     "metadata": {},
     "output_type": "execute_result"
    }
   ],
   "source": [
    "df[ df['Risk']==1 ]['Job'].value_counts()"
   ]
  },
  {
   "cell_type": "code",
   "execution_count": 46,
   "metadata": {},
   "outputs": [
    {
     "data": {
      "text/plain": [
       "little      181\n",
       "moderate    105\n",
       "rich         14\n",
       "Name: Checking account, dtype: int64"
      ]
     },
     "execution_count": 46,
     "metadata": {},
     "output_type": "execute_result"
    }
   ],
   "source": [
    "df[ df['Risk']==1 ]['Checking account'].value_counts()"
   ]
  },
  {
   "cell_type": "markdown",
   "metadata": {},
   "source": [
    "# 6. Convert 'Credit amount' and 'Age' into categorical features by grouping them into different intervals and drop the original columns.\n",
    "You can decide the intervals using df.describe() method."
   ]
  },
  {
   "cell_type": "code",
   "execution_count": 51,
   "metadata": {},
   "outputs": [
    {
     "data": {
      "text/html": [
       "<div>\n",
       "<style scoped>\n",
       "    .dataframe tbody tr th:only-of-type {\n",
       "        vertical-align: middle;\n",
       "    }\n",
       "\n",
       "    .dataframe tbody tr th {\n",
       "        vertical-align: top;\n",
       "    }\n",
       "\n",
       "    .dataframe thead th {\n",
       "        text-align: right;\n",
       "    }\n",
       "</style>\n",
       "<table border=\"1\" class=\"dataframe\">\n",
       "  <thead>\n",
       "    <tr style=\"text-align: right;\">\n",
       "      <th></th>\n",
       "      <th>Age</th>\n",
       "      <th>Job</th>\n",
       "      <th>Credit amount</th>\n",
       "      <th>Duration</th>\n",
       "      <th>Risk</th>\n",
       "    </tr>\n",
       "  </thead>\n",
       "  <tbody>\n",
       "    <tr>\n",
       "      <th>count</th>\n",
       "      <td>1000.000000</td>\n",
       "      <td>1000.000000</td>\n",
       "      <td>1000.000000</td>\n",
       "      <td>1000.000000</td>\n",
       "      <td>1000.000000</td>\n",
       "    </tr>\n",
       "    <tr>\n",
       "      <th>mean</th>\n",
       "      <td>35.546000</td>\n",
       "      <td>1.904000</td>\n",
       "      <td>3271.258000</td>\n",
       "      <td>20.903000</td>\n",
       "      <td>0.300000</td>\n",
       "    </tr>\n",
       "    <tr>\n",
       "      <th>std</th>\n",
       "      <td>11.375469</td>\n",
       "      <td>0.653614</td>\n",
       "      <td>2822.736876</td>\n",
       "      <td>12.058814</td>\n",
       "      <td>0.458487</td>\n",
       "    </tr>\n",
       "    <tr>\n",
       "      <th>min</th>\n",
       "      <td>19.000000</td>\n",
       "      <td>0.000000</td>\n",
       "      <td>250.000000</td>\n",
       "      <td>4.000000</td>\n",
       "      <td>0.000000</td>\n",
       "    </tr>\n",
       "    <tr>\n",
       "      <th>25%</th>\n",
       "      <td>27.000000</td>\n",
       "      <td>2.000000</td>\n",
       "      <td>1365.500000</td>\n",
       "      <td>12.000000</td>\n",
       "      <td>0.000000</td>\n",
       "    </tr>\n",
       "    <tr>\n",
       "      <th>50%</th>\n",
       "      <td>33.000000</td>\n",
       "      <td>2.000000</td>\n",
       "      <td>2319.500000</td>\n",
       "      <td>18.000000</td>\n",
       "      <td>0.000000</td>\n",
       "    </tr>\n",
       "    <tr>\n",
       "      <th>75%</th>\n",
       "      <td>42.000000</td>\n",
       "      <td>2.000000</td>\n",
       "      <td>3972.250000</td>\n",
       "      <td>24.000000</td>\n",
       "      <td>1.000000</td>\n",
       "    </tr>\n",
       "    <tr>\n",
       "      <th>max</th>\n",
       "      <td>75.000000</td>\n",
       "      <td>3.000000</td>\n",
       "      <td>18424.000000</td>\n",
       "      <td>72.000000</td>\n",
       "      <td>1.000000</td>\n",
       "    </tr>\n",
       "  </tbody>\n",
       "</table>\n",
       "</div>"
      ],
      "text/plain": [
       "               Age          Job  Credit amount     Duration         Risk\n",
       "count  1000.000000  1000.000000    1000.000000  1000.000000  1000.000000\n",
       "mean     35.546000     1.904000    3271.258000    20.903000     0.300000\n",
       "std      11.375469     0.653614    2822.736876    12.058814     0.458487\n",
       "min      19.000000     0.000000     250.000000     4.000000     0.000000\n",
       "25%      27.000000     2.000000    1365.500000    12.000000     0.000000\n",
       "50%      33.000000     2.000000    2319.500000    18.000000     0.000000\n",
       "75%      42.000000     2.000000    3972.250000    24.000000     1.000000\n",
       "max      75.000000     3.000000   18424.000000    72.000000     1.000000"
      ]
     },
     "execution_count": 51,
     "metadata": {},
     "output_type": "execute_result"
    }
   ],
   "source": [
    "df.describe()"
   ]
  },
  {
   "cell_type": "code",
   "execution_count": 53,
   "metadata": {},
   "outputs": [],
   "source": [
    "def age_to_category(age):\n",
    "    if ( age < 30 ):\n",
    "        return \"20s\"\n",
    "    if (age < 40):\n",
    "        return \"30s\"\n",
    "    if (age < 50):\n",
    "        return \"40s\"\n",
    "    if (age < 60):\n",
    "        return \"50s\"\n",
    "    if (age < 70):\n",
    "        return \"60s\"\n",
    "    if (age < 80):\n",
    "        return \"70s\""
   ]
  },
  {
   "cell_type": "code",
   "execution_count": 55,
   "metadata": {},
   "outputs": [],
   "source": [
    "df['Age-Category'] = df['Age'].apply(age_to_category)"
   ]
  },
  {
   "cell_type": "code",
   "execution_count": 58,
   "metadata": {},
   "outputs": [],
   "source": [
    "def credit_amount_to_category(credit):\n",
    "    # Return number that says credit is less than 1000*num\n",
    "    return int(credit/1000 + 1)"
   ]
  },
  {
   "cell_type": "code",
   "execution_count": 60,
   "metadata": {},
   "outputs": [],
   "source": [
    "df['Credit-Category']=df['Credit amount'].apply(credit_amount_to_category)"
   ]
  },
  {
   "cell_type": "code",
   "execution_count": 70,
   "metadata": {},
   "outputs": [],
   "source": [
    "df.drop(['Credit amount','Age'],axis='columns',inplace=True)"
   ]
  },
  {
   "cell_type": "code",
   "execution_count": 71,
   "metadata": {},
   "outputs": [
    {
     "data": {
      "text/html": [
       "<div>\n",
       "<style scoped>\n",
       "    .dataframe tbody tr th:only-of-type {\n",
       "        vertical-align: middle;\n",
       "    }\n",
       "\n",
       "    .dataframe tbody tr th {\n",
       "        vertical-align: top;\n",
       "    }\n",
       "\n",
       "    .dataframe thead th {\n",
       "        text-align: right;\n",
       "    }\n",
       "</style>\n",
       "<table border=\"1\" class=\"dataframe\">\n",
       "  <thead>\n",
       "    <tr style=\"text-align: right;\">\n",
       "      <th></th>\n",
       "      <th>Sex</th>\n",
       "      <th>Job</th>\n",
       "      <th>Housing</th>\n",
       "      <th>Saving accounts</th>\n",
       "      <th>Checking account</th>\n",
       "      <th>Duration</th>\n",
       "      <th>Purpose</th>\n",
       "      <th>Risk</th>\n",
       "      <th>Age-Category</th>\n",
       "      <th>Credit-Category</th>\n",
       "    </tr>\n",
       "  </thead>\n",
       "  <tbody>\n",
       "    <tr>\n",
       "      <th>0</th>\n",
       "      <td>male</td>\n",
       "      <td>2</td>\n",
       "      <td>own</td>\n",
       "      <td>little</td>\n",
       "      <td>little</td>\n",
       "      <td>6</td>\n",
       "      <td>radio/TV</td>\n",
       "      <td>0</td>\n",
       "      <td>60s</td>\n",
       "      <td>2</td>\n",
       "    </tr>\n",
       "    <tr>\n",
       "      <th>1</th>\n",
       "      <td>female</td>\n",
       "      <td>2</td>\n",
       "      <td>own</td>\n",
       "      <td>little</td>\n",
       "      <td>moderate</td>\n",
       "      <td>48</td>\n",
       "      <td>radio/TV</td>\n",
       "      <td>1</td>\n",
       "      <td>20s</td>\n",
       "      <td>6</td>\n",
       "    </tr>\n",
       "    <tr>\n",
       "      <th>2</th>\n",
       "      <td>male</td>\n",
       "      <td>1</td>\n",
       "      <td>own</td>\n",
       "      <td>little</td>\n",
       "      <td>little</td>\n",
       "      <td>12</td>\n",
       "      <td>education</td>\n",
       "      <td>0</td>\n",
       "      <td>40s</td>\n",
       "      <td>3</td>\n",
       "    </tr>\n",
       "    <tr>\n",
       "      <th>3</th>\n",
       "      <td>male</td>\n",
       "      <td>2</td>\n",
       "      <td>free</td>\n",
       "      <td>little</td>\n",
       "      <td>little</td>\n",
       "      <td>42</td>\n",
       "      <td>furniture/equipment</td>\n",
       "      <td>0</td>\n",
       "      <td>40s</td>\n",
       "      <td>8</td>\n",
       "    </tr>\n",
       "    <tr>\n",
       "      <th>4</th>\n",
       "      <td>male</td>\n",
       "      <td>2</td>\n",
       "      <td>free</td>\n",
       "      <td>little</td>\n",
       "      <td>little</td>\n",
       "      <td>24</td>\n",
       "      <td>car</td>\n",
       "      <td>1</td>\n",
       "      <td>50s</td>\n",
       "      <td>5</td>\n",
       "    </tr>\n",
       "  </tbody>\n",
       "</table>\n",
       "</div>"
      ],
      "text/plain": [
       "      Sex  Job Housing Saving accounts Checking account  Duration  \\\n",
       "0    male    2     own          little           little         6   \n",
       "1  female    2     own          little         moderate        48   \n",
       "2    male    1     own          little           little        12   \n",
       "3    male    2    free          little           little        42   \n",
       "4    male    2    free          little           little        24   \n",
       "\n",
       "               Purpose  Risk Age-Category  Credit-Category  \n",
       "0             radio/TV     0          60s                2  \n",
       "1             radio/TV     1          20s                6  \n",
       "2            education     0          40s                3  \n",
       "3  furniture/equipment     0          40s                8  \n",
       "4                  car     1          50s                5  "
      ]
     },
     "execution_count": 71,
     "metadata": {},
     "output_type": "execute_result"
    }
   ],
   "source": [
    "df.head()"
   ]
  },
  {
   "cell_type": "markdown",
   "metadata": {},
   "source": [
    "# 7. Find out total number of defaulters where for each category of 'Age' and  'Credit amount'."
   ]
  },
  {
   "cell_type": "code",
   "execution_count": 72,
   "metadata": {},
   "outputs": [
    {
     "data": {
      "text/plain": [
       "2     84\n",
       "3     45\n",
       "1     37\n",
       "4     29\n",
       "5     27\n",
       "7     18\n",
       "8     12\n",
       "6     10\n",
       "9      8\n",
       "15     6\n",
       "12     6\n",
       "10     6\n",
       "13     5\n",
       "11     4\n",
       "16     2\n",
       "19     1\n",
       "Name: Credit-Category, dtype: int64"
      ]
     },
     "execution_count": 72,
     "metadata": {},
     "output_type": "execute_result"
    }
   ],
   "source": [
    "df[ df['Risk']==1 ]['Credit-Category'].value_counts()"
   ]
  },
  {
   "cell_type": "code",
   "execution_count": 73,
   "metadata": {},
   "outputs": [
    {
     "data": {
      "text/plain": [
       "<AxesSubplot:xlabel='Credit-Category', ylabel='count'>"
      ]
     },
     "execution_count": 73,
     "metadata": {},
     "output_type": "execute_result"
    },
    {
     "data": {
      "image/png": "[encoded data removed]",
      "text/plain": [
       "<Figure size 432x288 with 1 Axes>"
      ]
     },
     "metadata": {
      "needs_background": "light"
     },
     "output_type": "display_data"
    }
   ],
   "source": [
    "sns.countplot('Credit-Category',data=df[ df['Risk']==1 ])"
   ]
  },
  {
   "cell_type": "code",
   "execution_count": 74,
   "metadata": {},
   "outputs": [
    {
     "data": {
      "text/plain": [
       "20s    137\n",
       "30s     85\n",
       "40s     44\n",
       "50s     21\n",
       "60s     12\n",
       "70s      1\n",
       "Name: Age-Category, dtype: int64"
      ]
     },
     "execution_count": 74,
     "metadata": {},
     "output_type": "execute_result"
    }
   ],
   "source": [
    "df[ df['Risk']==1 ]['Age-Category'].value_counts()"
   ]
  },
  {
   "cell_type": "code",
   "execution_count": 75,
   "metadata": {},
   "outputs": [
    {
     "data": {
      "text/plain": [
       "<AxesSubplot:xlabel='Age-Category', ylabel='count'>"
      ]
     },
     "execution_count": 75,
     "metadata": {},
     "output_type": "execute_result"
    },
    {
     "data": {
      "image/png": "[encoded data removed]",
      "text/plain": [
       "<Figure size 432x288 with 1 Axes>"
      ]
     },
     "metadata": {
      "needs_background": "light"
     },
     "output_type": "display_data"
    }
   ],
   "source": [
    "sns.countplot('Age-Category',data=df[ df['Risk']==1 ])"
   ]
  },
  {
   "cell_type": "markdown",
   "metadata": {
    "colab_type": "text",
    "id": "cBcxmhZo_sOv"
   },
   "source": [
    "# 8. Prepare input data for the model"
   ]
  },
  {
   "cell_type": "markdown",
   "metadata": {},
   "source": [
    "### Separate dependent and independent variables"
   ]
  },
  {
   "cell_type": "code",
   "execution_count": 76,
   "metadata": {},
   "outputs": [
    {
     "data": {
      "text/html": [
       "<div>\n",
       "<style scoped>\n",
       "    .dataframe tbody tr th:only-of-type {\n",
       "        vertical-align: middle;\n",
       "    }\n",
       "\n",
       "    .dataframe tbody tr th {\n",
       "        vertical-align: top;\n",
       "    }\n",
       "\n",
       "    .dataframe thead th {\n",
       "        text-align: right;\n",
       "    }\n",
       "</style>\n",
       "<table border=\"1\" class=\"dataframe\">\n",
       "  <thead>\n",
       "    <tr style=\"text-align: right;\">\n",
       "      <th></th>\n",
       "      <th>Sex</th>\n",
       "      <th>Job</th>\n",
       "      <th>Housing</th>\n",
       "      <th>Saving accounts</th>\n",
       "      <th>Checking account</th>\n",
       "      <th>Duration</th>\n",
       "      <th>Purpose</th>\n",
       "      <th>Risk</th>\n",
       "      <th>Age-Category</th>\n",
       "      <th>Credit-Category</th>\n",
       "    </tr>\n",
       "  </thead>\n",
       "  <tbody>\n",
       "    <tr>\n",
       "      <th>0</th>\n",
       "      <td>male</td>\n",
       "      <td>2</td>\n",
       "      <td>own</td>\n",
       "      <td>little</td>\n",
       "      <td>little</td>\n",
       "      <td>6</td>\n",
       "      <td>radio/TV</td>\n",
       "      <td>0</td>\n",
       "      <td>60s</td>\n",
       "      <td>2</td>\n",
       "    </tr>\n",
       "    <tr>\n",
       "      <th>1</th>\n",
       "      <td>female</td>\n",
       "      <td>2</td>\n",
       "      <td>own</td>\n",
       "      <td>little</td>\n",
       "      <td>moderate</td>\n",
       "      <td>48</td>\n",
       "      <td>radio/TV</td>\n",
       "      <td>1</td>\n",
       "      <td>20s</td>\n",
       "      <td>6</td>\n",
       "    </tr>\n",
       "    <tr>\n",
       "      <th>2</th>\n",
       "      <td>male</td>\n",
       "      <td>1</td>\n",
       "      <td>own</td>\n",
       "      <td>little</td>\n",
       "      <td>little</td>\n",
       "      <td>12</td>\n",
       "      <td>education</td>\n",
       "      <td>0</td>\n",
       "      <td>40s</td>\n",
       "      <td>3</td>\n",
       "    </tr>\n",
       "    <tr>\n",
       "      <th>3</th>\n",
       "      <td>male</td>\n",
       "      <td>2</td>\n",
       "      <td>free</td>\n",
       "      <td>little</td>\n",
       "      <td>little</td>\n",
       "      <td>42</td>\n",
       "      <td>furniture/equipment</td>\n",
       "      <td>0</td>\n",
       "      <td>40s</td>\n",
       "      <td>8</td>\n",
       "    </tr>\n",
       "    <tr>\n",
       "      <th>4</th>\n",
       "      <td>male</td>\n",
       "      <td>2</td>\n",
       "      <td>free</td>\n",
       "      <td>little</td>\n",
       "      <td>little</td>\n",
       "      <td>24</td>\n",
       "      <td>car</td>\n",
       "      <td>1</td>\n",
       "      <td>50s</td>\n",
       "      <td>5</td>\n",
       "    </tr>\n",
       "  </tbody>\n",
       "</table>\n",
       "</div>"
      ],
      "text/plain": [
       "      Sex  Job Housing Saving accounts Checking account  Duration  \\\n",
       "0    male    2     own          little           little         6   \n",
       "1  female    2     own          little         moderate        48   \n",
       "2    male    1     own          little           little        12   \n",
       "3    male    2    free          little           little        42   \n",
       "4    male    2    free          little           little        24   \n",
       "\n",
       "               Purpose  Risk Age-Category  Credit-Category  \n",
       "0             radio/TV     0          60s                2  \n",
       "1             radio/TV     1          20s                6  \n",
       "2            education     0          40s                3  \n",
       "3  furniture/equipment     0          40s                8  \n",
       "4                  car     1          50s                5  "
      ]
     },
     "execution_count": 76,
     "metadata": {},
     "output_type": "execute_result"
    }
   ],
   "source": [
    "df.head()"
   ]
  },
  {
   "cell_type": "code",
   "execution_count": 78,
   "metadata": {},
   "outputs": [],
   "source": [
    "from sklearn.model_selection import train_test_split\n",
    "\n",
    "y = df['Risk']\n",
    "X = df.drop('Risk',axis='columns')"
   ]
  },
  {
   "cell_type": "code",
   "execution_count": 79,
   "metadata": {},
   "outputs": [
    {
     "data": {
      "text/html": [
       "<div>\n",
       "<style scoped>\n",
       "    .dataframe tbody tr th:only-of-type {\n",
       "        vertical-align: middle;\n",
       "    }\n",
       "\n",
       "    .dataframe tbody tr th {\n",
       "        vertical-align: top;\n",
       "    }\n",
       "\n",
       "    .dataframe thead th {\n",
       "        text-align: right;\n",
       "    }\n",
       "</style>\n",
       "<table border=\"1\" class=\"dataframe\">\n",
       "  <thead>\n",
       "    <tr style=\"text-align: right;\">\n",
       "      <th></th>\n",
       "      <th>Sex</th>\n",
       "      <th>Job</th>\n",
       "      <th>Housing</th>\n",
       "      <th>Saving accounts</th>\n",
       "      <th>Checking account</th>\n",
       "      <th>Duration</th>\n",
       "      <th>Purpose</th>\n",
       "      <th>Age-Category</th>\n",
       "      <th>Credit-Category</th>\n",
       "    </tr>\n",
       "  </thead>\n",
       "  <tbody>\n",
       "    <tr>\n",
       "      <th>0</th>\n",
       "      <td>male</td>\n",
       "      <td>2</td>\n",
       "      <td>own</td>\n",
       "      <td>little</td>\n",
       "      <td>little</td>\n",
       "      <td>6</td>\n",
       "      <td>radio/TV</td>\n",
       "      <td>60s</td>\n",
       "      <td>2</td>\n",
       "    </tr>\n",
       "    <tr>\n",
       "      <th>1</th>\n",
       "      <td>female</td>\n",
       "      <td>2</td>\n",
       "      <td>own</td>\n",
       "      <td>little</td>\n",
       "      <td>moderate</td>\n",
       "      <td>48</td>\n",
       "      <td>radio/TV</td>\n",
       "      <td>20s</td>\n",
       "      <td>6</td>\n",
       "    </tr>\n",
       "    <tr>\n",
       "      <th>2</th>\n",
       "      <td>male</td>\n",
       "      <td>1</td>\n",
       "      <td>own</td>\n",
       "      <td>little</td>\n",
       "      <td>little</td>\n",
       "      <td>12</td>\n",
       "      <td>education</td>\n",
       "      <td>40s</td>\n",
       "      <td>3</td>\n",
       "    </tr>\n",
       "    <tr>\n",
       "      <th>3</th>\n",
       "      <td>male</td>\n",
       "      <td>2</td>\n",
       "      <td>free</td>\n",
       "      <td>little</td>\n",
       "      <td>little</td>\n",
       "      <td>42</td>\n",
       "      <td>furniture/equipment</td>\n",
       "      <td>40s</td>\n",
       "      <td>8</td>\n",
       "    </tr>\n",
       "    <tr>\n",
       "      <th>4</th>\n",
       "      <td>male</td>\n",
       "      <td>2</td>\n",
       "      <td>free</td>\n",
       "      <td>little</td>\n",
       "      <td>little</td>\n",
       "      <td>24</td>\n",
       "      <td>car</td>\n",
       "      <td>50s</td>\n",
       "      <td>5</td>\n",
       "    </tr>\n",
       "    <tr>\n",
       "      <th>...</th>\n",
       "      <td>...</td>\n",
       "      <td>...</td>\n",
       "      <td>...</td>\n",
       "      <td>...</td>\n",
       "      <td>...</td>\n",
       "      <td>...</td>\n",
       "      <td>...</td>\n",
       "      <td>...</td>\n",
       "      <td>...</td>\n",
       "    </tr>\n",
       "    <tr>\n",
       "      <th>995</th>\n",
       "      <td>female</td>\n",
       "      <td>1</td>\n",
       "      <td>own</td>\n",
       "      <td>little</td>\n",
       "      <td>little</td>\n",
       "      <td>12</td>\n",
       "      <td>furniture/equipment</td>\n",
       "      <td>30s</td>\n",
       "      <td>2</td>\n",
       "    </tr>\n",
       "    <tr>\n",
       "      <th>996</th>\n",
       "      <td>male</td>\n",
       "      <td>3</td>\n",
       "      <td>own</td>\n",
       "      <td>little</td>\n",
       "      <td>little</td>\n",
       "      <td>30</td>\n",
       "      <td>car</td>\n",
       "      <td>40s</td>\n",
       "      <td>4</td>\n",
       "    </tr>\n",
       "    <tr>\n",
       "      <th>997</th>\n",
       "      <td>male</td>\n",
       "      <td>2</td>\n",
       "      <td>own</td>\n",
       "      <td>little</td>\n",
       "      <td>little</td>\n",
       "      <td>12</td>\n",
       "      <td>radio/TV</td>\n",
       "      <td>30s</td>\n",
       "      <td>1</td>\n",
       "    </tr>\n",
       "    <tr>\n",
       "      <th>998</th>\n",
       "      <td>male</td>\n",
       "      <td>2</td>\n",
       "      <td>free</td>\n",
       "      <td>little</td>\n",
       "      <td>little</td>\n",
       "      <td>45</td>\n",
       "      <td>radio/TV</td>\n",
       "      <td>20s</td>\n",
       "      <td>2</td>\n",
       "    </tr>\n",
       "    <tr>\n",
       "      <th>999</th>\n",
       "      <td>male</td>\n",
       "      <td>2</td>\n",
       "      <td>own</td>\n",
       "      <td>moderate</td>\n",
       "      <td>moderate</td>\n",
       "      <td>45</td>\n",
       "      <td>car</td>\n",
       "      <td>20s</td>\n",
       "      <td>5</td>\n",
       "    </tr>\n",
       "  </tbody>\n",
       "</table>\n",
       "<p>1000 rows × 9 columns</p>\n",
       "</div>"
      ],
      "text/plain": [
       "        Sex  Job Housing Saving accounts Checking account  Duration  \\\n",
       "0      male    2     own          little           little         6   \n",
       "1    female    2     own          little         moderate        48   \n",
       "2      male    1     own          little           little        12   \n",
       "3      male    2    free          little           little        42   \n",
       "4      male    2    free          little           little        24   \n",
       "..      ...  ...     ...             ...              ...       ...   \n",
       "995  female    1     own          little           little        12   \n",
       "996    male    3     own          little           little        30   \n",
       "997    male    2     own          little           little        12   \n",
       "998    male    2    free          little           little        45   \n",
       "999    male    2     own        moderate         moderate        45   \n",
       "\n",
       "                 Purpose Age-Category  Credit-Category  \n",
       "0               radio/TV          60s                2  \n",
       "1               radio/TV          20s                6  \n",
       "2              education          40s                3  \n",
       "3    furniture/equipment          40s                8  \n",
       "4                    car          50s                5  \n",
       "..                   ...          ...              ...  \n",
       "995  furniture/equipment          30s                2  \n",
       "996                  car          40s                4  \n",
       "997             radio/TV          30s                1  \n",
       "998             radio/TV          20s                2  \n",
       "999                  car          20s                5  \n",
       "\n",
       "[1000 rows x 9 columns]"
      ]
     },
     "execution_count": 79,
     "metadata": {},
     "output_type": "execute_result"
    }
   ],
   "source": [
    "X"
   ]
  },
  {
   "cell_type": "code",
   "execution_count": 80,
   "metadata": {},
   "outputs": [
    {
     "data": {
      "text/plain": [
       "0      0\n",
       "1      1\n",
       "2      0\n",
       "3      0\n",
       "4      1\n",
       "      ..\n",
       "995    0\n",
       "996    0\n",
       "997    0\n",
       "998    1\n",
       "999    0\n",
       "Name: Risk, Length: 1000, dtype: int64"
      ]
     },
     "execution_count": 80,
     "metadata": {},
     "output_type": "execute_result"
    }
   ],
   "source": [
    "y"
   ]
  },
  {
   "cell_type": "markdown",
   "metadata": {},
   "source": [
    "### One hot enocding for all the categorical variables"
   ]
  },
  {
   "cell_type": "code",
   "execution_count": 82,
   "metadata": {},
   "outputs": [
    {
     "name": "stdout",
     "output_type": "stream",
     "text": [
      "<class 'pandas.core.frame.DataFrame'>\n",
      "RangeIndex: 1000 entries, 0 to 999\n",
      "Data columns (total 10 columns):\n",
      " #   Column            Non-Null Count  Dtype \n",
      "---  ------            --------------  ----- \n",
      " 0   Sex               1000 non-null   object\n",
      " 1   Job               1000 non-null   int64 \n",
      " 2   Housing           1000 non-null   object\n",
      " 3   Saving accounts   1000 non-null   object\n",
      " 4   Checking account  1000 non-null   object\n",
      " 5   Duration          1000 non-null   int64 \n",
      " 6   Purpose           1000 non-null   object\n",
      " 7   Risk              1000 non-null   int64 \n",
      " 8   Age-Category      1000 non-null   object\n",
      " 9   Credit-Category   1000 non-null   int64 \n",
      "dtypes: int64(4), object(6)\n",
      "memory usage: 78.2+ KB\n"
     ]
    }
   ],
   "source": [
    "df.info()"
   ]
  },
  {
   "cell_type": "code",
   "execution_count": 84,
   "metadata": {},
   "outputs": [
    {
     "data": {
      "text/plain": [
       "2    630\n",
       "1    200\n",
       "3    148\n",
       "0     22\n",
       "Name: Job, dtype: int64"
      ]
     },
     "execution_count": 84,
     "metadata": {},
     "output_type": "execute_result"
    }
   ],
   "source": [
    "df['Job'].value_counts()"
   ]
  },
  {
   "cell_type": "code",
   "execution_count": 91,
   "metadata": {},
   "outputs": [
    {
     "data": {
      "text/plain": [
       "['Sex',\n",
       " 'Job',\n",
       " 'Housing',\n",
       " 'Saving accounts',\n",
       " 'Checking account',\n",
       " 'Purpose',\n",
       " 'Age-Category',\n",
       " 'Credit-Category']"
      ]
     },
     "execution_count": 91,
     "metadata": {},
     "output_type": "execute_result"
    }
   ],
   "source": [
    "#Treat everything as a categorical variable execept Duration\n",
    "categorical_columns = list(X.columns)\n",
    "categorical_columns.remove('Duration')\n",
    "categorical_columns"
   ]
  },
  {
   "cell_type": "code",
   "execution_count": 96,
   "metadata": {
    "colab": {},
    "colab_type": "code",
    "id": "SkFsxC-F_sOw"
   },
   "outputs": [],
   "source": [
    "X=pd.get_dummies(X,columns=categorical_columns)"
   ]
  },
  {
   "cell_type": "markdown",
   "metadata": {},
   "source": [
    "### Split data into train and test (maintain the ratio of both classes in train and test set same as the original dataset)"
   ]
  },
  {
   "cell_type": "code",
   "execution_count": 97,
   "metadata": {},
   "outputs": [],
   "source": [
    "from sklearn.model_selection import train_test_split\n",
    "\n",
    "x_train, x_test, y_train, y_test = train_test_split(X, y, test_size=0.3, random_state=1)"
   ]
  },
  {
   "cell_type": "markdown",
   "metadata": {},
   "source": [
    "# 9. Predict Target Variable for Test Data using Sklearn"
   ]
  },
  {
   "cell_type": "code",
   "execution_count": 157,
   "metadata": {},
   "outputs": [],
   "source": [
    "from sklearn import metrics\n",
    "\n",
    "from sklearn.linear_model import LogisticRegression\n",
    "\n",
    "# Fit the model on train\n",
    "model = LogisticRegression(solver=\"liblinear\")\n",
    "model.fit(x_train, y_train)\n",
    "#predict on test\n",
    "y_predict = model.predict(x_test)"
   ]
  },
  {
   "cell_type": "code",
   "execution_count": 158,
   "metadata": {},
   "outputs": [
    {
     "data": {
      "text/plain": [
       "0.73"
      ]
     },
     "execution_count": 158,
     "metadata": {},
     "output_type": "execute_result"
    }
   ],
   "source": [
    "model.score(x_train,y_train)"
   ]
  },
  {
   "cell_type": "code",
   "execution_count": 159,
   "metadata": {},
   "outputs": [
    {
     "data": {
      "text/plain": [
       "0.7033333333333334"
      ]
     },
     "execution_count": 159,
     "metadata": {},
     "output_type": "execute_result"
    }
   ],
   "source": [
    "model.score(x_test,y_test)"
   ]
  },
  {
   "cell_type": "code",
   "execution_count": 160,
   "metadata": {},
   "outputs": [
    {
     "data": {
      "text/plain": [
       "array([0, 0, 0, 0, 1, 0, 0, 0, 0, 0, 0, 0, 1, 0, 0, 0, 0, 0, 0, 0, 0, 0,\n",
       "       0, 0, 0, 0, 0, 0, 0, 1, 0, 0, 1, 0, 0, 1, 0, 0, 0, 0, 0, 0, 0, 1,\n",
       "       0, 0, 0, 0, 0, 0, 0, 0, 1, 1, 1, 0, 0, 1, 0, 1, 0, 0, 1, 0, 0, 0,\n",
       "       0, 0, 0, 0, 0, 0, 0, 1, 0, 0, 1, 0, 0, 0, 1, 0, 0, 0, 0, 0, 0, 0,\n",
       "       1, 0, 0, 0, 1, 0, 0, 0, 0, 1, 0, 0, 0, 0, 1, 0, 0, 0, 0, 1, 0, 0,\n",
       "       0, 0, 0, 1, 0, 0, 0, 0, 0, 0, 0, 0, 1, 1, 0, 0, 0, 0, 0, 0, 0, 0,\n",
       "       0, 0, 0, 0, 0, 0, 0, 0, 1, 0, 1, 0, 1, 0, 0, 0, 0, 0, 0, 0, 0, 0,\n",
       "       0, 0, 0, 0, 0, 0, 0, 0, 0, 0, 1, 0, 0, 0, 1, 0, 0, 0, 0, 0, 1, 0,\n",
       "       0, 0, 0, 0, 0, 0, 1, 1, 0, 0, 0, 0, 0, 0, 0, 0, 0, 0, 0, 0, 0, 1,\n",
       "       0, 0, 1, 0, 0, 0, 0, 0, 0, 0, 1, 1, 1, 1, 0, 0, 0, 0, 0, 0, 1, 0,\n",
       "       1, 0, 0, 0, 0, 0, 0, 0, 0, 0, 0, 0, 0, 0, 0, 0, 0, 0, 1, 0, 0, 0,\n",
       "       1, 0, 0, 0, 0, 0, 0, 0, 0, 0, 0, 1, 0, 0, 0, 0, 0, 0, 0, 1, 0, 0,\n",
       "       0, 0, 0, 0, 0, 0, 0, 0, 1, 0, 0, 0, 0, 0, 0, 0, 1, 1, 0, 0, 0, 0,\n",
       "       0, 0, 0, 0, 0, 0, 1, 0, 0, 0, 0, 0, 0, 0])"
      ]
     },
     "execution_count": 160,
     "metadata": {},
     "output_type": "execute_result"
    }
   ],
   "source": [
    "y_predict"
   ]
  },
  {
   "cell_type": "code",
   "execution_count": 161,
   "metadata": {},
   "outputs": [
    {
     "data": {
      "text/plain": [
       "507    1\n",
       "818    0\n",
       "452    0\n",
       "368    1\n",
       "242    1\n",
       "      ..\n",
       "459    0\n",
       "415    0\n",
       "61     0\n",
       "347    0\n",
       "349    1\n",
       "Name: Risk, Length: 300, dtype: int64"
      ]
     },
     "execution_count": 161,
     "metadata": {},
     "output_type": "execute_result"
    }
   ],
   "source": [
    "y_test"
   ]
  },
  {
   "cell_type": "markdown",
   "metadata": {},
   "source": [
    "# 10. Try calculating Probabilities of Target using Sklearn"
   ]
  },
  {
   "cell_type": "code",
   "execution_count": 162,
   "metadata": {},
   "outputs": [
    {
     "data": {
      "text/plain": [
       "array([[0.83431673, 0.16568327],\n",
       "       [0.79448374, 0.20551626],\n",
       "       [0.84308309, 0.15691691],\n",
       "       [0.74823051, 0.25176949],\n",
       "       [0.21641583, 0.78358417],\n",
       "       [0.82609806, 0.17390194],\n",
       "       [0.72842505, 0.27157495],\n",
       "       [0.54880735, 0.45119265],\n",
       "       [0.7661401 , 0.2338599 ],\n",
       "       [0.83818813, 0.16181187],\n",
       "       [0.56256084, 0.43743916],\n",
       "       [0.80948746, 0.19051254],\n",
       "       [0.47369707, 0.52630293],\n",
       "       [0.82851494, 0.17148506],\n",
       "       [0.79282773, 0.20717227],\n",
       "       [0.67603327, 0.32396673],\n",
       "       [0.68586739, 0.31413261],\n",
       "       [0.83036512, 0.16963488],\n",
       "       [0.88160369, 0.11839631],\n",
       "       [0.50153572, 0.49846428],\n",
       "       [0.71816555, 0.28183445],\n",
       "       [0.63599231, 0.36400769],\n",
       "       [0.83297182, 0.16702818],\n",
       "       [0.91607378, 0.08392622],\n",
       "       [0.68129568, 0.31870432],\n",
       "       [0.88385619, 0.11614381],\n",
       "       [0.71888595, 0.28111405],\n",
       "       [0.79336779, 0.20663221],\n",
       "       [0.8649676 , 0.1350324 ],\n",
       "       [0.11403093, 0.88596907],\n",
       "       [0.61510405, 0.38489595],\n",
       "       [0.89445679, 0.10554321],\n",
       "       [0.28527044, 0.71472956],\n",
       "       [0.76411427, 0.23588573],\n",
       "       [0.79347211, 0.20652789],\n",
       "       [0.32377399, 0.67622601],\n",
       "       [0.63701987, 0.36298013],\n",
       "       [0.7630121 , 0.2369879 ],\n",
       "       [0.84893669, 0.15106331],\n",
       "       [0.58172934, 0.41827066],\n",
       "       [0.61413008, 0.38586992],\n",
       "       [0.50246994, 0.49753006],\n",
       "       [0.81238098, 0.18761902],\n",
       "       [0.43640438, 0.56359562],\n",
       "       [0.93200942, 0.06799058],\n",
       "       [0.704284  , 0.295716  ],\n",
       "       [0.77049939, 0.22950061],\n",
       "       [0.84279559, 0.15720441],\n",
       "       [0.78430228, 0.21569772],\n",
       "       [0.73120059, 0.26879941],\n",
       "       [0.81413494, 0.18586506],\n",
       "       [0.74636355, 0.25363645],\n",
       "       [0.47718424, 0.52281576],\n",
       "       [0.32402869, 0.67597131],\n",
       "       [0.48632711, 0.51367289],\n",
       "       [0.61702551, 0.38297449],\n",
       "       [0.69926959, 0.30073041],\n",
       "       [0.21639912, 0.78360088],\n",
       "       [0.93390462, 0.06609538],\n",
       "       [0.32754791, 0.67245209],\n",
       "       [0.82409279, 0.17590721],\n",
       "       [0.85534074, 0.14465926],\n",
       "       [0.24754315, 0.75245685],\n",
       "       [0.91752653, 0.08247347],\n",
       "       [0.66072964, 0.33927036],\n",
       "       [0.73046584, 0.26953416],\n",
       "       [0.75667119, 0.24332881],\n",
       "       [0.89947902, 0.10052098],\n",
       "       [0.65578185, 0.34421815],\n",
       "       [0.53189892, 0.46810108],\n",
       "       [0.87388032, 0.12611968],\n",
       "       [0.76860511, 0.23139489],\n",
       "       [0.90385557, 0.09614443],\n",
       "       [0.44373715, 0.55626285],\n",
       "       [0.85899934, 0.14100066],\n",
       "       [0.65256933, 0.34743067],\n",
       "       [0.39828112, 0.60171888],\n",
       "       [0.81851524, 0.18148476],\n",
       "       [0.78575939, 0.21424061],\n",
       "       [0.85534074, 0.14465926],\n",
       "       [0.29178351, 0.70821649],\n",
       "       [0.91698501, 0.08301499],\n",
       "       [0.93233428, 0.06766572],\n",
       "       [0.79721577, 0.20278423],\n",
       "       [0.50443625, 0.49556375],\n",
       "       [0.62460988, 0.37539012],\n",
       "       [0.69745537, 0.30254463],\n",
       "       [0.68577423, 0.31422577],\n",
       "       [0.45150537, 0.54849463],\n",
       "       [0.91268423, 0.08731577],\n",
       "       [0.79092203, 0.20907797],\n",
       "       [0.77049939, 0.22950061],\n",
       "       [0.32826091, 0.67173909],\n",
       "       [0.85777646, 0.14222354],\n",
       "       [0.69088326, 0.30911674],\n",
       "       [0.65481441, 0.34518559],\n",
       "       [0.65430836, 0.34569164],\n",
       "       [0.36755319, 0.63244681],\n",
       "       [0.81892906, 0.18107094],\n",
       "       [0.60764461, 0.39235539],\n",
       "       [0.86737215, 0.13262785],\n",
       "       [0.74852877, 0.25147123],\n",
       "       [0.34181687, 0.65818313],\n",
       "       [0.80774829, 0.19225171],\n",
       "       [0.73291869, 0.26708131],\n",
       "       [0.85669148, 0.14330852],\n",
       "       [0.77284197, 0.22715803],\n",
       "       [0.46323081, 0.53676919],\n",
       "       [0.5293513 , 0.4706487 ],\n",
       "       [0.63508375, 0.36491625],\n",
       "       [0.7978003 , 0.2021997 ],\n",
       "       [0.88633165, 0.11366835],\n",
       "       [0.84972983, 0.15027017],\n",
       "       [0.30180697, 0.69819303],\n",
       "       [0.6552062 , 0.3447938 ],\n",
       "       [0.67855117, 0.32144883],\n",
       "       [0.76816686, 0.23183314],\n",
       "       [0.89684064, 0.10315936],\n",
       "       [0.69290038, 0.30709962],\n",
       "       [0.82276207, 0.17723793],\n",
       "       [0.68693269, 0.31306731],\n",
       "       [0.65777819, 0.34222181],\n",
       "       [0.49168694, 0.50831306],\n",
       "       [0.4769633 , 0.5230367 ],\n",
       "       [0.90285546, 0.09714454],\n",
       "       [0.77913499, 0.22086501],\n",
       "       [0.82974049, 0.17025951],\n",
       "       [0.59329633, 0.40670367],\n",
       "       [0.87034738, 0.12965262],\n",
       "       [0.73219195, 0.26780805],\n",
       "       [0.94224391, 0.05775609],\n",
       "       [0.57013365, 0.42986635],\n",
       "       [0.77751792, 0.22248208],\n",
       "       [0.86794445, 0.13205555],\n",
       "       [0.82394238, 0.17605762],\n",
       "       [0.89330263, 0.10669737],\n",
       "       [0.76860511, 0.23139489],\n",
       "       [0.71465697, 0.28534303],\n",
       "       [0.72995655, 0.27004345],\n",
       "       [0.88731943, 0.11268057],\n",
       "       [0.38418386, 0.61581614],\n",
       "       [0.6001436 , 0.3998564 ],\n",
       "       [0.28564698, 0.71435302],\n",
       "       [0.71961375, 0.28038625],\n",
       "       [0.41213345, 0.58786655],\n",
       "       [0.66367951, 0.33632049],\n",
       "       [0.59755909, 0.40244091],\n",
       "       [0.89385344, 0.10614656],\n",
       "       [0.75802574, 0.24197426],\n",
       "       [0.67970118, 0.32029882],\n",
       "       [0.80341868, 0.19658132],\n",
       "       [0.54195133, 0.45804867],\n",
       "       [0.98482121, 0.01517879],\n",
       "       [0.86882294, 0.13117706],\n",
       "       [0.87454182, 0.12545818],\n",
       "       [0.75730333, 0.24269667],\n",
       "       [0.80792742, 0.19207258],\n",
       "       [0.71389493, 0.28610507],\n",
       "       [0.89691012, 0.10308988],\n",
       "       [0.83637388, 0.16362612],\n",
       "       [0.89698504, 0.10301496],\n",
       "       [0.65549262, 0.34450738],\n",
       "       [0.86797623, 0.13202377],\n",
       "       [0.93066537, 0.06933463],\n",
       "       [0.31416006, 0.68583994],\n",
       "       [0.87239796, 0.12760204],\n",
       "       [0.9232382 , 0.0767618 ],\n",
       "       [0.53728826, 0.46271174],\n",
       "       [0.47462411, 0.52537589],\n",
       "       [0.76271749, 0.23728251],\n",
       "       [0.58673313, 0.41326687],\n",
       "       [0.92634837, 0.07365163],\n",
       "       [0.9046419 , 0.0953581 ],\n",
       "       [0.75451424, 0.24548576],\n",
       "       [0.46940866, 0.53059134],\n",
       "       [0.71478854, 0.28521146],\n",
       "       [0.79747433, 0.20252567],\n",
       "       [0.86230489, 0.13769511],\n",
       "       [0.89481528, 0.10518472],\n",
       "       [0.83916305, 0.16083695],\n",
       "       [0.86036414, 0.13963586],\n",
       "       [0.51847962, 0.48152038],\n",
       "       [0.48968698, 0.51031302],\n",
       "       [0.46280713, 0.53719287],\n",
       "       [0.54527555, 0.45472445],\n",
       "       [0.77747182, 0.22252818],\n",
       "       [0.85623608, 0.14376392],\n",
       "       [0.7538631 , 0.2461369 ],\n",
       "       [0.671929  , 0.328071  ],\n",
       "       [0.51564323, 0.48435677],\n",
       "       [0.73277388, 0.26722612],\n",
       "       [0.77047114, 0.22952886],\n",
       "       [0.55286109, 0.44713891],\n",
       "       [0.7314433 , 0.2685567 ],\n",
       "       [0.77016381, 0.22983619],\n",
       "       [0.94524722, 0.05475278],\n",
       "       [0.80229894, 0.19770106],\n",
       "       [0.43496514, 0.56503486],\n",
       "       [0.88360433, 0.11639567],\n",
       "       [0.57484928, 0.42515072],\n",
       "       [0.44869462, 0.55130538],\n",
       "       [0.85881095, 0.14118905],\n",
       "       [0.67575163, 0.32424837],\n",
       "       [0.77613543, 0.22386457],\n",
       "       [0.83694751, 0.16305249],\n",
       "       [0.77079984, 0.22920016],\n",
       "       [0.93764983, 0.06235017],\n",
       "       [0.81466315, 0.18533685],\n",
       "       [0.41289743, 0.58710257],\n",
       "       [0.42186478, 0.57813522],\n",
       "       [0.40209937, 0.59790063],\n",
       "       [0.28257733, 0.71742267],\n",
       "       [0.84717429, 0.15282571],\n",
       "       [0.52704757, 0.47295243],\n",
       "       [0.77617873, 0.22382127],\n",
       "       [0.61814501, 0.38185499],\n",
       "       [0.50365807, 0.49634193],\n",
       "       [0.90713906, 0.09286094],\n",
       "       [0.49489051, 0.50510949],\n",
       "       [0.65672027, 0.34327973],\n",
       "       [0.41414705, 0.58585295],\n",
       "       [0.84925834, 0.15074166],\n",
       "       [0.74926322, 0.25073678],\n",
       "       [0.58172934, 0.41827066],\n",
       "       [0.82318376, 0.17681624],\n",
       "       [0.50939972, 0.49060028],\n",
       "       [0.83737972, 0.16262028],\n",
       "       [0.76897911, 0.23102089],\n",
       "       [0.58669309, 0.41330691],\n",
       "       [0.68242264, 0.31757736],\n",
       "       [0.65603138, 0.34396862],\n",
       "       [0.91721496, 0.08278504],\n",
       "       [0.75821912, 0.24178088],\n",
       "       [0.80446342, 0.19553658],\n",
       "       [0.67645924, 0.32354076],\n",
       "       [0.82631864, 0.17368136],\n",
       "       [0.73825527, 0.26174473],\n",
       "       [0.83466879, 0.16533121],\n",
       "       [0.42838364, 0.57161636],\n",
       "       [0.70615837, 0.29384163],\n",
       "       [0.59525705, 0.40474295],\n",
       "       [0.63582992, 0.36417008],\n",
       "       [0.41342565, 0.58657435],\n",
       "       [0.63862682, 0.36137318],\n",
       "       [0.85379235, 0.14620765],\n",
       "       [0.77083631, 0.22916369],\n",
       "       [0.73733319, 0.26266681],\n",
       "       [0.55891667, 0.44108333],\n",
       "       [0.85534074, 0.14465926],\n",
       "       [0.95991258, 0.04008742],\n",
       "       [0.81691474, 0.18308526],\n",
       "       [0.87057953, 0.12942047],\n",
       "       [0.84234083, 0.15765917],\n",
       "       [0.31292009, 0.68707991],\n",
       "       [0.82168419, 0.17831581],\n",
       "       [0.60043499, 0.39956501],\n",
       "       [0.76639048, 0.23360952],\n",
       "       [0.73046584, 0.26953416],\n",
       "       [0.58530315, 0.41469685],\n",
       "       [0.67591429, 0.32408571],\n",
       "       [0.72822421, 0.27177579],\n",
       "       [0.442247  , 0.557753  ],\n",
       "       [0.71877359, 0.28122641],\n",
       "       [0.84196682, 0.15803318],\n",
       "       [0.86156615, 0.13843385],\n",
       "       [0.81278384, 0.18721616],\n",
       "       [0.54182554, 0.45817446],\n",
       "       [0.73449542, 0.26550458],\n",
       "       [0.67275217, 0.32724783],\n",
       "       [0.84215787, 0.15784213],\n",
       "       [0.89303722, 0.10696278],\n",
       "       [0.82003709, 0.17996291],\n",
       "       [0.49457114, 0.50542886],\n",
       "       [0.59483848, 0.40516152],\n",
       "       [0.7748853 , 0.2251147 ],\n",
       "       [0.74017383, 0.25982617],\n",
       "       [0.62997439, 0.37002561],\n",
       "       [0.73945621, 0.26054379],\n",
       "       [0.81600562, 0.18399438],\n",
       "       [0.73233301, 0.26766699],\n",
       "       [0.48100227, 0.51899773],\n",
       "       [0.43805004, 0.56194996],\n",
       "       [0.65275755, 0.34724245],\n",
       "       [0.57312408, 0.42687592],\n",
       "       [0.72358502, 0.27641498],\n",
       "       [0.74148163, 0.25851837],\n",
       "       [0.88023027, 0.11976973],\n",
       "       [0.8162577 , 0.1837423 ],\n",
       "       [0.75802574, 0.24197426],\n",
       "       [0.60471209, 0.39528791],\n",
       "       [0.73178805, 0.26821195],\n",
       "       [0.87034738, 0.12965262],\n",
       "       [0.31263085, 0.68736915],\n",
       "       [0.54759747, 0.45240253],\n",
       "       [0.73720852, 0.26279148],\n",
       "       [0.82677498, 0.17322502],\n",
       "       [0.66730371, 0.33269629],\n",
       "       [0.81379606, 0.18620394],\n",
       "       [0.7625655 , 0.2374345 ],\n",
       "       [0.91671907, 0.08328093]])"
      ]
     },
     "execution_count": 162,
     "metadata": {},
     "output_type": "execute_result"
    }
   ],
   "source": [
    "y_predict_prob = model.predict_proba(x_test)\n",
    "y_predict_prob"
   ]
  },
  {
   "cell_type": "markdown",
   "metadata": {
    "colab_type": "text",
    "id": "b4oY0gsE_sPL"
   },
   "source": [
    "# 11. Build a confusion matrix and display the same using heatmap plot"
   ]
  },
  {
   "cell_type": "code",
   "execution_count": 163,
   "metadata": {},
   "outputs": [
    {
     "data": {
      "text/plain": [
       "507    1\n",
       "818    0\n",
       "452    0\n",
       "368    1\n",
       "242    1\n",
       "      ..\n",
       "459    0\n",
       "415    0\n",
       "61     0\n",
       "347    0\n",
       "349    1\n",
       "Name: Risk, Length: 300, dtype: int64"
      ]
     },
     "execution_count": 163,
     "metadata": {},
     "output_type": "execute_result"
    }
   ],
   "source": [
    "y_test"
   ]
  },
  {
   "cell_type": "code",
   "execution_count": 164,
   "metadata": {},
   "outputs": [
    {
     "data": {
      "text/plain": [
       "array([0, 0, 0, 0, 1, 0, 0, 0, 0, 0, 0, 0, 1, 0, 0, 0, 0, 0, 0, 0, 0, 0,\n",
       "       0, 0, 0, 0, 0, 0, 0, 1, 0, 0, 1, 0, 0, 1, 0, 0, 0, 0, 0, 0, 0, 1,\n",
       "       0, 0, 0, 0, 0, 0, 0, 0, 1, 1, 1, 0, 0, 1, 0, 1, 0, 0, 1, 0, 0, 0,\n",
       "       0, 0, 0, 0, 0, 0, 0, 1, 0, 0, 1, 0, 0, 0, 1, 0, 0, 0, 0, 0, 0, 0,\n",
       "       1, 0, 0, 0, 1, 0, 0, 0, 0, 1, 0, 0, 0, 0, 1, 0, 0, 0, 0, 1, 0, 0,\n",
       "       0, 0, 0, 1, 0, 0, 0, 0, 0, 0, 0, 0, 1, 1, 0, 0, 0, 0, 0, 0, 0, 0,\n",
       "       0, 0, 0, 0, 0, 0, 0, 0, 1, 0, 1, 0, 1, 0, 0, 0, 0, 0, 0, 0, 0, 0,\n",
       "       0, 0, 0, 0, 0, 0, 0, 0, 0, 0, 1, 0, 0, 0, 1, 0, 0, 0, 0, 0, 1, 0,\n",
       "       0, 0, 0, 0, 0, 0, 1, 1, 0, 0, 0, 0, 0, 0, 0, 0, 0, 0, 0, 0, 0, 1,\n",
       "       0, 0, 1, 0, 0, 0, 0, 0, 0, 0, 1, 1, 1, 1, 0, 0, 0, 0, 0, 0, 1, 0,\n",
       "       1, 0, 0, 0, 0, 0, 0, 0, 0, 0, 0, 0, 0, 0, 0, 0, 0, 0, 1, 0, 0, 0,\n",
       "       1, 0, 0, 0, 0, 0, 0, 0, 0, 0, 0, 1, 0, 0, 0, 0, 0, 0, 0, 1, 0, 0,\n",
       "       0, 0, 0, 0, 0, 0, 0, 0, 1, 0, 0, 0, 0, 0, 0, 0, 1, 1, 0, 0, 0, 0,\n",
       "       0, 0, 0, 0, 0, 0, 1, 0, 0, 0, 0, 0, 0, 0])"
      ]
     },
     "execution_count": 164,
     "metadata": {},
     "output_type": "execute_result"
    }
   ],
   "source": [
    "y_predict"
   ]
  },
  {
   "cell_type": "code",
   "execution_count": 165,
   "metadata": {
    "colab": {},
    "colab_type": "code",
    "id": "7LwYf-8n_sPM"
   },
   "outputs": [
    {
     "data": {
      "text/plain": [
       "<AxesSubplot:>"
      ]
     },
     "execution_count": 165,
     "metadata": {},
     "output_type": "execute_result"
    },
    {
     "data": {
      "image/png": "[encoded data removed]",
      "text/plain": [
       "<Figure size 504x360 with 2 Axes>"
      ]
     },
     "metadata": {
      "needs_background": "light"
     },
     "output_type": "display_data"
    }
   ],
   "source": [
    "cm=metrics.confusion_matrix(y_test, y_predict, labels=[1, 0])\n",
    "\n",
    "df_cm = pd.DataFrame(cm, index = [i for i in [\"1\",\"0\"]],\n",
    "                  columns = [i for i in [\"Predict 1\",\"Predict 0\"]])\n",
    "plt.figure(figsize = (7,5))\n",
    "sns.heatmap(df_cm, annot=True)"
   ]
  },
  {
   "cell_type": "markdown",
   "metadata": {
    "colab_type": "text",
    "id": "HjI8jX40_sPW"
   },
   "source": [
    "# 12.  Make a predicted probability distribution plot for defaulters and non defaulters"
   ]
  },
  {
   "cell_type": "code",
   "execution_count": 166,
   "metadata": {},
   "outputs": [
    {
     "data": {
      "text/plain": [
       "<matplotlib.collections.PathCollection at 0x13eb4c400>"
      ]
     },
     "execution_count": 166,
     "metadata": {},
     "output_type": "execute_result"
    },
    {
     "data": {
      "image/png": "[encoded data removed]",
      "text/plain": [
       "<Figure size 432x288 with 1 Axes>"
      ]
     },
     "metadata": {
      "needs_background": "light"
     },
     "output_type": "display_data"
    }
   ],
   "source": [
    "y_predict_prob_default = model.predict_proba(x_test[y_test == 1])\n",
    "plt.scatter(np.arange(len(y_predict_prob_default[:,0])), y_predict_prob_default[:,0])"
   ]
  },
  {
   "cell_type": "code",
   "execution_count": 167,
   "metadata": {},
   "outputs": [
    {
     "data": {
      "text/plain": [
       "<matplotlib.collections.PathCollection at 0x13ecb1b38>"
      ]
     },
     "execution_count": 167,
     "metadata": {},
     "output_type": "execute_result"
    },
    {
     "data": {
      "image/png": "[encoded data removed]",
      "text/plain": [
       "<Figure size 432x288 with 1 Axes>"
      ]
     },
     "metadata": {
      "needs_background": "light"
     },
     "output_type": "display_data"
    }
   ],
   "source": [
    "y_predict_prob_default = model.predict_proba(x_test[y_test == 0])\n",
    "plt.scatter(np.arange(len(y_predict_prob_default[:,1])), y_predict_prob_default[:,1])"
   ]
  },
  {
   "cell_type": "code",
   "execution_count": 141,
   "metadata": {},
   "outputs": [],
   "source": [
    "y_predict_prob = model.predict_proba(x_test)\n"
   ]
  },
  {
   "cell_type": "code",
   "execution_count": 198,
   "metadata": {},
   "outputs": [],
   "source": [
    "y_predict = (y_predict_prob[:,0] > 0.4)*1.0"
   ]
  },
  {
   "cell_type": "code",
   "execution_count": 199,
   "metadata": {},
   "outputs": [
    {
     "data": {
      "text/plain": [
       "array([1., 1., 1., 1., 0., 1., 1., 1., 1., 1., 1., 1., 1., 1., 1., 1., 1.,\n",
       "       1., 1., 1., 1., 1., 1., 1., 1., 1., 1., 1., 1., 0., 1., 1., 0., 1.,\n",
       "       1., 0., 1., 1., 1., 1., 1., 1., 1., 1., 1., 1., 1., 1., 1., 1., 1.,\n",
       "       1., 1., 0., 1., 1., 1., 0., 1., 0., 1., 1., 0., 1., 1., 1., 1., 1.,\n",
       "       1., 1., 1., 1., 1., 1., 1., 1., 0., 1., 1., 1., 0., 1., 1., 1., 1.,\n",
       "       1., 1., 1., 1., 1., 1., 1., 0., 1., 1., 1., 1., 0., 1., 1., 1., 1.,\n",
       "       0., 1., 1., 1., 1., 1., 1., 1., 1., 1., 1., 0., 1., 1., 1., 1., 1.,\n",
       "       1., 1., 1., 1., 1., 1., 1., 1., 1., 1., 1., 1., 1., 1., 1., 1., 1.,\n",
       "       1., 1., 1., 1., 0., 1., 0., 1., 1., 1., 1., 1., 1., 1., 1., 1., 1.,\n",
       "       1., 1., 1., 1., 1., 1., 1., 1., 1., 1., 1., 0., 1., 1., 1., 1., 1.,\n",
       "       1., 1., 1., 1., 1., 1., 1., 1., 1., 1., 1., 1., 1., 1., 1., 1., 1.,\n",
       "       1., 1., 1., 1., 1., 1., 1., 1., 1., 1., 1., 1., 1., 1., 1., 1., 1.,\n",
       "       1., 1., 1., 1., 1., 1., 1., 0., 1., 1., 1., 1., 1., 1., 1., 1., 1.,\n",
       "       1., 1., 1., 1., 1., 1., 1., 1., 1., 1., 1., 1., 1., 1., 1., 1., 1.,\n",
       "       1., 1., 1., 1., 1., 1., 1., 1., 1., 1., 1., 1., 1., 1., 1., 0., 1.,\n",
       "       1., 1., 1., 1., 1., 1., 1., 1., 1., 1., 1., 1., 1., 1., 1., 1., 1.,\n",
       "       1., 1., 1., 1., 1., 1., 1., 1., 1., 1., 1., 1., 1., 1., 1., 1., 1.,\n",
       "       1., 1., 1., 0., 1., 1., 1., 1., 1., 1., 1.])"
      ]
     },
     "execution_count": 199,
     "metadata": {},
     "output_type": "execute_result"
    }
   ],
   "source": [
    "y_predict"
   ]
  },
  {
   "cell_type": "code",
   "execution_count": 201,
   "metadata": {},
   "outputs": [
    {
     "data": {
      "text/plain": [
       "<AxesSubplot:>"
      ]
     },
     "execution_count": 201,
     "metadata": {},
     "output_type": "execute_result"
    },
    {
     "data": {
      "image/png": "[encoded data removed]",
      "text/plain": [
       "<Figure size 504x360 with 2 Axes>"
      ]
     },
     "metadata": {
      "needs_background": "light"
     },
     "output_type": "display_data"
    }
   ],
   "source": [
    "cm=metrics.confusion_matrix(y_test, y_predict, labels=[1, 0])\n",
    "\n",
    "df_cm = pd.DataFrame(cm, index = [i for i in [\"1\",\"0\"]],\n",
    "                  columns = [i for i in [\"Predict 0\",\"Predict 1\"]])\n",
    "plt.figure(figsize = (7,5))\n",
    "sns.heatmap(df_cm, annot=True)"
   ]
  },
  {
   "cell_type": "markdown",
   "metadata": {},
   "source": [
    "# 13. Give your conclusion for the problem. Which evaluation metric would you choose? "
   ]
  },
  {
   "cell_type": "markdown",
   "metadata": {},
   "source": [
    "#### Choosing a probability threshold of 0.4, gives the best result"
   ]
  },
  {
   "cell_type": "code",
   "execution_count": null,
   "metadata": {},
   "outputs": [],
   "source": []
  }
 ],
 "metadata": {
  "colab": {
   "collapsed_sections": [],
   "name": "M1W2- PE LogisticRegression_withsolution.ipynb",
   "provenance": []
  },
  "kernelspec": {
   "display_name": "Python 3",
   "language": "python",
   "name": "python3"
  },
  "language_info": {
   "codemirror_mode": {
    "name": "ipython",
    "version": 3
   },
   "file_extension": ".py",
   "mimetype": "text/x-python",
   "name": "python",
   "nbconvert_exporter": "python",
   "pygments_lexer": "ipython3",
   "version": "3.6.7"
  }
 },
 "nbformat": 4,
 "nbformat_minor": 1
}
