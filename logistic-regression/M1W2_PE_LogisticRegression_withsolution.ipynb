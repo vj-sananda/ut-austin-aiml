{
 "cells": [
  {
   "cell_type": "markdown",
   "metadata": {},
   "source": [
    "# Logistic regression"
   ]
  },
  {
   "cell_type": "markdown",
   "metadata": {},
   "source": [
    "## Context\n",
    "The original dataset contains 1000 entries with 20 categorial/symbolic attributes prepared by Prof. Hofmann. In this dataset, each entry represents a person who takes a credit by a bank. Each person is classified as good or bad credit risks according to the set of attributes. It is almost impossible to understand the original dataset due to its complicated system of categories and symbols. Thus, the attributes in this dataset is a subset of the original dataset. Several columns are simply ignored, and some of the important attritubes like age, account balance etc. are retained."
   ]
  },
  {
   "cell_type": "markdown",
   "metadata": {},
   "source": [
    "## Dataset: German Credit Risk\n",
    "\n",
    "- Age (Numeric : Age in years)\n",
    "- Sex (Categories : male, female)\n",
    "- Job (Categories : 0 - unskilled and non-resident, 1 - unskilled and resident, 2 - skilled, 3 - highly skilled)\n",
    "- Housing (Categories : own, rent, or free)\n",
    "- Saving accounts (Categories : little, moderate, quite rich, rich)\n",
    "- Checking account (Categories : little, moderate, rich)\n",
    "- Credit amount (Numeric : Amount of credit in DM - Deutsche Mark)\n",
    "- Duration (Numeric : Duration for which the credit is given in months)\n",
    "- Purpose (Categories: car, furniture/equipment, radio/TV, domestic appliances, repairs, education, business, vacation/others)\n",
    "- Risk (0 - Person is not at risk, 1 - Pesron is at risk(defaulter))"
   ]
  },
  {
   "cell_type": "markdown",
   "metadata": {},
   "source": [
    "# Objective\n",
    "\n",
    "The objective is to estimate probabilities whether a person would default or not using logistic regression. In this dataset, the target variable is 'Risk'."
   ]
  },
  {
   "cell_type": "markdown",
   "metadata": {},
   "source": [
    "# 1. Load Libraries and data"
   ]
  },
  {
   "cell_type": "code",
   "execution_count": 40,
   "metadata": {},
   "outputs": [],
   "source": [
    "import warnings\n",
    "warnings.filterwarnings('ignore')"
   ]
  },
  {
   "cell_type": "code",
   "execution_count": 41,
   "metadata": {},
   "outputs": [],
   "source": [
    "#Load Libraries\n",
    "import pandas as pd\n",
    "import numpy as np\n",
    "import matplotlib.pyplot as plt\n",
    "import seaborn as sns\n",
    "%matplotlib inline\n",
    "\n",
    "# Remove scientific notations and display numbers with 2 decimal points instead\n",
    "pd.options.display.float_format = '{:,.2f}'.format"
   ]
  },
  {
   "cell_type": "code",
   "execution_count": 42,
   "metadata": {},
   "outputs": [],
   "source": [
    "#Load data\n",
    "df = pd.read_csv('German_Credit.csv')\n",
    "\n",
    "# read_excel is used to read xlsx files"
   ]
  },
  {
   "cell_type": "code",
   "execution_count": 43,
   "metadata": {},
   "outputs": [
    {
     "data": {
      "text/html": [
       "<div>\n",
       "<style scoped>\n",
       "    .dataframe tbody tr th:only-of-type {\n",
       "        vertical-align: middle;\n",
       "    }\n",
       "\n",
       "    .dataframe tbody tr th {\n",
       "        vertical-align: top;\n",
       "    }\n",
       "\n",
       "    .dataframe thead th {\n",
       "        text-align: right;\n",
       "    }\n",
       "</style>\n",
       "<table border=\"1\" class=\"dataframe\">\n",
       "  <thead>\n",
       "    <tr style=\"text-align: right;\">\n",
       "      <th></th>\n",
       "      <th>Age</th>\n",
       "      <th>Sex</th>\n",
       "      <th>Job</th>\n",
       "      <th>Housing</th>\n",
       "      <th>Saving accounts</th>\n",
       "      <th>Checking account</th>\n",
       "      <th>Credit amount</th>\n",
       "      <th>Duration</th>\n",
       "      <th>Purpose</th>\n",
       "      <th>Risk</th>\n",
       "    </tr>\n",
       "  </thead>\n",
       "  <tbody>\n",
       "    <tr>\n",
       "      <th>0</th>\n",
       "      <td>67</td>\n",
       "      <td>male</td>\n",
       "      <td>2</td>\n",
       "      <td>own</td>\n",
       "      <td>NaN</td>\n",
       "      <td>little</td>\n",
       "      <td>1169</td>\n",
       "      <td>6</td>\n",
       "      <td>radio/TV</td>\n",
       "      <td>0</td>\n",
       "    </tr>\n",
       "    <tr>\n",
       "      <th>1</th>\n",
       "      <td>22</td>\n",
       "      <td>female</td>\n",
       "      <td>2</td>\n",
       "      <td>own</td>\n",
       "      <td>little</td>\n",
       "      <td>moderate</td>\n",
       "      <td>5951</td>\n",
       "      <td>48</td>\n",
       "      <td>radio/TV</td>\n",
       "      <td>1</td>\n",
       "    </tr>\n",
       "    <tr>\n",
       "      <th>2</th>\n",
       "      <td>49</td>\n",
       "      <td>male</td>\n",
       "      <td>1</td>\n",
       "      <td>own</td>\n",
       "      <td>little</td>\n",
       "      <td>NaN</td>\n",
       "      <td>2096</td>\n",
       "      <td>12</td>\n",
       "      <td>education</td>\n",
       "      <td>0</td>\n",
       "    </tr>\n",
       "    <tr>\n",
       "      <th>3</th>\n",
       "      <td>45</td>\n",
       "      <td>male</td>\n",
       "      <td>2</td>\n",
       "      <td>free</td>\n",
       "      <td>little</td>\n",
       "      <td>little</td>\n",
       "      <td>7882</td>\n",
       "      <td>42</td>\n",
       "      <td>furniture/equipment</td>\n",
       "      <td>0</td>\n",
       "    </tr>\n",
       "    <tr>\n",
       "      <th>4</th>\n",
       "      <td>53</td>\n",
       "      <td>male</td>\n",
       "      <td>2</td>\n",
       "      <td>free</td>\n",
       "      <td>little</td>\n",
       "      <td>little</td>\n",
       "      <td>4870</td>\n",
       "      <td>24</td>\n",
       "      <td>car</td>\n",
       "      <td>1</td>\n",
       "    </tr>\n",
       "  </tbody>\n",
       "</table>\n",
       "</div>"
      ],
      "text/plain": [
       "   Age     Sex  Job Housing Saving accounts Checking account  Credit amount  \\\n",
       "0   67    male    2     own             NaN           little           1169   \n",
       "1   22  female    2     own          little         moderate           5951   \n",
       "2   49    male    1     own          little              NaN           2096   \n",
       "3   45    male    2    free          little           little           7882   \n",
       "4   53    male    2    free          little           little           4870   \n",
       "\n",
       "   Duration              Purpose  Risk  \n",
       "0         6             radio/TV     0  \n",
       "1        48             radio/TV     1  \n",
       "2        12            education     0  \n",
       "3        42  furniture/equipment     0  \n",
       "4        24                  car     1  "
      ]
     },
     "execution_count": 43,
     "metadata": {},
     "output_type": "execute_result"
    }
   ],
   "source": [
    "df.head()"
   ]
  },
  {
   "cell_type": "code",
   "execution_count": 44,
   "metadata": {},
   "outputs": [
    {
     "data": {
      "text/html": [
       "<div>\n",
       "<style scoped>\n",
       "    .dataframe tbody tr th:only-of-type {\n",
       "        vertical-align: middle;\n",
       "    }\n",
       "\n",
       "    .dataframe tbody tr th {\n",
       "        vertical-align: top;\n",
       "    }\n",
       "\n",
       "    .dataframe thead th {\n",
       "        text-align: right;\n",
       "    }\n",
       "</style>\n",
       "<table border=\"1\" class=\"dataframe\">\n",
       "  <thead>\n",
       "    <tr style=\"text-align: right;\">\n",
       "      <th></th>\n",
       "      <th>Age</th>\n",
       "      <th>Job</th>\n",
       "      <th>Credit amount</th>\n",
       "      <th>Duration</th>\n",
       "      <th>Risk</th>\n",
       "    </tr>\n",
       "  </thead>\n",
       "  <tbody>\n",
       "    <tr>\n",
       "      <th>count</th>\n",
       "      <td>1,000.00</td>\n",
       "      <td>1,000.00</td>\n",
       "      <td>1,000.00</td>\n",
       "      <td>1,000.00</td>\n",
       "      <td>1,000.00</td>\n",
       "    </tr>\n",
       "    <tr>\n",
       "      <th>mean</th>\n",
       "      <td>35.55</td>\n",
       "      <td>1.90</td>\n",
       "      <td>3,271.26</td>\n",
       "      <td>20.90</td>\n",
       "      <td>0.30</td>\n",
       "    </tr>\n",
       "    <tr>\n",
       "      <th>std</th>\n",
       "      <td>11.38</td>\n",
       "      <td>0.65</td>\n",
       "      <td>2,822.74</td>\n",
       "      <td>12.06</td>\n",
       "      <td>0.46</td>\n",
       "    </tr>\n",
       "    <tr>\n",
       "      <th>min</th>\n",
       "      <td>19.00</td>\n",
       "      <td>0.00</td>\n",
       "      <td>250.00</td>\n",
       "      <td>4.00</td>\n",
       "      <td>0.00</td>\n",
       "    </tr>\n",
       "    <tr>\n",
       "      <th>25%</th>\n",
       "      <td>27.00</td>\n",
       "      <td>2.00</td>\n",
       "      <td>1,365.50</td>\n",
       "      <td>12.00</td>\n",
       "      <td>0.00</td>\n",
       "    </tr>\n",
       "    <tr>\n",
       "      <th>50%</th>\n",
       "      <td>33.00</td>\n",
       "      <td>2.00</td>\n",
       "      <td>2,319.50</td>\n",
       "      <td>18.00</td>\n",
       "      <td>0.00</td>\n",
       "    </tr>\n",
       "    <tr>\n",
       "      <th>75%</th>\n",
       "      <td>42.00</td>\n",
       "      <td>2.00</td>\n",
       "      <td>3,972.25</td>\n",
       "      <td>24.00</td>\n",
       "      <td>1.00</td>\n",
       "    </tr>\n",
       "    <tr>\n",
       "      <th>max</th>\n",
       "      <td>75.00</td>\n",
       "      <td>3.00</td>\n",
       "      <td>18,424.00</td>\n",
       "      <td>72.00</td>\n",
       "      <td>1.00</td>\n",
       "    </tr>\n",
       "  </tbody>\n",
       "</table>\n",
       "</div>"
      ],
      "text/plain": [
       "           Age      Job  Credit amount  Duration     Risk\n",
       "count 1,000.00 1,000.00       1,000.00  1,000.00 1,000.00\n",
       "mean     35.55     1.90       3,271.26     20.90     0.30\n",
       "std      11.38     0.65       2,822.74     12.06     0.46\n",
       "min      19.00     0.00         250.00      4.00     0.00\n",
       "25%      27.00     2.00       1,365.50     12.00     0.00\n",
       "50%      33.00     2.00       2,319.50     18.00     0.00\n",
       "75%      42.00     2.00       3,972.25     24.00     1.00\n",
       "max      75.00     3.00      18,424.00     72.00     1.00"
      ]
     },
     "execution_count": 44,
     "metadata": {},
     "output_type": "execute_result"
    }
   ],
   "source": [
    "df.describe()"
   ]
  },
  {
   "cell_type": "markdown",
   "metadata": {},
   "source": [
    "- Job and Risk are categrical varaibles, so these metrics do not make much sense for these columns.\n",
    "- We can see that both 'Age' and 'Credit amount' have large range of values and data is skewed, which we can confirm later by plotting their histograms/displots."
   ]
  },
  {
   "cell_type": "markdown",
   "metadata": {},
   "source": [
    "**We observed the numeric variables, now let's see the count of each category for all categorical variables.**"
   ]
  },
  {
   "cell_type": "code",
   "execution_count": 45,
   "metadata": {},
   "outputs": [
    {
     "name": "stdout",
     "output_type": "stream",
     "text": [
      "male      690\n",
      "female    310\n",
      "Name: Sex, dtype: int64\n",
      "\n",
      "own     713\n",
      "rent    179\n",
      "free    108\n",
      "Name: Housing, dtype: int64\n",
      "\n",
      "little        603\n",
      "moderate      103\n",
      "quite rich     63\n",
      "rich           48\n",
      "Name: Saving accounts, dtype: int64\n",
      "\n",
      "little      274\n",
      "moderate    269\n",
      "rich         63\n",
      "Name: Checking account, dtype: int64\n",
      "\n",
      "car                    337\n",
      "radio/TV               280\n",
      "furniture/equipment    181\n",
      "business                97\n",
      "education               59\n",
      "repairs                 22\n",
      "vacation/others         12\n",
      "domestic appliances     12\n",
      "Name: Purpose, dtype: int64\n",
      "\n"
     ]
    }
   ],
   "source": [
    "for column in df.select_dtypes(include='object'):\n",
    "    print(df[column].value_counts())\n",
    "    print()"
   ]
  },
  {
   "cell_type": "markdown",
   "metadata": {},
   "source": [
    "# 2. Calculate the percentage of missing values for each column and fill those missing values.\n"
   ]
  },
  {
   "cell_type": "code",
   "execution_count": 46,
   "metadata": {},
   "outputs": [
    {
     "name": "stdout",
     "output_type": "stream",
     "text": [
      "<class 'pandas.core.frame.DataFrame'>\n",
      "RangeIndex: 1000 entries, 0 to 999\n",
      "Data columns (total 10 columns):\n",
      " #   Column            Non-Null Count  Dtype \n",
      "---  ------            --------------  ----- \n",
      " 0   Age               1000 non-null   int64 \n",
      " 1   Sex               1000 non-null   object\n",
      " 2   Job               1000 non-null   int64 \n",
      " 3   Housing           1000 non-null   object\n",
      " 4   Saving accounts   817 non-null    object\n",
      " 5   Checking account  606 non-null    object\n",
      " 6   Credit amount     1000 non-null   int64 \n",
      " 7   Duration          1000 non-null   int64 \n",
      " 8   Purpose           1000 non-null   object\n",
      " 9   Risk              1000 non-null   int64 \n",
      "dtypes: int64(5), object(5)\n",
      "memory usage: 78.2+ KB\n"
     ]
    }
   ],
   "source": [
    "df.info()"
   ]
  },
  {
   "cell_type": "markdown",
   "metadata": {},
   "source": [
    "**We can see that two columns have null values in the dataset. Let's calculate the percentage of null values in all columns.**"
   ]
  },
  {
   "cell_type": "code",
   "execution_count": 47,
   "metadata": {},
   "outputs": [
    {
     "data": {
      "text/plain": [
       "Age                0.00\n",
       "Sex                0.00\n",
       "Job                0.00\n",
       "Housing            0.00\n",
       "Saving accounts    0.18\n",
       "Checking account   0.39\n",
       "Credit amount      0.00\n",
       "Duration           0.00\n",
       "Purpose            0.00\n",
       "Risk               0.00\n",
       "dtype: float64"
      ]
     },
     "execution_count": 47,
     "metadata": {},
     "output_type": "execute_result"
    }
   ],
   "source": [
    "df.isna().sum()/len(df.isna())"
   ]
  },
  {
   "cell_type": "markdown",
   "metadata": {},
   "source": [
    "## Insights\n",
    "- We can see that two columns - 'Saving accounts' and 'Checking account' have 18% and 39% missing values respectively.\n",
    "- We can either drop these columns or drop rows with missing values but then we would lose data for such a small dataset.\n",
    "- As both of these columns are categorical, we can treat those missng values as a new category."
   ]
  },
  {
   "cell_type": "code",
   "execution_count": 48,
   "metadata": {},
   "outputs": [],
   "source": [
    "df['Saving accounts'].fillna(value='unknown',inplace=True)\n",
    "df['Checking account'].fillna(value='unknown',inplace=True)"
   ]
  },
  {
   "cell_type": "markdown",
   "metadata": {},
   "source": [
    "# 3. Plot histogram for columns 'Credit amount' and 'Age'"
   ]
  },
  {
   "cell_type": "code",
   "execution_count": 49,
   "metadata": {
    "scrolled": true
   },
   "outputs": [
    {
     "data": {
      "text/plain": [
       "<AxesSubplot:>"
      ]
     },
     "execution_count": 49,
     "metadata": {},
     "output_type": "execute_result"
    },
    {
     "data": {
      "image/png": "[encoded data removed]",
      "text/plain": [
       "<Figure size 432x288 with 1 Axes>"
      ]
     },
     "metadata": {
      "needs_background": "light"
     },
     "output_type": "display_data"
    }
   ],
   "source": [
    "df['Age'].hist()"
   ]
  },
  {
   "cell_type": "code",
   "execution_count": 53,
   "metadata": {},
   "outputs": [
    {
     "data": {
      "text/plain": [
       "<AxesSubplot:xlabel='Age'>"
      ]
     },
     "execution_count": 53,
     "metadata": {},
     "output_type": "execute_result"
    },
    {
     "data": {
      "image/png": "[encoded data removed]",
      "text/plain": [
       "<Figure size 432x288 with 1 Axes>"
      ]
     },
     "metadata": {
      "needs_background": "light"
     },
     "output_type": "display_data"
    }
   ],
   "source": [
    "sns.distplot(df['Age'])"
   ]
  },
  {
   "cell_type": "code",
   "execution_count": null,
   "metadata": {},
   "outputs": [],
   "source": []
  },
  {
   "cell_type": "code",
   "execution_count": 13,
   "metadata": {},
   "outputs": [
    {
     "data": {
      "text/plain": [
       "<AxesSubplot:>"
      ]
     },
     "execution_count": 13,
     "metadata": {},
     "output_type": "execute_result"
    },
    {
     "data": {
      "image/png": "[encoded data removed]",
      "text/plain": [
       "<Figure size 432x288 with 1 Axes>"
      ]
     },
     "metadata": {
      "needs_background": "light"
     },
     "output_type": "display_data"
    }
   ],
   "source": [
    "df['Credit amount'].hist()"
   ]
  },
  {
   "cell_type": "markdown",
   "metadata": {},
   "source": [
    "# 4. Create counplots for columns 'Duration', 'Purpose'. What durations are most common and for what purposes most credits are taken?"
   ]
  },
  {
   "cell_type": "code",
   "execution_count": 14,
   "metadata": {},
   "outputs": [
    {
     "data": {
      "text/plain": [
       "<AxesSubplot:xlabel='Duration', ylabel='count'>"
      ]
     },
     "execution_count": 14,
     "metadata": {},
     "output_type": "execute_result"
    },
    {
     "data": {
      "image/png": "[encoded data removed]",
      "text/plain": [
       "<Figure size 720x720 with 1 Axes>"
      ]
     },
     "metadata": {
      "needs_background": "light"
     },
     "output_type": "display_data"
    }
   ],
   "source": [
    "plt.figure(figsize=(10,10))\n",
    "sns.countplot(df['Duration'])"
   ]
  },
  {
   "cell_type": "code",
   "execution_count": 15,
   "metadata": {},
   "outputs": [
    {
     "data": {
      "text/plain": [
       "<AxesSubplot:xlabel='Purpose', ylabel='count'>"
      ]
     },
     "execution_count": 15,
     "metadata": {},
     "output_type": "execute_result"
    },
    {
     "data": {
      "image/png": "[encoded data removed]",
      "text/plain": [
       "<Figure size 864x360 with 1 Axes>"
      ]
     },
     "metadata": {
      "needs_background": "light"
     },
     "output_type": "display_data"
    }
   ],
   "source": [
    "plt.figure(figsize=(12,5))\n",
    "sns.countplot(df['Purpose'])"
   ]
  },
  {
   "cell_type": "markdown",
   "metadata": {},
   "source": [
    "- We can see that yearly duration like 12 months, 24 months is more common than other months. Highest number of credits are taken for one or two years.\n",
    "- Most of the purposes for taking credits are luxurious items like car, radio/tv or furniture."
   ]
  },
  {
   "cell_type": "markdown",
   "metadata": {},
   "source": [
    "# 5. Which 'Job', 'Savings account', 'Checking account' has highest number of defaulters?"
   ]
  },
  {
   "cell_type": "code",
   "execution_count": 16,
   "metadata": {},
   "outputs": [
    {
     "data": {
      "text/plain": [
       "<AxesSubplot:xlabel='Sex', ylabel='count'>"
      ]
     },
     "execution_count": 16,
     "metadata": {},
     "output_type": "execute_result"
    },
    {
     "data": {
      "image/png": "[encoded data removed]",
      "text/plain": [
       "<Figure size 432x288 with 1 Axes>"
      ]
     },
     "metadata": {
      "needs_background": "light"
     },
     "output_type": "display_data"
    }
   ],
   "source": [
    "sns.countplot(df['Sex'],hue=df['Risk'])"
   ]
  },
  {
   "cell_type": "code",
   "execution_count": 17,
   "metadata": {},
   "outputs": [
    {
     "data": {
      "text/plain": [
       "<AxesSubplot:xlabel='Job', ylabel='count'>"
      ]
     },
     "execution_count": 17,
     "metadata": {},
     "output_type": "execute_result"
    },
    {
     "data": {
      "image/png": "[encoded data removed]",
      "text/plain": [
       "<Figure size 432x288 with 1 Axes>"
      ]
     },
     "metadata": {
      "needs_background": "light"
     },
     "output_type": "display_data"
    }
   ],
   "source": [
    "sns.countplot(df['Job'],hue=df['Risk'])"
   ]
  },
  {
   "cell_type": "code",
   "execution_count": 18,
   "metadata": {},
   "outputs": [
    {
     "data": {
      "text/html": [
       "<div>\n",
       "<style scoped>\n",
       "    .dataframe tbody tr th:only-of-type {\n",
       "        vertical-align: middle;\n",
       "    }\n",
       "\n",
       "    .dataframe tbody tr th {\n",
       "        vertical-align: top;\n",
       "    }\n",
       "\n",
       "    .dataframe thead th {\n",
       "        text-align: right;\n",
       "    }\n",
       "</style>\n",
       "<table border=\"1\" class=\"dataframe\">\n",
       "  <thead>\n",
       "    <tr style=\"text-align: right;\">\n",
       "      <th>Risk</th>\n",
       "      <th>0</th>\n",
       "      <th>1</th>\n",
       "    </tr>\n",
       "    <tr>\n",
       "      <th>Job</th>\n",
       "      <th></th>\n",
       "      <th></th>\n",
       "    </tr>\n",
       "  </thead>\n",
       "  <tbody>\n",
       "    <tr>\n",
       "      <th>0</th>\n",
       "      <td>0.01</td>\n",
       "      <td>0.01</td>\n",
       "    </tr>\n",
       "    <tr>\n",
       "      <th>1</th>\n",
       "      <td>0.14</td>\n",
       "      <td>0.06</td>\n",
       "    </tr>\n",
       "    <tr>\n",
       "      <th>2</th>\n",
       "      <td>0.44</td>\n",
       "      <td>0.19</td>\n",
       "    </tr>\n",
       "    <tr>\n",
       "      <th>3</th>\n",
       "      <td>0.10</td>\n",
       "      <td>0.05</td>\n",
       "    </tr>\n",
       "  </tbody>\n",
       "</table>\n",
       "</div>"
      ],
      "text/plain": [
       "Risk    0    1\n",
       "Job           \n",
       "0    0.01 0.01\n",
       "1    0.14 0.06\n",
       "2    0.44 0.19\n",
       "3    0.10 0.05"
      ]
     },
     "execution_count": 18,
     "metadata": {},
     "output_type": "execute_result"
    }
   ],
   "source": [
    "pd.crosstab(df['Job'],df['Risk'],normalize=True)"
   ]
  },
  {
   "cell_type": "code",
   "execution_count": 20,
   "metadata": {},
   "outputs": [
    {
     "data": {
      "text/plain": [
       "<AxesSubplot:xlabel='Saving accounts', ylabel='count'>"
      ]
     },
     "execution_count": 20,
     "metadata": {},
     "output_type": "execute_result"
    },
    {
     "data": {
      "image/png": "[encoded data removed]",
      "text/plain": [
       "<Figure size 432x288 with 1 Axes>"
      ]
     },
     "metadata": {
      "needs_background": "light"
     },
     "output_type": "display_data"
    }
   ],
   "source": [
    "sns.countplot(df['Saving accounts'],hue=df['Risk'])"
   ]
  },
  {
   "cell_type": "code",
   "execution_count": 21,
   "metadata": {},
   "outputs": [
    {
     "data": {
      "text/plain": [
       "<AxesSubplot:xlabel='Checking account', ylabel='count'>"
      ]
     },
     "execution_count": 21,
     "metadata": {},
     "output_type": "execute_result"
    },
    {
     "data": {
      "image/png": "[encoded data removed]",
      "text/plain": [
       "<Figure size 432x288 with 1 Axes>"
      ]
     },
     "metadata": {
      "needs_background": "light"
     },
     "output_type": "display_data"
    }
   ],
   "source": [
    "sns.countplot(df['Checking account'],hue=df['Risk'])"
   ]
  },
  {
   "cell_type": "markdown",
   "metadata": {},
   "source": [
    "## Insights\n",
    "- Number of make defaulters are more than the number of female defaulters. But this can also be due to the fact that count of male customers is more than the count the female customers.\n",
    "- Customers with 'skilled' job has highest number of defaulters.\n",
    "- For both savings and checking account, customers with 'little' money are most common defaulters."
   ]
  },
  {
   "cell_type": "markdown",
   "metadata": {},
   "source": [
    "# 6. Convert 'Credit amount' and 'Age' into categorical features by grouping them into different intervals and drop the original columns.\n",
    "You can decide the intervals using df.describe() method."
   ]
  },
  {
   "cell_type": "markdown",
   "metadata": {},
   "source": [
    "**This is not a necessary step but as we have only two continuous varaibles and their distribution is skewed, it can help to treat them as categorical variables to predict our categorical target. We can decide the intervals using 4 quantiles given by df.describe() method.**"
   ]
  },
  {
   "cell_type": "code",
   "execution_count": 22,
   "metadata": {},
   "outputs": [
    {
     "data": {
      "text/html": [
       "<div>\n",
       "<style scoped>\n",
       "    .dataframe tbody tr th:only-of-type {\n",
       "        vertical-align: middle;\n",
       "    }\n",
       "\n",
       "    .dataframe tbody tr th {\n",
       "        vertical-align: top;\n",
       "    }\n",
       "\n",
       "    .dataframe thead th {\n",
       "        text-align: right;\n",
       "    }\n",
       "</style>\n",
       "<table border=\"1\" class=\"dataframe\">\n",
       "  <thead>\n",
       "    <tr style=\"text-align: right;\">\n",
       "      <th></th>\n",
       "      <th>Age</th>\n",
       "      <th>Job</th>\n",
       "      <th>Credit amount</th>\n",
       "      <th>Duration</th>\n",
       "      <th>Risk</th>\n",
       "    </tr>\n",
       "  </thead>\n",
       "  <tbody>\n",
       "    <tr>\n",
       "      <th>count</th>\n",
       "      <td>1,000.00</td>\n",
       "      <td>1,000.00</td>\n",
       "      <td>1,000.00</td>\n",
       "      <td>1,000.00</td>\n",
       "      <td>1,000.00</td>\n",
       "    </tr>\n",
       "    <tr>\n",
       "      <th>mean</th>\n",
       "      <td>35.55</td>\n",
       "      <td>1.90</td>\n",
       "      <td>3,271.26</td>\n",
       "      <td>20.90</td>\n",
       "      <td>0.30</td>\n",
       "    </tr>\n",
       "    <tr>\n",
       "      <th>std</th>\n",
       "      <td>11.38</td>\n",
       "      <td>0.65</td>\n",
       "      <td>2,822.74</td>\n",
       "      <td>12.06</td>\n",
       "      <td>0.46</td>\n",
       "    </tr>\n",
       "    <tr>\n",
       "      <th>min</th>\n",
       "      <td>19.00</td>\n",
       "      <td>0.00</td>\n",
       "      <td>250.00</td>\n",
       "      <td>4.00</td>\n",
       "      <td>0.00</td>\n",
       "    </tr>\n",
       "    <tr>\n",
       "      <th>25%</th>\n",
       "      <td>27.00</td>\n",
       "      <td>2.00</td>\n",
       "      <td>1,365.50</td>\n",
       "      <td>12.00</td>\n",
       "      <td>0.00</td>\n",
       "    </tr>\n",
       "    <tr>\n",
       "      <th>50%</th>\n",
       "      <td>33.00</td>\n",
       "      <td>2.00</td>\n",
       "      <td>2,319.50</td>\n",
       "      <td>18.00</td>\n",
       "      <td>0.00</td>\n",
       "    </tr>\n",
       "    <tr>\n",
       "      <th>75%</th>\n",
       "      <td>42.00</td>\n",
       "      <td>2.00</td>\n",
       "      <td>3,972.25</td>\n",
       "      <td>24.00</td>\n",
       "      <td>1.00</td>\n",
       "    </tr>\n",
       "    <tr>\n",
       "      <th>max</th>\n",
       "      <td>75.00</td>\n",
       "      <td>3.00</td>\n",
       "      <td>18,424.00</td>\n",
       "      <td>72.00</td>\n",
       "      <td>1.00</td>\n",
       "    </tr>\n",
       "  </tbody>\n",
       "</table>\n",
       "</div>"
      ],
      "text/plain": [
       "           Age      Job  Credit amount  Duration     Risk\n",
       "count 1,000.00 1,000.00       1,000.00  1,000.00 1,000.00\n",
       "mean     35.55     1.90       3,271.26     20.90     0.30\n",
       "std      11.38     0.65       2,822.74     12.06     0.46\n",
       "min      19.00     0.00         250.00      4.00     0.00\n",
       "25%      27.00     2.00       1,365.50     12.00     0.00\n",
       "50%      33.00     2.00       2,319.50     18.00     0.00\n",
       "75%      42.00     2.00       3,972.25     24.00     1.00\n",
       "max      75.00     3.00      18,424.00     72.00     1.00"
      ]
     },
     "execution_count": 22,
     "metadata": {},
     "output_type": "execute_result"
    }
   ],
   "source": [
    "df.describe()"
   ]
  },
  {
   "cell_type": "code",
   "execution_count": 23,
   "metadata": {},
   "outputs": [
    {
     "data": {
      "text/plain": [
       "0      43-76\n",
       "1      18-26\n",
       "2      43-76\n",
       "3      43-76\n",
       "4      43-76\n",
       "       ...  \n",
       "995    27-32\n",
       "996    33-42\n",
       "997    33-42\n",
       "998    18-26\n",
       "999    18-26\n",
       "Name: Age_cat, Length: 1000, dtype: category\n",
       "Categories (4, object): ['18-26' < '27-32' < '33-42' < '43-76']"
      ]
     },
     "execution_count": 23,
     "metadata": {},
     "output_type": "execute_result"
    }
   ],
   "source": [
    "bins = [18, 27, 33, 43, 76]\n",
    "\n",
    "cats = ['18-26', '27-32', '33-42', '43-76']\n",
    "df[\"Age_cat\"] = pd.cut(df.Age, bins, labels=cats)\n",
    "df['Age_cat']"
   ]
  },
  {
   "cell_type": "code",
   "execution_count": 24,
   "metadata": {},
   "outputs": [
    {
     "data": {
      "text/plain": [
       "0            low\n",
       "1      very high\n",
       "2       moderate\n",
       "3      very high\n",
       "4      very high\n",
       "         ...    \n",
       "995     moderate\n",
       "996         high\n",
       "997          low\n",
       "998     moderate\n",
       "999    very high\n",
       "Name: Credit_cat, Length: 1000, dtype: category\n",
       "Categories (4, object): ['low' < 'moderate' < 'high' < 'very high']"
      ]
     },
     "execution_count": 24,
     "metadata": {},
     "output_type": "execute_result"
    }
   ],
   "source": [
    "bins = [249, 1365, 2319, 3972, 18425]\n",
    "\n",
    "cats = ['low', 'moderate', 'high', 'very high']\n",
    "df[\"Credit_cat\"] = pd.cut(df['Credit amount'], bins, labels=cats)\n",
    "df[\"Credit_cat\"]"
   ]
  },
  {
   "cell_type": "markdown",
   "metadata": {},
   "source": [
    "# 7. Find out total number of defaulters where for each category of 'Age' and  'Credit amount'."
   ]
  },
  {
   "cell_type": "code",
   "execution_count": 25,
   "metadata": {},
   "outputs": [
    {
     "data": {
      "text/html": [
       "<div>\n",
       "<style scoped>\n",
       "    .dataframe tbody tr th:only-of-type {\n",
       "        vertical-align: middle;\n",
       "    }\n",
       "\n",
       "    .dataframe tbody tr th {\n",
       "        vertical-align: top;\n",
       "    }\n",
       "\n",
       "    .dataframe thead th {\n",
       "        text-align: right;\n",
       "    }\n",
       "</style>\n",
       "<table border=\"1\" class=\"dataframe\">\n",
       "  <thead>\n",
       "    <tr style=\"text-align: right;\">\n",
       "      <th>Risk</th>\n",
       "      <th>0</th>\n",
       "      <th>1</th>\n",
       "      <th>All</th>\n",
       "    </tr>\n",
       "    <tr>\n",
       "      <th>Credit_cat</th>\n",
       "      <th></th>\n",
       "      <th></th>\n",
       "      <th></th>\n",
       "    </tr>\n",
       "  </thead>\n",
       "  <tbody>\n",
       "    <tr>\n",
       "      <th>low</th>\n",
       "      <td>173</td>\n",
       "      <td>77</td>\n",
       "      <td>250</td>\n",
       "    </tr>\n",
       "    <tr>\n",
       "      <th>moderate</th>\n",
       "      <td>188</td>\n",
       "      <td>62</td>\n",
       "      <td>250</td>\n",
       "    </tr>\n",
       "    <tr>\n",
       "      <th>high</th>\n",
       "      <td>194</td>\n",
       "      <td>56</td>\n",
       "      <td>250</td>\n",
       "    </tr>\n",
       "    <tr>\n",
       "      <th>very high</th>\n",
       "      <td>145</td>\n",
       "      <td>105</td>\n",
       "      <td>250</td>\n",
       "    </tr>\n",
       "    <tr>\n",
       "      <th>All</th>\n",
       "      <td>700</td>\n",
       "      <td>300</td>\n",
       "      <td>1000</td>\n",
       "    </tr>\n",
       "  </tbody>\n",
       "</table>\n",
       "</div>"
      ],
      "text/plain": [
       "Risk          0    1   All\n",
       "Credit_cat                \n",
       "low         173   77   250\n",
       "moderate    188   62   250\n",
       "high        194   56   250\n",
       "very high   145  105   250\n",
       "All         700  300  1000"
      ]
     },
     "execution_count": 25,
     "metadata": {},
     "output_type": "execute_result"
    }
   ],
   "source": [
    "pd.crosstab(df['Credit_cat'],df['Risk'],margins=True)"
   ]
  },
  {
   "cell_type": "code",
   "execution_count": 26,
   "metadata": {},
   "outputs": [
    {
     "data": {
      "text/html": [
       "<div>\n",
       "<style scoped>\n",
       "    .dataframe tbody tr th:only-of-type {\n",
       "        vertical-align: middle;\n",
       "    }\n",
       "\n",
       "    .dataframe tbody tr th {\n",
       "        vertical-align: top;\n",
       "    }\n",
       "\n",
       "    .dataframe thead th {\n",
       "        text-align: right;\n",
       "    }\n",
       "</style>\n",
       "<table border=\"1\" class=\"dataframe\">\n",
       "  <thead>\n",
       "    <tr style=\"text-align: right;\">\n",
       "      <th>Risk</th>\n",
       "      <th>0</th>\n",
       "      <th>1</th>\n",
       "      <th>All</th>\n",
       "    </tr>\n",
       "    <tr>\n",
       "      <th>Age_cat</th>\n",
       "      <th></th>\n",
       "      <th></th>\n",
       "      <th></th>\n",
       "    </tr>\n",
       "  </thead>\n",
       "  <tbody>\n",
       "    <tr>\n",
       "      <th>18-26</th>\n",
       "      <td>184</td>\n",
       "      <td>107</td>\n",
       "      <td>291</td>\n",
       "    </tr>\n",
       "    <tr>\n",
       "      <th>27-32</th>\n",
       "      <td>151</td>\n",
       "      <td>74</td>\n",
       "      <td>225</td>\n",
       "    </tr>\n",
       "    <tr>\n",
       "      <th>33-42</th>\n",
       "      <td>202</td>\n",
       "      <td>64</td>\n",
       "      <td>266</td>\n",
       "    </tr>\n",
       "    <tr>\n",
       "      <th>43-76</th>\n",
       "      <td>163</td>\n",
       "      <td>55</td>\n",
       "      <td>218</td>\n",
       "    </tr>\n",
       "    <tr>\n",
       "      <th>All</th>\n",
       "      <td>700</td>\n",
       "      <td>300</td>\n",
       "      <td>1000</td>\n",
       "    </tr>\n",
       "  </tbody>\n",
       "</table>\n",
       "</div>"
      ],
      "text/plain": [
       "Risk       0    1   All\n",
       "Age_cat                \n",
       "18-26    184  107   291\n",
       "27-32    151   74   225\n",
       "33-42    202   64   266\n",
       "43-76    163   55   218\n",
       "All      700  300  1000"
      ]
     },
     "execution_count": 26,
     "metadata": {},
     "output_type": "execute_result"
    }
   ],
   "source": [
    "pd.crosstab(df['Age_cat'],df['Risk'],margins=True)"
   ]
  },
  {
   "cell_type": "markdown",
   "metadata": {},
   "source": [
    "# 8. Prepare input data for the model"
   ]
  },
  {
   "cell_type": "code",
   "execution_count": 27,
   "metadata": {},
   "outputs": [],
   "source": [
    "X=df.drop(columns=['Credit amount','Age','Risk']) #Dropping continuous 'Age' and 'Credit amount' and keeping the categorical ones we created above\n",
    "Y=df['Risk']\n",
    "X.Duration=X.Duration/12 #Converting monthly values to yearly, Logistic Regression depends on the scale of the variables so it helps to have variables with similar scale or small scale."
   ]
  },
  {
   "cell_type": "code",
   "execution_count": 28,
   "metadata": {},
   "outputs": [],
   "source": [
    "X=pd.get_dummies(data=X,drop_first=True)"
   ]
  },
  {
   "cell_type": "code",
   "execution_count": 29,
   "metadata": {},
   "outputs": [],
   "source": [
    "from sklearn.model_selection import train_test_split\n",
    "x_train,x_test,y_train,y_test=train_test_split(X,Y,test_size=0.3,random_state=7,stratify=Y)\n",
    "#'stratify' argument maintains the distribution of classes in train and test sets same as original dataset."
   ]
  },
  {
   "cell_type": "code",
   "execution_count": 30,
   "metadata": {},
   "outputs": [
    {
     "data": {
      "text/plain": [
       "0    490\n",
       "1    210\n",
       "Name: Risk, dtype: int64"
      ]
     },
     "execution_count": 30,
     "metadata": {},
     "output_type": "execute_result"
    }
   ],
   "source": [
    "y_train.value_counts()"
   ]
  },
  {
   "cell_type": "code",
   "execution_count": 31,
   "metadata": {},
   "outputs": [
    {
     "data": {
      "text/plain": [
       "0    210\n",
       "1     90\n",
       "Name: Risk, dtype: int64"
      ]
     },
     "execution_count": 31,
     "metadata": {},
     "output_type": "execute_result"
    }
   ],
   "source": [
    "y_test.value_counts()"
   ]
  },
  {
   "cell_type": "markdown",
   "metadata": {},
   "source": [
    "# 9. Predict Target Variable for Test Data using Sklearn"
   ]
  },
  {
   "cell_type": "code",
   "execution_count": 32,
   "metadata": {},
   "outputs": [],
   "source": [
    "from sklearn.linear_model import LogisticRegression"
   ]
  },
  {
   "cell_type": "code",
   "execution_count": 33,
   "metadata": {},
   "outputs": [
    {
     "data": {
      "text/plain": [
       "array([1, 0, 0, 1, 1, 0, 1, 0, 0, 0, 0, 0, 0, 0, 1, 0, 0, 0, 0, 0, 0, 0,\n",
       "       0, 1, 1, 0, 0, 0, 1, 0, 0, 1, 0, 0, 0, 0, 0, 0, 0, 0, 0, 0, 0, 0,\n",
       "       1, 0, 0, 0, 1, 0, 1, 0, 0, 0, 1, 0, 1, 1, 0, 0, 0, 0, 0, 1, 0, 0,\n",
       "       0, 0, 0, 0, 0, 0, 0, 0, 0, 0, 0, 0, 0, 0, 0, 0, 1, 0, 0, 0, 0, 0,\n",
       "       0, 0, 0, 0, 0, 0, 0, 0, 0, 1, 0, 1, 0, 0, 1, 0, 0, 0, 1, 1, 0, 0,\n",
       "       0, 1, 0, 0, 0, 0, 0, 0, 0, 1, 0, 0, 0, 1, 0, 0, 0, 1, 0, 0, 0, 0,\n",
       "       0, 0, 1, 0, 0, 0, 0, 0, 1, 0, 0, 0, 0, 0, 0, 1, 0, 0, 1, 1, 1, 1,\n",
       "       0, 0, 0, 0, 1, 0, 0, 0, 0, 1, 0, 0, 1, 1, 0, 0, 0, 0, 0, 0, 0, 0,\n",
       "       0, 0, 0, 0, 1, 0, 0, 1, 1, 0, 0, 1, 0, 0, 0, 1, 0, 0, 0, 0, 0, 0,\n",
       "       0, 0, 0, 0, 0, 0, 0, 0, 0, 0, 0, 0, 0, 0, 0, 0, 0, 0, 0, 0, 0, 0,\n",
       "       0, 1, 0, 0, 0, 0, 1, 1, 0, 0, 0, 1, 0, 1, 0, 0, 0, 0, 0, 1, 0, 0,\n",
       "       0, 0, 0, 0, 0, 0, 1, 0, 1, 0, 0, 0, 0, 0, 0, 0, 0, 0, 0, 0, 0, 0,\n",
       "       0, 0, 0, 0, 1, 0, 0, 0, 0, 1, 0, 1, 1, 0, 0, 0, 0, 0, 0, 0, 0, 0,\n",
       "       0, 0, 1, 0, 1, 0, 0, 0, 0, 0, 1, 0, 0, 0])"
      ]
     },
     "execution_count": 33,
     "metadata": {},
     "output_type": "execute_result"
    }
   ],
   "source": [
    "model=LogisticRegression()\n",
    "model.fit(x_train,y_train)\n",
    "y_pred=model.predict(x_test)\n",
    "y_pred"
   ]
  },
  {
   "cell_type": "code",
   "execution_count": 34,
   "metadata": {},
   "outputs": [],
   "source": [
    "from sklearn.metrics import recall_score, roc_auc_score, classification_report,confusion_matrix"
   ]
  },
  {
   "cell_type": "code",
   "execution_count": 35,
   "metadata": {},
   "outputs": [
    {
     "data": {
      "text/plain": [
       "0.3888888888888889"
      ]
     },
     "execution_count": 35,
     "metadata": {},
     "output_type": "execute_result"
    }
   ],
   "source": [
    "recall_score(y_test,y_pred)"
   ]
  },
  {
   "cell_type": "code",
   "execution_count": 36,
   "metadata": {},
   "outputs": [
    {
     "data": {
      "text/plain": [
       "0.6420634920634921"
      ]
     },
     "execution_count": 36,
     "metadata": {},
     "output_type": "execute_result"
    }
   ],
   "source": [
    "roc_auc_score(y_test,y_pred)"
   ]
  },
  {
   "cell_type": "markdown",
   "metadata": {},
   "source": [
    "# 10. Try calculating Probabilities of Target using Sklearn"
   ]
  },
  {
   "cell_type": "code",
   "execution_count": 37,
   "metadata": {},
   "outputs": [],
   "source": [
    "z = pd.DataFrame()                                               # creating a new dataframe\n",
    "z['Actual'] = y_test.values                                      # Storing actual output of target variable\n",
    "\n",
    "z['Probaility that output is 0'] = model.predict_proba(x_test)[:,0]\n",
    "# Probabilities predicted by Logistic regression model\n",
    "z['Probaility that output is 1'] = model.predict_proba(x_test)[:,1]\n",
    "\n",
    "z['Predicted'] = model.predict(x_test)                               # Predicting target variable using sklearn Logistic regression\n",
    "\n",
    "# In sklearn default threshold is 0.5\n",
    "# therfore for all the values whose probability for 1 is greater than 0.5 will be predicted as 1"
   ]
  },
  {
   "cell_type": "code",
   "execution_count": 39,
   "metadata": {},
   "outputs": [
    {
     "data": {
      "text/plain": [
       "array([[0.32246507, 0.67753493],\n",
       "       [0.78113203, 0.21886797],\n",
       "       [0.59628415, 0.40371585],\n",
       "       [0.43059224, 0.56940776],\n",
       "       [0.34416543, 0.65583457],\n",
       "       [0.89225493, 0.10774507],\n",
       "       [0.36961062, 0.63038938],\n",
       "       [0.6740694 , 0.3259306 ],\n",
       "       [0.9494471 , 0.0505529 ],\n",
       "       [0.6537867 , 0.3462133 ],\n",
       "       [0.9463577 , 0.0536423 ],\n",
       "       [0.5595762 , 0.4404238 ],\n",
       "       [0.85241589, 0.14758411],\n",
       "       [0.92760772, 0.07239228],\n",
       "       [0.23925442, 0.76074558],\n",
       "       [0.95579695, 0.04420305],\n",
       "       [0.59170615, 0.40829385],\n",
       "       [0.59692426, 0.40307574],\n",
       "       [0.66144059, 0.33855941],\n",
       "       [0.91061919, 0.08938081],\n",
       "       [0.61547194, 0.38452806],\n",
       "       [0.79047406, 0.20952594],\n",
       "       [0.60115508, 0.39884492],\n",
       "       [0.46453452, 0.53546548],\n",
       "       [0.31277588, 0.68722412],\n",
       "       [0.52148849, 0.47851151],\n",
       "       [0.90696661, 0.09303339],\n",
       "       [0.50608766, 0.49391234],\n",
       "       [0.35881906, 0.64118094],\n",
       "       [0.93417246, 0.06582754],\n",
       "       [0.82628667, 0.17371333],\n",
       "       [0.3878081 , 0.6121919 ],\n",
       "       [0.73419408, 0.26580592],\n",
       "       [0.79477994, 0.20522006],\n",
       "       [0.93602047, 0.06397953],\n",
       "       [0.78532432, 0.21467568],\n",
       "       [0.77255691, 0.22744309],\n",
       "       [0.69187259, 0.30812741],\n",
       "       [0.82239296, 0.17760704],\n",
       "       [0.93282932, 0.06717068],\n",
       "       [0.91977711, 0.08022289],\n",
       "       [0.95870254, 0.04129746],\n",
       "       [0.9510785 , 0.0489215 ],\n",
       "       [0.89972561, 0.10027439],\n",
       "       [0.31277588, 0.68722412],\n",
       "       [0.8963118 , 0.1036882 ],\n",
       "       [0.76299022, 0.23700978],\n",
       "       [0.83068568, 0.16931432],\n",
       "       [0.33559782, 0.66440218],\n",
       "       [0.91660493, 0.08339507],\n",
       "       [0.47990656, 0.52009344],\n",
       "       [0.6990639 , 0.3009361 ],\n",
       "       [0.84384726, 0.15615274],\n",
       "       [0.54838095, 0.45161905],\n",
       "       [0.40687251, 0.59312749],\n",
       "       [0.7270345 , 0.2729655 ],\n",
       "       [0.32230384, 0.67769616],\n",
       "       [0.29545404, 0.70454596],\n",
       "       [0.60618422, 0.39381578],\n",
       "       [0.68628248, 0.31371752],\n",
       "       [0.77893712, 0.22106288],\n",
       "       [0.83393297, 0.16606703],\n",
       "       [0.95231629, 0.04768371],\n",
       "       [0.49007768, 0.50992232],\n",
       "       [0.51062013, 0.48937987],\n",
       "       [0.80684858, 0.19315142],\n",
       "       [0.87001475, 0.12998525],\n",
       "       [0.66666762, 0.33333238],\n",
       "       [0.9747654 , 0.0252346 ],\n",
       "       [0.79669732, 0.20330268],\n",
       "       [0.59937988, 0.40062012],\n",
       "       [0.84917063, 0.15082937],\n",
       "       [0.81447906, 0.18552094],\n",
       "       [0.65855987, 0.34144013],\n",
       "       [0.88927863, 0.11072137],\n",
       "       [0.91202499, 0.08797501],\n",
       "       [0.8150415 , 0.1849585 ],\n",
       "       [0.58928354, 0.41071646],\n",
       "       [0.74985074, 0.25014926],\n",
       "       [0.91602354, 0.08397646],\n",
       "       [0.89937389, 0.10062611],\n",
       "       [0.77361325, 0.22638675],\n",
       "       [0.40528192, 0.59471808],\n",
       "       [0.59004602, 0.40995398],\n",
       "       [0.62557321, 0.37442679],\n",
       "       [0.71636688, 0.28363312],\n",
       "       [0.95439455, 0.04560545],\n",
       "       [0.63932971, 0.36067029],\n",
       "       [0.59442498, 0.40557502],\n",
       "       [0.70902405, 0.29097595],\n",
       "       [0.89789896, 0.10210104],\n",
       "       [0.82691169, 0.17308831],\n",
       "       [0.97297248, 0.02702752],\n",
       "       [0.74723162, 0.25276838],\n",
       "       [0.90610835, 0.09389165],\n",
       "       [0.63968026, 0.36031974],\n",
       "       [0.79514011, 0.20485989],\n",
       "       [0.16715169, 0.83284831],\n",
       "       [0.51696569, 0.48303431],\n",
       "       [0.35664776, 0.64335224],\n",
       "       [0.64304827, 0.35695173],\n",
       "       [0.9237886 , 0.0762114 ],\n",
       "       [0.41803632, 0.58196368],\n",
       "       [0.73682625, 0.26317375],\n",
       "       [0.82416562, 0.17583438],\n",
       "       [0.86438254, 0.13561746],\n",
       "       [0.49281763, 0.50718237],\n",
       "       [0.25271829, 0.74728171],\n",
       "       [0.80544901, 0.19455099],\n",
       "       [0.74619495, 0.25380505],\n",
       "       [0.59268926, 0.40731074],\n",
       "       [0.34716294, 0.65283706],\n",
       "       [0.57377791, 0.42622209],\n",
       "       [0.96071795, 0.03928205],\n",
       "       [0.92450969, 0.07549031],\n",
       "       [0.84322663, 0.15677337],\n",
       "       [0.77063602, 0.22936398],\n",
       "       [0.8830595 , 0.1169405 ],\n",
       "       [0.91598843, 0.08401157],\n",
       "       [0.48155225, 0.51844775],\n",
       "       [0.60987986, 0.39012014],\n",
       "       [0.61080686, 0.38919314],\n",
       "       [0.68935462, 0.31064538],\n",
       "       [0.39867406, 0.60132594],\n",
       "       [0.67325698, 0.32674302],\n",
       "       [0.90172615, 0.09827385],\n",
       "       [0.54560871, 0.45439129],\n",
       "       [0.30221242, 0.69778758],\n",
       "       [0.71254539, 0.28745461],\n",
       "       [0.54529726, 0.45470274],\n",
       "       [0.62840012, 0.37159988],\n",
       "       [0.62929589, 0.37070411],\n",
       "       [0.80542436, 0.19457564],\n",
       "       [0.86813349, 0.13186651],\n",
       "       [0.46346879, 0.53653121],\n",
       "       [0.90473689, 0.09526311],\n",
       "       [0.89310024, 0.10689976],\n",
       "       [0.89548031, 0.10451969],\n",
       "       [0.81346446, 0.18653554],\n",
       "       [0.67986048, 0.32013952],\n",
       "       [0.30124841, 0.69875159],\n",
       "       [0.64486609, 0.35513391],\n",
       "       [0.67198319, 0.32801681],\n",
       "       [0.69057941, 0.30942059],\n",
       "       [0.93235895, 0.06764105],\n",
       "       [0.97803864, 0.02196136],\n",
       "       [0.53467512, 0.46532488],\n",
       "       [0.44904243, 0.55095757],\n",
       "       [0.92703988, 0.07296012],\n",
       "       [0.77514184, 0.22485816],\n",
       "       [0.28273286, 0.71726714],\n",
       "       [0.37621835, 0.62378165],\n",
       "       [0.44604356, 0.55395644],\n",
       "       [0.33586238, 0.66413762],\n",
       "       [0.90659089, 0.09340911],\n",
       "       [0.71211501, 0.28788499],\n",
       "       [0.70261112, 0.29738888],\n",
       "       [0.57151364, 0.42848636],\n",
       "       [0.48931211, 0.51068789],\n",
       "       [0.67749653, 0.32250347],\n",
       "       [0.76547248, 0.23452752],\n",
       "       [0.74871308, 0.25128692],\n",
       "       [0.8166761 , 0.1833239 ],\n",
       "       [0.45990226, 0.54009774],\n",
       "       [0.8544004 , 0.1455996 ],\n",
       "       [0.60166   , 0.39834   ],\n",
       "       [0.45346117, 0.54653883],\n",
       "       [0.46483437, 0.53516563],\n",
       "       [0.830487  , 0.169513  ],\n",
       "       [0.91695582, 0.08304418],\n",
       "       [0.83830258, 0.16169742],\n",
       "       [0.63633235, 0.36366765],\n",
       "       [0.91159661, 0.08840339],\n",
       "       [0.54526423, 0.45473577],\n",
       "       [0.71284346, 0.28715654],\n",
       "       [0.8687716 , 0.1312284 ],\n",
       "       [0.89168388, 0.10831612],\n",
       "       [0.87387838, 0.12612162],\n",
       "       [0.66346584, 0.33653416],\n",
       "       [0.79448622, 0.20551378],\n",
       "       [0.42437529, 0.57562471],\n",
       "       [0.51763563, 0.48236437],\n",
       "       [0.53117581, 0.46882419],\n",
       "       [0.39147047, 0.60852953],\n",
       "       [0.39239376, 0.60760624],\n",
       "       [0.94050456, 0.05949544],\n",
       "       [0.77382996, 0.22617004],\n",
       "       [0.49896036, 0.50103964],\n",
       "       [0.8607515 , 0.1392485 ],\n",
       "       [0.72213293, 0.27786707],\n",
       "       [0.88312329, 0.11687671],\n",
       "       [0.1601298 , 0.8398702 ],\n",
       "       [0.79426202, 0.20573798],\n",
       "       [0.72505699, 0.27494301],\n",
       "       [0.62901037, 0.37098963],\n",
       "       [0.87665436, 0.12334564],\n",
       "       [0.73808466, 0.26191534],\n",
       "       [0.56924722, 0.43075278],\n",
       "       [0.76095509, 0.23904491],\n",
       "       [0.93539638, 0.06460362],\n",
       "       [0.68259128, 0.31740872],\n",
       "       [0.77334116, 0.22665884],\n",
       "       [0.61119033, 0.38880967],\n",
       "       [0.85882673, 0.14117327],\n",
       "       [0.63576905, 0.36423095],\n",
       "       [0.8164176 , 0.1835824 ],\n",
       "       [0.57967419, 0.42032581],\n",
       "       [0.51522253, 0.48477747],\n",
       "       [0.54741615, 0.45258385],\n",
       "       [0.70492189, 0.29507811],\n",
       "       [0.80724842, 0.19275158],\n",
       "       [0.93144226, 0.06855774],\n",
       "       [0.92399085, 0.07600915],\n",
       "       [0.55040519, 0.44959481],\n",
       "       [0.81034704, 0.18965296],\n",
       "       [0.9721431 , 0.0278569 ],\n",
       "       [0.50755717, 0.49244283],\n",
       "       [0.67171283, 0.32828717],\n",
       "       [0.85397781, 0.14602219],\n",
       "       [0.81707462, 0.18292538],\n",
       "       [0.89299496, 0.10700504],\n",
       "       [0.45454244, 0.54545756],\n",
       "       [0.82971954, 0.17028046],\n",
       "       [0.93461662, 0.06538338],\n",
       "       [0.6493217 , 0.3506783 ],\n",
       "       [0.80887411, 0.19112589],\n",
       "       [0.32246507, 0.67753493],\n",
       "       [0.38253828, 0.61746172],\n",
       "       [0.85498497, 0.14501503],\n",
       "       [0.86332556, 0.13667444],\n",
       "       [0.66761018, 0.33238982],\n",
       "       [0.25576479, 0.74423521],\n",
       "       [0.94074075, 0.05925925],\n",
       "       [0.33559782, 0.66440218],\n",
       "       [0.92403686, 0.07596314],\n",
       "       [0.86197309, 0.13802691],\n",
       "       [0.88948759, 0.11051241],\n",
       "       [0.76194068, 0.23805932],\n",
       "       [0.78358553, 0.21641447],\n",
       "       [0.4792482 , 0.5207518 ],\n",
       "       [0.51651978, 0.48348022],\n",
       "       [0.8023828 , 0.1976172 ],\n",
       "       [0.54786726, 0.45213274],\n",
       "       [0.75676497, 0.24323503],\n",
       "       [0.98109317, 0.01890683],\n",
       "       [0.65125525, 0.34874475],\n",
       "       [0.62499089, 0.37500911],\n",
       "       [0.87508272, 0.12491728],\n",
       "       [0.28749273, 0.71250727],\n",
       "       [0.69326432, 0.30673568],\n",
       "       [0.49991885, 0.50008115],\n",
       "       [0.86769156, 0.13230844],\n",
       "       [0.95538337, 0.04461663],\n",
       "       [0.95041491, 0.04958509],\n",
       "       [0.64077039, 0.35922961],\n",
       "       [0.75611907, 0.24388093],\n",
       "       [0.65313111, 0.34686889],\n",
       "       [0.64766046, 0.35233954],\n",
       "       [0.60618422, 0.39381578],\n",
       "       [0.50718654, 0.49281346],\n",
       "       [0.84794739, 0.15205261],\n",
       "       [0.69894717, 0.30105283],\n",
       "       [0.68259645, 0.31740355],\n",
       "       [0.91431805, 0.08568195],\n",
       "       [0.50367177, 0.49632823],\n",
       "       [0.52823808, 0.47176192],\n",
       "       [0.94354655, 0.05645345],\n",
       "       [0.87105031, 0.12894969],\n",
       "       [0.4647185 , 0.5352815 ],\n",
       "       [0.64431132, 0.35568868],\n",
       "       [0.62244204, 0.37755796],\n",
       "       [0.93761031, 0.06238969],\n",
       "       [0.87158261, 0.12841739],\n",
       "       [0.49162241, 0.50837759],\n",
       "       [0.89607691, 0.10392309],\n",
       "       [0.41627603, 0.58372397],\n",
       "       [0.4427013 , 0.5572987 ],\n",
       "       [0.57622965, 0.42377035],\n",
       "       [0.6357574 , 0.3642426 ],\n",
       "       [0.74216301, 0.25783699],\n",
       "       [0.89496379, 0.10503621],\n",
       "       [0.90326063, 0.09673937],\n",
       "       [0.76603888, 0.23396112],\n",
       "       [0.73021527, 0.26978473],\n",
       "       [0.89884105, 0.10115895],\n",
       "       [0.92684577, 0.07315423],\n",
       "       [0.83337169, 0.16662831],\n",
       "       [0.56440596, 0.43559404],\n",
       "       [0.45165456, 0.54834544],\n",
       "       [0.60024779, 0.39975221],\n",
       "       [0.46521019, 0.53478981],\n",
       "       [0.69321312, 0.30678688],\n",
       "       [0.65852997, 0.34147003],\n",
       "       [0.61679328, 0.38320672],\n",
       "       [0.62832804, 0.37167196],\n",
       "       [0.92274367, 0.07725633],\n",
       "       [0.30621723, 0.69378277],\n",
       "       [0.67755936, 0.32244064],\n",
       "       [0.94569754, 0.05430246],\n",
       "       [0.84660411, 0.15339589]])"
      ]
     },
     "execution_count": 39,
     "metadata": {},
     "output_type": "execute_result"
    }
   ],
   "source": [
    "model.predict_proba(x_test)"
   ]
  },
  {
   "cell_type": "code",
   "execution_count": null,
   "metadata": {},
   "outputs": [],
   "source": []
  },
  {
   "cell_type": "code",
   "execution_count": 36,
   "metadata": {},
   "outputs": [
    {
     "data": {
      "text/html": [
       "<div>\n",
       "<style scoped>\n",
       "    .dataframe tbody tr th:only-of-type {\n",
       "        vertical-align: middle;\n",
       "    }\n",
       "\n",
       "    .dataframe tbody tr th {\n",
       "        vertical-align: top;\n",
       "    }\n",
       "\n",
       "    .dataframe thead th {\n",
       "        text-align: right;\n",
       "    }\n",
       "</style>\n",
       "<table border=\"1\" class=\"dataframe\">\n",
       "  <thead>\n",
       "    <tr style=\"text-align: right;\">\n",
       "      <th></th>\n",
       "      <th>Actual</th>\n",
       "      <th>Probaility that output is 0</th>\n",
       "      <th>Probaility that output is 1</th>\n",
       "      <th>Predicted</th>\n",
       "    </tr>\n",
       "  </thead>\n",
       "  <tbody>\n",
       "    <tr>\n",
       "      <th>0</th>\n",
       "      <td>1</td>\n",
       "      <td>0.32</td>\n",
       "      <td>0.68</td>\n",
       "      <td>1</td>\n",
       "    </tr>\n",
       "    <tr>\n",
       "      <th>1</th>\n",
       "      <td>1</td>\n",
       "      <td>0.78</td>\n",
       "      <td>0.22</td>\n",
       "      <td>0</td>\n",
       "    </tr>\n",
       "    <tr>\n",
       "      <th>2</th>\n",
       "      <td>0</td>\n",
       "      <td>0.60</td>\n",
       "      <td>0.40</td>\n",
       "      <td>0</td>\n",
       "    </tr>\n",
       "    <tr>\n",
       "      <th>3</th>\n",
       "      <td>0</td>\n",
       "      <td>0.43</td>\n",
       "      <td>0.57</td>\n",
       "      <td>1</td>\n",
       "    </tr>\n",
       "    <tr>\n",
       "      <th>4</th>\n",
       "      <td>1</td>\n",
       "      <td>0.35</td>\n",
       "      <td>0.65</td>\n",
       "      <td>1</td>\n",
       "    </tr>\n",
       "    <tr>\n",
       "      <th>5</th>\n",
       "      <td>0</td>\n",
       "      <td>0.89</td>\n",
       "      <td>0.11</td>\n",
       "      <td>0</td>\n",
       "    </tr>\n",
       "    <tr>\n",
       "      <th>6</th>\n",
       "      <td>0</td>\n",
       "      <td>0.37</td>\n",
       "      <td>0.63</td>\n",
       "      <td>1</td>\n",
       "    </tr>\n",
       "    <tr>\n",
       "      <th>7</th>\n",
       "      <td>0</td>\n",
       "      <td>0.67</td>\n",
       "      <td>0.33</td>\n",
       "      <td>0</td>\n",
       "    </tr>\n",
       "    <tr>\n",
       "      <th>8</th>\n",
       "      <td>0</td>\n",
       "      <td>0.95</td>\n",
       "      <td>0.05</td>\n",
       "      <td>0</td>\n",
       "    </tr>\n",
       "    <tr>\n",
       "      <th>9</th>\n",
       "      <td>0</td>\n",
       "      <td>0.65</td>\n",
       "      <td>0.35</td>\n",
       "      <td>0</td>\n",
       "    </tr>\n",
       "    <tr>\n",
       "      <th>10</th>\n",
       "      <td>0</td>\n",
       "      <td>0.95</td>\n",
       "      <td>0.05</td>\n",
       "      <td>0</td>\n",
       "    </tr>\n",
       "    <tr>\n",
       "      <th>11</th>\n",
       "      <td>0</td>\n",
       "      <td>0.56</td>\n",
       "      <td>0.44</td>\n",
       "      <td>0</td>\n",
       "    </tr>\n",
       "    <tr>\n",
       "      <th>12</th>\n",
       "      <td>0</td>\n",
       "      <td>0.85</td>\n",
       "      <td>0.15</td>\n",
       "      <td>0</td>\n",
       "    </tr>\n",
       "    <tr>\n",
       "      <th>13</th>\n",
       "      <td>0</td>\n",
       "      <td>0.93</td>\n",
       "      <td>0.07</td>\n",
       "      <td>0</td>\n",
       "    </tr>\n",
       "    <tr>\n",
       "      <th>14</th>\n",
       "      <td>1</td>\n",
       "      <td>0.24</td>\n",
       "      <td>0.76</td>\n",
       "      <td>1</td>\n",
       "    </tr>\n",
       "    <tr>\n",
       "      <th>15</th>\n",
       "      <td>0</td>\n",
       "      <td>0.96</td>\n",
       "      <td>0.04</td>\n",
       "      <td>0</td>\n",
       "    </tr>\n",
       "    <tr>\n",
       "      <th>16</th>\n",
       "      <td>1</td>\n",
       "      <td>0.59</td>\n",
       "      <td>0.41</td>\n",
       "      <td>0</td>\n",
       "    </tr>\n",
       "    <tr>\n",
       "      <th>17</th>\n",
       "      <td>1</td>\n",
       "      <td>0.60</td>\n",
       "      <td>0.40</td>\n",
       "      <td>0</td>\n",
       "    </tr>\n",
       "    <tr>\n",
       "      <th>18</th>\n",
       "      <td>0</td>\n",
       "      <td>0.66</td>\n",
       "      <td>0.34</td>\n",
       "      <td>0</td>\n",
       "    </tr>\n",
       "    <tr>\n",
       "      <th>19</th>\n",
       "      <td>0</td>\n",
       "      <td>0.91</td>\n",
       "      <td>0.09</td>\n",
       "      <td>0</td>\n",
       "    </tr>\n",
       "  </tbody>\n",
       "</table>\n",
       "</div>"
      ],
      "text/plain": [
       "    Actual  Probaility that output is 0  Probaility that output is 1  \\\n",
       "0        1                         0.32                         0.68   \n",
       "1        1                         0.78                         0.22   \n",
       "2        0                         0.60                         0.40   \n",
       "3        0                         0.43                         0.57   \n",
       "4        1                         0.35                         0.65   \n",
       "5        0                         0.89                         0.11   \n",
       "6        0                         0.37                         0.63   \n",
       "7        0                         0.67                         0.33   \n",
       "8        0                         0.95                         0.05   \n",
       "9        0                         0.65                         0.35   \n",
       "10       0                         0.95                         0.05   \n",
       "11       0                         0.56                         0.44   \n",
       "12       0                         0.85                         0.15   \n",
       "13       0                         0.93                         0.07   \n",
       "14       1                         0.24                         0.76   \n",
       "15       0                         0.96                         0.04   \n",
       "16       1                         0.59                         0.41   \n",
       "17       1                         0.60                         0.40   \n",
       "18       0                         0.66                         0.34   \n",
       "19       0                         0.91                         0.09   \n",
       "\n",
       "    Predicted  \n",
       "0           1  \n",
       "1           0  \n",
       "2           0  \n",
       "3           1  \n",
       "4           1  \n",
       "5           0  \n",
       "6           1  \n",
       "7           0  \n",
       "8           0  \n",
       "9           0  \n",
       "10          0  \n",
       "11          0  \n",
       "12          0  \n",
       "13          0  \n",
       "14          1  \n",
       "15          0  \n",
       "16          0  \n",
       "17          0  \n",
       "18          0  \n",
       "19          0  "
      ]
     },
     "execution_count": 36,
     "metadata": {},
     "output_type": "execute_result"
    }
   ],
   "source": [
    "z.head(20)"
   ]
  },
  {
   "cell_type": "markdown",
   "metadata": {},
   "source": [
    "# 11. Build a confusion matrix and display the same using heatmap plot"
   ]
  },
  {
   "cell_type": "code",
   "execution_count": 37,
   "metadata": {},
   "outputs": [],
   "source": [
    "def draw_cm( actual, predicted ):\n",
    "    cm = confusion_matrix( actual, predicted)\n",
    "    sns.heatmap(cm, annot=True,  fmt='.2f', xticklabels = [\"No Default\",\"Default\"] , yticklabels = [\"No Default\",\"Default\"] )\n",
    "    plt.ylabel('True label')\n",
    "    plt.xlabel('Predicted label')\n",
    "    plt.show()"
   ]
  },
  {
   "cell_type": "code",
   "execution_count": 38,
   "metadata": {},
   "outputs": [
    {
     "data": {
      "image/png": "[encoded data removed]",
      "text/plain": [
       "<Figure size 432x288 with 2 Axes>"
      ]
     },
     "metadata": {
      "needs_background": "light"
     },
     "output_type": "display_data"
    }
   ],
   "source": [
    "draw_cm( z['Actual'], z['Predicted'] )\n",
    "# draw_cm( y_test, lr.predict(X_test) )"
   ]
  },
  {
   "cell_type": "code",
   "execution_count": 39,
   "metadata": {},
   "outputs": [
    {
     "name": "stdout",
     "output_type": "stream",
     "text": [
      "              precision    recall  f1-score   support\n",
      "\n",
      "           0       0.77      0.90      0.83       210\n",
      "           1       0.62      0.39      0.48        90\n",
      "\n",
      "    accuracy                           0.75       300\n",
      "   macro avg       0.70      0.64      0.66       300\n",
      "weighted avg       0.73      0.75      0.73       300\n",
      "\n"
     ]
    }
   ],
   "source": [
    "print(classification_report(y_test,y_pred))"
   ]
  },
  {
   "cell_type": "markdown",
   "metadata": {},
   "source": [
    "# 12.  Predicted Probability distribution Plots for defaulters and non defaulters"
   ]
  },
  {
   "cell_type": "code",
   "execution_count": 40,
   "metadata": {},
   "outputs": [
    {
     "data": {
      "image/png": "[encoded data removed]",
      "text/plain": [
       "<Figure size 432x288 with 1 Axes>"
      ]
     },
     "metadata": {
      "needs_background": "light"
     },
     "output_type": "display_data"
    }
   ],
   "source": [
    "sns.distplot( z[z['Actual'] == 1][\"Probaility that output is 1\"], kde=False, color = 'b' )\n",
    "sns.distplot( z[z['Actual'] == 0][\"Probaility that output is 1\"], kde=False, color = 'r' )\n",
    "plt.show()"
   ]
  },
  {
   "cell_type": "markdown",
   "metadata": {},
   "source": [
    "# Conclusion\n",
    "\n",
    "### `Confusion matrix means`\n",
    "\n",
    "*True Positive (observed=1,predicted=1):*\n",
    "\n",
    "Predicted deafulter and the customer is actually a defaulter.\n",
    "\n",
    "*False Positive (observed=0,predicted=1):*\n",
    "\n",
    "Predicted defaulter and the customer is not a defaulter.\n",
    "\n",
    "*True Negative (observed=0,predicted=0):*\n",
    "\n",
    "Predicted non-defaulter and the customer is a non-defaulter.\n",
    "\n",
    "*False Negative (observed=1,predicted=0):*\n",
    "\n",
    "Predicted non-defaulter and the customer is a defaulter.\n",
    "\n",
    "### `Important Metric`\n",
    "\n",
    "Here more focus towards should be towards recall because our target variable is 'Risk' , i.e whether the customer is returning the credit taken or not. And the bank wants more people to return the credit which means less number of defaulters i.e. **less number of False Negative**, because we want to be able to catch as many potential defaulters as possible so as to not incur losses to the bank. Hence the **focus should be on increasing Recall**.\n",
    "\n",
    "**NOTE** : In the confusion matrix above, the model predicted 38 defaulters correctly out of 90 i.e. recall of aprrox 42%. So, this can be futher improved.\n",
    "\n",
    "After achieving the desired accuracy we can deploy the model for practical use. The bank loaning process can be quite a manual and tiresome task in identifying who might be a potential defaulter. So the bank can use use the model for upcoming customers."
   ]
  },
  {
   "cell_type": "markdown",
   "metadata": {},
   "source": [
    "# Additional Content\n",
    "\n",
    "## Fit logistic regression model  (Statsmodel)"
   ]
  },
  {
   "cell_type": "code",
   "execution_count": 41,
   "metadata": {},
   "outputs": [
    {
     "name": "stdout",
     "output_type": "stream",
     "text": [
      "Optimization terminated successfully.\n",
      "         Current function value: 0.506688\n",
      "         Iterations 6\n"
     ]
    },
    {
     "data": {
      "text/html": [
       "<table class=\"simpletable\">\n",
       "<caption>Logit Regression Results</caption>\n",
       "<tr>\n",
       "  <th>Dep. Variable:</th>         <td>Risk</td>       <th>  No. Observations:  </th>  <td>   700</td>  \n",
       "</tr>\n",
       "<tr>\n",
       "  <th>Model:</th>                 <td>Logit</td>      <th>  Df Residuals:      </th>  <td>   674</td>  \n",
       "</tr>\n",
       "<tr>\n",
       "  <th>Method:</th>                 <td>MLE</td>       <th>  Df Model:          </th>  <td>    25</td>  \n",
       "</tr>\n",
       "<tr>\n",
       "  <th>Date:</th>            <td>Wed, 18 Nov 2020</td> <th>  Pseudo R-squ.:     </th>  <td>0.1705</td>  \n",
       "</tr>\n",
       "<tr>\n",
       "  <th>Time:</th>                <td>09:10:21</td>     <th>  Log-Likelihood:    </th> <td> -354.68</td> \n",
       "</tr>\n",
       "<tr>\n",
       "  <th>converged:</th>             <td>True</td>       <th>  LL-Null:           </th> <td> -427.61</td> \n",
       "</tr>\n",
       "<tr>\n",
       "  <th>Covariance Type:</th>     <td>nonrobust</td>    <th>  LLR p-value:       </th> <td>4.896e-19</td>\n",
       "</tr>\n",
       "</table>\n",
       "<table class=\"simpletable\">\n",
       "<tr>\n",
       "               <td></td>                  <th>coef</th>     <th>std err</th>      <th>z</th>      <th>P>|z|</th>  <th>[0.025</th>    <th>0.975]</th>  \n",
       "</tr>\n",
       "<tr>\n",
       "  <th>const</th>                       <td>    0.3234</td> <td>    0.620</td> <td>    0.522</td> <td> 0.602</td> <td>   -0.891</td> <td>    1.538</td>\n",
       "</tr>\n",
       "<tr>\n",
       "  <th>Job</th>                         <td>    0.1063</td> <td>    0.149</td> <td>    0.715</td> <td> 0.474</td> <td>   -0.185</td> <td>    0.398</td>\n",
       "</tr>\n",
       "<tr>\n",
       "  <th>Duration</th>                    <td>    0.4038</td> <td>    0.120</td> <td>    3.376</td> <td> 0.001</td> <td>    0.169</td> <td>    0.638</td>\n",
       "</tr>\n",
       "<tr>\n",
       "  <th>Sex_male</th>                    <td>   -0.2443</td> <td>    0.213</td> <td>   -1.147</td> <td> 0.251</td> <td>   -0.662</td> <td>    0.173</td>\n",
       "</tr>\n",
       "<tr>\n",
       "  <th>Housing_own</th>                 <td>   -0.4215</td> <td>    0.303</td> <td>   -1.390</td> <td> 0.165</td> <td>   -1.016</td> <td>    0.173</td>\n",
       "</tr>\n",
       "<tr>\n",
       "  <th>Housing_rent</th>                <td>    0.2038</td> <td>    0.365</td> <td>    0.559</td> <td> 0.576</td> <td>   -0.511</td> <td>    0.919</td>\n",
       "</tr>\n",
       "<tr>\n",
       "  <th>Saving accounts_moderate</th>    <td>   -0.0685</td> <td>    0.302</td> <td>   -0.227</td> <td> 0.821</td> <td>   -0.660</td> <td>    0.523</td>\n",
       "</tr>\n",
       "<tr>\n",
       "  <th>Saving accounts_quite rich</th>  <td>   -0.3280</td> <td>    0.444</td> <td>   -0.739</td> <td> 0.460</td> <td>   -1.198</td> <td>    0.542</td>\n",
       "</tr>\n",
       "<tr>\n",
       "  <th>Saving accounts_rich</th>        <td>   -0.6686</td> <td>    0.509</td> <td>   -1.313</td> <td> 0.189</td> <td>   -1.667</td> <td>    0.329</td>\n",
       "</tr>\n",
       "<tr>\n",
       "  <th>Saving accounts_unknown</th>     <td>   -0.8313</td> <td>    0.291</td> <td>   -2.854</td> <td> 0.004</td> <td>   -1.402</td> <td>   -0.260</td>\n",
       "</tr>\n",
       "<tr>\n",
       "  <th>Checking account_moderate</th>   <td>   -0.5281</td> <td>    0.243</td> <td>   -2.175</td> <td> 0.030</td> <td>   -1.004</td> <td>   -0.052</td>\n",
       "</tr>\n",
       "<tr>\n",
       "  <th>Checking account_rich</th>       <td>   -0.7143</td> <td>    0.380</td> <td>   -1.879</td> <td> 0.060</td> <td>   -1.459</td> <td>    0.031</td>\n",
       "</tr>\n",
       "<tr>\n",
       "  <th>Checking account_unknown</th>    <td>   -1.7125</td> <td>    0.252</td> <td>   -6.800</td> <td> 0.000</td> <td>   -2.206</td> <td>   -1.219</td>\n",
       "</tr>\n",
       "<tr>\n",
       "  <th>Purpose_car</th>                 <td>   -0.0759</td> <td>    0.343</td> <td>   -0.222</td> <td> 0.825</td> <td>   -0.747</td> <td>    0.596</td>\n",
       "</tr>\n",
       "<tr>\n",
       "  <th>Purpose_domestic appliances</th> <td>   -0.1945</td> <td>    0.818</td> <td>   -0.238</td> <td> 0.812</td> <td>   -1.798</td> <td>    1.409</td>\n",
       "</tr>\n",
       "<tr>\n",
       "  <th>Purpose_education</th>           <td>    0.0785</td> <td>    0.489</td> <td>    0.160</td> <td> 0.873</td> <td>   -0.881</td> <td>    1.038</td>\n",
       "</tr>\n",
       "<tr>\n",
       "  <th>Purpose_furniture/equipment</th> <td>   -0.2040</td> <td>    0.380</td> <td>   -0.537</td> <td> 0.591</td> <td>   -0.949</td> <td>    0.541</td>\n",
       "</tr>\n",
       "<tr>\n",
       "  <th>Purpose_radio/TV</th>            <td>   -0.4953</td> <td>    0.357</td> <td>   -1.388</td> <td> 0.165</td> <td>   -1.195</td> <td>    0.204</td>\n",
       "</tr>\n",
       "<tr>\n",
       "  <th>Purpose_repairs</th>             <td>    0.0436</td> <td>    0.654</td> <td>    0.067</td> <td> 0.947</td> <td>   -1.238</td> <td>    1.325</td>\n",
       "</tr>\n",
       "<tr>\n",
       "  <th>Purpose_vacation/others</th>     <td>   -0.4476</td> <td>    0.873</td> <td>   -0.513</td> <td> 0.608</td> <td>   -2.159</td> <td>    1.264</td>\n",
       "</tr>\n",
       "<tr>\n",
       "  <th>Age_cat_27-32</th>               <td>   -0.0597</td> <td>    0.263</td> <td>   -0.227</td> <td> 0.820</td> <td>   -0.575</td> <td>    0.456</td>\n",
       "</tr>\n",
       "<tr>\n",
       "  <th>Age_cat_33-42</th>               <td>   -0.3456</td> <td>    0.271</td> <td>   -1.278</td> <td> 0.201</td> <td>   -0.876</td> <td>    0.185</td>\n",
       "</tr>\n",
       "<tr>\n",
       "  <th>Age_cat_43-76</th>               <td>   -0.4978</td> <td>    0.285</td> <td>   -1.745</td> <td> 0.081</td> <td>   -1.057</td> <td>    0.061</td>\n",
       "</tr>\n",
       "<tr>\n",
       "  <th>Credit_cat_moderate</th>         <td>   -0.4218</td> <td>    0.279</td> <td>   -1.512</td> <td> 0.130</td> <td>   -0.968</td> <td>    0.125</td>\n",
       "</tr>\n",
       "<tr>\n",
       "  <th>Credit_cat_high</th>             <td>   -0.9036</td> <td>    0.304</td> <td>   -2.972</td> <td> 0.003</td> <td>   -1.499</td> <td>   -0.308</td>\n",
       "</tr>\n",
       "<tr>\n",
       "  <th>Credit_cat_very high</th>        <td>   -0.1681</td> <td>    0.339</td> <td>   -0.495</td> <td> 0.620</td> <td>   -0.833</td> <td>    0.497</td>\n",
       "</tr>\n",
       "</table>"
      ],
      "text/plain": [
       "<class 'statsmodels.iolib.summary.Summary'>\n",
       "\"\"\"\n",
       "                           Logit Regression Results                           \n",
       "==============================================================================\n",
       "Dep. Variable:                   Risk   No. Observations:                  700\n",
       "Model:                          Logit   Df Residuals:                      674\n",
       "Method:                           MLE   Df Model:                           25\n",
       "Date:                Wed, 18 Nov 2020   Pseudo R-squ.:                  0.1705\n",
       "Time:                        09:10:21   Log-Likelihood:                -354.68\n",
       "converged:                       True   LL-Null:                       -427.61\n",
       "Covariance Type:            nonrobust   LLR p-value:                 4.896e-19\n",
       "===============================================================================================\n",
       "                                  coef    std err          z      P>|z|      [0.025      0.975]\n",
       "-----------------------------------------------------------------------------------------------\n",
       "const                           0.3234      0.620      0.522      0.602      -0.891       1.538\n",
       "Job                             0.1063      0.149      0.715      0.474      -0.185       0.398\n",
       "Duration                        0.4038      0.120      3.376      0.001       0.169       0.638\n",
       "Sex_male                       -0.2443      0.213     -1.147      0.251      -0.662       0.173\n",
       "Housing_own                    -0.4215      0.303     -1.390      0.165      -1.016       0.173\n",
       "Housing_rent                    0.2038      0.365      0.559      0.576      -0.511       0.919\n",
       "Saving accounts_moderate       -0.0685      0.302     -0.227      0.821      -0.660       0.523\n",
       "Saving accounts_quite rich     -0.3280      0.444     -0.739      0.460      -1.198       0.542\n",
       "Saving accounts_rich           -0.6686      0.509     -1.313      0.189      -1.667       0.329\n",
       "Saving accounts_unknown        -0.8313      0.291     -2.854      0.004      -1.402      -0.260\n",
       "Checking account_moderate      -0.5281      0.243     -2.175      0.030      -1.004      -0.052\n",
       "Checking account_rich          -0.7143      0.380     -1.879      0.060      -1.459       0.031\n",
       "Checking account_unknown       -1.7125      0.252     -6.800      0.000      -2.206      -1.219\n",
       "Purpose_car                    -0.0759      0.343     -0.222      0.825      -0.747       0.596\n",
       "Purpose_domestic appliances    -0.1945      0.818     -0.238      0.812      -1.798       1.409\n",
       "Purpose_education               0.0785      0.489      0.160      0.873      -0.881       1.038\n",
       "Purpose_furniture/equipment    -0.2040      0.380     -0.537      0.591      -0.949       0.541\n",
       "Purpose_radio/TV               -0.4953      0.357     -1.388      0.165      -1.195       0.204\n",
       "Purpose_repairs                 0.0436      0.654      0.067      0.947      -1.238       1.325\n",
       "Purpose_vacation/others        -0.4476      0.873     -0.513      0.608      -2.159       1.264\n",
       "Age_cat_27-32                  -0.0597      0.263     -0.227      0.820      -0.575       0.456\n",
       "Age_cat_33-42                  -0.3456      0.271     -1.278      0.201      -0.876       0.185\n",
       "Age_cat_43-76                  -0.4978      0.285     -1.745      0.081      -1.057       0.061\n",
       "Credit_cat_moderate            -0.4218      0.279     -1.512      0.130      -0.968       0.125\n",
       "Credit_cat_high                -0.9036      0.304     -2.972      0.003      -1.499      -0.308\n",
       "Credit_cat_very high           -0.1681      0.339     -0.495      0.620      -0.833       0.497\n",
       "===============================================================================================\n",
       "\"\"\""
      ]
     },
     "execution_count": 41,
     "metadata": {},
     "output_type": "execute_result"
    }
   ],
   "source": [
    "import statsmodels.api as sm\n",
    "\n",
    "logit = sm.Logit( y_train, sm.add_constant( x_train ) )\n",
    "\n",
    "lg = logit.fit()\n",
    "\n",
    "lg.summary()"
   ]
  },
  {
   "cell_type": "markdown",
   "metadata": {},
   "source": [
    "## Convert probabilities to target variables and changing the threshold"
   ]
  },
  {
   "cell_type": "code",
   "execution_count": 42,
   "metadata": {},
   "outputs": [
    {
     "data": {
      "text/html": [
       "<div>\n",
       "<style scoped>\n",
       "    .dataframe tbody tr th:only-of-type {\n",
       "        vertical-align: middle;\n",
       "    }\n",
       "\n",
       "    .dataframe tbody tr th {\n",
       "        vertical-align: top;\n",
       "    }\n",
       "\n",
       "    .dataframe thead th {\n",
       "        text-align: right;\n",
       "    }\n",
       "</style>\n",
       "<table border=\"1\" class=\"dataframe\">\n",
       "  <thead>\n",
       "    <tr style=\"text-align: right;\">\n",
       "      <th></th>\n",
       "      <th>actual</th>\n",
       "      <th>predicted_prob</th>\n",
       "      <th>predicted</th>\n",
       "    </tr>\n",
       "  </thead>\n",
       "  <tbody>\n",
       "    <tr>\n",
       "      <th>812</th>\n",
       "      <td>1</td>\n",
       "      <td>0.70</td>\n",
       "      <td>1</td>\n",
       "    </tr>\n",
       "    <tr>\n",
       "      <th>651</th>\n",
       "      <td>1</td>\n",
       "      <td>0.21</td>\n",
       "      <td>0</td>\n",
       "    </tr>\n",
       "    <tr>\n",
       "      <th>482</th>\n",
       "      <td>0</td>\n",
       "      <td>0.37</td>\n",
       "      <td>0</td>\n",
       "    </tr>\n",
       "    <tr>\n",
       "      <th>221</th>\n",
       "      <td>0</td>\n",
       "      <td>0.60</td>\n",
       "      <td>0</td>\n",
       "    </tr>\n",
       "    <tr>\n",
       "      <th>528</th>\n",
       "      <td>1</td>\n",
       "      <td>0.67</td>\n",
       "      <td>1</td>\n",
       "    </tr>\n",
       "  </tbody>\n",
       "</table>\n",
       "</div>"
      ],
      "text/plain": [
       "     actual  predicted_prob  predicted\n",
       "812       1            0.70          1\n",
       "651       1            0.21          0\n",
       "482       0            0.37          0\n",
       "221       0            0.60          0\n",
       "528       1            0.67          1"
      ]
     },
     "execution_count": 42,
     "metadata": {},
     "output_type": "execute_result"
    }
   ],
   "source": [
    "y_pred_df = pd.DataFrame()\n",
    "\n",
    "y_pred_df['actual'] = y_test\n",
    "\n",
    "y_pred_df[\"predicted_prob\"] = lg.predict( sm.add_constant( x_test ) )\n",
    "## Used statsmodel logit function to predict probaility of output being from class '1'\n",
    "\n",
    "y_pred_df['predicted'] = y_pred_df.predicted_prob.map( lambda x: 1 if x > 0.6 else 0)\n",
    "# Converted values which are above 0.6 as '1' and rest as '0'.\n",
    "## Therefore thershold here is 0.6 as values above 0.6 probability is converted to '1'\n",
    "\n",
    "y_pred_df[0:5]"
   ]
  }
 ],
 "metadata": {
  "kernelspec": {
   "display_name": "Python 3",
   "language": "python",
   "name": "python3"
  },
  "language_info": {
   "codemirror_mode": {
    "name": "ipython",
    "version": 3
   },
   "file_extension": ".py",
   "mimetype": "text/x-python",
   "name": "python",
   "nbconvert_exporter": "python",
   "pygments_lexer": "ipython3",
   "version": "3.6.7"
  }
 },
 "nbformat": 4,
 "nbformat_minor": 4
}
