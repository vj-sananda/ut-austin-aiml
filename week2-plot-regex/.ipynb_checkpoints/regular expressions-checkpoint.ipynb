{
 "cells": [
  {
   "cell_type": "markdown",
   "metadata": {},
   "source": [
    "# Regular Expressions\n",
    "\n",
    "Regular expressions is a concept used to search for patterns in string text.\n",
    "\n",
    "This is a univerisal concept for any programming language or text editing program. \n",
    "\n",
    "We're going to learn the concepts while we learn the syntax for python.\n",
    "\n",
    "The goal of regular expressions is to be able to search for a specific type of text inside of a string.  If we have a form on our webpage where we ask for email addresses, can we check whether the inputted string actually follows the form of an email?  some letters or numbers or special characters, then an @ sign then some more letters numbers or special characters then a . then a few more letters"
   ]
  },
  {
   "cell_type": "code",
   "execution_count": 41,
   "metadata": {},
   "outputs": [],
   "source": [
    "import re\n",
    "\n",
    "text_to_search = '''abcdefghijklmnopqurtuvwxyz\n",
    "ABCDEFGHIJKLMNOPQRSTUVWXYZ\n",
    "1234567890\n",
    "123abc\n",
    "\n",
    "Hello HelloHello\n",
    "\n",
    "MetaCharacters (Need to be escaped):\n",
    ". ^ $ * + ? { } [ ] \\ | ( )\n",
    "\n",
    "utexas.edu\n",
    "\n",
    "321-555-4321\n",
    "123.555.1234\n",
    "\n",
    "daniel-mitchell@utexas.edu\n",
    "\n",
    "daniel-mitchell@utexas.com\n",
    "\n",
    "daniel-mitchell@utexas.uk\n",
    "\n",
    "daniel-mitchell@utexas.net\n",
    "\n",
    "\n",
    "Mr.    Johnson\n",
    "Mr    Smith\n",
    "Ms    Davis\n",
    "Mrs.   Robinson\n",
    "Mr.    T\n",
    "'''\n",
    "\n",
    "\n"
   ]
  },
  {
   "cell_type": "code",
   "execution_count": 13,
   "metadata": {},
   "outputs": [
    {
     "data": {
      "text/plain": [
       "'abcdefghijklmnopqurtuvwxyz\\nABCDEFGHIJKLMNOPQRSTUVWXYZ\\n1234567890\\n123abc\\n\\nHello HelloHello\\n\\nMetaCharacters (Need to be escaped):\\n. ^ $ * + ? { } [ ] \\\\ | ( )\\n\\nutexas.edu\\n\\n321-555-4321\\n123.555.1234\\n\\ndaniel-mitchell@utexas.edu\\n\\nMr. Johnson\\nMr Smith\\nMs Davis\\nMrs. Robinson\\nMr. T\\n'"
      ]
     },
     "execution_count": 13,
     "metadata": {},
     "output_type": "execute_result"
    }
   ],
   "source": [
    "text_to_search"
   ]
  },
  {
   "cell_type": "markdown",
   "metadata": {},
   "source": [
    "## Searching literals"
   ]
  },
  {
   "cell_type": "code",
   "execution_count": 15,
   "metadata": {},
   "outputs": [],
   "source": [
    "pattern = re.compile(r'abc')"
   ]
  },
  {
   "cell_type": "code",
   "execution_count": 16,
   "metadata": {},
   "outputs": [],
   "source": [
    "matches = pattern.finditer(text_to_search)"
   ]
  },
  {
   "cell_type": "code",
   "execution_count": 17,
   "metadata": {},
   "outputs": [
    {
     "name": "stdout",
     "output_type": "stream",
     "text": [
      "<_sre.SRE_Match object; span=(0, 3), match='abc'>\n",
      "<_sre.SRE_Match object; span=(68, 71), match='abc'>\n"
     ]
    }
   ],
   "source": [
    "for mat in matches:\n",
    "    print(mat)"
   ]
  },
  {
   "cell_type": "code",
   "execution_count": 18,
   "metadata": {},
   "outputs": [
    {
     "name": "stdout",
     "output_type": "stream",
     "text": [
      "bc\n",
      "\n"
     ]
    }
   ],
   "source": [
    "print(text_to_search[69:72])"
   ]
  },
  {
   "cell_type": "code",
   "execution_count": 19,
   "metadata": {},
   "outputs": [],
   "source": [
    "pattern = re.compile(r'cba')\n",
    "matches = pattern.finditer(text_to_search)\n",
    "for mat in matches:\n",
    "    print(mat)"
   ]
  },
  {
   "cell_type": "markdown",
   "metadata": {},
   "source": [
    "## Searching special characters"
   ]
  },
  {
   "cell_type": "code",
   "execution_count": 8,
   "metadata": {},
   "outputs": [
    {
     "name": "stdout",
     "output_type": "stream",
     "text": [
      "<_sre.SRE_Match object; span=(1, 2), match='a'>\n",
      "<_sre.SRE_Match object; span=(2, 3), match='b'>\n",
      "<_sre.SRE_Match object; span=(3, 4), match='c'>\n",
      "<_sre.SRE_Match object; span=(4, 5), match='d'>\n",
      "<_sre.SRE_Match object; span=(5, 6), match='e'>\n",
      "<_sre.SRE_Match object; span=(6, 7), match='f'>\n",
      "<_sre.SRE_Match object; span=(7, 8), match='g'>\n",
      "<_sre.SRE_Match object; span=(8, 9), match='h'>\n",
      "<_sre.SRE_Match object; span=(9, 10), match='i'>\n",
      "<_sre.SRE_Match object; span=(10, 11), match='j'>\n",
      "<_sre.SRE_Match object; span=(11, 12), match='k'>\n",
      "<_sre.SRE_Match object; span=(12, 13), match='l'>\n",
      "<_sre.SRE_Match object; span=(13, 14), match='m'>\n",
      "<_sre.SRE_Match object; span=(14, 15), match='n'>\n",
      "<_sre.SRE_Match object; span=(15, 16), match='o'>\n",
      "<_sre.SRE_Match object; span=(16, 17), match='p'>\n",
      "<_sre.SRE_Match object; span=(17, 18), match='q'>\n",
      "<_sre.SRE_Match object; span=(18, 19), match='u'>\n",
      "<_sre.SRE_Match object; span=(19, 20), match='r'>\n",
      "<_sre.SRE_Match object; span=(20, 21), match='t'>\n",
      "<_sre.SRE_Match object; span=(21, 22), match='u'>\n",
      "<_sre.SRE_Match object; span=(22, 23), match='v'>\n",
      "<_sre.SRE_Match object; span=(23, 24), match='w'>\n",
      "<_sre.SRE_Match object; span=(24, 25), match='x'>\n",
      "<_sre.SRE_Match object; span=(25, 26), match='y'>\n",
      "<_sre.SRE_Match object; span=(26, 27), match='z'>\n",
      "<_sre.SRE_Match object; span=(28, 29), match='A'>\n",
      "<_sre.SRE_Match object; span=(29, 30), match='B'>\n",
      "<_sre.SRE_Match object; span=(30, 31), match='C'>\n",
      "<_sre.SRE_Match object; span=(31, 32), match='D'>\n",
      "<_sre.SRE_Match object; span=(32, 33), match='E'>\n",
      "<_sre.SRE_Match object; span=(33, 34), match='F'>\n",
      "<_sre.SRE_Match object; span=(34, 35), match='G'>\n",
      "<_sre.SRE_Match object; span=(35, 36), match='H'>\n",
      "<_sre.SRE_Match object; span=(36, 37), match='I'>\n",
      "<_sre.SRE_Match object; span=(37, 38), match='J'>\n",
      "<_sre.SRE_Match object; span=(38, 39), match='K'>\n",
      "<_sre.SRE_Match object; span=(39, 40), match='L'>\n",
      "<_sre.SRE_Match object; span=(40, 41), match='M'>\n",
      "<_sre.SRE_Match object; span=(41, 42), match='N'>\n",
      "<_sre.SRE_Match object; span=(42, 43), match='O'>\n",
      "<_sre.SRE_Match object; span=(43, 44), match='P'>\n",
      "<_sre.SRE_Match object; span=(44, 45), match='Q'>\n",
      "<_sre.SRE_Match object; span=(45, 46), match='R'>\n",
      "<_sre.SRE_Match object; span=(46, 47), match='S'>\n",
      "<_sre.SRE_Match object; span=(47, 48), match='T'>\n",
      "<_sre.SRE_Match object; span=(48, 49), match='U'>\n",
      "<_sre.SRE_Match object; span=(49, 50), match='V'>\n",
      "<_sre.SRE_Match object; span=(50, 51), match='W'>\n",
      "<_sre.SRE_Match object; span=(51, 52), match='X'>\n",
      "<_sre.SRE_Match object; span=(52, 53), match='Y'>\n",
      "<_sre.SRE_Match object; span=(53, 54), match='Z'>\n",
      "<_sre.SRE_Match object; span=(55, 56), match='1'>\n",
      "<_sre.SRE_Match object; span=(56, 57), match='2'>\n",
      "<_sre.SRE_Match object; span=(57, 58), match='3'>\n",
      "<_sre.SRE_Match object; span=(58, 59), match='4'>\n",
      "<_sre.SRE_Match object; span=(59, 60), match='5'>\n",
      "<_sre.SRE_Match object; span=(60, 61), match='6'>\n",
      "<_sre.SRE_Match object; span=(61, 62), match='7'>\n",
      "<_sre.SRE_Match object; span=(62, 63), match='8'>\n",
      "<_sre.SRE_Match object; span=(63, 64), match='9'>\n",
      "<_sre.SRE_Match object; span=(64, 65), match='0'>\n",
      "<_sre.SRE_Match object; span=(66, 67), match='1'>\n",
      "<_sre.SRE_Match object; span=(67, 68), match='2'>\n",
      "<_sre.SRE_Match object; span=(68, 69), match='3'>\n",
      "<_sre.SRE_Match object; span=(69, 70), match='a'>\n",
      "<_sre.SRE_Match object; span=(70, 71), match='b'>\n",
      "<_sre.SRE_Match object; span=(71, 72), match='c'>\n",
      "<_sre.SRE_Match object; span=(74, 75), match='H'>\n",
      "<_sre.SRE_Match object; span=(75, 76), match='e'>\n",
      "<_sre.SRE_Match object; span=(76, 77), match='l'>\n",
      "<_sre.SRE_Match object; span=(77, 78), match='l'>\n",
      "<_sre.SRE_Match object; span=(78, 79), match='o'>\n",
      "<_sre.SRE_Match object; span=(79, 80), match=' '>\n",
      "<_sre.SRE_Match object; span=(80, 81), match='H'>\n",
      "<_sre.SRE_Match object; span=(81, 82), match='e'>\n",
      "<_sre.SRE_Match object; span=(82, 83), match='l'>\n",
      "<_sre.SRE_Match object; span=(83, 84), match='l'>\n",
      "<_sre.SRE_Match object; span=(84, 85), match='o'>\n",
      "<_sre.SRE_Match object; span=(85, 86), match='H'>\n",
      "<_sre.SRE_Match object; span=(86, 87), match='e'>\n",
      "<_sre.SRE_Match object; span=(87, 88), match='l'>\n",
      "<_sre.SRE_Match object; span=(88, 89), match='l'>\n",
      "<_sre.SRE_Match object; span=(89, 90), match='o'>\n",
      "<_sre.SRE_Match object; span=(92, 93), match='M'>\n",
      "<_sre.SRE_Match object; span=(93, 94), match='e'>\n",
      "<_sre.SRE_Match object; span=(94, 95), match='t'>\n",
      "<_sre.SRE_Match object; span=(95, 96), match='a'>\n",
      "<_sre.SRE_Match object; span=(96, 97), match='C'>\n",
      "<_sre.SRE_Match object; span=(97, 98), match='h'>\n",
      "<_sre.SRE_Match object; span=(98, 99), match='a'>\n",
      "<_sre.SRE_Match object; span=(99, 100), match='r'>\n",
      "<_sre.SRE_Match object; span=(100, 101), match='a'>\n",
      "<_sre.SRE_Match object; span=(101, 102), match='c'>\n",
      "<_sre.SRE_Match object; span=(102, 103), match='t'>\n",
      "<_sre.SRE_Match object; span=(103, 104), match='e'>\n",
      "<_sre.SRE_Match object; span=(104, 105), match='r'>\n",
      "<_sre.SRE_Match object; span=(105, 106), match='s'>\n",
      "<_sre.SRE_Match object; span=(106, 107), match=' '>\n",
      "<_sre.SRE_Match object; span=(107, 108), match='('>\n",
      "<_sre.SRE_Match object; span=(108, 109), match='N'>\n",
      "<_sre.SRE_Match object; span=(109, 110), match='e'>\n",
      "<_sre.SRE_Match object; span=(110, 111), match='e'>\n",
      "<_sre.SRE_Match object; span=(111, 112), match='d'>\n",
      "<_sre.SRE_Match object; span=(112, 113), match=' '>\n",
      "<_sre.SRE_Match object; span=(113, 114), match='t'>\n",
      "<_sre.SRE_Match object; span=(114, 115), match='o'>\n",
      "<_sre.SRE_Match object; span=(115, 116), match=' '>\n",
      "<_sre.SRE_Match object; span=(116, 117), match='b'>\n",
      "<_sre.SRE_Match object; span=(117, 118), match='e'>\n",
      "<_sre.SRE_Match object; span=(118, 119), match=' '>\n",
      "<_sre.SRE_Match object; span=(119, 120), match='e'>\n",
      "<_sre.SRE_Match object; span=(120, 121), match='s'>\n",
      "<_sre.SRE_Match object; span=(121, 122), match='c'>\n",
      "<_sre.SRE_Match object; span=(122, 123), match='a'>\n",
      "<_sre.SRE_Match object; span=(123, 124), match='p'>\n",
      "<_sre.SRE_Match object; span=(124, 125), match='e'>\n",
      "<_sre.SRE_Match object; span=(125, 126), match='d'>\n",
      "<_sre.SRE_Match object; span=(126, 127), match=')'>\n",
      "<_sre.SRE_Match object; span=(127, 128), match=':'>\n",
      "<_sre.SRE_Match object; span=(129, 130), match='.'>\n",
      "<_sre.SRE_Match object; span=(130, 131), match=' '>\n",
      "<_sre.SRE_Match object; span=(131, 132), match='^'>\n",
      "<_sre.SRE_Match object; span=(132, 133), match=' '>\n",
      "<_sre.SRE_Match object; span=(133, 134), match='$'>\n",
      "<_sre.SRE_Match object; span=(134, 135), match=' '>\n",
      "<_sre.SRE_Match object; span=(135, 136), match='*'>\n",
      "<_sre.SRE_Match object; span=(136, 137), match=' '>\n",
      "<_sre.SRE_Match object; span=(137, 138), match='+'>\n",
      "<_sre.SRE_Match object; span=(138, 139), match=' '>\n",
      "<_sre.SRE_Match object; span=(139, 140), match='?'>\n",
      "<_sre.SRE_Match object; span=(140, 141), match=' '>\n",
      "<_sre.SRE_Match object; span=(141, 142), match='{'>\n",
      "<_sre.SRE_Match object; span=(142, 143), match=' '>\n",
      "<_sre.SRE_Match object; span=(143, 144), match='}'>\n",
      "<_sre.SRE_Match object; span=(144, 145), match=' '>\n",
      "<_sre.SRE_Match object; span=(145, 146), match='['>\n",
      "<_sre.SRE_Match object; span=(146, 147), match=' '>\n",
      "<_sre.SRE_Match object; span=(147, 148), match=']'>\n",
      "<_sre.SRE_Match object; span=(148, 149), match=' '>\n",
      "<_sre.SRE_Match object; span=(149, 150), match='\\\\'>\n",
      "<_sre.SRE_Match object; span=(150, 151), match=' '>\n",
      "<_sre.SRE_Match object; span=(151, 152), match='|'>\n",
      "<_sre.SRE_Match object; span=(152, 153), match=' '>\n",
      "<_sre.SRE_Match object; span=(153, 154), match='('>\n",
      "<_sre.SRE_Match object; span=(154, 155), match=' '>\n",
      "<_sre.SRE_Match object; span=(155, 156), match=')'>\n",
      "<_sre.SRE_Match object; span=(158, 159), match='u'>\n",
      "<_sre.SRE_Match object; span=(159, 160), match='t'>\n",
      "<_sre.SRE_Match object; span=(160, 161), match='e'>\n",
      "<_sre.SRE_Match object; span=(161, 162), match='x'>\n",
      "<_sre.SRE_Match object; span=(162, 163), match='a'>\n",
      "<_sre.SRE_Match object; span=(163, 164), match='s'>\n",
      "<_sre.SRE_Match object; span=(164, 165), match='.'>\n",
      "<_sre.SRE_Match object; span=(165, 166), match='e'>\n",
      "<_sre.SRE_Match object; span=(166, 167), match='d'>\n",
      "<_sre.SRE_Match object; span=(167, 168), match='u'>\n",
      "<_sre.SRE_Match object; span=(170, 171), match='3'>\n",
      "<_sre.SRE_Match object; span=(171, 172), match='2'>\n",
      "<_sre.SRE_Match object; span=(172, 173), match='1'>\n",
      "<_sre.SRE_Match object; span=(173, 174), match='-'>\n",
      "<_sre.SRE_Match object; span=(174, 175), match='5'>\n",
      "<_sre.SRE_Match object; span=(175, 176), match='5'>\n",
      "<_sre.SRE_Match object; span=(176, 177), match='5'>\n",
      "<_sre.SRE_Match object; span=(177, 178), match='-'>\n",
      "<_sre.SRE_Match object; span=(178, 179), match='4'>\n",
      "<_sre.SRE_Match object; span=(179, 180), match='3'>\n",
      "<_sre.SRE_Match object; span=(180, 181), match='2'>\n",
      "<_sre.SRE_Match object; span=(181, 182), match='1'>\n",
      "<_sre.SRE_Match object; span=(183, 184), match='1'>\n",
      "<_sre.SRE_Match object; span=(184, 185), match='2'>\n",
      "<_sre.SRE_Match object; span=(185, 186), match='3'>\n",
      "<_sre.SRE_Match object; span=(186, 187), match='.'>\n",
      "<_sre.SRE_Match object; span=(187, 188), match='5'>\n",
      "<_sre.SRE_Match object; span=(188, 189), match='5'>\n",
      "<_sre.SRE_Match object; span=(189, 190), match='5'>\n",
      "<_sre.SRE_Match object; span=(190, 191), match='.'>\n",
      "<_sre.SRE_Match object; span=(191, 192), match='1'>\n",
      "<_sre.SRE_Match object; span=(192, 193), match='2'>\n",
      "<_sre.SRE_Match object; span=(193, 194), match='3'>\n",
      "<_sre.SRE_Match object; span=(194, 195), match='4'>\n",
      "<_sre.SRE_Match object; span=(197, 198), match='d'>\n",
      "<_sre.SRE_Match object; span=(198, 199), match='a'>\n",
      "<_sre.SRE_Match object; span=(199, 200), match='n'>\n",
      "<_sre.SRE_Match object; span=(200, 201), match='i'>\n",
      "<_sre.SRE_Match object; span=(201, 202), match='e'>\n",
      "<_sre.SRE_Match object; span=(202, 203), match='l'>\n",
      "<_sre.SRE_Match object; span=(203, 204), match='-'>\n",
      "<_sre.SRE_Match object; span=(204, 205), match='m'>\n",
      "<_sre.SRE_Match object; span=(205, 206), match='i'>\n",
      "<_sre.SRE_Match object; span=(206, 207), match='t'>\n",
      "<_sre.SRE_Match object; span=(207, 208), match='c'>\n",
      "<_sre.SRE_Match object; span=(208, 209), match='h'>\n",
      "<_sre.SRE_Match object; span=(209, 210), match='e'>\n",
      "<_sre.SRE_Match object; span=(210, 211), match='l'>\n",
      "<_sre.SRE_Match object; span=(211, 212), match='l'>\n",
      "<_sre.SRE_Match object; span=(212, 213), match='@'>\n",
      "<_sre.SRE_Match object; span=(213, 214), match='u'>\n",
      "<_sre.SRE_Match object; span=(214, 215), match='t'>\n",
      "<_sre.SRE_Match object; span=(215, 216), match='e'>\n",
      "<_sre.SRE_Match object; span=(216, 217), match='x'>\n",
      "<_sre.SRE_Match object; span=(217, 218), match='a'>\n",
      "<_sre.SRE_Match object; span=(218, 219), match='s'>\n",
      "<_sre.SRE_Match object; span=(219, 220), match='.'>\n",
      "<_sre.SRE_Match object; span=(220, 221), match='e'>\n",
      "<_sre.SRE_Match object; span=(221, 222), match='d'>\n",
      "<_sre.SRE_Match object; span=(222, 223), match='u'>\n",
      "<_sre.SRE_Match object; span=(225, 226), match='M'>\n",
      "<_sre.SRE_Match object; span=(226, 227), match='r'>\n",
      "<_sre.SRE_Match object; span=(227, 228), match='.'>\n",
      "<_sre.SRE_Match object; span=(228, 229), match=' '>\n",
      "<_sre.SRE_Match object; span=(229, 230), match='J'>\n",
      "<_sre.SRE_Match object; span=(230, 231), match='o'>\n",
      "<_sre.SRE_Match object; span=(231, 232), match='h'>\n",
      "<_sre.SRE_Match object; span=(232, 233), match='n'>\n",
      "<_sre.SRE_Match object; span=(233, 234), match='s'>\n",
      "<_sre.SRE_Match object; span=(234, 235), match='o'>\n",
      "<_sre.SRE_Match object; span=(235, 236), match='n'>\n",
      "<_sre.SRE_Match object; span=(237, 238), match='M'>\n",
      "<_sre.SRE_Match object; span=(238, 239), match='r'>\n",
      "<_sre.SRE_Match object; span=(239, 240), match=' '>\n",
      "<_sre.SRE_Match object; span=(240, 241), match='S'>\n",
      "<_sre.SRE_Match object; span=(241, 242), match='m'>\n",
      "<_sre.SRE_Match object; span=(242, 243), match='i'>\n",
      "<_sre.SRE_Match object; span=(243, 244), match='t'>\n",
      "<_sre.SRE_Match object; span=(244, 245), match='h'>\n",
      "<_sre.SRE_Match object; span=(246, 247), match='M'>\n",
      "<_sre.SRE_Match object; span=(247, 248), match='s'>\n",
      "<_sre.SRE_Match object; span=(248, 249), match=' '>\n",
      "<_sre.SRE_Match object; span=(249, 250), match='D'>\n",
      "<_sre.SRE_Match object; span=(250, 251), match='a'>\n",
      "<_sre.SRE_Match object; span=(251, 252), match='v'>\n",
      "<_sre.SRE_Match object; span=(252, 253), match='i'>\n",
      "<_sre.SRE_Match object; span=(253, 254), match='s'>\n",
      "<_sre.SRE_Match object; span=(255, 256), match='M'>\n",
      "<_sre.SRE_Match object; span=(256, 257), match='r'>\n",
      "<_sre.SRE_Match object; span=(257, 258), match='s'>\n",
      "<_sre.SRE_Match object; span=(258, 259), match='.'>\n",
      "<_sre.SRE_Match object; span=(259, 260), match=' '>\n",
      "<_sre.SRE_Match object; span=(260, 261), match='R'>\n",
      "<_sre.SRE_Match object; span=(261, 262), match='o'>\n",
      "<_sre.SRE_Match object; span=(262, 263), match='b'>\n",
      "<_sre.SRE_Match object; span=(263, 264), match='i'>\n",
      "<_sre.SRE_Match object; span=(264, 265), match='n'>\n",
      "<_sre.SRE_Match object; span=(265, 266), match='s'>\n",
      "<_sre.SRE_Match object; span=(266, 267), match='o'>\n",
      "<_sre.SRE_Match object; span=(267, 268), match='n'>\n",
      "<_sre.SRE_Match object; span=(269, 270), match='M'>\n",
      "<_sre.SRE_Match object; span=(270, 271), match='r'>\n",
      "<_sre.SRE_Match object; span=(271, 272), match='.'>\n",
      "<_sre.SRE_Match object; span=(272, 273), match=' '>\n",
      "<_sre.SRE_Match object; span=(273, 274), match='T'>\n"
     ]
    }
   ],
   "source": [
    "pattern = re.compile(r'.')\n",
    "matches = pattern.finditer(text_to_search)\n",
    "for mat in matches:\n",
    "    print(mat)"
   ]
  },
  {
   "cell_type": "code",
   "execution_count": 20,
   "metadata": {},
   "outputs": [
    {
     "name": "stdout",
     "output_type": "stream",
     "text": [
      "<_sre.SRE_Match object; span=(128, 129), match='.'>\n",
      "<_sre.SRE_Match object; span=(163, 164), match='.'>\n",
      "<_sre.SRE_Match object; span=(185, 186), match='.'>\n",
      "<_sre.SRE_Match object; span=(189, 190), match='.'>\n",
      "<_sre.SRE_Match object; span=(218, 219), match='.'>\n",
      "<_sre.SRE_Match object; span=(226, 227), match='.'>\n",
      "<_sre.SRE_Match object; span=(257, 258), match='.'>\n",
      "<_sre.SRE_Match object; span=(270, 271), match='.'>\n"
     ]
    }
   ],
   "source": [
    "pattern = re.compile(r'\\.')\n",
    "matches = pattern.finditer(text_to_search)\n",
    "for mat in matches:\n",
    "    print(mat)"
   ]
  },
  {
   "cell_type": "code",
   "execution_count": 21,
   "metadata": {},
   "outputs": [
    {
     "name": "stdout",
     "output_type": "stream",
     "text": [
      "<_sre.SRE_Match object; span=(54, 55), match='1'>\n",
      "<_sre.SRE_Match object; span=(55, 56), match='2'>\n",
      "<_sre.SRE_Match object; span=(56, 57), match='3'>\n",
      "<_sre.SRE_Match object; span=(57, 58), match='4'>\n",
      "<_sre.SRE_Match object; span=(58, 59), match='5'>\n",
      "<_sre.SRE_Match object; span=(59, 60), match='6'>\n",
      "<_sre.SRE_Match object; span=(60, 61), match='7'>\n",
      "<_sre.SRE_Match object; span=(61, 62), match='8'>\n",
      "<_sre.SRE_Match object; span=(62, 63), match='9'>\n",
      "<_sre.SRE_Match object; span=(63, 64), match='0'>\n",
      "<_sre.SRE_Match object; span=(65, 66), match='1'>\n",
      "<_sre.SRE_Match object; span=(66, 67), match='2'>\n",
      "<_sre.SRE_Match object; span=(67, 68), match='3'>\n",
      "<_sre.SRE_Match object; span=(169, 170), match='3'>\n",
      "<_sre.SRE_Match object; span=(170, 171), match='2'>\n",
      "<_sre.SRE_Match object; span=(171, 172), match='1'>\n",
      "<_sre.SRE_Match object; span=(173, 174), match='5'>\n",
      "<_sre.SRE_Match object; span=(174, 175), match='5'>\n",
      "<_sre.SRE_Match object; span=(175, 176), match='5'>\n",
      "<_sre.SRE_Match object; span=(177, 178), match='4'>\n",
      "<_sre.SRE_Match object; span=(178, 179), match='3'>\n",
      "<_sre.SRE_Match object; span=(179, 180), match='2'>\n",
      "<_sre.SRE_Match object; span=(180, 181), match='1'>\n",
      "<_sre.SRE_Match object; span=(182, 183), match='1'>\n",
      "<_sre.SRE_Match object; span=(183, 184), match='2'>\n",
      "<_sre.SRE_Match object; span=(184, 185), match='3'>\n",
      "<_sre.SRE_Match object; span=(186, 187), match='5'>\n",
      "<_sre.SRE_Match object; span=(187, 188), match='5'>\n",
      "<_sre.SRE_Match object; span=(188, 189), match='5'>\n",
      "<_sre.SRE_Match object; span=(190, 191), match='1'>\n",
      "<_sre.SRE_Match object; span=(191, 192), match='2'>\n",
      "<_sre.SRE_Match object; span=(192, 193), match='3'>\n",
      "<_sre.SRE_Match object; span=(193, 194), match='4'>\n"
     ]
    }
   ],
   "source": [
    "pattern = re.compile(r'\\d')\n",
    "matches = pattern.finditer(text_to_search)\n",
    "for mat in matches:\n",
    "    print(mat)"
   ]
  },
  {
   "cell_type": "code",
   "execution_count": 22,
   "metadata": {},
   "outputs": [
    {
     "name": "stdout",
     "output_type": "stream",
     "text": [
      "<_sre.SRE_Match object; span=(0, 1), match='a'>\n",
      "<_sre.SRE_Match object; span=(1, 2), match='b'>\n",
      "<_sre.SRE_Match object; span=(2, 3), match='c'>\n",
      "<_sre.SRE_Match object; span=(3, 4), match='d'>\n",
      "<_sre.SRE_Match object; span=(4, 5), match='e'>\n",
      "<_sre.SRE_Match object; span=(5, 6), match='f'>\n",
      "<_sre.SRE_Match object; span=(6, 7), match='g'>\n",
      "<_sre.SRE_Match object; span=(7, 8), match='h'>\n",
      "<_sre.SRE_Match object; span=(8, 9), match='i'>\n",
      "<_sre.SRE_Match object; span=(9, 10), match='j'>\n",
      "<_sre.SRE_Match object; span=(10, 11), match='k'>\n",
      "<_sre.SRE_Match object; span=(11, 12), match='l'>\n",
      "<_sre.SRE_Match object; span=(12, 13), match='m'>\n",
      "<_sre.SRE_Match object; span=(13, 14), match='n'>\n",
      "<_sre.SRE_Match object; span=(14, 15), match='o'>\n",
      "<_sre.SRE_Match object; span=(15, 16), match='p'>\n",
      "<_sre.SRE_Match object; span=(16, 17), match='q'>\n",
      "<_sre.SRE_Match object; span=(17, 18), match='u'>\n",
      "<_sre.SRE_Match object; span=(18, 19), match='r'>\n",
      "<_sre.SRE_Match object; span=(19, 20), match='t'>\n",
      "<_sre.SRE_Match object; span=(20, 21), match='u'>\n",
      "<_sre.SRE_Match object; span=(21, 22), match='v'>\n",
      "<_sre.SRE_Match object; span=(22, 23), match='w'>\n",
      "<_sre.SRE_Match object; span=(23, 24), match='x'>\n",
      "<_sre.SRE_Match object; span=(24, 25), match='y'>\n",
      "<_sre.SRE_Match object; span=(25, 26), match='z'>\n",
      "<_sre.SRE_Match object; span=(26, 27), match='\\n'>\n",
      "<_sre.SRE_Match object; span=(27, 28), match='A'>\n",
      "<_sre.SRE_Match object; span=(28, 29), match='B'>\n",
      "<_sre.SRE_Match object; span=(29, 30), match='C'>\n",
      "<_sre.SRE_Match object; span=(30, 31), match='D'>\n",
      "<_sre.SRE_Match object; span=(31, 32), match='E'>\n",
      "<_sre.SRE_Match object; span=(32, 33), match='F'>\n",
      "<_sre.SRE_Match object; span=(33, 34), match='G'>\n",
      "<_sre.SRE_Match object; span=(34, 35), match='H'>\n",
      "<_sre.SRE_Match object; span=(35, 36), match='I'>\n",
      "<_sre.SRE_Match object; span=(36, 37), match='J'>\n",
      "<_sre.SRE_Match object; span=(37, 38), match='K'>\n",
      "<_sre.SRE_Match object; span=(38, 39), match='L'>\n",
      "<_sre.SRE_Match object; span=(39, 40), match='M'>\n",
      "<_sre.SRE_Match object; span=(40, 41), match='N'>\n",
      "<_sre.SRE_Match object; span=(41, 42), match='O'>\n",
      "<_sre.SRE_Match object; span=(42, 43), match='P'>\n",
      "<_sre.SRE_Match object; span=(43, 44), match='Q'>\n",
      "<_sre.SRE_Match object; span=(44, 45), match='R'>\n",
      "<_sre.SRE_Match object; span=(45, 46), match='S'>\n",
      "<_sre.SRE_Match object; span=(46, 47), match='T'>\n",
      "<_sre.SRE_Match object; span=(47, 48), match='U'>\n",
      "<_sre.SRE_Match object; span=(48, 49), match='V'>\n",
      "<_sre.SRE_Match object; span=(49, 50), match='W'>\n",
      "<_sre.SRE_Match object; span=(50, 51), match='X'>\n",
      "<_sre.SRE_Match object; span=(51, 52), match='Y'>\n",
      "<_sre.SRE_Match object; span=(52, 53), match='Z'>\n",
      "<_sre.SRE_Match object; span=(53, 54), match='\\n'>\n",
      "<_sre.SRE_Match object; span=(64, 65), match='\\n'>\n",
      "<_sre.SRE_Match object; span=(68, 69), match='a'>\n",
      "<_sre.SRE_Match object; span=(69, 70), match='b'>\n",
      "<_sre.SRE_Match object; span=(70, 71), match='c'>\n",
      "<_sre.SRE_Match object; span=(71, 72), match='\\n'>\n",
      "<_sre.SRE_Match object; span=(72, 73), match='\\n'>\n",
      "<_sre.SRE_Match object; span=(73, 74), match='H'>\n",
      "<_sre.SRE_Match object; span=(74, 75), match='e'>\n",
      "<_sre.SRE_Match object; span=(75, 76), match='l'>\n",
      "<_sre.SRE_Match object; span=(76, 77), match='l'>\n",
      "<_sre.SRE_Match object; span=(77, 78), match='o'>\n",
      "<_sre.SRE_Match object; span=(78, 79), match=' '>\n",
      "<_sre.SRE_Match object; span=(79, 80), match='H'>\n",
      "<_sre.SRE_Match object; span=(80, 81), match='e'>\n",
      "<_sre.SRE_Match object; span=(81, 82), match='l'>\n",
      "<_sre.SRE_Match object; span=(82, 83), match='l'>\n",
      "<_sre.SRE_Match object; span=(83, 84), match='o'>\n",
      "<_sre.SRE_Match object; span=(84, 85), match='H'>\n",
      "<_sre.SRE_Match object; span=(85, 86), match='e'>\n",
      "<_sre.SRE_Match object; span=(86, 87), match='l'>\n",
      "<_sre.SRE_Match object; span=(87, 88), match='l'>\n",
      "<_sre.SRE_Match object; span=(88, 89), match='o'>\n",
      "<_sre.SRE_Match object; span=(89, 90), match='\\n'>\n",
      "<_sre.SRE_Match object; span=(90, 91), match='\\n'>\n",
      "<_sre.SRE_Match object; span=(91, 92), match='M'>\n",
      "<_sre.SRE_Match object; span=(92, 93), match='e'>\n",
      "<_sre.SRE_Match object; span=(93, 94), match='t'>\n",
      "<_sre.SRE_Match object; span=(94, 95), match='a'>\n",
      "<_sre.SRE_Match object; span=(95, 96), match='C'>\n",
      "<_sre.SRE_Match object; span=(96, 97), match='h'>\n",
      "<_sre.SRE_Match object; span=(97, 98), match='a'>\n",
      "<_sre.SRE_Match object; span=(98, 99), match='r'>\n",
      "<_sre.SRE_Match object; span=(99, 100), match='a'>\n",
      "<_sre.SRE_Match object; span=(100, 101), match='c'>\n",
      "<_sre.SRE_Match object; span=(101, 102), match='t'>\n",
      "<_sre.SRE_Match object; span=(102, 103), match='e'>\n",
      "<_sre.SRE_Match object; span=(103, 104), match='r'>\n",
      "<_sre.SRE_Match object; span=(104, 105), match='s'>\n",
      "<_sre.SRE_Match object; span=(105, 106), match=' '>\n",
      "<_sre.SRE_Match object; span=(106, 107), match='('>\n",
      "<_sre.SRE_Match object; span=(107, 108), match='N'>\n",
      "<_sre.SRE_Match object; span=(108, 109), match='e'>\n",
      "<_sre.SRE_Match object; span=(109, 110), match='e'>\n",
      "<_sre.SRE_Match object; span=(110, 111), match='d'>\n",
      "<_sre.SRE_Match object; span=(111, 112), match=' '>\n",
      "<_sre.SRE_Match object; span=(112, 113), match='t'>\n",
      "<_sre.SRE_Match object; span=(113, 114), match='o'>\n",
      "<_sre.SRE_Match object; span=(114, 115), match=' '>\n",
      "<_sre.SRE_Match object; span=(115, 116), match='b'>\n",
      "<_sre.SRE_Match object; span=(116, 117), match='e'>\n",
      "<_sre.SRE_Match object; span=(117, 118), match=' '>\n",
      "<_sre.SRE_Match object; span=(118, 119), match='e'>\n",
      "<_sre.SRE_Match object; span=(119, 120), match='s'>\n",
      "<_sre.SRE_Match object; span=(120, 121), match='c'>\n",
      "<_sre.SRE_Match object; span=(121, 122), match='a'>\n",
      "<_sre.SRE_Match object; span=(122, 123), match='p'>\n",
      "<_sre.SRE_Match object; span=(123, 124), match='e'>\n",
      "<_sre.SRE_Match object; span=(124, 125), match='d'>\n",
      "<_sre.SRE_Match object; span=(125, 126), match=')'>\n",
      "<_sre.SRE_Match object; span=(126, 127), match=':'>\n",
      "<_sre.SRE_Match object; span=(127, 128), match='\\n'>\n",
      "<_sre.SRE_Match object; span=(128, 129), match='.'>\n",
      "<_sre.SRE_Match object; span=(129, 130), match=' '>\n",
      "<_sre.SRE_Match object; span=(130, 131), match='^'>\n",
      "<_sre.SRE_Match object; span=(131, 132), match=' '>\n",
      "<_sre.SRE_Match object; span=(132, 133), match='$'>\n",
      "<_sre.SRE_Match object; span=(133, 134), match=' '>\n",
      "<_sre.SRE_Match object; span=(134, 135), match='*'>\n",
      "<_sre.SRE_Match object; span=(135, 136), match=' '>\n",
      "<_sre.SRE_Match object; span=(136, 137), match='+'>\n",
      "<_sre.SRE_Match object; span=(137, 138), match=' '>\n",
      "<_sre.SRE_Match object; span=(138, 139), match='?'>\n",
      "<_sre.SRE_Match object; span=(139, 140), match=' '>\n",
      "<_sre.SRE_Match object; span=(140, 141), match='{'>\n",
      "<_sre.SRE_Match object; span=(141, 142), match=' '>\n",
      "<_sre.SRE_Match object; span=(142, 143), match='}'>\n",
      "<_sre.SRE_Match object; span=(143, 144), match=' '>\n",
      "<_sre.SRE_Match object; span=(144, 145), match='['>\n",
      "<_sre.SRE_Match object; span=(145, 146), match=' '>\n",
      "<_sre.SRE_Match object; span=(146, 147), match=']'>\n",
      "<_sre.SRE_Match object; span=(147, 148), match=' '>\n",
      "<_sre.SRE_Match object; span=(148, 149), match='\\\\'>\n",
      "<_sre.SRE_Match object; span=(149, 150), match=' '>\n",
      "<_sre.SRE_Match object; span=(150, 151), match='|'>\n",
      "<_sre.SRE_Match object; span=(151, 152), match=' '>\n",
      "<_sre.SRE_Match object; span=(152, 153), match='('>\n",
      "<_sre.SRE_Match object; span=(153, 154), match=' '>\n",
      "<_sre.SRE_Match object; span=(154, 155), match=')'>\n",
      "<_sre.SRE_Match object; span=(155, 156), match='\\n'>\n",
      "<_sre.SRE_Match object; span=(156, 157), match='\\n'>\n",
      "<_sre.SRE_Match object; span=(157, 158), match='u'>\n",
      "<_sre.SRE_Match object; span=(158, 159), match='t'>\n",
      "<_sre.SRE_Match object; span=(159, 160), match='e'>\n",
      "<_sre.SRE_Match object; span=(160, 161), match='x'>\n",
      "<_sre.SRE_Match object; span=(161, 162), match='a'>\n",
      "<_sre.SRE_Match object; span=(162, 163), match='s'>\n",
      "<_sre.SRE_Match object; span=(163, 164), match='.'>\n",
      "<_sre.SRE_Match object; span=(164, 165), match='e'>\n",
      "<_sre.SRE_Match object; span=(165, 166), match='d'>\n",
      "<_sre.SRE_Match object; span=(166, 167), match='u'>\n",
      "<_sre.SRE_Match object; span=(167, 168), match='\\n'>\n",
      "<_sre.SRE_Match object; span=(168, 169), match='\\n'>\n",
      "<_sre.SRE_Match object; span=(172, 173), match='-'>\n",
      "<_sre.SRE_Match object; span=(176, 177), match='-'>\n",
      "<_sre.SRE_Match object; span=(181, 182), match='\\n'>\n",
      "<_sre.SRE_Match object; span=(185, 186), match='.'>\n",
      "<_sre.SRE_Match object; span=(189, 190), match='.'>\n",
      "<_sre.SRE_Match object; span=(194, 195), match='\\n'>\n",
      "<_sre.SRE_Match object; span=(195, 196), match='\\n'>\n",
      "<_sre.SRE_Match object; span=(196, 197), match='d'>\n",
      "<_sre.SRE_Match object; span=(197, 198), match='a'>\n",
      "<_sre.SRE_Match object; span=(198, 199), match='n'>\n",
      "<_sre.SRE_Match object; span=(199, 200), match='i'>\n",
      "<_sre.SRE_Match object; span=(200, 201), match='e'>\n",
      "<_sre.SRE_Match object; span=(201, 202), match='l'>\n",
      "<_sre.SRE_Match object; span=(202, 203), match='-'>\n",
      "<_sre.SRE_Match object; span=(203, 204), match='m'>\n",
      "<_sre.SRE_Match object; span=(204, 205), match='i'>\n",
      "<_sre.SRE_Match object; span=(205, 206), match='t'>\n",
      "<_sre.SRE_Match object; span=(206, 207), match='c'>\n",
      "<_sre.SRE_Match object; span=(207, 208), match='h'>\n",
      "<_sre.SRE_Match object; span=(208, 209), match='e'>\n",
      "<_sre.SRE_Match object; span=(209, 210), match='l'>\n",
      "<_sre.SRE_Match object; span=(210, 211), match='l'>\n",
      "<_sre.SRE_Match object; span=(211, 212), match='@'>\n",
      "<_sre.SRE_Match object; span=(212, 213), match='u'>\n",
      "<_sre.SRE_Match object; span=(213, 214), match='t'>\n",
      "<_sre.SRE_Match object; span=(214, 215), match='e'>\n",
      "<_sre.SRE_Match object; span=(215, 216), match='x'>\n",
      "<_sre.SRE_Match object; span=(216, 217), match='a'>\n",
      "<_sre.SRE_Match object; span=(217, 218), match='s'>\n",
      "<_sre.SRE_Match object; span=(218, 219), match='.'>\n",
      "<_sre.SRE_Match object; span=(219, 220), match='e'>\n",
      "<_sre.SRE_Match object; span=(220, 221), match='d'>\n",
      "<_sre.SRE_Match object; span=(221, 222), match='u'>\n",
      "<_sre.SRE_Match object; span=(222, 223), match='\\n'>\n",
      "<_sre.SRE_Match object; span=(223, 224), match='\\n'>\n",
      "<_sre.SRE_Match object; span=(224, 225), match='M'>\n",
      "<_sre.SRE_Match object; span=(225, 226), match='r'>\n",
      "<_sre.SRE_Match object; span=(226, 227), match='.'>\n",
      "<_sre.SRE_Match object; span=(227, 228), match=' '>\n",
      "<_sre.SRE_Match object; span=(228, 229), match='J'>\n",
      "<_sre.SRE_Match object; span=(229, 230), match='o'>\n",
      "<_sre.SRE_Match object; span=(230, 231), match='h'>\n",
      "<_sre.SRE_Match object; span=(231, 232), match='n'>\n",
      "<_sre.SRE_Match object; span=(232, 233), match='s'>\n",
      "<_sre.SRE_Match object; span=(233, 234), match='o'>\n",
      "<_sre.SRE_Match object; span=(234, 235), match='n'>\n",
      "<_sre.SRE_Match object; span=(235, 236), match='\\n'>\n",
      "<_sre.SRE_Match object; span=(236, 237), match='M'>\n",
      "<_sre.SRE_Match object; span=(237, 238), match='r'>\n",
      "<_sre.SRE_Match object; span=(238, 239), match=' '>\n",
      "<_sre.SRE_Match object; span=(239, 240), match='S'>\n",
      "<_sre.SRE_Match object; span=(240, 241), match='m'>\n",
      "<_sre.SRE_Match object; span=(241, 242), match='i'>\n",
      "<_sre.SRE_Match object; span=(242, 243), match='t'>\n",
      "<_sre.SRE_Match object; span=(243, 244), match='h'>\n",
      "<_sre.SRE_Match object; span=(244, 245), match='\\n'>\n",
      "<_sre.SRE_Match object; span=(245, 246), match='M'>\n",
      "<_sre.SRE_Match object; span=(246, 247), match='s'>\n",
      "<_sre.SRE_Match object; span=(247, 248), match=' '>\n",
      "<_sre.SRE_Match object; span=(248, 249), match='D'>\n",
      "<_sre.SRE_Match object; span=(249, 250), match='a'>\n",
      "<_sre.SRE_Match object; span=(250, 251), match='v'>\n",
      "<_sre.SRE_Match object; span=(251, 252), match='i'>\n",
      "<_sre.SRE_Match object; span=(252, 253), match='s'>\n",
      "<_sre.SRE_Match object; span=(253, 254), match='\\n'>\n",
      "<_sre.SRE_Match object; span=(254, 255), match='M'>\n",
      "<_sre.SRE_Match object; span=(255, 256), match='r'>\n",
      "<_sre.SRE_Match object; span=(256, 257), match='s'>\n",
      "<_sre.SRE_Match object; span=(257, 258), match='.'>\n",
      "<_sre.SRE_Match object; span=(258, 259), match=' '>\n",
      "<_sre.SRE_Match object; span=(259, 260), match='R'>\n",
      "<_sre.SRE_Match object; span=(260, 261), match='o'>\n",
      "<_sre.SRE_Match object; span=(261, 262), match='b'>\n",
      "<_sre.SRE_Match object; span=(262, 263), match='i'>\n",
      "<_sre.SRE_Match object; span=(263, 264), match='n'>\n",
      "<_sre.SRE_Match object; span=(264, 265), match='s'>\n",
      "<_sre.SRE_Match object; span=(265, 266), match='o'>\n",
      "<_sre.SRE_Match object; span=(266, 267), match='n'>\n",
      "<_sre.SRE_Match object; span=(267, 268), match='\\n'>\n",
      "<_sre.SRE_Match object; span=(268, 269), match='M'>\n",
      "<_sre.SRE_Match object; span=(269, 270), match='r'>\n",
      "<_sre.SRE_Match object; span=(270, 271), match='.'>\n",
      "<_sre.SRE_Match object; span=(271, 272), match=' '>\n",
      "<_sre.SRE_Match object; span=(272, 273), match='T'>\n",
      "<_sre.SRE_Match object; span=(273, 274), match='\\n'>\n"
     ]
    }
   ],
   "source": [
    "pattern = re.compile(r'\\D')\n",
    "matches = pattern.finditer(text_to_search)\n",
    "for mat in matches:\n",
    "    print(mat)"
   ]
  },
  {
   "cell_type": "code",
   "execution_count": 23,
   "metadata": {},
   "outputs": [
    {
     "name": "stdout",
     "output_type": "stream",
     "text": [
      "<_sre.SRE_Match object; span=(54, 56), match='12'>\n",
      "<_sre.SRE_Match object; span=(56, 58), match='34'>\n",
      "<_sre.SRE_Match object; span=(58, 60), match='56'>\n",
      "<_sre.SRE_Match object; span=(60, 62), match='78'>\n",
      "<_sre.SRE_Match object; span=(62, 64), match='90'>\n",
      "<_sre.SRE_Match object; span=(65, 67), match='12'>\n",
      "<_sre.SRE_Match object; span=(67, 69), match='3a'>\n",
      "<_sre.SRE_Match object; span=(169, 171), match='32'>\n",
      "<_sre.SRE_Match object; span=(173, 175), match='55'>\n",
      "<_sre.SRE_Match object; span=(177, 179), match='43'>\n",
      "<_sre.SRE_Match object; span=(179, 181), match='21'>\n",
      "<_sre.SRE_Match object; span=(182, 184), match='12'>\n",
      "<_sre.SRE_Match object; span=(186, 188), match='55'>\n",
      "<_sre.SRE_Match object; span=(190, 192), match='12'>\n",
      "<_sre.SRE_Match object; span=(192, 194), match='34'>\n"
     ]
    }
   ],
   "source": [
    "pattern = re.compile(r'\\d\\w')\n",
    "matches = pattern.finditer(text_to_search)\n",
    "for mat in matches:\n",
    "    print(mat)"
   ]
  },
  {
   "cell_type": "code",
   "execution_count": 24,
   "metadata": {},
   "outputs": [
    {
     "name": "stdout",
     "output_type": "stream",
     "text": [
      "<_sre.SRE_Match object; span=(63, 65), match='0\\n'>\n",
      "<_sre.SRE_Match object; span=(180, 182), match='1\\n'>\n",
      "<_sre.SRE_Match object; span=(193, 195), match='4\\n'>\n"
     ]
    }
   ],
   "source": [
    "pattern = re.compile(r'\\d\\s')\n",
    "matches = pattern.finditer(text_to_search)\n",
    "for mat in matches:\n",
    "    print(mat)"
   ]
  },
  {
   "cell_type": "markdown",
   "metadata": {},
   "source": [
    "## Word boundary"
   ]
  },
  {
   "cell_type": "code",
   "execution_count": 25,
   "metadata": {},
   "outputs": [
    {
     "name": "stdout",
     "output_type": "stream",
     "text": [
      "<_sre.SRE_Match object; span=(73, 78), match='Hello'>\n",
      "<_sre.SRE_Match object; span=(79, 84), match='Hello'>\n",
      "<_sre.SRE_Match object; span=(84, 89), match='Hello'>\n"
     ]
    }
   ],
   "source": [
    "# Hello HelloHello\n",
    "pattern = re.compile(r'Hello')\n",
    "matches = pattern.finditer(text_to_search)\n",
    "for mat in matches:\n",
    "    print(mat)"
   ]
  },
  {
   "cell_type": "code",
   "execution_count": 26,
   "metadata": {},
   "outputs": [
    {
     "name": "stdout",
     "output_type": "stream",
     "text": [
      "<_sre.SRE_Match object; span=(73, 78), match='Hello'>\n",
      "<_sre.SRE_Match object; span=(84, 89), match='Hello'>\n"
     ]
    }
   ],
   "source": [
    "pattern = re.compile(r'Hello\\b')\n",
    "matches = pattern.finditer(text_to_search)\n",
    "for mat in matches:\n",
    "    print(mat)"
   ]
  },
  {
   "cell_type": "code",
   "execution_count": 27,
   "metadata": {},
   "outputs": [
    {
     "name": "stdout",
     "output_type": "stream",
     "text": [
      "<_sre.SRE_Match object; span=(73, 78), match='Hello'>\n"
     ]
    }
   ],
   "source": [
    "pattern = re.compile(r'\\bHello\\b')\n",
    "matches = pattern.finditer(text_to_search)\n",
    "for mat in matches:\n",
    "    print(mat)"
   ]
  },
  {
   "cell_type": "code",
   "execution_count": 28,
   "metadata": {},
   "outputs": [
    {
     "name": "stdout",
     "output_type": "stream",
     "text": [
      "<_sre.SRE_Match object; span=(84, 89), match='Hello'>\n"
     ]
    }
   ],
   "source": [
    "pattern = re.compile(r'\\BHello\\b')\n",
    "matches = pattern.finditer(text_to_search)\n",
    "for mat in matches:\n",
    "    print(mat)"
   ]
  },
  {
   "cell_type": "code",
   "execution_count": 29,
   "metadata": {
    "scrolled": true
   },
   "outputs": [
    {
     "name": "stdout",
     "output_type": "stream",
     "text": [
      "<_sre.SRE_Match object; span=(54, 55), match='1'>\n",
      "<_sre.SRE_Match object; span=(65, 66), match='1'>\n",
      "<_sre.SRE_Match object; span=(169, 170), match='3'>\n",
      "<_sre.SRE_Match object; span=(173, 174), match='5'>\n",
      "<_sre.SRE_Match object; span=(177, 178), match='4'>\n",
      "<_sre.SRE_Match object; span=(182, 183), match='1'>\n",
      "<_sre.SRE_Match object; span=(186, 187), match='5'>\n",
      "<_sre.SRE_Match object; span=(190, 191), match='1'>\n"
     ]
    }
   ],
   "source": [
    "pattern = re.compile(r'\\b\\d')\n",
    "matches = pattern.finditer(text_to_search)\n",
    "for mat in matches:\n",
    "    print(mat)"
   ]
  },
  {
   "cell_type": "code",
   "execution_count": 30,
   "metadata": {},
   "outputs": [],
   "source": [
    "pattern = re.compile(r'^\\s')\n",
    "matches = pattern.finditer(text_to_search)\n",
    "for mat in matches:\n",
    "    print(mat)"
   ]
  },
  {
   "cell_type": "markdown",
   "metadata": {},
   "source": [
    "## Character sets"
   ]
  },
  {
   "cell_type": "code",
   "execution_count": 31,
   "metadata": {},
   "outputs": [
    {
     "name": "stdout",
     "output_type": "stream",
     "text": [
      "<_sre.SRE_Match object; span=(54, 56), match='12'>\n",
      "<_sre.SRE_Match object; span=(56, 58), match='34'>\n",
      "<_sre.SRE_Match object; span=(65, 67), match='12'>\n",
      "<_sre.SRE_Match object; span=(67, 69), match='3a'>\n",
      "<_sre.SRE_Match object; span=(169, 171), match='32'>\n",
      "<_sre.SRE_Match object; span=(178, 180), match='32'>\n",
      "<_sre.SRE_Match object; span=(182, 184), match='12'>\n",
      "<_sre.SRE_Match object; span=(190, 192), match='12'>\n",
      "<_sre.SRE_Match object; span=(192, 194), match='34'>\n"
     ]
    }
   ],
   "source": [
    "pattern = re.compile(r'[123]\\w')\n",
    "matches = pattern.finditer(text_to_search)\n",
    "for mat in matches:\n",
    "    print(mat)"
   ]
  },
  {
   "cell_type": "code",
   "execution_count": 32,
   "metadata": {},
   "outputs": [
    {
     "name": "stdout",
     "output_type": "stream",
     "text": [
      "<_sre.SRE_Match object; span=(0, 2), match='ab'>\n",
      "<_sre.SRE_Match object; span=(2, 4), match='cd'>\n",
      "<_sre.SRE_Match object; span=(4, 6), match='ef'>\n",
      "<_sre.SRE_Match object; span=(6, 8), match='gh'>\n",
      "<_sre.SRE_Match object; span=(8, 10), match='ij'>\n",
      "<_sre.SRE_Match object; span=(10, 12), match='kl'>\n",
      "<_sre.SRE_Match object; span=(12, 14), match='mn'>\n",
      "<_sre.SRE_Match object; span=(14, 16), match='op'>\n",
      "<_sre.SRE_Match object; span=(16, 18), match='qu'>\n",
      "<_sre.SRE_Match object; span=(18, 20), match='rt'>\n",
      "<_sre.SRE_Match object; span=(20, 22), match='uv'>\n",
      "<_sre.SRE_Match object; span=(22, 24), match='wx'>\n",
      "<_sre.SRE_Match object; span=(24, 26), match='yz'>\n",
      "<_sre.SRE_Match object; span=(68, 70), match='ab'>\n",
      "<_sre.SRE_Match object; span=(74, 76), match='el'>\n",
      "<_sre.SRE_Match object; span=(76, 78), match='lo'>\n",
      "<_sre.SRE_Match object; span=(80, 82), match='el'>\n",
      "<_sre.SRE_Match object; span=(82, 84), match='lo'>\n",
      "<_sre.SRE_Match object; span=(85, 87), match='el'>\n",
      "<_sre.SRE_Match object; span=(87, 89), match='lo'>\n",
      "<_sre.SRE_Match object; span=(92, 94), match='et'>\n",
      "<_sre.SRE_Match object; span=(96, 98), match='ha'>\n",
      "<_sre.SRE_Match object; span=(98, 100), match='ra'>\n",
      "<_sre.SRE_Match object; span=(100, 102), match='ct'>\n",
      "<_sre.SRE_Match object; span=(102, 104), match='er'>\n",
      "<_sre.SRE_Match object; span=(108, 110), match='ee'>\n",
      "<_sre.SRE_Match object; span=(112, 114), match='to'>\n",
      "<_sre.SRE_Match object; span=(115, 117), match='be'>\n",
      "<_sre.SRE_Match object; span=(118, 120), match='es'>\n",
      "<_sre.SRE_Match object; span=(120, 122), match='ca'>\n",
      "<_sre.SRE_Match object; span=(122, 124), match='pe'>\n",
      "<_sre.SRE_Match object; span=(157, 159), match='ut'>\n",
      "<_sre.SRE_Match object; span=(159, 161), match='ex'>\n",
      "<_sre.SRE_Match object; span=(161, 163), match='as'>\n",
      "<_sre.SRE_Match object; span=(164, 166), match='ed'>\n",
      "<_sre.SRE_Match object; span=(196, 198), match='da'>\n",
      "<_sre.SRE_Match object; span=(198, 200), match='ni'>\n",
      "<_sre.SRE_Match object; span=(200, 202), match='el'>\n",
      "<_sre.SRE_Match object; span=(203, 205), match='mi'>\n",
      "<_sre.SRE_Match object; span=(205, 207), match='tc'>\n",
      "<_sre.SRE_Match object; span=(207, 209), match='he'>\n",
      "<_sre.SRE_Match object; span=(209, 211), match='ll'>\n",
      "<_sre.SRE_Match object; span=(212, 214), match='ut'>\n",
      "<_sre.SRE_Match object; span=(214, 216), match='ex'>\n",
      "<_sre.SRE_Match object; span=(216, 218), match='as'>\n",
      "<_sre.SRE_Match object; span=(219, 221), match='ed'>\n",
      "<_sre.SRE_Match object; span=(229, 231), match='oh'>\n",
      "<_sre.SRE_Match object; span=(231, 233), match='ns'>\n",
      "<_sre.SRE_Match object; span=(233, 235), match='on'>\n",
      "<_sre.SRE_Match object; span=(240, 242), match='mi'>\n",
      "<_sre.SRE_Match object; span=(242, 244), match='th'>\n",
      "<_sre.SRE_Match object; span=(249, 251), match='av'>\n",
      "<_sre.SRE_Match object; span=(251, 253), match='is'>\n",
      "<_sre.SRE_Match object; span=(255, 257), match='rs'>\n",
      "<_sre.SRE_Match object; span=(260, 262), match='ob'>\n",
      "<_sre.SRE_Match object; span=(262, 264), match='in'>\n",
      "<_sre.SRE_Match object; span=(264, 266), match='so'>\n"
     ]
    }
   ],
   "source": [
    "pattern = re.compile(r'[a-z][a-z]')\n",
    "matches = pattern.finditer(text_to_search)\n",
    "for mat in matches:\n",
    "    print(mat)"
   ]
  },
  {
   "cell_type": "code",
   "execution_count": 33,
   "metadata": {},
   "outputs": [
    {
     "name": "stdout",
     "output_type": "stream",
     "text": [
      "<_sre.SRE_Match object; span=(0, 2), match='ab'>\n",
      "<_sre.SRE_Match object; span=(2, 4), match='cd'>\n",
      "<_sre.SRE_Match object; span=(4, 6), match='ef'>\n",
      "<_sre.SRE_Match object; span=(6, 8), match='gh'>\n",
      "<_sre.SRE_Match object; span=(8, 10), match='ij'>\n",
      "<_sre.SRE_Match object; span=(10, 12), match='kl'>\n",
      "<_sre.SRE_Match object; span=(12, 14), match='mn'>\n",
      "<_sre.SRE_Match object; span=(14, 16), match='op'>\n",
      "<_sre.SRE_Match object; span=(16, 18), match='qu'>\n",
      "<_sre.SRE_Match object; span=(18, 20), match='rt'>\n",
      "<_sre.SRE_Match object; span=(20, 22), match='uv'>\n",
      "<_sre.SRE_Match object; span=(22, 24), match='wx'>\n",
      "<_sre.SRE_Match object; span=(24, 26), match='yz'>\n",
      "<_sre.SRE_Match object; span=(27, 29), match='AB'>\n",
      "<_sre.SRE_Match object; span=(29, 31), match='CD'>\n",
      "<_sre.SRE_Match object; span=(31, 33), match='EF'>\n",
      "<_sre.SRE_Match object; span=(33, 35), match='GH'>\n",
      "<_sre.SRE_Match object; span=(35, 37), match='IJ'>\n",
      "<_sre.SRE_Match object; span=(37, 39), match='KL'>\n",
      "<_sre.SRE_Match object; span=(39, 41), match='MN'>\n",
      "<_sre.SRE_Match object; span=(41, 43), match='OP'>\n",
      "<_sre.SRE_Match object; span=(43, 45), match='QR'>\n",
      "<_sre.SRE_Match object; span=(45, 47), match='ST'>\n",
      "<_sre.SRE_Match object; span=(47, 49), match='UV'>\n",
      "<_sre.SRE_Match object; span=(49, 51), match='WX'>\n",
      "<_sre.SRE_Match object; span=(51, 53), match='YZ'>\n",
      "<_sre.SRE_Match object; span=(67, 69), match='3a'>\n",
      "<_sre.SRE_Match object; span=(69, 71), match='bc'>\n",
      "<_sre.SRE_Match object; span=(73, 75), match='He'>\n",
      "<_sre.SRE_Match object; span=(75, 77), match='ll'>\n",
      "<_sre.SRE_Match object; span=(79, 81), match='He'>\n",
      "<_sre.SRE_Match object; span=(81, 83), match='ll'>\n",
      "<_sre.SRE_Match object; span=(83, 85), match='oH'>\n",
      "<_sre.SRE_Match object; span=(85, 87), match='el'>\n",
      "<_sre.SRE_Match object; span=(87, 89), match='lo'>\n",
      "<_sre.SRE_Match object; span=(91, 93), match='Me'>\n",
      "<_sre.SRE_Match object; span=(93, 95), match='ta'>\n",
      "<_sre.SRE_Match object; span=(95, 97), match='Ch'>\n",
      "<_sre.SRE_Match object; span=(97, 99), match='ar'>\n",
      "<_sre.SRE_Match object; span=(99, 101), match='ac'>\n",
      "<_sre.SRE_Match object; span=(101, 103), match='te'>\n",
      "<_sre.SRE_Match object; span=(103, 105), match='rs'>\n",
      "<_sre.SRE_Match object; span=(107, 109), match='Ne'>\n",
      "<_sre.SRE_Match object; span=(109, 111), match='ed'>\n",
      "<_sre.SRE_Match object; span=(112, 114), match='to'>\n",
      "<_sre.SRE_Match object; span=(115, 117), match='be'>\n",
      "<_sre.SRE_Match object; span=(118, 120), match='es'>\n",
      "<_sre.SRE_Match object; span=(120, 122), match='ca'>\n",
      "<_sre.SRE_Match object; span=(122, 124), match='pe'>\n",
      "<_sre.SRE_Match object; span=(157, 159), match='ut'>\n",
      "<_sre.SRE_Match object; span=(159, 161), match='ex'>\n",
      "<_sre.SRE_Match object; span=(161, 163), match='as'>\n",
      "<_sre.SRE_Match object; span=(164, 166), match='ed'>\n",
      "<_sre.SRE_Match object; span=(171, 173), match='1-'>\n",
      "<_sre.SRE_Match object; span=(175, 177), match='5-'>\n",
      "<_sre.SRE_Match object; span=(196, 198), match='da'>\n",
      "<_sre.SRE_Match object; span=(198, 200), match='ni'>\n",
      "<_sre.SRE_Match object; span=(200, 202), match='el'>\n",
      "<_sre.SRE_Match object; span=(203, 205), match='mi'>\n",
      "<_sre.SRE_Match object; span=(205, 207), match='tc'>\n",
      "<_sre.SRE_Match object; span=(207, 209), match='he'>\n",
      "<_sre.SRE_Match object; span=(209, 211), match='ll'>\n",
      "<_sre.SRE_Match object; span=(212, 214), match='ut'>\n",
      "<_sre.SRE_Match object; span=(214, 216), match='ex'>\n",
      "<_sre.SRE_Match object; span=(216, 218), match='as'>\n",
      "<_sre.SRE_Match object; span=(219, 221), match='ed'>\n",
      "<_sre.SRE_Match object; span=(224, 226), match='Mr'>\n",
      "<_sre.SRE_Match object; span=(228, 230), match='Jo'>\n",
      "<_sre.SRE_Match object; span=(230, 232), match='hn'>\n",
      "<_sre.SRE_Match object; span=(232, 234), match='so'>\n",
      "<_sre.SRE_Match object; span=(236, 238), match='Mr'>\n",
      "<_sre.SRE_Match object; span=(239, 241), match='Sm'>\n",
      "<_sre.SRE_Match object; span=(241, 243), match='it'>\n",
      "<_sre.SRE_Match object; span=(245, 247), match='Ms'>\n",
      "<_sre.SRE_Match object; span=(248, 250), match='Da'>\n",
      "<_sre.SRE_Match object; span=(250, 252), match='vi'>\n",
      "<_sre.SRE_Match object; span=(254, 256), match='Mr'>\n",
      "<_sre.SRE_Match object; span=(259, 261), match='Ro'>\n",
      "<_sre.SRE_Match object; span=(261, 263), match='bi'>\n",
      "<_sre.SRE_Match object; span=(263, 265), match='ns'>\n",
      "<_sre.SRE_Match object; span=(265, 267), match='on'>\n",
      "<_sre.SRE_Match object; span=(268, 270), match='Mr'>\n"
     ]
    }
   ],
   "source": [
    "pattern = re.compile(r'[a-zA-Z0-9][a-zA-z-]')\n",
    "matches = pattern.finditer(text_to_search)\n",
    "for mat in matches:\n",
    "    print(mat)"
   ]
  },
  {
   "cell_type": "code",
   "execution_count": 34,
   "metadata": {},
   "outputs": [
    {
     "name": "stdout",
     "output_type": "stream",
     "text": [
      "<_sre.SRE_Match object; span=(25, 27), match='z\\n'>\n",
      "<_sre.SRE_Match object; span=(52, 54), match='Z\\n'>\n",
      "<_sre.SRE_Match object; span=(70, 72), match='c\\n'>\n",
      "<_sre.SRE_Match object; span=(77, 79), match='o '>\n",
      "<_sre.SRE_Match object; span=(88, 90), match='o\\n'>\n",
      "<_sre.SRE_Match object; span=(104, 106), match='s '>\n",
      "<_sre.SRE_Match object; span=(110, 112), match='d '>\n",
      "<_sre.SRE_Match object; span=(113, 115), match='o '>\n",
      "<_sre.SRE_Match object; span=(116, 118), match='e '>\n",
      "<_sre.SRE_Match object; span=(124, 126), match='d)'>\n",
      "<_sre.SRE_Match object; span=(162, 164), match='s.'>\n",
      "<_sre.SRE_Match object; span=(166, 168), match='u\\n'>\n",
      "<_sre.SRE_Match object; span=(201, 203), match='l-'>\n",
      "<_sre.SRE_Match object; span=(210, 212), match='l@'>\n",
      "<_sre.SRE_Match object; span=(217, 219), match='s.'>\n",
      "<_sre.SRE_Match object; span=(221, 223), match='u\\n'>\n",
      "<_sre.SRE_Match object; span=(225, 227), match='r.'>\n",
      "<_sre.SRE_Match object; span=(234, 236), match='n\\n'>\n",
      "<_sre.SRE_Match object; span=(237, 239), match='r '>\n",
      "<_sre.SRE_Match object; span=(243, 245), match='h\\n'>\n",
      "<_sre.SRE_Match object; span=(246, 248), match='s '>\n",
      "<_sre.SRE_Match object; span=(252, 254), match='s\\n'>\n",
      "<_sre.SRE_Match object; span=(256, 258), match='s.'>\n",
      "<_sre.SRE_Match object; span=(266, 268), match='n\\n'>\n",
      "<_sre.SRE_Match object; span=(269, 271), match='r.'>\n",
      "<_sre.SRE_Match object; span=(272, 274), match='T\\n'>\n"
     ]
    }
   ],
   "source": [
    "pattern = re.compile(r'[a-zA-Z][^a-zA-z]')\n",
    "matches = pattern.finditer(text_to_search)\n",
    "for mat in matches:\n",
    "    print(mat)"
   ]
  },
  {
   "cell_type": "markdown",
   "metadata": {},
   "source": [
    "## Character groups"
   ]
  },
  {
   "cell_type": "code",
   "execution_count": 35,
   "metadata": {},
   "outputs": [
    {
     "name": "stdout",
     "output_type": "stream",
     "text": [
      "<_sre.SRE_Match object; span=(68, 71), match='abc'>\n",
      "<_sre.SRE_Match object; span=(158, 163), match='texas'>\n",
      "<_sre.SRE_Match object; span=(164, 167), match='edu'>\n",
      "<_sre.SRE_Match object; span=(213, 218), match='texas'>\n",
      "<_sre.SRE_Match object; span=(219, 222), match='edu'>\n"
     ]
    }
   ],
   "source": [
    "pattern = re.compile(r'(abc|edu|texas)\\b')\n",
    "matches = pattern.finditer(text_to_search)\n",
    "for mat in matches:\n",
    "    print(mat)"
   ]
  },
  {
   "cell_type": "code",
   "execution_count": 36,
   "metadata": {},
   "outputs": [
    {
     "name": "stdout",
     "output_type": "stream",
     "text": [
      "<_sre.SRE_Match object; span=(27, 29), match='AB'>\n",
      "<_sre.SRE_Match object; span=(29, 31), match='CD'>\n",
      "<_sre.SRE_Match object; span=(31, 33), match='EF'>\n",
      "<_sre.SRE_Match object; span=(33, 35), match='GH'>\n",
      "<_sre.SRE_Match object; span=(35, 37), match='IJ'>\n",
      "<_sre.SRE_Match object; span=(37, 39), match='KL'>\n",
      "<_sre.SRE_Match object; span=(39, 41), match='MN'>\n",
      "<_sre.SRE_Match object; span=(41, 43), match='OP'>\n",
      "<_sre.SRE_Match object; span=(43, 45), match='QR'>\n",
      "<_sre.SRE_Match object; span=(45, 47), match='ST'>\n",
      "<_sre.SRE_Match object; span=(47, 49), match='UV'>\n",
      "<_sre.SRE_Match object; span=(49, 51), match='WX'>\n",
      "<_sre.SRE_Match object; span=(51, 53), match='YZ'>\n",
      "<_sre.SRE_Match object; span=(73, 75), match='He'>\n",
      "<_sre.SRE_Match object; span=(79, 81), match='He'>\n",
      "<_sre.SRE_Match object; span=(81, 85), match='lloH'>\n",
      "<_sre.SRE_Match object; span=(91, 93), match='Me'>\n",
      "<_sre.SRE_Match object; span=(95, 97), match='Ch'>\n",
      "<_sre.SRE_Match object; span=(107, 109), match='Ne'>\n",
      "<_sre.SRE_Match object; span=(224, 226), match='Mr'>\n",
      "<_sre.SRE_Match object; span=(228, 230), match='Jo'>\n",
      "<_sre.SRE_Match object; span=(236, 238), match='Mr'>\n",
      "<_sre.SRE_Match object; span=(239, 241), match='Sm'>\n",
      "<_sre.SRE_Match object; span=(245, 247), match='Ms'>\n",
      "<_sre.SRE_Match object; span=(248, 250), match='Da'>\n",
      "<_sre.SRE_Match object; span=(254, 256), match='Mr'>\n",
      "<_sre.SRE_Match object; span=(259, 261), match='Ro'>\n",
      "<_sre.SRE_Match object; span=(268, 270), match='Mr'>\n"
     ]
    }
   ],
   "source": [
    "pattern = re.compile(r'([A-Z]|llo)[a-zA-z]')\n",
    "matches = pattern.finditer(text_to_search)\n",
    "for mat in matches:\n",
    "    print(mat)"
   ]
  },
  {
   "cell_type": "markdown",
   "metadata": {},
   "source": [
    "## Quantifiers"
   ]
  },
  {
   "cell_type": "code",
   "execution_count": 46,
   "metadata": {},
   "outputs": [
    {
     "name": "stdout",
     "output_type": "stream",
     "text": [
      "<_sre.SRE_Match object; span=(224, 232), match='Mr.    J'>\n",
      "<_sre.SRE_Match object; span=(239, 246), match='Mr    S'>\n",
      "<_sre.SRE_Match object; span=(279, 287), match='Mr.    T'>\n"
     ]
    }
   ],
   "source": [
    "pattern = re.compile(r'Mr\\.?\\s+[A-Z]')\n",
    "matches = pattern.finditer(text_to_search)\n",
    "for mat in matches:\n",
    "    print(mat)"
   ]
  },
  {
   "cell_type": "code",
   "execution_count": 47,
   "metadata": {},
   "outputs": [
    {
     "name": "stdout",
     "output_type": "stream",
     "text": [
      "<_sre.SRE_Match object; span=(224, 238), match='Mr.    Johnson'>\n",
      "<_sre.SRE_Match object; span=(239, 250), match='Mr    Smith'>\n",
      "<_sre.SRE_Match object; span=(279, 287), match='Mr.    T'>\n"
     ]
    }
   ],
   "source": [
    "pattern = re.compile(r'Mr\\.?\\s+[A-Z][a-z]*')\n",
    "matches = pattern.finditer(text_to_search)\n",
    "for mat in matches:\n",
    "    print(mat)"
   ]
  },
  {
   "cell_type": "code",
   "execution_count": 48,
   "metadata": {},
   "outputs": [],
   "source": [
    "pattern = re.compile(r'M(s|rs)\\.?\\s[A-Z][a-z]*')\n",
    "matches = pattern.finditer(text_to_search)\n",
    "for mat in matches:\n",
    "    print(mat)"
   ]
  },
  {
   "cell_type": "code",
   "execution_count": 49,
   "metadata": {},
   "outputs": [
    {
     "name": "stdout",
     "output_type": "stream",
     "text": [
      "<_sre.SRE_Match object; span=(169, 181), match='321-555-4321'>\n",
      "<_sre.SRE_Match object; span=(182, 194), match='123.555.1234'>\n"
     ]
    }
   ],
   "source": [
    "pattern = re.compile(r'\\d{3}[.-]\\d{3}[.-]\\d{4}')\n",
    "matches = pattern.finditer(text_to_search)\n",
    "for mat in matches:\n",
    "    print(mat)"
   ]
  },
  {
   "cell_type": "code",
   "execution_count": 51,
   "metadata": {},
   "outputs": [
    {
     "name": "stdout",
     "output_type": "stream",
     "text": [
      "<_sre.SRE_Match object; span=(157, 167), match='utexas.edu'>\n",
      "<_sre.SRE_Match object; span=(212, 222), match='utexas.edu'>\n"
     ]
    }
   ],
   "source": [
    "pattern = re.compile(r'[a-zA-Z0-9_]+\\.[a-z]{3}')\n",
    "matches = pattern.finditer(text_to_search)\n",
    "for mat in matches:\n",
    "    print(mat)"
   ]
  },
  {
   "cell_type": "code",
   "execution_count": 52,
   "metadata": {},
   "outputs": [
    {
     "name": "stdout",
     "output_type": "stream",
     "text": [
      "<_sre.SRE_Match object; span=(157, 167), match='utexas.edu'>\n",
      "<_sre.SRE_Match object; span=(212, 222), match='utexas.edu'>\n"
     ]
    }
   ],
   "source": [
    "pattern = re.compile(r'[a-zA-Z0-9_]+\\.(com|edu)')\n",
    "matches = pattern.finditer(text_to_search)\n",
    "for mat in matches:\n",
    "    print(mat)"
   ]
  },
  {
   "cell_type": "code",
   "execution_count": null,
   "metadata": {},
   "outputs": [],
   "source": [
    "pattern = re.compile(r'[a-zA-Z0-9_.+-]+@[a-zA-Z0-9-]+\\.[a-zA-Z0-9-.]+')\n",
    "matches = pattern.finditer(text_to_search)\n",
    "for mat in matches:\n",
    "    print(mat)"
   ]
  },
  {
   "cell_type": "markdown",
   "metadata": {},
   "source": [
    "## Accessing information in the Match object"
   ]
  },
  {
   "cell_type": "code",
   "execution_count": null,
   "metadata": {},
   "outputs": [],
   "source": [
    "\n",
    "pattern = re.compile(r'[a-zA-Z0-9_.+-]+@[a-zA-Z0-9-]+\\.[a-zA-Z0-9-.]{2,4}')\n",
    "matches = pattern.finditer(text_to_search)\n",
    "for mat in matches:\n",
    "    print(mat.span(0))\n",
    "    print(mat.group(0))\n",
    "    print(text_to_search[mat.span(0)[0]:mat.span(0)[1]])\n",
    "    \n",
    "    \n"
   ]
  },
  {
   "cell_type": "code",
   "execution_count": null,
   "metadata": {},
   "outputs": [],
   "source": [
    "urls = r'''\n",
    "https://www.google.com\n",
    "http://yahoo.com\n",
    "https://www.whitehouse.gov\n",
    "https://craigslist.org\n",
    "'''"
   ]
  },
  {
   "cell_type": "code",
   "execution_count": null,
   "metadata": {},
   "outputs": [],
   "source": [
    "pattern = re.compile(r'https?://(www\\.)?\\w+\\.\\w+')\n",
    "matches = pattern.finditer(urls)\n",
    "for mat in matches:\n",
    "    print(mat)"
   ]
  },
  {
   "cell_type": "code",
   "execution_count": null,
   "metadata": {},
   "outputs": [],
   "source": [
    "pattern = re.compile(r'https?://(www\\.)?(\\w+)(\\.\\w+)')\n",
    "matches = pattern.finditer(urls)\n",
    "for mat in matches:\n",
    "    print(mat.group(2)+mat.group(3))"
   ]
  },
  {
   "cell_type": "code",
   "execution_count": null,
   "metadata": {},
   "outputs": [],
   "source": [
    "pattern = re.compile(r'https?://(www\\.)?(\\w+)(\\.\\w+)')\n",
    "matches = pattern.finditer(urls)\n",
    "for mat in matches:\n",
    "    print(mat.group(0))\n",
    "    print(urls[mat.span(2)[0]:mat.span(2)[1]]+urls[mat.span(3)[0]:mat.span(3)[1]])"
   ]
  },
  {
   "cell_type": "code",
   "execution_count": null,
   "metadata": {},
   "outputs": [],
   "source": []
  }
 ],
 "metadata": {
  "kernelspec": {
   "display_name": "Python 3",
   "language": "python",
   "name": "python3"
  },
  "language_info": {
   "codemirror_mode": {
    "name": "ipython",
    "version": 3
   },
   "file_extension": ".py",
   "mimetype": "text/x-python",
   "name": "python",
   "nbconvert_exporter": "python",
   "pygments_lexer": "ipython3",
   "version": "3.6.7"
  }
 },
 "nbformat": 4,
 "nbformat_minor": 2
}
