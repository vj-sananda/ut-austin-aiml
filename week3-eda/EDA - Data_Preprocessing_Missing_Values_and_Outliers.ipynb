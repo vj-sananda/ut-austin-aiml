{
 "cells": [
  {
   "cell_type": "markdown",
   "metadata": {},
   "source": [
    "<span style=\"font-family: Arial; font-weight:bold;font-size:2em;color:#00b3e5;\">Contents:\n",
    "  \n",
    "* Ways of detecting missing values\n",
    "* Standard and non-standard missing values\n",
    "* Basic imputation methods for replacing missing values\n",
    "* Identifying and removing Duplicates from your data\n",
    "* Outlier detection - visually\n",
    "* Outlier detection - by Z-scores\n",
    "* Replacing outliers by median\n",
    "* Outlier detection - by IQR\n",
    "* Replacing outliers by whiskers\n",
    "* Remove or modify incorrect or unwanted observations\n",
    "    "
   ]
  },
  {
   "cell_type": "markdown",
   "metadata": {},
   "source": [
    "# Dealing with Missing Values\n",
    "Here we will discuss how to find and deal with missing values in a datast."
   ]
  },
  {
   "cell_type": "markdown",
   "metadata": {
    "colab_type": "text",
    "id": "RrHC1YYCJ44M"
   },
   "source": [
    "<span style=\"font-family: Arial; font-weight:bold;font-size:1.5em;color:#00b3e5;\">  Importing the library:"
   ]
  },
  {
   "cell_type": "code",
   "execution_count": 9,
   "metadata": {
    "colab": {},
    "colab_type": "code",
    "id": "W6qifALpJ44P"
   },
   "outputs": [],
   "source": [
    "import numpy as np\n",
    "import pandas as pd\n",
    "import seaborn as sns\n",
    "import matplotlib.pyplot as plt"
   ]
  },
  {
   "cell_type": "markdown",
   "metadata": {
    "colab_type": "text",
    "id": "gTmZRy6wJ44U"
   },
   "source": [
    "<span style=\"font-family: Arial; font-weight:bold;font-size:1.5em;color:#00b3e5;\">  Reading the data:"
   ]
  },
  {
   "cell_type": "code",
   "execution_count": 10,
   "metadata": {},
   "outputs": [],
   "source": [
    "#The dataset has information about some cities and states."
   ]
  },
  {
   "cell_type": "code",
   "execution_count": 11,
   "metadata": {
    "colab": {},
    "colab_type": "code",
    "id": "eOYBflRKJ44V",
    "outputId": "13354fe5-1dab-4dce-ddfd-a5ba80ceb0d5",
    "scrolled": false
   },
   "outputs": [
    {
     "data": {
      "text/html": [
       "<div>\n",
       "<style scoped>\n",
       "    .dataframe tbody tr th:only-of-type {\n",
       "        vertical-align: middle;\n",
       "    }\n",
       "\n",
       "    .dataframe tbody tr th {\n",
       "        vertical-align: top;\n",
       "    }\n",
       "\n",
       "    .dataframe thead th {\n",
       "        text-align: right;\n",
       "    }\n",
       "</style>\n",
       "<table border=\"1\" class=\"dataframe\">\n",
       "  <thead>\n",
       "    <tr style=\"text-align: right;\">\n",
       "      <th></th>\n",
       "      <th>Number</th>\n",
       "      <th>City</th>\n",
       "      <th>Colors Reported</th>\n",
       "      <th>Shape Reported</th>\n",
       "      <th>State</th>\n",
       "      <th>Time</th>\n",
       "    </tr>\n",
       "  </thead>\n",
       "  <tbody>\n",
       "    <tr>\n",
       "      <th>0</th>\n",
       "      <td>123456.0</td>\n",
       "      <td>Ithaca</td>\n",
       "      <td>NaN</td>\n",
       "      <td>TRIANGLE</td>\n",
       "      <td>NY</td>\n",
       "      <td>6/1/1930 22:00</td>\n",
       "    </tr>\n",
       "    <tr>\n",
       "      <th>1</th>\n",
       "      <td>54321.0</td>\n",
       "      <td>Willingboro</td>\n",
       "      <td>green</td>\n",
       "      <td>NaN</td>\n",
       "      <td>NJ</td>\n",
       "      <td>6/30/1930 20:00</td>\n",
       "    </tr>\n",
       "    <tr>\n",
       "      <th>2</th>\n",
       "      <td>87654.0</td>\n",
       "      <td>Holyoke</td>\n",
       "      <td>NaN</td>\n",
       "      <td>OVAL</td>\n",
       "      <td>CO</td>\n",
       "      <td>2/15/1931 14:00</td>\n",
       "    </tr>\n",
       "    <tr>\n",
       "      <th>3</th>\n",
       "      <td>3456.0</td>\n",
       "      <td>Abilene</td>\n",
       "      <td>blue</td>\n",
       "      <td>DISK</td>\n",
       "      <td>KS</td>\n",
       "      <td>1/12/1900 0:00</td>\n",
       "    </tr>\n",
       "    <tr>\n",
       "      <th>4</th>\n",
       "      <td>7654.0</td>\n",
       "      <td>New York Worlds Fair</td>\n",
       "      <td>NaN</td>\n",
       "      <td>LIGHT</td>\n",
       "      <td>NY</td>\n",
       "      <td>4/18/1933 19:00</td>\n",
       "    </tr>\n",
       "  </tbody>\n",
       "</table>\n",
       "</div>"
      ],
      "text/plain": [
       "     Number                  City Colors Reported Shape Reported State  \\\n",
       "0  123456.0                Ithaca             NaN       TRIANGLE    NY   \n",
       "1   54321.0           Willingboro           green            NaN    NJ   \n",
       "2   87654.0               Holyoke             NaN           OVAL    CO   \n",
       "3    3456.0               Abilene            blue           DISK    KS   \n",
       "4    7654.0  New York Worlds Fair             NaN          LIGHT    NY   \n",
       "\n",
       "              Time  \n",
       "0   6/1/1930 22:00  \n",
       "1  6/30/1930 20:00  \n",
       "2  2/15/1931 14:00  \n",
       "3   1/12/1900 0:00  \n",
       "4  4/18/1933 19:00  "
      ]
     },
     "execution_count": 11,
     "metadata": {},
     "output_type": "execute_result"
    }
   ],
   "source": [
    "Data = pd.read_csv('data.csv')  # read the data\n",
    "Data.head()"
   ]
  },
  {
   "cell_type": "markdown",
   "metadata": {},
   "source": [
    "* Observe the data and see if you can recognise missing values or 'garbage' values in the data\n",
    "* Data type of missing values don't necessarily have to be np.nan\n",
    "* Based on the context we often decide what should be a missing value and what qualifies as valid data"
   ]
  },
  {
   "cell_type": "markdown",
   "metadata": {},
   "source": [
    "# Dealing with Duplicates in your data"
   ]
  },
  {
   "cell_type": "code",
   "execution_count": 12,
   "metadata": {},
   "outputs": [
    {
     "data": {
      "text/plain": [
       "0     False\n",
       "1     False\n",
       "2     False\n",
       "3     False\n",
       "4     False\n",
       "5     False\n",
       "6     False\n",
       "7     False\n",
       "8     False\n",
       "9     False\n",
       "10    False\n",
       "11    False\n",
       "12    False\n",
       "13    False\n",
       "14    False\n",
       "15     True\n",
       "16     True\n",
       "17     True\n",
       "18     True\n",
       "19    False\n",
       "20    False\n",
       "21    False\n",
       "22     True\n",
       "23     True\n",
       "24     True\n",
       "25     True\n",
       "26     True\n",
       "27     True\n",
       "28     True\n",
       "29     True\n",
       "30     True\n",
       "dtype: bool"
      ]
     },
     "execution_count": 12,
     "metadata": {},
     "output_type": "execute_result"
    }
   ],
   "source": [
    "##Identify duplicates records in the data\n",
    "dupes = Data.duplicated()\n",
    "sum(dupes)\n",
    "dupes"
   ]
  },
  {
   "cell_type": "code",
   "execution_count": 13,
   "metadata": {},
   "outputs": [],
   "source": [
    "##here we can see that there are 13 duplicated rows. We want to remove the duplicate rows.\n",
    "#Removing Duplicates\n",
    "Data =Data.drop_duplicates()"
   ]
  },
  {
   "cell_type": "code",
   "execution_count": 14,
   "metadata": {},
   "outputs": [
    {
     "data": {
      "text/plain": [
       "0"
      ]
     },
     "execution_count": 14,
     "metadata": {},
     "output_type": "execute_result"
    }
   ],
   "source": [
    "#Now check the duplicate data again and you will see that there are no duplicate rows.\n",
    "dupes = Data.duplicated()\n",
    "sum(dupes)"
   ]
  },
  {
   "cell_type": "markdown",
   "metadata": {},
   "source": [
    "# Dealing with Missing Values in your data"
   ]
  },
  {
   "cell_type": "markdown",
   "metadata": {
    "colab_type": "text",
    "id": "Ia8Lqf4QJ44a"
   },
   "source": [
    "<span style=\"font-family: Arial; font-weight:bold;font-size:1.5em;color:#00b3e5;\">  Standard Missing Values\n",
    "![alt text](missing1.png \"Skewed vs normal distribution\")\n",
    "\n",
    "\n",
    "Going back to our original dataset, let’s take a look at the “Number” column."
   ]
  },
  {
   "cell_type": "code",
   "execution_count": 15,
   "metadata": {
    "colab": {},
    "colab_type": "code",
    "id": "zLVWq639J44g",
    "outputId": "cb6245de-90bd-4214-9a63-531888b46a80",
    "scrolled": false
   },
   "outputs": [
    {
     "data": {
      "text/html": [
       "<div>\n",
       "<style scoped>\n",
       "    .dataframe tbody tr th:only-of-type {\n",
       "        vertical-align: middle;\n",
       "    }\n",
       "\n",
       "    .dataframe tbody tr th {\n",
       "        vertical-align: top;\n",
       "    }\n",
       "\n",
       "    .dataframe thead th {\n",
       "        text-align: right;\n",
       "    }\n",
       "</style>\n",
       "<table border=\"1\" class=\"dataframe\">\n",
       "  <thead>\n",
       "    <tr style=\"text-align: right;\">\n",
       "      <th></th>\n",
       "      <th>value</th>\n",
       "      <th>Missing?</th>\n",
       "    </tr>\n",
       "  </thead>\n",
       "  <tbody>\n",
       "    <tr>\n",
       "      <th>0</th>\n",
       "      <td>123456.0</td>\n",
       "      <td>False</td>\n",
       "    </tr>\n",
       "    <tr>\n",
       "      <th>1</th>\n",
       "      <td>54321.0</td>\n",
       "      <td>False</td>\n",
       "    </tr>\n",
       "    <tr>\n",
       "      <th>2</th>\n",
       "      <td>87654.0</td>\n",
       "      <td>False</td>\n",
       "    </tr>\n",
       "    <tr>\n",
       "      <th>3</th>\n",
       "      <td>3456.0</td>\n",
       "      <td>False</td>\n",
       "    </tr>\n",
       "    <tr>\n",
       "      <th>4</th>\n",
       "      <td>7654.0</td>\n",
       "      <td>False</td>\n",
       "    </tr>\n",
       "    <tr>\n",
       "      <th>5</th>\n",
       "      <td>NaN</td>\n",
       "      <td>True</td>\n",
       "    </tr>\n",
       "    <tr>\n",
       "      <th>6</th>\n",
       "      <td>87654.0</td>\n",
       "      <td>False</td>\n",
       "    </tr>\n",
       "    <tr>\n",
       "      <th>7</th>\n",
       "      <td>6789.0</td>\n",
       "      <td>False</td>\n",
       "    </tr>\n",
       "    <tr>\n",
       "      <th>8</th>\n",
       "      <td>NaN</td>\n",
       "      <td>True</td>\n",
       "    </tr>\n",
       "    <tr>\n",
       "      <th>9</th>\n",
       "      <td>4567.0</td>\n",
       "      <td>False</td>\n",
       "    </tr>\n",
       "    <tr>\n",
       "      <th>10</th>\n",
       "      <td>7654.0</td>\n",
       "      <td>False</td>\n",
       "    </tr>\n",
       "    <tr>\n",
       "      <th>11</th>\n",
       "      <td>NaN</td>\n",
       "      <td>True</td>\n",
       "    </tr>\n",
       "    <tr>\n",
       "      <th>12</th>\n",
       "      <td>6543.0</td>\n",
       "      <td>False</td>\n",
       "    </tr>\n",
       "    <tr>\n",
       "      <th>13</th>\n",
       "      <td>876.0</td>\n",
       "      <td>False</td>\n",
       "    </tr>\n",
       "    <tr>\n",
       "      <th>14</th>\n",
       "      <td>5432.0</td>\n",
       "      <td>False</td>\n",
       "    </tr>\n",
       "    <tr>\n",
       "      <th>19</th>\n",
       "      <td>6543.0</td>\n",
       "      <td>False</td>\n",
       "    </tr>\n",
       "    <tr>\n",
       "      <th>20</th>\n",
       "      <td>876.0</td>\n",
       "      <td>False</td>\n",
       "    </tr>\n",
       "    <tr>\n",
       "      <th>21</th>\n",
       "      <td>5432.0</td>\n",
       "      <td>False</td>\n",
       "    </tr>\n",
       "  </tbody>\n",
       "</table>\n",
       "</div>"
      ],
      "text/plain": [
       "       value  Missing?\n",
       "0   123456.0     False\n",
       "1    54321.0     False\n",
       "2    87654.0     False\n",
       "3     3456.0     False\n",
       "4     7654.0     False\n",
       "5        NaN      True\n",
       "6    87654.0     False\n",
       "7     6789.0     False\n",
       "8        NaN      True\n",
       "9     4567.0     False\n",
       "10    7654.0     False\n",
       "11       NaN      True\n",
       "12    6543.0     False\n",
       "13     876.0     False\n",
       "14    5432.0     False\n",
       "19    6543.0     False\n",
       "20     876.0     False\n",
       "21    5432.0     False"
      ]
     },
     "execution_count": 15,
     "metadata": {},
     "output_type": "execute_result"
    }
   ],
   "source": [
    "# What isnull() function recognises as missing value\n",
    "\n",
    "pd.DataFrame({'value' : Data['Number'], 'Missing?' : Data['Number'].isnull()}) "
   ]
  },
  {
   "cell_type": "markdown",
   "metadata": {},
   "source": [
    "* 'NaN' is recognised as missing value"
   ]
  },
  {
   "cell_type": "markdown",
   "metadata": {
    "colab_type": "text",
    "id": "bvhp0lt9J44k"
   },
   "source": [
    "<span style=\"font-family: Arial; font-weight:bold;font-size:1.5em;color:#00b3e5;\">  Non-Standard Missing Values\n",
    "<br>\n",
    "![alt text](missing2.png \"Skewed vs normal distribution\")    \n"
   ]
  },
  {
   "cell_type": "code",
   "execution_count": 16,
   "metadata": {
    "colab": {},
    "colab_type": "code",
    "id": "rAo42XyOJ44p",
    "outputId": "f39f7375-e8b0-452c-c1f2-22a0c620504e"
   },
   "outputs": [
    {
     "data": {
      "text/html": [
       "<div>\n",
       "<style scoped>\n",
       "    .dataframe tbody tr th:only-of-type {\n",
       "        vertical-align: middle;\n",
       "    }\n",
       "\n",
       "    .dataframe tbody tr th {\n",
       "        vertical-align: top;\n",
       "    }\n",
       "\n",
       "    .dataframe thead th {\n",
       "        text-align: right;\n",
       "    }\n",
       "</style>\n",
       "<table border=\"1\" class=\"dataframe\">\n",
       "  <thead>\n",
       "    <tr style=\"text-align: right;\">\n",
       "      <th></th>\n",
       "      <th>value</th>\n",
       "      <th>Missing value?</th>\n",
       "    </tr>\n",
       "  </thead>\n",
       "  <tbody>\n",
       "    <tr>\n",
       "      <th>0</th>\n",
       "      <td>TRIANGLE</td>\n",
       "      <td>False</td>\n",
       "    </tr>\n",
       "    <tr>\n",
       "      <th>1</th>\n",
       "      <td>NaN</td>\n",
       "      <td>True</td>\n",
       "    </tr>\n",
       "    <tr>\n",
       "      <th>2</th>\n",
       "      <td>OVAL</td>\n",
       "      <td>False</td>\n",
       "    </tr>\n",
       "    <tr>\n",
       "      <th>3</th>\n",
       "      <td>DISK</td>\n",
       "      <td>False</td>\n",
       "    </tr>\n",
       "    <tr>\n",
       "      <th>4</th>\n",
       "      <td>LIGHT</td>\n",
       "      <td>False</td>\n",
       "    </tr>\n",
       "    <tr>\n",
       "      <th>5</th>\n",
       "      <td>NaN</td>\n",
       "      <td>True</td>\n",
       "    </tr>\n",
       "    <tr>\n",
       "      <th>6</th>\n",
       "      <td>CIRCLE</td>\n",
       "      <td>False</td>\n",
       "    </tr>\n",
       "    <tr>\n",
       "      <th>7</th>\n",
       "      <td>DISK</td>\n",
       "      <td>False</td>\n",
       "    </tr>\n",
       "    <tr>\n",
       "      <th>8</th>\n",
       "      <td>12</td>\n",
       "      <td>False</td>\n",
       "    </tr>\n",
       "    <tr>\n",
       "      <th>9</th>\n",
       "      <td>CYLINDER</td>\n",
       "      <td>False</td>\n",
       "    </tr>\n",
       "    <tr>\n",
       "      <th>10</th>\n",
       "      <td>LIGHT</td>\n",
       "      <td>False</td>\n",
       "    </tr>\n",
       "    <tr>\n",
       "      <th>11</th>\n",
       "      <td>FIREBALL</td>\n",
       "      <td>False</td>\n",
       "    </tr>\n",
       "    <tr>\n",
       "      <th>12</th>\n",
       "      <td>SPHERE</td>\n",
       "      <td>False</td>\n",
       "    </tr>\n",
       "    <tr>\n",
       "      <th>13</th>\n",
       "      <td>@</td>\n",
       "      <td>False</td>\n",
       "    </tr>\n",
       "    <tr>\n",
       "      <th>14</th>\n",
       "      <td>DISK</td>\n",
       "      <td>False</td>\n",
       "    </tr>\n",
       "    <tr>\n",
       "      <th>19</th>\n",
       "      <td>???</td>\n",
       "      <td>False</td>\n",
       "    </tr>\n",
       "    <tr>\n",
       "      <th>20</th>\n",
       "      <td>@</td>\n",
       "      <td>False</td>\n",
       "    </tr>\n",
       "    <tr>\n",
       "      <th>21</th>\n",
       "      <td>DISK</td>\n",
       "      <td>False</td>\n",
       "    </tr>\n",
       "  </tbody>\n",
       "</table>\n",
       "</div>"
      ],
      "text/plain": [
       "       value  Missing value?\n",
       "0   TRIANGLE           False\n",
       "1        NaN            True\n",
       "2       OVAL           False\n",
       "3       DISK           False\n",
       "4      LIGHT           False\n",
       "5        NaN            True\n",
       "6     CIRCLE           False\n",
       "7       DISK           False\n",
       "8         12           False\n",
       "9   CYLINDER           False\n",
       "10     LIGHT           False\n",
       "11  FIREBALL           False\n",
       "12    SPHERE           False\n",
       "13         @           False\n",
       "14      DISK           False\n",
       "19       ???           False\n",
       "20         @           False\n",
       "21      DISK           False"
      ]
     },
     "execution_count": 16,
     "metadata": {},
     "output_type": "execute_result"
    }
   ],
   "source": [
    "# what isnull() does not recognise as missing value\n",
    "\n",
    "pd.DataFrame({'value' : Data['Shape Reported'], 'Missing value?' : Data['Shape Reported'].isnull()})"
   ]
  },
  {
   "cell_type": "markdown",
   "metadata": {},
   "source": [
    "* Only 'NaN' is recognised as missing value\n",
    "* Depending on the context, we decide what should be a missing value"
   ]
  },
  {
   "cell_type": "markdown",
   "metadata": {
    "colab_type": "text",
    "id": "Q7WbNmpbJ44s"
   },
   "source": [
    "<span style=\"font-family: Arial; font-weight:bold;font-size:1.5em;color:#00b3e5;\">  Unexpected Missing Values"
   ]
  },
  {
   "cell_type": "code",
   "execution_count": 17,
   "metadata": {},
   "outputs": [
    {
     "data": {
      "text/html": [
       "<div>\n",
       "<style scoped>\n",
       "    .dataframe tbody tr th:only-of-type {\n",
       "        vertical-align: middle;\n",
       "    }\n",
       "\n",
       "    .dataframe tbody tr th {\n",
       "        vertical-align: top;\n",
       "    }\n",
       "\n",
       "    .dataframe thead th {\n",
       "        text-align: right;\n",
       "    }\n",
       "</style>\n",
       "<table border=\"1\" class=\"dataframe\">\n",
       "  <thead>\n",
       "    <tr style=\"text-align: right;\">\n",
       "      <th></th>\n",
       "      <th>value</th>\n",
       "      <th>Missing?</th>\n",
       "    </tr>\n",
       "  </thead>\n",
       "  <tbody>\n",
       "    <tr>\n",
       "      <th>0</th>\n",
       "      <td>NY</td>\n",
       "      <td>False</td>\n",
       "    </tr>\n",
       "    <tr>\n",
       "      <th>1</th>\n",
       "      <td>NJ</td>\n",
       "      <td>False</td>\n",
       "    </tr>\n",
       "    <tr>\n",
       "      <th>2</th>\n",
       "      <td>CO</td>\n",
       "      <td>False</td>\n",
       "    </tr>\n",
       "    <tr>\n",
       "      <th>3</th>\n",
       "      <td>KS</td>\n",
       "      <td>False</td>\n",
       "    </tr>\n",
       "    <tr>\n",
       "      <th>4</th>\n",
       "      <td>NY</td>\n",
       "      <td>False</td>\n",
       "    </tr>\n",
       "    <tr>\n",
       "      <th>5</th>\n",
       "      <td>N</td>\n",
       "      <td>False</td>\n",
       "    </tr>\n",
       "    <tr>\n",
       "      <th>6</th>\n",
       "      <td>CA</td>\n",
       "      <td>False</td>\n",
       "    </tr>\n",
       "    <tr>\n",
       "      <th>7</th>\n",
       "      <td>MI</td>\n",
       "      <td>False</td>\n",
       "    </tr>\n",
       "    <tr>\n",
       "      <th>8</th>\n",
       "      <td>AK</td>\n",
       "      <td>False</td>\n",
       "    </tr>\n",
       "    <tr>\n",
       "      <th>9</th>\n",
       "      <td>NaN</td>\n",
       "      <td>True</td>\n",
       "    </tr>\n",
       "    <tr>\n",
       "      <th>10</th>\n",
       "      <td>CA</td>\n",
       "      <td>False</td>\n",
       "    </tr>\n",
       "    <tr>\n",
       "      <th>11</th>\n",
       "      <td>AL</td>\n",
       "      <td>False</td>\n",
       "    </tr>\n",
       "    <tr>\n",
       "      <th>12</th>\n",
       "      <td>Y</td>\n",
       "      <td>False</td>\n",
       "    </tr>\n",
       "    <tr>\n",
       "      <th>13</th>\n",
       "      <td>IA</td>\n",
       "      <td>False</td>\n",
       "    </tr>\n",
       "    <tr>\n",
       "      <th>14</th>\n",
       "      <td>MI</td>\n",
       "      <td>False</td>\n",
       "    </tr>\n",
       "    <tr>\n",
       "      <th>19</th>\n",
       "      <td>Y</td>\n",
       "      <td>False</td>\n",
       "    </tr>\n",
       "    <tr>\n",
       "      <th>20</th>\n",
       "      <td>IA</td>\n",
       "      <td>False</td>\n",
       "    </tr>\n",
       "    <tr>\n",
       "      <th>21</th>\n",
       "      <td>MI</td>\n",
       "      <td>False</td>\n",
       "    </tr>\n",
       "  </tbody>\n",
       "</table>\n",
       "</div>"
      ],
      "text/plain": [
       "   value  Missing?\n",
       "0     NY     False\n",
       "1     NJ     False\n",
       "2     CO     False\n",
       "3     KS     False\n",
       "4     NY     False\n",
       "5      N     False\n",
       "6     CA     False\n",
       "7     MI     False\n",
       "8     AK     False\n",
       "9    NaN      True\n",
       "10    CA     False\n",
       "11    AL     False\n",
       "12     Y     False\n",
       "13    IA     False\n",
       "14    MI     False\n",
       "19     Y     False\n",
       "20    IA     False\n",
       "21    MI     False"
      ]
     },
     "execution_count": 17,
     "metadata": {},
     "output_type": "execute_result"
    }
   ],
   "source": [
    "pd.DataFrame({'value': Data['State'], 'Missing?': Data['State'].isnull()})"
   ]
  },
  {
   "cell_type": "markdown",
   "metadata": {},
   "source": [
    "* Because all the fields are names of states, 5th element and 12th element can be considered as garbage values"
   ]
  },
  {
   "cell_type": "code",
   "execution_count": 18,
   "metadata": {
    "colab": {},
    "colab_type": "code",
    "id": "aoL_uFt2J44w",
    "outputId": "d9f6bc61-5932-45d6-deae-c056f44e83a3",
    "scrolled": false
   },
   "outputs": [
    {
     "data": {
      "text/html": [
       "<div>\n",
       "<style scoped>\n",
       "    .dataframe tbody tr th:only-of-type {\n",
       "        vertical-align: middle;\n",
       "    }\n",
       "\n",
       "    .dataframe tbody tr th {\n",
       "        vertical-align: top;\n",
       "    }\n",
       "\n",
       "    .dataframe thead th {\n",
       "        text-align: right;\n",
       "    }\n",
       "</style>\n",
       "<table border=\"1\" class=\"dataframe\">\n",
       "  <thead>\n",
       "    <tr style=\"text-align: right;\">\n",
       "      <th></th>\n",
       "      <th>Number of missing values</th>\n",
       "    </tr>\n",
       "  </thead>\n",
       "  <tbody>\n",
       "    <tr>\n",
       "      <th>Number</th>\n",
       "      <td>3</td>\n",
       "    </tr>\n",
       "    <tr>\n",
       "      <th>City</th>\n",
       "      <td>0</td>\n",
       "    </tr>\n",
       "    <tr>\n",
       "      <th>Colors Reported</th>\n",
       "      <td>9</td>\n",
       "    </tr>\n",
       "    <tr>\n",
       "      <th>Shape Reported</th>\n",
       "      <td>2</td>\n",
       "    </tr>\n",
       "    <tr>\n",
       "      <th>State</th>\n",
       "      <td>1</td>\n",
       "    </tr>\n",
       "    <tr>\n",
       "      <th>Time</th>\n",
       "      <td>0</td>\n",
       "    </tr>\n",
       "  </tbody>\n",
       "</table>\n",
       "</div>"
      ],
      "text/plain": [
       "                 Number of missing values\n",
       "Number                                  3\n",
       "City                                    0\n",
       "Colors Reported                         9\n",
       "Shape Reported                          2\n",
       "State                                   1\n",
       "Time                                    0"
      ]
     },
     "execution_count": 18,
     "metadata": {},
     "output_type": "execute_result"
    }
   ],
   "source": [
    "# number of missing values (only the ones recognised as missing values) in each of the attributes\n",
    "pd.DataFrame( Data.isnull().sum(), columns= ['Number of missing values'])"
   ]
  },
  {
   "cell_type": "markdown",
   "metadata": {
    "colab_type": "text",
    "id": "7sicvi0NJ44z"
   },
   "source": [
    "### Any missing values?"
   ]
  },
  {
   "cell_type": "code",
   "execution_count": 19,
   "metadata": {
    "colab": {},
    "colab_type": "code",
    "id": "GM4atDqFJ440",
    "outputId": "1c23b942-59f6-4d46-9a32-3d8358ad440c"
   },
   "outputs": [
    {
     "data": {
      "text/plain": [
       "True"
      ]
     },
     "execution_count": 19,
     "metadata": {},
     "output_type": "execute_result"
    }
   ],
   "source": [
    "Data.isnull().values.any()   # Any of the values in the dataframe is a missing value"
   ]
  },
  {
   "cell_type": "markdown",
   "metadata": {
    "colab_type": "text",
    "id": "ql6AXsu0J443"
   },
   "source": [
    "### Total number of missing values"
   ]
  },
  {
   "cell_type": "code",
   "execution_count": 20,
   "metadata": {
    "colab": {},
    "colab_type": "code",
    "id": "Ic2UkJaGJ444",
    "outputId": "f954a750-dcbf-457e-c7f9-cfbeff98758a"
   },
   "outputs": [
    {
     "data": {
      "text/plain": [
       "15"
      ]
     },
     "execution_count": 20,
     "metadata": {},
     "output_type": "execute_result"
    }
   ],
   "source": [
    "Data.isnull().sum().sum()  # Total number of recognised missing values in the entire dataframe"
   ]
  },
  {
   "cell_type": "markdown",
   "metadata": {
    "colab_type": "text",
    "id": "uH5uLHr6J447"
   },
   "source": [
    "<span style=\"font-family: Arial; font-weight:bold;font-size:1.5em;color:#00b3e5;\">  Replacing Missing Values\n",
    "    "
   ]
  },
  {
   "cell_type": "markdown",
   "metadata": {},
   "source": [
    "There are many values in which missing values can be replaced by different values which is often called\n",
    "as imputing missing values. It depends on your data and the problem you are trying to solve. In the below cell different types of missing value imputations are shown."
   ]
  },
  {
   "cell_type": "code",
   "execution_count": 21,
   "metadata": {
    "colab": {},
    "colab_type": "code",
    "id": "qPcT0Xm2J44-",
    "outputId": "c227d584-45d2-426e-f510-6c8af165b200",
    "scrolled": false
   },
   "outputs": [
    {
     "data": {
      "text/html": [
       "<div>\n",
       "<style scoped>\n",
       "    .dataframe tbody tr th:only-of-type {\n",
       "        vertical-align: middle;\n",
       "    }\n",
       "\n",
       "    .dataframe tbody tr th {\n",
       "        vertical-align: top;\n",
       "    }\n",
       "\n",
       "    .dataframe thead th {\n",
       "        text-align: right;\n",
       "    }\n",
       "</style>\n",
       "<table border=\"1\" class=\"dataframe\">\n",
       "  <thead>\n",
       "    <tr style=\"text-align: right;\">\n",
       "      <th></th>\n",
       "      <th>Number</th>\n",
       "      <th>City</th>\n",
       "      <th>Colors Reported</th>\n",
       "      <th>Shape Reported</th>\n",
       "      <th>State</th>\n",
       "      <th>Time</th>\n",
       "    </tr>\n",
       "  </thead>\n",
       "  <tbody>\n",
       "    <tr>\n",
       "      <th>0</th>\n",
       "      <td>123456.0</td>\n",
       "      <td>Ithaca</td>\n",
       "      <td>NaN</td>\n",
       "      <td>TRIANGLE</td>\n",
       "      <td>NY</td>\n",
       "      <td>6/1/1930 22:00</td>\n",
       "    </tr>\n",
       "    <tr>\n",
       "      <th>1</th>\n",
       "      <td>54321.0</td>\n",
       "      <td>Willingboro</td>\n",
       "      <td>green</td>\n",
       "      <td>NaN</td>\n",
       "      <td>NJ</td>\n",
       "      <td>6/30/1930 20:00</td>\n",
       "    </tr>\n",
       "    <tr>\n",
       "      <th>2</th>\n",
       "      <td>87654.0</td>\n",
       "      <td>Holyoke</td>\n",
       "      <td>NaN</td>\n",
       "      <td>OVAL</td>\n",
       "      <td>CO</td>\n",
       "      <td>2/15/1931 14:00</td>\n",
       "    </tr>\n",
       "    <tr>\n",
       "      <th>3</th>\n",
       "      <td>3456.0</td>\n",
       "      <td>Abilene</td>\n",
       "      <td>blue</td>\n",
       "      <td>DISK</td>\n",
       "      <td>KS</td>\n",
       "      <td>1/12/1900 0:00</td>\n",
       "    </tr>\n",
       "    <tr>\n",
       "      <th>4</th>\n",
       "      <td>7654.0</td>\n",
       "      <td>New York Worlds Fair</td>\n",
       "      <td>NaN</td>\n",
       "      <td>LIGHT</td>\n",
       "      <td>NY</td>\n",
       "      <td>4/18/1933 19:00</td>\n",
       "    </tr>\n",
       "    <tr>\n",
       "      <th>5</th>\n",
       "      <td>12345.0</td>\n",
       "      <td>Valley City</td>\n",
       "      <td>NaN</td>\n",
       "      <td>NaN</td>\n",
       "      <td>N</td>\n",
       "      <td>9/15/1934 15:30</td>\n",
       "    </tr>\n",
       "    <tr>\n",
       "      <th>6</th>\n",
       "      <td>87654.0</td>\n",
       "      <td>Crater Lake</td>\n",
       "      <td>yellow</td>\n",
       "      <td>CIRCLE</td>\n",
       "      <td>CA</td>\n",
       "      <td>6/15/1935 0:00</td>\n",
       "    </tr>\n",
       "    <tr>\n",
       "      <th>7</th>\n",
       "      <td>6789.0</td>\n",
       "      <td>Alma</td>\n",
       "      <td>NaN</td>\n",
       "      <td>DISK</td>\n",
       "      <td>MI</td>\n",
       "      <td>7/15/1936 0:00</td>\n",
       "    </tr>\n",
       "    <tr>\n",
       "      <th>8</th>\n",
       "      <td>12345.0</td>\n",
       "      <td>Eklutna</td>\n",
       "      <td>green</td>\n",
       "      <td>12</td>\n",
       "      <td>AK</td>\n",
       "      <td>10/15/1936 17:00</td>\n",
       "    </tr>\n",
       "    <tr>\n",
       "      <th>9</th>\n",
       "      <td>4567.0</td>\n",
       "      <td>Hubbard</td>\n",
       "      <td>red</td>\n",
       "      <td>CYLINDER</td>\n",
       "      <td>NaN</td>\n",
       "      <td>6/15/1937 0:00</td>\n",
       "    </tr>\n",
       "    <tr>\n",
       "      <th>10</th>\n",
       "      <td>7654.0</td>\n",
       "      <td>Fontana</td>\n",
       "      <td>NaN</td>\n",
       "      <td>LIGHT</td>\n",
       "      <td>CA</td>\n",
       "      <td>8/15/1937 21:00</td>\n",
       "    </tr>\n",
       "    <tr>\n",
       "      <th>11</th>\n",
       "      <td>12345.0</td>\n",
       "      <td>Waterloo</td>\n",
       "      <td>NaN</td>\n",
       "      <td>FIREBALL</td>\n",
       "      <td>AL</td>\n",
       "      <td>6/1/1939 20:00</td>\n",
       "    </tr>\n",
       "    <tr>\n",
       "      <th>12</th>\n",
       "      <td>6543.0</td>\n",
       "      <td>Belton</td>\n",
       "      <td>red</td>\n",
       "      <td>SPHERE</td>\n",
       "      <td>Y</td>\n",
       "      <td>6/30/1939 20:00</td>\n",
       "    </tr>\n",
       "    <tr>\n",
       "      <th>13</th>\n",
       "      <td>876.0</td>\n",
       "      <td>Keokuk</td>\n",
       "      <td>NaN</td>\n",
       "      <td>@</td>\n",
       "      <td>IA</td>\n",
       "      <td>7/7/1939 2:00</td>\n",
       "    </tr>\n",
       "    <tr>\n",
       "      <th>14</th>\n",
       "      <td>5432.0</td>\n",
       "      <td>Ludington</td>\n",
       "      <td>NaN</td>\n",
       "      <td>DISK</td>\n",
       "      <td>MI</td>\n",
       "      <td>6/1/1941 13:00</td>\n",
       "    </tr>\n",
       "    <tr>\n",
       "      <th>19</th>\n",
       "      <td>6543.0</td>\n",
       "      <td>Belton</td>\n",
       "      <td>red</td>\n",
       "      <td>???</td>\n",
       "      <td>Y</td>\n",
       "      <td>6/30/1939 20:00</td>\n",
       "    </tr>\n",
       "    <tr>\n",
       "      <th>20</th>\n",
       "      <td>876.0</td>\n",
       "      <td>Keokuk</td>\n",
       "      <td>not known</td>\n",
       "      <td>@</td>\n",
       "      <td>IA</td>\n",
       "      <td>7/7/1939 2:00</td>\n",
       "    </tr>\n",
       "    <tr>\n",
       "      <th>21</th>\n",
       "      <td>5432.0</td>\n",
       "      <td>Ludington</td>\n",
       "      <td>*****</td>\n",
       "      <td>DISK</td>\n",
       "      <td>MI</td>\n",
       "      <td>6/1/1941 13:00</td>\n",
       "    </tr>\n",
       "  </tbody>\n",
       "</table>\n",
       "</div>"
      ],
      "text/plain": [
       "      Number                  City Colors Reported Shape Reported State  \\\n",
       "0   123456.0                Ithaca             NaN       TRIANGLE    NY   \n",
       "1    54321.0           Willingboro           green            NaN    NJ   \n",
       "2    87654.0               Holyoke             NaN           OVAL    CO   \n",
       "3     3456.0               Abilene            blue           DISK    KS   \n",
       "4     7654.0  New York Worlds Fair             NaN          LIGHT    NY   \n",
       "5    12345.0           Valley City             NaN            NaN     N   \n",
       "6    87654.0           Crater Lake          yellow         CIRCLE    CA   \n",
       "7     6789.0                  Alma             NaN           DISK    MI   \n",
       "8    12345.0               Eklutna           green             12    AK   \n",
       "9     4567.0               Hubbard             red       CYLINDER   NaN   \n",
       "10    7654.0               Fontana             NaN          LIGHT    CA   \n",
       "11   12345.0              Waterloo             NaN       FIREBALL    AL   \n",
       "12    6543.0                Belton             red         SPHERE     Y   \n",
       "13     876.0                Keokuk             NaN              @    IA   \n",
       "14    5432.0             Ludington             NaN           DISK    MI   \n",
       "19    6543.0                Belton             red            ???     Y   \n",
       "20     876.0                Keokuk       not known              @    IA   \n",
       "21    5432.0             Ludington           *****           DISK    MI   \n",
       "\n",
       "                Time  \n",
       "0     6/1/1930 22:00  \n",
       "1    6/30/1930 20:00  \n",
       "2    2/15/1931 14:00  \n",
       "3     1/12/1900 0:00  \n",
       "4    4/18/1933 19:00  \n",
       "5    9/15/1934 15:30  \n",
       "6     6/15/1935 0:00  \n",
       "7     7/15/1936 0:00  \n",
       "8   10/15/1936 17:00  \n",
       "9     6/15/1937 0:00  \n",
       "10   8/15/1937 21:00  \n",
       "11    6/1/1939 20:00  \n",
       "12   6/30/1939 20:00  \n",
       "13     7/7/1939 2:00  \n",
       "14    6/1/1941 13:00  \n",
       "19   6/30/1939 20:00  \n",
       "20     7/7/1939 2:00  \n",
       "21    6/1/1941 13:00  "
      ]
     },
     "execution_count": 21,
     "metadata": {},
     "output_type": "execute_result"
    }
   ],
   "source": [
    "# Replacing NaN with a custom value\n",
    "Data['Number'].fillna(12345, inplace = True)   \n",
    "\n",
    "# Replace NaN values with the mean of the column\n",
    "# Data['Number'].fillna(Data.Number.mean(), inplace = True)  \n",
    "\n",
    "# Replace NaN values with the median of the column\n",
    "# Data['Number'].fillna(Data.Number.median(), inplace = True)  \n",
    "\n",
    "Data"
   ]
  },
  {
   "cell_type": "markdown",
   "metadata": {
    "colab_type": "text",
    "id": "tg2B1ExjJ45B"
   },
   "source": [
    "### Location based replacement"
   ]
  },
  {
   "cell_type": "code",
   "execution_count": 22,
   "metadata": {
    "colab": {},
    "colab_type": "code",
    "id": "4oQqP3PmJ45C",
    "outputId": "bdace3a7-836b-4760-8611-2e4ddf0cadd7"
   },
   "outputs": [
    {
     "data": {
      "text/html": [
       "<div>\n",
       "<style scoped>\n",
       "    .dataframe tbody tr th:only-of-type {\n",
       "        vertical-align: middle;\n",
       "    }\n",
       "\n",
       "    .dataframe tbody tr th {\n",
       "        vertical-align: top;\n",
       "    }\n",
       "\n",
       "    .dataframe thead th {\n",
       "        text-align: right;\n",
       "    }\n",
       "</style>\n",
       "<table border=\"1\" class=\"dataframe\">\n",
       "  <thead>\n",
       "    <tr style=\"text-align: right;\">\n",
       "      <th></th>\n",
       "      <th>Number</th>\n",
       "      <th>City</th>\n",
       "      <th>Colors Reported</th>\n",
       "      <th>Shape Reported</th>\n",
       "      <th>State</th>\n",
       "      <th>Time</th>\n",
       "    </tr>\n",
       "  </thead>\n",
       "  <tbody>\n",
       "    <tr>\n",
       "      <th>0</th>\n",
       "      <td>123456.0</td>\n",
       "      <td>Ithaca</td>\n",
       "      <td>NaN</td>\n",
       "      <td>TRIANGLE</td>\n",
       "      <td>NY</td>\n",
       "      <td>6/1/1930 22:00</td>\n",
       "    </tr>\n",
       "    <tr>\n",
       "      <th>1</th>\n",
       "      <td>54321.0</td>\n",
       "      <td>Willingboro</td>\n",
       "      <td>green</td>\n",
       "      <td>NaN</td>\n",
       "      <td>NJ</td>\n",
       "      <td>6/30/1930 20:00</td>\n",
       "    </tr>\n",
       "    <tr>\n",
       "      <th>2</th>\n",
       "      <td>1234.0</td>\n",
       "      <td>Holyoke</td>\n",
       "      <td>NaN</td>\n",
       "      <td>OVAL</td>\n",
       "      <td>CO</td>\n",
       "      <td>2/15/1931 14:00</td>\n",
       "    </tr>\n",
       "    <tr>\n",
       "      <th>3</th>\n",
       "      <td>3456.0</td>\n",
       "      <td>Abilene</td>\n",
       "      <td>blue</td>\n",
       "      <td>DISK</td>\n",
       "      <td>KS</td>\n",
       "      <td>1/12/1900 0:00</td>\n",
       "    </tr>\n",
       "    <tr>\n",
       "      <th>4</th>\n",
       "      <td>7654.0</td>\n",
       "      <td>New York Worlds Fair</td>\n",
       "      <td>NaN</td>\n",
       "      <td>LIGHT</td>\n",
       "      <td>NY</td>\n",
       "      <td>4/18/1933 19:00</td>\n",
       "    </tr>\n",
       "    <tr>\n",
       "      <th>5</th>\n",
       "      <td>12345.0</td>\n",
       "      <td>Valley City</td>\n",
       "      <td>NaN</td>\n",
       "      <td>NaN</td>\n",
       "      <td>N</td>\n",
       "      <td>9/15/1934 15:30</td>\n",
       "    </tr>\n",
       "    <tr>\n",
       "      <th>6</th>\n",
       "      <td>87654.0</td>\n",
       "      <td>Crater Lake</td>\n",
       "      <td>yellow</td>\n",
       "      <td>CIRCLE</td>\n",
       "      <td>CA</td>\n",
       "      <td>6/15/1935 0:00</td>\n",
       "    </tr>\n",
       "    <tr>\n",
       "      <th>7</th>\n",
       "      <td>6789.0</td>\n",
       "      <td>Alma</td>\n",
       "      <td>NaN</td>\n",
       "      <td>DISK</td>\n",
       "      <td>MI</td>\n",
       "      <td>7/15/1936 0:00</td>\n",
       "    </tr>\n",
       "    <tr>\n",
       "      <th>8</th>\n",
       "      <td>12345.0</td>\n",
       "      <td>Eklutna</td>\n",
       "      <td>green</td>\n",
       "      <td>12</td>\n",
       "      <td>AK</td>\n",
       "      <td>10/15/1936 17:00</td>\n",
       "    </tr>\n",
       "    <tr>\n",
       "      <th>9</th>\n",
       "      <td>4567.0</td>\n",
       "      <td>Hubbard</td>\n",
       "      <td>red</td>\n",
       "      <td>CYLINDER</td>\n",
       "      <td>NaN</td>\n",
       "      <td>6/15/1937 0:00</td>\n",
       "    </tr>\n",
       "    <tr>\n",
       "      <th>10</th>\n",
       "      <td>7654.0</td>\n",
       "      <td>Fontana</td>\n",
       "      <td>NaN</td>\n",
       "      <td>LIGHT</td>\n",
       "      <td>CA</td>\n",
       "      <td>8/15/1937 21:00</td>\n",
       "    </tr>\n",
       "    <tr>\n",
       "      <th>11</th>\n",
       "      <td>12345.0</td>\n",
       "      <td>Waterloo</td>\n",
       "      <td>NaN</td>\n",
       "      <td>FIREBALL</td>\n",
       "      <td>AL</td>\n",
       "      <td>6/1/1939 20:00</td>\n",
       "    </tr>\n",
       "    <tr>\n",
       "      <th>12</th>\n",
       "      <td>6543.0</td>\n",
       "      <td>Belton</td>\n",
       "      <td>red</td>\n",
       "      <td>SPHERE</td>\n",
       "      <td>Y</td>\n",
       "      <td>6/30/1939 20:00</td>\n",
       "    </tr>\n",
       "    <tr>\n",
       "      <th>13</th>\n",
       "      <td>876.0</td>\n",
       "      <td>Keokuk</td>\n",
       "      <td>NaN</td>\n",
       "      <td>@</td>\n",
       "      <td>IA</td>\n",
       "      <td>7/7/1939 2:00</td>\n",
       "    </tr>\n",
       "    <tr>\n",
       "      <th>14</th>\n",
       "      <td>5432.0</td>\n",
       "      <td>Ludington</td>\n",
       "      <td>NaN</td>\n",
       "      <td>DISK</td>\n",
       "      <td>MI</td>\n",
       "      <td>6/1/1941 13:00</td>\n",
       "    </tr>\n",
       "    <tr>\n",
       "      <th>19</th>\n",
       "      <td>6543.0</td>\n",
       "      <td>Belton</td>\n",
       "      <td>red</td>\n",
       "      <td>???</td>\n",
       "      <td>Y</td>\n",
       "      <td>6/30/1939 20:00</td>\n",
       "    </tr>\n",
       "    <tr>\n",
       "      <th>20</th>\n",
       "      <td>876.0</td>\n",
       "      <td>Keokuk</td>\n",
       "      <td>not known</td>\n",
       "      <td>@</td>\n",
       "      <td>IA</td>\n",
       "      <td>7/7/1939 2:00</td>\n",
       "    </tr>\n",
       "    <tr>\n",
       "      <th>21</th>\n",
       "      <td>5432.0</td>\n",
       "      <td>Ludington</td>\n",
       "      <td>*****</td>\n",
       "      <td>DISK</td>\n",
       "      <td>MI</td>\n",
       "      <td>6/1/1941 13:00</td>\n",
       "    </tr>\n",
       "  </tbody>\n",
       "</table>\n",
       "</div>"
      ],
      "text/plain": [
       "      Number                  City Colors Reported Shape Reported State  \\\n",
       "0   123456.0                Ithaca             NaN       TRIANGLE    NY   \n",
       "1    54321.0           Willingboro           green            NaN    NJ   \n",
       "2     1234.0               Holyoke             NaN           OVAL    CO   \n",
       "3     3456.0               Abilene            blue           DISK    KS   \n",
       "4     7654.0  New York Worlds Fair             NaN          LIGHT    NY   \n",
       "5    12345.0           Valley City             NaN            NaN     N   \n",
       "6    87654.0           Crater Lake          yellow         CIRCLE    CA   \n",
       "7     6789.0                  Alma             NaN           DISK    MI   \n",
       "8    12345.0               Eklutna           green             12    AK   \n",
       "9     4567.0               Hubbard             red       CYLINDER   NaN   \n",
       "10    7654.0               Fontana             NaN          LIGHT    CA   \n",
       "11   12345.0              Waterloo             NaN       FIREBALL    AL   \n",
       "12    6543.0                Belton             red         SPHERE     Y   \n",
       "13     876.0                Keokuk             NaN              @    IA   \n",
       "14    5432.0             Ludington             NaN           DISK    MI   \n",
       "19    6543.0                Belton             red            ???     Y   \n",
       "20     876.0                Keokuk       not known              @    IA   \n",
       "21    5432.0             Ludington           *****           DISK    MI   \n",
       "\n",
       "                Time  \n",
       "0     6/1/1930 22:00  \n",
       "1    6/30/1930 20:00  \n",
       "2    2/15/1931 14:00  \n",
       "3     1/12/1900 0:00  \n",
       "4    4/18/1933 19:00  \n",
       "5    9/15/1934 15:30  \n",
       "6     6/15/1935 0:00  \n",
       "7     7/15/1936 0:00  \n",
       "8   10/15/1936 17:00  \n",
       "9     6/15/1937 0:00  \n",
       "10   8/15/1937 21:00  \n",
       "11    6/1/1939 20:00  \n",
       "12   6/30/1939 20:00  \n",
       "13     7/7/1939 2:00  \n",
       "14    6/1/1941 13:00  \n",
       "19   6/30/1939 20:00  \n",
       "20     7/7/1939 2:00  \n",
       "21    6/1/1941 13:00  "
      ]
     },
     "execution_count": 22,
     "metadata": {},
     "output_type": "execute_result"
    }
   ],
   "source": [
    "Data.loc[2,'Number'] = 1234  # replace a value at a specific location\n",
    "Data"
   ]
  },
  {
   "cell_type": "markdown",
   "metadata": {
    "colab_type": "text",
    "id": "K8Dfsm6kJ45M"
   },
   "source": [
    "<span style=\"font-family: Arial; font-weight:bold;font-size:1.5em;color:#00b3e5;\">   Droping Rows with Missing Values"
   ]
  },
  {
   "cell_type": "code",
   "execution_count": 23,
   "metadata": {
    "colab": {},
    "colab_type": "code",
    "id": "1nwsq8jwJ45N",
    "outputId": "aad579f9-b4ff-42cb-c062-6edbf6d93d73",
    "scrolled": true
   },
   "outputs": [
    {
     "data": {
      "text/plain": [
       "Number             0\n",
       "City               0\n",
       "Colors Reported    0\n",
       "Shape Reported     0\n",
       "State              0\n",
       "Time               0\n",
       "dtype: int64"
      ]
     },
     "execution_count": 23,
     "metadata": {},
     "output_type": "execute_result"
    }
   ],
   "source": [
    "Data.dropna(inplace=True)  # Drops all the rows that have atleast one missing values\n",
    "Data.isnull().sum()\n"
   ]
  },
  {
   "cell_type": "code",
   "execution_count": 24,
   "metadata": {
    "colab": {},
    "colab_type": "code",
    "id": "Gg0p2IZ3J45Q",
    "outputId": "47fca474-3c8c-45c4-e071-1aa213796d42"
   },
   "outputs": [
    {
     "data": {
      "text/html": [
       "<div>\n",
       "<style scoped>\n",
       "    .dataframe tbody tr th:only-of-type {\n",
       "        vertical-align: middle;\n",
       "    }\n",
       "\n",
       "    .dataframe tbody tr th {\n",
       "        vertical-align: top;\n",
       "    }\n",
       "\n",
       "    .dataframe thead th {\n",
       "        text-align: right;\n",
       "    }\n",
       "</style>\n",
       "<table border=\"1\" class=\"dataframe\">\n",
       "  <thead>\n",
       "    <tr style=\"text-align: right;\">\n",
       "      <th></th>\n",
       "      <th>Number</th>\n",
       "      <th>City</th>\n",
       "      <th>Colors Reported</th>\n",
       "      <th>Shape Reported</th>\n",
       "      <th>State</th>\n",
       "      <th>Time</th>\n",
       "    </tr>\n",
       "  </thead>\n",
       "  <tbody>\n",
       "    <tr>\n",
       "      <th>3</th>\n",
       "      <td>3456.0</td>\n",
       "      <td>Abilene</td>\n",
       "      <td>blue</td>\n",
       "      <td>DISK</td>\n",
       "      <td>KS</td>\n",
       "      <td>1/12/1900 0:00</td>\n",
       "    </tr>\n",
       "    <tr>\n",
       "      <th>6</th>\n",
       "      <td>87654.0</td>\n",
       "      <td>Crater Lake</td>\n",
       "      <td>yellow</td>\n",
       "      <td>CIRCLE</td>\n",
       "      <td>CA</td>\n",
       "      <td>6/15/1935 0:00</td>\n",
       "    </tr>\n",
       "    <tr>\n",
       "      <th>8</th>\n",
       "      <td>12345.0</td>\n",
       "      <td>Eklutna</td>\n",
       "      <td>green</td>\n",
       "      <td>12</td>\n",
       "      <td>AK</td>\n",
       "      <td>10/15/1936 17:00</td>\n",
       "    </tr>\n",
       "    <tr>\n",
       "      <th>12</th>\n",
       "      <td>6543.0</td>\n",
       "      <td>Belton</td>\n",
       "      <td>red</td>\n",
       "      <td>SPHERE</td>\n",
       "      <td>Y</td>\n",
       "      <td>6/30/1939 20:00</td>\n",
       "    </tr>\n",
       "    <tr>\n",
       "      <th>19</th>\n",
       "      <td>6543.0</td>\n",
       "      <td>Belton</td>\n",
       "      <td>red</td>\n",
       "      <td>???</td>\n",
       "      <td>Y</td>\n",
       "      <td>6/30/1939 20:00</td>\n",
       "    </tr>\n",
       "    <tr>\n",
       "      <th>20</th>\n",
       "      <td>876.0</td>\n",
       "      <td>Keokuk</td>\n",
       "      <td>not known</td>\n",
       "      <td>@</td>\n",
       "      <td>IA</td>\n",
       "      <td>7/7/1939 2:00</td>\n",
       "    </tr>\n",
       "    <tr>\n",
       "      <th>21</th>\n",
       "      <td>5432.0</td>\n",
       "      <td>Ludington</td>\n",
       "      <td>*****</td>\n",
       "      <td>DISK</td>\n",
       "      <td>MI</td>\n",
       "      <td>6/1/1941 13:00</td>\n",
       "    </tr>\n",
       "  </tbody>\n",
       "</table>\n",
       "</div>"
      ],
      "text/plain": [
       "     Number         City Colors Reported Shape Reported State  \\\n",
       "3    3456.0      Abilene            blue           DISK    KS   \n",
       "6   87654.0  Crater Lake          yellow         CIRCLE    CA   \n",
       "8   12345.0      Eklutna           green             12    AK   \n",
       "12   6543.0       Belton             red         SPHERE     Y   \n",
       "19   6543.0       Belton             red            ???     Y   \n",
       "20    876.0       Keokuk       not known              @    IA   \n",
       "21   5432.0    Ludington           *****           DISK    MI   \n",
       "\n",
       "                Time  \n",
       "3     1/12/1900 0:00  \n",
       "6     6/15/1935 0:00  \n",
       "8   10/15/1936 17:00  \n",
       "12   6/30/1939 20:00  \n",
       "19   6/30/1939 20:00  \n",
       "20     7/7/1939 2:00  \n",
       "21    6/1/1941 13:00  "
      ]
     },
     "execution_count": 24,
     "metadata": {},
     "output_type": "execute_result"
    }
   ],
   "source": [
    "Data"
   ]
  },
  {
   "cell_type": "markdown",
   "metadata": {
    "colab_type": "text",
    "id": "t9l8CuSHJ45W"
   },
   "source": [
    "* Getting rid of rows with missing values is the easiest way of dealing with their presence\n",
    "* But the downside is that we lose valid data from other columns which do not have missing values for that particular row"
   ]
  },
  {
   "cell_type": "markdown",
   "metadata": {},
   "source": [
    "# Dealing with incorrect or unwanted observations"
   ]
  },
  {
   "cell_type": "code",
   "execution_count": 25,
   "metadata": {},
   "outputs": [
    {
     "data": {
      "text/html": [
       "<div>\n",
       "<style scoped>\n",
       "    .dataframe tbody tr th:only-of-type {\n",
       "        vertical-align: middle;\n",
       "    }\n",
       "\n",
       "    .dataframe tbody tr th {\n",
       "        vertical-align: top;\n",
       "    }\n",
       "\n",
       "    .dataframe thead th {\n",
       "        text-align: right;\n",
       "    }\n",
       "</style>\n",
       "<table border=\"1\" class=\"dataframe\">\n",
       "  <thead>\n",
       "    <tr style=\"text-align: right;\">\n",
       "      <th></th>\n",
       "      <th>Number</th>\n",
       "      <th>City</th>\n",
       "      <th>Colors Reported</th>\n",
       "      <th>Shape Reported</th>\n",
       "      <th>State</th>\n",
       "      <th>Time</th>\n",
       "    </tr>\n",
       "  </thead>\n",
       "  <tbody>\n",
       "    <tr>\n",
       "      <th>8</th>\n",
       "      <td>12345.0</td>\n",
       "      <td>Eklutna</td>\n",
       "      <td>green</td>\n",
       "      <td>12</td>\n",
       "      <td>AK</td>\n",
       "      <td>10/15/1936 17:00</td>\n",
       "    </tr>\n",
       "    <tr>\n",
       "      <th>12</th>\n",
       "      <td>6543.0</td>\n",
       "      <td>Belton</td>\n",
       "      <td>red</td>\n",
       "      <td>SPHERE</td>\n",
       "      <td>Y</td>\n",
       "      <td>6/30/1939 20:00</td>\n",
       "    </tr>\n",
       "    <tr>\n",
       "      <th>19</th>\n",
       "      <td>6543.0</td>\n",
       "      <td>Belton</td>\n",
       "      <td>red</td>\n",
       "      <td>???</td>\n",
       "      <td>Y</td>\n",
       "      <td>6/30/1939 20:00</td>\n",
       "    </tr>\n",
       "    <tr>\n",
       "      <th>20</th>\n",
       "      <td>876.0</td>\n",
       "      <td>Keokuk</td>\n",
       "      <td>not known</td>\n",
       "      <td>@</td>\n",
       "      <td>IA</td>\n",
       "      <td>7/7/1939 2:00</td>\n",
       "    </tr>\n",
       "    <tr>\n",
       "      <th>21</th>\n",
       "      <td>5432.0</td>\n",
       "      <td>Ludington</td>\n",
       "      <td>*****</td>\n",
       "      <td>DISK</td>\n",
       "      <td>MI</td>\n",
       "      <td>6/1/1941 13:00</td>\n",
       "    </tr>\n",
       "  </tbody>\n",
       "</table>\n",
       "</div>"
      ],
      "text/plain": [
       "     Number       City Colors Reported Shape Reported State              Time\n",
       "8   12345.0    Eklutna           green             12    AK  10/15/1936 17:00\n",
       "12   6543.0     Belton             red         SPHERE     Y   6/30/1939 20:00\n",
       "19   6543.0     Belton             red            ???     Y   6/30/1939 20:00\n",
       "20    876.0     Keokuk       not known              @    IA     7/7/1939 2:00\n",
       "21   5432.0  Ludington           *****           DISK    MI    6/1/1941 13:00"
      ]
     },
     "execution_count": 25,
     "metadata": {},
     "output_type": "execute_result"
    }
   ],
   "source": [
    "Data.tail()"
   ]
  },
  {
   "cell_type": "markdown",
   "metadata": {},
   "source": [
    "Here you can see some incorrect and currupted values like **** and @ in your data.\n",
    "You need to look for such values manually sometime and you can also use summary stats or plots to find such values."
   ]
  },
  {
   "cell_type": "markdown",
   "metadata": {},
   "source": [
    "# These values can be modified based on the problem you are trying to solve and what is required for your case.\n",
    "Here we can say that **** value can be replaced by null or most common color value and @ is also like a null value which can be imputed based on the methods shown above.\n"
   ]
  },
  {
   "cell_type": "code",
   "execution_count": 26,
   "metadata": {},
   "outputs": [],
   "source": [
    "## Try modifying these incorrect values based on your case."
   ]
  },
  {
   "cell_type": "markdown",
   "metadata": {},
   "source": [
    "# Dealing with Outliers \n",
    "In the part given below we will discuss outliers in a dataset."
   ]
  },
  {
   "cell_type": "markdown",
   "metadata": {
    "colab_type": "text",
    "id": "EOM18xTSJ45Y"
   },
   "source": [
    "<span style=\"font-family: Arial; font-weight:bold;font-size:1.5em;color:#00b3e5;\">  About DataSet :\n",
    "    \n",
    "**We will be using Boston House Pricing Dataset which is included in the sklearn dataset API. We will load the dataset and separate out the features and targets.**"
   ]
  },
  {
   "cell_type": "markdown",
   "metadata": {
    "colab_type": "text",
    "id": "2IQc4uEoJ45Z"
   },
   "source": [
    "<span style=\"font-family: Arial; font-weight:bold;font-size:1.5em;color:#00b3e5;\"> Importing the library:"
   ]
  },
  {
   "cell_type": "code",
   "execution_count": 27,
   "metadata": {
    "colab": {},
    "colab_type": "code",
    "id": "53QHk-VcJ45a"
   },
   "outputs": [],
   "source": [
    "from sklearn.datasets import load_boston"
   ]
  },
  {
   "cell_type": "markdown",
   "metadata": {
    "colab_type": "text",
    "id": "WqSlY4QlJ45c"
   },
   "source": [
    "<span style=\"font-family: Arial; font-weight:bold;font-size:1.5em;color:#00b3e5;\"> Loading the data"
   ]
  },
  {
   "cell_type": "code",
   "execution_count": 28,
   "metadata": {
    "colab": {},
    "colab_type": "code",
    "id": "9goOOhOBJ45d"
   },
   "outputs": [],
   "source": [
    "boston = load_boston()\n",
    "x = boston.data\n",
    "y = boston.target\n",
    "columns = boston.feature_names"
   ]
  },
  {
   "cell_type": "code",
   "execution_count": 29,
   "metadata": {
    "colab": {},
    "colab_type": "code",
    "id": "wwk9pJGMJ45f",
    "outputId": "7d81e167-69e7-44fa-b090-f00f6788148f",
    "scrolled": true
   },
   "outputs": [
    {
     "data": {
      "text/html": [
       "<div>\n",
       "<style scoped>\n",
       "    .dataframe tbody tr th:only-of-type {\n",
       "        vertical-align: middle;\n",
       "    }\n",
       "\n",
       "    .dataframe tbody tr th {\n",
       "        vertical-align: top;\n",
       "    }\n",
       "\n",
       "    .dataframe thead th {\n",
       "        text-align: right;\n",
       "    }\n",
       "</style>\n",
       "<table border=\"1\" class=\"dataframe\">\n",
       "  <thead>\n",
       "    <tr style=\"text-align: right;\">\n",
       "      <th></th>\n",
       "      <th>CRIM</th>\n",
       "      <th>ZN</th>\n",
       "      <th>INDUS</th>\n",
       "      <th>CHAS</th>\n",
       "      <th>NOX</th>\n",
       "      <th>RM</th>\n",
       "      <th>AGE</th>\n",
       "      <th>DIS</th>\n",
       "      <th>RAD</th>\n",
       "      <th>TAX</th>\n",
       "      <th>PTRATIO</th>\n",
       "      <th>B</th>\n",
       "      <th>LSTAT</th>\n",
       "    </tr>\n",
       "  </thead>\n",
       "  <tbody>\n",
       "    <tr>\n",
       "      <th>0</th>\n",
       "      <td>0.00632</td>\n",
       "      <td>18.0</td>\n",
       "      <td>2.31</td>\n",
       "      <td>0.0</td>\n",
       "      <td>0.538</td>\n",
       "      <td>6.575</td>\n",
       "      <td>65.2</td>\n",
       "      <td>4.0900</td>\n",
       "      <td>1.0</td>\n",
       "      <td>296.0</td>\n",
       "      <td>15.3</td>\n",
       "      <td>396.90</td>\n",
       "      <td>4.98</td>\n",
       "    </tr>\n",
       "    <tr>\n",
       "      <th>1</th>\n",
       "      <td>0.02731</td>\n",
       "      <td>0.0</td>\n",
       "      <td>7.07</td>\n",
       "      <td>0.0</td>\n",
       "      <td>0.469</td>\n",
       "      <td>6.421</td>\n",
       "      <td>78.9</td>\n",
       "      <td>4.9671</td>\n",
       "      <td>2.0</td>\n",
       "      <td>242.0</td>\n",
       "      <td>17.8</td>\n",
       "      <td>396.90</td>\n",
       "      <td>9.14</td>\n",
       "    </tr>\n",
       "    <tr>\n",
       "      <th>2</th>\n",
       "      <td>0.02729</td>\n",
       "      <td>0.0</td>\n",
       "      <td>7.07</td>\n",
       "      <td>0.0</td>\n",
       "      <td>0.469</td>\n",
       "      <td>7.185</td>\n",
       "      <td>61.1</td>\n",
       "      <td>4.9671</td>\n",
       "      <td>2.0</td>\n",
       "      <td>242.0</td>\n",
       "      <td>17.8</td>\n",
       "      <td>392.83</td>\n",
       "      <td>4.03</td>\n",
       "    </tr>\n",
       "    <tr>\n",
       "      <th>3</th>\n",
       "      <td>0.03237</td>\n",
       "      <td>0.0</td>\n",
       "      <td>2.18</td>\n",
       "      <td>0.0</td>\n",
       "      <td>0.458</td>\n",
       "      <td>6.998</td>\n",
       "      <td>45.8</td>\n",
       "      <td>6.0622</td>\n",
       "      <td>3.0</td>\n",
       "      <td>222.0</td>\n",
       "      <td>18.7</td>\n",
       "      <td>394.63</td>\n",
       "      <td>2.94</td>\n",
       "    </tr>\n",
       "    <tr>\n",
       "      <th>4</th>\n",
       "      <td>0.06905</td>\n",
       "      <td>0.0</td>\n",
       "      <td>2.18</td>\n",
       "      <td>0.0</td>\n",
       "      <td>0.458</td>\n",
       "      <td>7.147</td>\n",
       "      <td>54.2</td>\n",
       "      <td>6.0622</td>\n",
       "      <td>3.0</td>\n",
       "      <td>222.0</td>\n",
       "      <td>18.7</td>\n",
       "      <td>396.90</td>\n",
       "      <td>5.33</td>\n",
       "    </tr>\n",
       "  </tbody>\n",
       "</table>\n",
       "</div>"
      ],
      "text/plain": [
       "      CRIM    ZN  INDUS  CHAS    NOX     RM   AGE     DIS  RAD    TAX  \\\n",
       "0  0.00632  18.0   2.31   0.0  0.538  6.575  65.2  4.0900  1.0  296.0   \n",
       "1  0.02731   0.0   7.07   0.0  0.469  6.421  78.9  4.9671  2.0  242.0   \n",
       "2  0.02729   0.0   7.07   0.0  0.469  7.185  61.1  4.9671  2.0  242.0   \n",
       "3  0.03237   0.0   2.18   0.0  0.458  6.998  45.8  6.0622  3.0  222.0   \n",
       "4  0.06905   0.0   2.18   0.0  0.458  7.147  54.2  6.0622  3.0  222.0   \n",
       "\n",
       "   PTRATIO       B  LSTAT  \n",
       "0     15.3  396.90   4.98  \n",
       "1     17.8  396.90   9.14  \n",
       "2     17.8  392.83   4.03  \n",
       "3     18.7  394.63   2.94  \n",
       "4     18.7  396.90   5.33  "
      ]
     },
     "execution_count": 29,
     "metadata": {},
     "output_type": "execute_result"
    }
   ],
   "source": [
    "boston_df = pd.DataFrame(boston.data)\n",
    "boston_df.columns = columns\n",
    "boston_df.head()"
   ]
  },
  {
   "cell_type": "markdown",
   "metadata": {
    "colab_type": "text",
    "id": "wyxM6tICJ45j"
   },
   "source": [
    "<span style=\"font-family: Arial; font-weight:bold;font-size:1.5em;color:#00b3e5;\"> Discover outliers with visualization tools\n",
    "\n",
    "### Box plot-"
   ]
  },
  {
   "cell_type": "code",
   "execution_count": 30,
   "metadata": {
    "colab": {},
    "colab_type": "code",
    "id": "h0U6ei7hJ45k",
    "outputId": "d34bdbb1-bffe-4433-b4ab-200cc60e4198"
   },
   "outputs": [
    {
     "data": {
      "text/plain": [
       "<matplotlib.axes._subplots.AxesSubplot at 0x12a4ddc50>"
      ]
     },
     "execution_count": 30,
     "metadata": {},
     "output_type": "execute_result"
    },
    {
     "data": {
      "image/png": "[encoded data removed]",
      "text/plain": [
       "<Figure size 432x288 with 1 Axes>"
      ]
     },
     "metadata": {
      "needs_background": "light"
     },
     "output_type": "display_data"
    }
   ],
   "source": [
    "import seaborn as sns     # library for advance visualization\n",
    "sns.boxplot(x=boston_df['DIS'])   # box plot"
   ]
  },
  {
   "cell_type": "markdown",
   "metadata": {
    "colab_type": "text",
    "id": "wmbp1UMnJ45m"
   },
   "source": [
    "**Note:** Above plot shows three points between 10 to 12, these are outliers as there are not included in the box of other observation i.e no where near the quartiles."
   ]
  },
  {
   "cell_type": "markdown",
   "metadata": {
    "colab_type": "text",
    "id": "_YS6oKttJ45n"
   },
   "source": [
    "<span style=\"font-family: Arial; font-weight:bold;font-size:1.5em;color:#00b3e5;\"> Scatter plot-"
   ]
  },
  {
   "cell_type": "code",
   "execution_count": 32,
   "metadata": {
    "colab": {},
    "colab_type": "code",
    "id": "aVUp6nuyJ45o",
    "outputId": "5571d7ac-f0ed-4697-a5f2-2b41d05f493f"
   },
   "outputs": [
    {
     "data": {
      "image/png": "[encoded data removed]",
      "text/plain": [
       "<Figure size 1152x576 with 1 Axes>"
      ]
     },
     "metadata": {
      "needs_background": "light"
     },
     "output_type": "display_data"
    }
   ],
   "source": [
    "fig, ax = plt.subplots(figsize=(16,8))   # setting the figure size of the plot\n",
    "ax.scatter(boston_df['INDUS'], boston_df['TAX'])  # scatter plot\n",
    "ax.set_xlabel('non-retail business acres per town')\n",
    "ax.set_ylabel('Full-value property-tax rate per $10,000')\n",
    "plt.show()"
   ]
  },
  {
   "cell_type": "code",
   "execution_count": 33,
   "metadata": {},
   "outputs": [
    {
     "data": {
      "text/plain": [
       "<matplotlib.axes._subplots.AxesSubplot at 0x12ab9ab00>"
      ]
     },
     "execution_count": 33,
     "metadata": {},
     "output_type": "execute_result"
    },
    {
     "data": {
      "image/png": "[encoded data removed]",
      "text/plain": [
       "<Figure size 432x288 with 1 Axes>"
      ]
     },
     "metadata": {
      "needs_background": "light"
     },
     "output_type": "display_data"
    }
   ],
   "source": [
    "sns.scatterplot(boston_df['INDUS'], boston_df['TAX'])"
   ]
  },
  {
   "cell_type": "markdown",
   "metadata": {
    "colab_type": "text",
    "id": "IE3L2K-OJ45q"
   },
   "source": [
    "**Note:** Looking at the plot above, we can see most of data points are lying on the bottom left side but there are points which are far from the population like top right corner. Those are potential outliers."
   ]
  },
  {
   "cell_type": "markdown",
   "metadata": {
    "colab_type": "text",
    "id": "eqDK5vzxJ45r"
   },
   "source": [
    "<span style=\"font-family: Arial; font-weight:bold;font-size:1.5em;color:#00b3e5;\"> Discover outliers with statistical rules\n",
    " ## Z-Score-"
   ]
  },
  {
   "cell_type": "code",
   "execution_count": 34,
   "metadata": {
    "colab": {},
    "colab_type": "code",
    "id": "tBZxUDfBJ45r",
    "outputId": "b215df50-b3f9-404b-d4b6-454cf614ac2a"
   },
   "outputs": [
    {
     "name": "stdout",
     "output_type": "stream",
     "text": [
      "[[0.41978194 0.28482986 1.2879095  ... 1.45900038 0.44105193 1.0755623 ]\n",
      " [0.41733926 0.48772236 0.59338101 ... 0.30309415 0.44105193 0.49243937]\n",
      " [0.41734159 0.48772236 0.59338101 ... 0.30309415 0.39642699 1.2087274 ]\n",
      " ...\n",
      " [0.41344658 0.48772236 0.11573841 ... 1.17646583 0.44105193 0.98304761]\n",
      " [0.40776407 0.48772236 0.11573841 ... 1.17646583 0.4032249  0.86530163]\n",
      " [0.41500016 0.48772236 0.11573841 ... 1.17646583 0.44105193 0.66905833]]\n"
     ]
    }
   ],
   "source": [
    "from scipy import stats\n",
    "import numpy as np\n",
    "z = np.abs(stats.zscore(boston_df))   # get the z-score of every value with respect to their columns\n",
    "print(z)"
   ]
  },
  {
   "cell_type": "markdown",
   "metadata": {
    "colab_type": "text",
    "id": "IXEB1ldyJ45u"
   },
   "source": [
    "**Note:** Looking the code and the output above, it is difficult to say which data point is an outlier. Let’s try and define a threshold to identify an outlier."
   ]
  },
  {
   "cell_type": "code",
   "execution_count": 35,
   "metadata": {
    "colab": {},
    "colab_type": "code",
    "id": "wEKTUzcRJ45w",
    "outputId": "8da488bf-3097-4a86-d621-694a3935131f"
   },
   "outputs": [
    {
     "data": {
      "text/plain": [
       "(array([ 55,  56,  57, 102, 141, 142, 152, 154, 155, 160, 162, 163, 199,\n",
       "        200, 201, 202, 203, 204, 208, 209, 210, 211, 212, 216, 218, 219,\n",
       "        220, 221, 222, 225, 234, 236, 256, 257, 262, 269, 273, 274, 276,\n",
       "        277, 282, 283, 283, 284, 347, 351, 352, 353, 353, 354, 355, 356,\n",
       "        357, 358, 363, 364, 364, 365, 367, 369, 370, 372, 373, 374, 374,\n",
       "        380, 398, 404, 405, 406, 410, 410, 411, 412, 412, 414, 414, 415,\n",
       "        416, 418, 418, 419, 423, 424, 425, 426, 427, 427, 429, 431, 436,\n",
       "        437, 438, 445, 450, 454, 455, 456, 457, 466]),\n",
       " array([ 1,  1,  1, 11, 12,  3,  3,  3,  3,  3,  3,  3,  1,  1,  1,  1,  1,\n",
       "         1,  3,  3,  3,  3,  3,  3,  3,  3,  3,  3,  3,  5,  3,  3,  1,  5,\n",
       "         5,  3,  3,  3,  3,  3,  3,  1,  3,  1,  1,  7,  7,  1,  7,  7,  7,\n",
       "         3,  3,  3,  3,  3,  5,  5,  5,  3,  3,  3, 12,  5, 12,  0,  0,  0,\n",
       "         0,  5,  0, 11, 11, 11, 12,  0, 12, 11, 11,  0, 11, 11, 11, 11, 11,\n",
       "        11,  0, 11, 11, 11, 11, 11, 11, 11, 11, 11, 11, 11, 11, 11]))"
      ]
     },
     "execution_count": 35,
     "metadata": {},
     "output_type": "execute_result"
    }
   ],
   "source": [
    "threshold = 3\n",
    "np.where(z > threshold)"
   ]
  },
  {
   "cell_type": "markdown",
   "metadata": {
    "colab_type": "text",
    "id": "o1NqXuBiJ450"
   },
   "source": [
    "**Note:** The first array contains the list of row numbers and second array respective column numbers, which mean z[55][1] have a Z-score higher than 3."
   ]
  },
  {
   "cell_type": "code",
   "execution_count": 36,
   "metadata": {
    "colab": {},
    "colab_type": "code",
    "id": "1dM7hQ3GJ451",
    "outputId": "0ea09110-446c-45ab-bc66-345fd4fb5fc5"
   },
   "outputs": [
    {
     "name": "stdout",
     "output_type": "stream",
     "text": [
      "3.375038763517309\n"
     ]
    }
   ],
   "source": [
    "print(z[55][1])"
   ]
  },
  {
   "cell_type": "markdown",
   "metadata": {
    "colab_type": "text",
    "id": "MSydJUPgJ455"
   },
   "source": [
    "**55th record on column ZN is an outlier.**"
   ]
  },
  {
   "cell_type": "markdown",
   "metadata": {
    "colab_type": "text",
    "id": "ML5o4DhHJ456"
   },
   "source": [
    "## IQR  -"
   ]
  },
  {
   "cell_type": "code",
   "execution_count": 37,
   "metadata": {
    "colab": {},
    "colab_type": "code",
    "id": "Kn6i1YucJ459",
    "outputId": "da9dd6c1-792d-4e94-ed4d-97502efed795"
   },
   "outputs": [
    {
     "name": "stdout",
     "output_type": "stream",
     "text": [
      "CRIM         3.595038\n",
      "ZN          12.500000\n",
      "INDUS       12.910000\n",
      "CHAS         0.000000\n",
      "NOX          0.175000\n",
      "RM           0.738000\n",
      "AGE         49.050000\n",
      "DIS          3.088250\n",
      "RAD         20.000000\n",
      "TAX        387.000000\n",
      "PTRATIO      2.800000\n",
      "B           20.847500\n",
      "LSTAT       10.005000\n",
      "dtype: float64\n"
     ]
    }
   ],
   "source": [
    "Q1 = boston_df.quantile(0.25)\n",
    "Q3 = boston_df.quantile(0.75)\n",
    "IQR = Q3 - Q1\n",
    "print(IQR)"
   ]
  },
  {
   "cell_type": "code",
   "execution_count": 38,
   "metadata": {
    "colab": {},
    "colab_type": "code",
    "id": "buQTY2EUJ46A",
    "outputId": "0f4926d7-4bb4-4f49-cf2b-ad45865b860a"
   },
   "outputs": [
    {
     "data": {
      "text/plain": [
       "(array([ 18,  25,  27,  32,  34,  39,  40,  54,  55,  56,  57,  65,  66,\n",
       "         97,  98, 102, 118, 134, 141, 142, 145, 146, 151, 152, 152, 153,\n",
       "        154, 154, 155, 155, 156, 160, 160, 162, 162, 163, 163, 165, 166,\n",
       "        167, 168, 169, 170, 180, 186, 187, 188, 189, 190, 191, 192, 193,\n",
       "        194, 195, 195, 196, 196, 197, 197, 198, 198, 199, 200, 201, 202,\n",
       "        203, 203, 204, 204, 208, 209, 210, 211, 212, 216, 218, 219, 220,\n",
       "        221, 222, 224, 225, 226, 232, 233, 234, 236, 253, 254, 255, 256,\n",
       "        257, 257, 258, 259, 260, 261, 262, 262, 263, 264, 265, 266, 267,\n",
       "        267, 268, 269, 273, 274, 274, 275, 276, 276, 277, 277, 278, 280,\n",
       "        282, 283, 283, 283, 284, 285, 286, 286, 287, 288, 289, 290, 291,\n",
       "        292, 298, 299, 300, 301, 302, 303, 304, 305, 306, 307, 331, 332,\n",
       "        341, 343, 344, 347, 348, 349, 350, 351, 351, 352, 352, 353, 353,\n",
       "        354, 354, 355, 355, 356, 357, 358, 363, 364, 364, 365, 366, 367,\n",
       "        367, 367, 369, 370, 371, 372, 373, 373, 374, 374, 374, 375, 376,\n",
       "        377, 378, 379, 380, 381, 382, 384, 384, 384, 385, 386, 386, 387,\n",
       "        387, 388, 392, 394, 398, 399, 399, 400, 401, 402, 403, 404, 404,\n",
       "        405, 406, 406, 407, 407, 408, 409, 409, 410, 410, 411, 411, 412,\n",
       "        412, 412, 412, 413, 413, 414, 414, 414, 414, 415, 415, 416, 416,\n",
       "        417, 417, 418, 418, 419, 419, 420, 420, 421, 422, 422, 423, 424,\n",
       "        425, 425, 426, 426, 427, 427, 428, 429, 429, 430, 431, 431, 432,\n",
       "        433, 434, 434, 435, 435, 436, 436, 437, 437, 438, 438, 438, 439,\n",
       "        440, 441, 443, 444, 444, 445, 445, 446, 447, 448, 449, 450, 454,\n",
       "        454, 455, 456, 457, 458, 460, 465, 466, 467, 468, 469, 475, 477,\n",
       "        478, 479, 489, 490]),\n",
       " array([11, 11, 11, 11, 11,  1,  1,  1,  1,  1,  1,  1,  1,  5,  5, 11, 11,\n",
       "        11, 12,  3, 11, 11, 11,  3, 11, 11,  3, 11,  3, 11, 11,  3, 11,  3,\n",
       "         5,  3,  5, 11,  5, 11, 11, 11, 11,  5,  5,  1,  1,  1,  1,  1,  1,\n",
       "         1,  1,  1,  5,  1, 10,  1, 10,  1, 10,  1,  1,  1,  1,  1,  5,  1,\n",
       "         5,  3,  3,  3,  3,  3,  3,  3,  3,  3,  3,  3,  5,  5,  5,  5,  5,\n",
       "         3,  3,  5,  1,  1,  1,  5, 10, 10, 10, 10, 10,  5, 10, 10, 10, 10,\n",
       "        10,  5, 10, 10,  3,  3,  1,  3,  1,  1,  3,  1,  3,  1,  5,  3,  1,\n",
       "         3,  5,  1,  1,  1, 11,  1,  1,  1,  1,  1,  1,  1,  1,  1,  1,  1,\n",
       "         1,  1,  1,  1,  1,  1,  1,  1,  1,  1,  1,  1,  1,  1,  1,  7,  1,\n",
       "         7,  1,  7,  1,  7,  1,  7,  3,  3,  3,  3,  3,  5,  5, 11,  0,  5,\n",
       "        11,  3,  3,  0,  3,  0, 12,  0,  5, 12,  0,  0,  0,  0,  0,  0,  0,\n",
       "         0,  0,  5, 11,  0,  0,  5,  0, 12,  0,  0,  0,  0,  0, 11,  0,  0,\n",
       "         0,  0,  0, 11,  0,  0,  5,  0, 11, 11,  0, 11,  0, 11,  0, 11,  0,\n",
       "         5, 11, 12,  0, 11,  0,  5, 11, 12,  0, 11,  0, 11,  0, 11,  0, 11,\n",
       "         0, 11,  0, 11, 11,  0, 11, 11, 11,  0, 11,  0, 11,  0, 11, 11,  0,\n",
       "        11, 11,  0, 11, 11, 11,  0, 11,  0, 11,  0, 11,  0, 11,  0, 11, 12,\n",
       "         0,  0,  0,  0,  0, 11,  0, 11, 11,  0,  0, 11, 11,  0, 11, 11, 11,\n",
       "        11, 11, 11, 11, 11, 11,  0,  0, 11,  0,  0,  0, 11, 11]))"
      ]
     },
     "execution_count": 38,
     "metadata": {},
     "output_type": "execute_result"
    }
   ],
   "source": [
    "np.where((boston_df < (Q1 - 1.5 * IQR)) | (boston_df > (Q3 + 1.5 * IQR)))"
   ]
  },
  {
   "cell_type": "markdown",
   "metadata": {
    "colab_type": "text",
    "id": "TK9SWISBJ46C"
   },
   "source": [
    "<span style=\"font-family: Arial; font-weight:bold;font-size:1.5em;color:#00b3e5;\"> Working with Outliers: Correcting, Removing"
   ]
  },
  {
   "cell_type": "markdown",
   "metadata": {
    "colab_type": "text",
    "id": "QO3ARViqJ46D"
   },
   "source": [
    "### 1. Z-Score"
   ]
  },
  {
   "cell_type": "code",
   "execution_count": 69,
   "metadata": {
    "colab": {},
    "colab_type": "code",
    "id": "a0dGsMvJJ46E"
   },
   "outputs": [
    {
     "data": {
      "text/plain": [
       "((415, 13), (506, 13))"
      ]
     },
     "execution_count": 69,
     "metadata": {},
     "output_type": "execute_result"
    }
   ],
   "source": [
    "boston_df1 = boston_df[(z < 3).all(axis=1)]    # Select only the rows without a single outlier\n",
    "boston_df1.shape, boston_df.shape"
   ]
  },
  {
   "cell_type": "code",
   "execution_count": 70,
   "metadata": {},
   "outputs": [],
   "source": [
    "boston_df2 = boston_df.copy()   #make a copy of the dataframe\n",
    "\n",
    "#Replace all the outliers with median values. This will create new some outliers but, we will ignore them\n",
    "\n",
    "for i, j in zip(np.where(z > threshold)[0], np.where(z > threshold)[1]):# iterate using 2 variables.i for rows and j for columns\n",
    "    boston_df2.iloc[i,j] = boston_df.iloc[:,j].median()  # replace i,jth element with the median of j i.e, corresponding column"
   ]
  },
  {
   "cell_type": "code",
   "execution_count": 72,
   "metadata": {},
   "outputs": [
    {
     "name": "stderr",
     "output_type": "stream",
     "text": [
      "C:\\Users\\Content_ACER\\Anaconda3\\lib\\site-packages\\scipy\\stats\\stats.py:2253: RuntimeWarning: invalid value encountered in true_divide\n",
      "  return (a - mns) / sstd\n",
      "C:\\Users\\Content_ACER\\Anaconda3\\lib\\site-packages\\ipykernel_launcher.py:2: RuntimeWarning: invalid value encountered in greater\n",
      "  \n"
     ]
    },
    {
     "data": {
      "text/plain": [
       "(array([ 39,  40,  54,  65,  66, 145, 146, 155, 156, 163, 195, 196, 197,\n",
       "        198, 224, 232, 233, 253, 254, 255, 267, 286, 290, 291, 292, 298,\n",
       "        299, 300, 348, 354, 355, 367, 374, 375, 378, 379, 384, 384, 386,\n",
       "        387, 400, 403, 406, 409, 412, 413, 413, 414, 415, 417, 417, 428,\n",
       "        430, 432, 433, 434, 435, 438, 440], dtype=int64),\n",
       " array([ 1,  1,  1,  1,  1, 11, 11, 11, 11,  5,  1,  1,  1,  1,  5,  5,  5,\n",
       "         5,  1,  1,  5,  1,  1,  1,  1,  1,  1,  1,  1,  1,  1, 11,  0,  0,\n",
       "         0,  0,  0,  5,  0,  0,  0,  0,  0, 11,  0,  0, 11, 11,  0,  0, 11,\n",
       "        11, 11, 11, 11, 11, 11, 12,  0], dtype=int64))"
      ]
     },
     "execution_count": 72,
     "metadata": {},
     "output_type": "execute_result"
    }
   ],
   "source": [
    "z = np.abs(stats.zscore(boston_df2))\n",
    "np.where(z > threshold)  # New outliers detected after imputing the original outliers\n"
   ]
  },
  {
   "cell_type": "markdown",
   "metadata": {
    "colab_type": "text",
    "id": "qReS7-uXJ46I"
   },
   "source": [
    "### 2. IQR Score "
   ]
  },
  {
   "cell_type": "markdown",
   "metadata": {
    "colab_type": "text",
    "id": "VtBrG2qiJ46J"
   },
   "source": [
    "Just like Z-score we can use previously calculated IQR score to filter out the outliers by keeping only valid values."
   ]
  },
  {
   "cell_type": "code",
   "execution_count": 73,
   "metadata": {
    "colab": {},
    "colab_type": "code",
    "id": "u3c8s4XzJ46K",
    "outputId": "4424b6a9-50ab-4d73-b3db-08ed0c4012b1"
   },
   "outputs": [
    {
     "data": {
      "text/plain": [
       "(274, 13)"
      ]
     },
     "execution_count": 73,
     "metadata": {},
     "output_type": "execute_result"
    }
   ],
   "source": [
    "boston_df_out = boston_df[~((boston_df < (Q1 - 1.5 * IQR)) |(boston_df > (Q3 + 1.5 * IQR))).any(axis=1)] # rows without outliers\n",
    "boston_df_out.shape"
   ]
  },
  {
   "cell_type": "code",
   "execution_count": 74,
   "metadata": {},
   "outputs": [],
   "source": [
    "boston_df4 = boston_df.copy()\n",
    "\n",
    "# Replace every outlier on the lower side by the lower whisker\n",
    "for i, j in zip(np.where(boston_df4 < Q1 - 1.5 * IQR)[0], np.where(boston_df4 < Q1 - 1.5 * IQR)[1]): \n",
    "    \n",
    "    whisker  = Q1 - 1.5 * IQR\n",
    "    boston_df4.iloc[i,j] = whisker[j]\n",
    "    \n",
    "    \n",
    "#Replace every outlier on the upper side by the upper whisker    \n",
    "for i, j in zip(np.where(boston_df4 > Q3 + 1.5 * IQR)[0], np.where(boston_df4 > Q3 + 1.5 * IQR)[1]):\n",
    "    \n",
    "    whisker  = Q3 + 1.5 * IQR\n",
    "    boston_df4.iloc[i,j] = whisker[j]\n",
    "    "
   ]
  },
  {
   "cell_type": "code",
   "execution_count": 75,
   "metadata": {},
   "outputs": [
    {
     "data": {
      "text/plain": [
       "((506, 13), (506, 13))"
      ]
     },
     "execution_count": 75,
     "metadata": {},
     "output_type": "execute_result"
    }
   ],
   "source": [
    "boston_df4.shape, boston_df.shape"
   ]
  },
  {
   "cell_type": "code",
   "execution_count": null,
   "metadata": {},
   "outputs": [],
   "source": []
  }
 ],
 "metadata": {
  "colab": {
   "name": "EDA-Missing_Values _and_Outliers.ipynb",
   "provenance": [],
   "version": "0.3.2"
  },
  "kernelspec": {
   "display_name": "Python 3",
   "language": "python",
   "name": "python3"
  },
  "language_info": {
   "codemirror_mode": {
    "name": "ipython",
    "version": 3
   },
   "file_extension": ".py",
   "mimetype": "text/x-python",
   "name": "python",
   "nbconvert_exporter": "python",
   "pygments_lexer": "ipython3",
   "version": "3.6.7"
  }
 },
 "nbformat": 4,
 "nbformat_minor": 1
}
