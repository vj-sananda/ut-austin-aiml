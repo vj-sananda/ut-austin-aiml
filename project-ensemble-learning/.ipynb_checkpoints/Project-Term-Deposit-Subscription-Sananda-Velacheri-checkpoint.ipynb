{
 "cells": [
  {
   "cell_type": "markdown",
   "metadata": {},
   "source": [
    "### Project: Problem Statement - Term Deposit Subscription - Sananda Velacheri\n",
    " \n",
    "\n",
    "#### Problem statement (Term Deposit Sale)\n",
    "\n",
    "We have data from a Portuguese bank on details of customers related to selling a term deposit. The objective of the project is to help the marketing team identify potential customers who are relatively more likely to subscribe to the term deposit and this increase the hit ratio.\n",
    "\n",
    "\n",
    "#### What is a Term Deposit?\n",
    "A Term deposit is a deposit that a bank or a financial institution offers with a fixed rate (often better than just opening deposit account) in which your money will be returned back at a specific maturity time.\n",
    "\n",
    " \n",
    "\n",
    "#### Resources Available\n",
    "\n",
    "The historical data for this project is available in file https://archive.ics.uci.edu/ml/datasets/Bank+Marketing\n",
    "\n",
    " \n",
    "\n",
    "#### Deliverable –1 (Exploratory data analysis)–(15)\n",
    "\n",
    "##### Univariate analysis (9marks)\n",
    "- Data types and description of the independent attributes which should include (name,  range of values observed, central values (mean and median), standard deviation and quartiles, skewness). - 3 Marks\n",
    "\n",
    "- Make a function to plot ‘countplot’ if the variable is categorical and ‘distplot’ if the variable is numeric. - 3 Marks\n",
    "\n",
    "- Identify outliers using IQR and verify the same using plots. Also mention the percentage of data points which are considered outliers. Should we treat them, why or why not? - 3 Marks\n",
    "\n",
    "- Multivariate analysis (6marks)\n",
    "\n",
    "- Make a function to plot boxplots for all continuous variables VS ‘Target’ variable and countplots for all categorical variables VS ‘Target’ variable? - 3 Marks\n",
    "\n",
    "- Bi-variate analysis between predictor variables and target column. Comment on your findings in terms of their relationship and degree of relation if any. Visualize the analysis using pair plots, heatmaps, histograms or density curves. - 3 Marks\n",
    " \n",
    "\n",
    "#### Deliverable –2 (Prepare the data for analytics)–(5)\n",
    "\n",
    "- Label encode or create dummy variables for categorical variables. Give reason for selecting either of them. - 2 Marks\n",
    "\n",
    "- Create the training set and test set in a ratio of 70:30. Make sure and verify distribution of classes is the same in the full dataset and train test split data. - 3 Marks\n",
    " \n",
    "\n",
    "#### Deliverable –3 (Create the ensemble model)–(30)\n",
    "\n",
    "- Build the ensemble models (Bagging and Boosting) and Decision Tree model (at least 4 models in total). Note the model performance by using different metrics. Use confusion matrix to evaluate class level metrics i.e. Precision/Recall. - 10 Marks\n",
    "\n",
    "- Also reflect the training and testing score of all the models. Build a dataframe with model names as row index and all the metrics calculated as columns - 5 Marks\n",
    "\n",
    "- Explain the confusion matrix related terms like recall, precision etc. Also, select the best metric to choose one-  of the models from above. Give your reason for the same. - 5 Marks\n",
    "\n",
    "- Answer the following questions : - 10 Marks\n",
    "\n",
    "- What do you mean by recall and what information does it provide here?\n",
    "- Suggest some changes for the organization so that they can increase the number of customers who take term deposit.\n",
    "- How much influence does the previous campaign and mode of interaction have on financial performance.\n",
    "- Which features should be more/less focused by the bank to get better results and why?\n",
    "- What did you learn about banking industries from this data?\n",
    " \n",
    "Note : Use random_state=7 (wherever the parameter can be used) so that we can compare all submissions.\n",
    "\n",
    "#### Provide comments in the solution notebook regarding the steps you take and also provide insights drawn from the plots. - 5 Marks.\n",
    "\n",
    "#### Marks distribution for Students with recall_score (pos_label = ‘yes’) on the test set:\n",
    "\n",
    "- Above 43% - 5 Marks\n",
    "\n",
    "- Between 40% to 43% - 4 Marks\n",
    "\n",
    "- Less than 40% - 3 Marks\n",
    "\n",
    "- Note : Make sure you are not overfitting the model in order to increase the recall score only.\n",
    "\n",
    "#### Attribute Information\n",
    "\n",
    "- age\n",
    "- job : type of job\n",
    "- marital : marital status\n",
    "- education\n",
    "- default: has credit in default?\n",
    "- housing: has housing loan?- loan: has personal loan?\n",
    "- balance in account\n",
    "- contact: contact communication type\n",
    "- month: last contact month of year\n",
    "- day: last contact day of the month\n",
    "- duration: last contact duration, in seconds\n",
    "- campaign: number of contacts performed during this campaign and for this client\n",
    "- pdays: number of days that passed by after the client was last contacted from a previous campaign\n",
    "- previous: number of contacts performed before this campaign and for this client\n",
    "- poutcome: outcome of the previous marketing campaign\n",
    "- Output variable ('Target'): has the client subscribed a term deposit?"
   ]
  },
  {
   "cell_type": "markdown",
   "metadata": {},
   "source": [
    "## Deliverable 1 : Exploratory Data analysis"
   ]
  },
  {
   "cell_type": "code",
   "execution_count": 1,
   "metadata": {
    "scrolled": false
   },
   "outputs": [],
   "source": [
    "#Import Libraries\n",
    "import pandas as pd\n",
    "import numpy as np\n",
    "import matplotlib.pyplot as plt\n",
    "import seaborn as sns\n",
    "%matplotlib inline\n",
    "#pd.options.display.float_format = '{:,.2f}'.format\n"
   ]
  },
  {
   "cell_type": "code",
   "execution_count": 2,
   "metadata": {
    "scrolled": false
   },
   "outputs": [
    {
     "name": "stdout",
     "output_type": "stream",
     "text": [
      "bank-full.csv\r\n"
     ]
    }
   ],
   "source": [
    "# List .csv file\n",
    "!ls *.csv"
   ]
  },
  {
   "cell_type": "code",
   "execution_count": 3,
   "metadata": {
    "scrolled": false
   },
   "outputs": [],
   "source": [
    "# Import dataset\n",
    "df = pd.read_csv('bank-full.csv')"
   ]
  },
  {
   "cell_type": "code",
   "execution_count": 4,
   "metadata": {
    "scrolled": false
   },
   "outputs": [
    {
     "name": "stdout",
     "output_type": "stream",
     "text": [
      "<class 'pandas.core.frame.DataFrame'>\n",
      "RangeIndex: 45211 entries, 0 to 45210\n",
      "Data columns (total 17 columns):\n",
      " #   Column     Non-Null Count  Dtype \n",
      "---  ------     --------------  ----- \n",
      " 0   age        45211 non-null  int64 \n",
      " 1   job        45211 non-null  object\n",
      " 2   marital    45211 non-null  object\n",
      " 3   education  45211 non-null  object\n",
      " 4   default    45211 non-null  object\n",
      " 5   balance    45211 non-null  int64 \n",
      " 6   housing    45211 non-null  object\n",
      " 7   loan       45211 non-null  object\n",
      " 8   contact    45211 non-null  object\n",
      " 9   day        45211 non-null  int64 \n",
      " 10  month      45211 non-null  object\n",
      " 11  duration   45211 non-null  int64 \n",
      " 12  campaign   45211 non-null  int64 \n",
      " 13  pdays      45211 non-null  int64 \n",
      " 14  previous   45211 non-null  int64 \n",
      " 15  poutcome   45211 non-null  object\n",
      " 16  Target     45211 non-null  object\n",
      "dtypes: int64(7), object(10)\n",
      "memory usage: 5.9+ MB\n"
     ]
    }
   ],
   "source": [
    "# check data type\n",
    "df.info()"
   ]
  },
  {
   "cell_type": "code",
   "execution_count": 5,
   "metadata": {
    "scrolled": false
   },
   "outputs": [
    {
     "data": {
      "text/plain": [
       "(45211, 17)"
      ]
     },
     "execution_count": 5,
     "metadata": {},
     "output_type": "execute_result"
    }
   ],
   "source": [
    "# Shape\n",
    "df.shape"
   ]
  },
  {
   "cell_type": "code",
   "execution_count": 6,
   "metadata": {
    "scrolled": false
   },
   "outputs": [
    {
     "data": {
      "text/plain": [
       "age          0\n",
       "job          0\n",
       "marital      0\n",
       "education    0\n",
       "default      0\n",
       "balance      0\n",
       "housing      0\n",
       "loan         0\n",
       "contact      0\n",
       "day          0\n",
       "month        0\n",
       "duration     0\n",
       "campaign     0\n",
       "pdays        0\n",
       "previous     0\n",
       "poutcome     0\n",
       "Target       0\n",
       "dtype: int64"
      ]
     },
     "execution_count": 6,
     "metadata": {},
     "output_type": "execute_result"
    }
   ],
   "source": [
    "# Null values\n",
    "df.isna().sum()"
   ]
  },
  {
   "cell_type": "markdown",
   "metadata": {},
   "source": [
    "**Insights:**\n",
    "- Dataset has 45211 rows and 17 columns\n",
    "- No null values"
   ]
  },
  {
   "cell_type": "markdown",
   "metadata": {},
   "source": [
    "#### Data types and description of the independent attributes which should include (name, range of values observed, central values (mean and median), standard deviation and quartiles, skewness). - 3 Marks"
   ]
  },
  {
   "cell_type": "code",
   "execution_count": 7,
   "metadata": {
    "scrolled": false
   },
   "outputs": [
    {
     "data": {
      "text/html": [
       "<div>\n",
       "<style scoped>\n",
       "    .dataframe tbody tr th:only-of-type {\n",
       "        vertical-align: middle;\n",
       "    }\n",
       "\n",
       "    .dataframe tbody tr th {\n",
       "        vertical-align: top;\n",
       "    }\n",
       "\n",
       "    .dataframe thead th {\n",
       "        text-align: right;\n",
       "    }\n",
       "</style>\n",
       "<table border=\"1\" class=\"dataframe\">\n",
       "  <thead>\n",
       "    <tr style=\"text-align: right;\">\n",
       "      <th></th>\n",
       "      <th>age</th>\n",
       "      <th>balance</th>\n",
       "      <th>day</th>\n",
       "      <th>duration</th>\n",
       "      <th>campaign</th>\n",
       "      <th>pdays</th>\n",
       "      <th>previous</th>\n",
       "    </tr>\n",
       "  </thead>\n",
       "  <tbody>\n",
       "    <tr>\n",
       "      <th>count</th>\n",
       "      <td>45211.000000</td>\n",
       "      <td>45211.000000</td>\n",
       "      <td>45211.000000</td>\n",
       "      <td>45211.000000</td>\n",
       "      <td>45211.000000</td>\n",
       "      <td>45211.000000</td>\n",
       "      <td>45211.000000</td>\n",
       "    </tr>\n",
       "    <tr>\n",
       "      <th>mean</th>\n",
       "      <td>40.936210</td>\n",
       "      <td>1362.272058</td>\n",
       "      <td>15.806419</td>\n",
       "      <td>258.163080</td>\n",
       "      <td>2.763841</td>\n",
       "      <td>40.197828</td>\n",
       "      <td>0.580323</td>\n",
       "    </tr>\n",
       "    <tr>\n",
       "      <th>std</th>\n",
       "      <td>10.618762</td>\n",
       "      <td>3044.765829</td>\n",
       "      <td>8.322476</td>\n",
       "      <td>257.527812</td>\n",
       "      <td>3.098021</td>\n",
       "      <td>100.128746</td>\n",
       "      <td>2.303441</td>\n",
       "    </tr>\n",
       "    <tr>\n",
       "      <th>min</th>\n",
       "      <td>18.000000</td>\n",
       "      <td>-8019.000000</td>\n",
       "      <td>1.000000</td>\n",
       "      <td>0.000000</td>\n",
       "      <td>1.000000</td>\n",
       "      <td>-1.000000</td>\n",
       "      <td>0.000000</td>\n",
       "    </tr>\n",
       "    <tr>\n",
       "      <th>25%</th>\n",
       "      <td>33.000000</td>\n",
       "      <td>72.000000</td>\n",
       "      <td>8.000000</td>\n",
       "      <td>103.000000</td>\n",
       "      <td>1.000000</td>\n",
       "      <td>-1.000000</td>\n",
       "      <td>0.000000</td>\n",
       "    </tr>\n",
       "    <tr>\n",
       "      <th>50%</th>\n",
       "      <td>39.000000</td>\n",
       "      <td>448.000000</td>\n",
       "      <td>16.000000</td>\n",
       "      <td>180.000000</td>\n",
       "      <td>2.000000</td>\n",
       "      <td>-1.000000</td>\n",
       "      <td>0.000000</td>\n",
       "    </tr>\n",
       "    <tr>\n",
       "      <th>75%</th>\n",
       "      <td>48.000000</td>\n",
       "      <td>1428.000000</td>\n",
       "      <td>21.000000</td>\n",
       "      <td>319.000000</td>\n",
       "      <td>3.000000</td>\n",
       "      <td>-1.000000</td>\n",
       "      <td>0.000000</td>\n",
       "    </tr>\n",
       "    <tr>\n",
       "      <th>max</th>\n",
       "      <td>95.000000</td>\n",
       "      <td>102127.000000</td>\n",
       "      <td>31.000000</td>\n",
       "      <td>4918.000000</td>\n",
       "      <td>63.000000</td>\n",
       "      <td>871.000000</td>\n",
       "      <td>275.000000</td>\n",
       "    </tr>\n",
       "  </tbody>\n",
       "</table>\n",
       "</div>"
      ],
      "text/plain": [
       "                age        balance           day      duration      campaign  \\\n",
       "count  45211.000000   45211.000000  45211.000000  45211.000000  45211.000000   \n",
       "mean      40.936210    1362.272058     15.806419    258.163080      2.763841   \n",
       "std       10.618762    3044.765829      8.322476    257.527812      3.098021   \n",
       "min       18.000000   -8019.000000      1.000000      0.000000      1.000000   \n",
       "25%       33.000000      72.000000      8.000000    103.000000      1.000000   \n",
       "50%       39.000000     448.000000     16.000000    180.000000      2.000000   \n",
       "75%       48.000000    1428.000000     21.000000    319.000000      3.000000   \n",
       "max       95.000000  102127.000000     31.000000   4918.000000     63.000000   \n",
       "\n",
       "              pdays      previous  \n",
       "count  45211.000000  45211.000000  \n",
       "mean      40.197828      0.580323  \n",
       "std      100.128746      2.303441  \n",
       "min       -1.000000      0.000000  \n",
       "25%       -1.000000      0.000000  \n",
       "50%       -1.000000      0.000000  \n",
       "75%       -1.000000      0.000000  \n",
       "max      871.000000    275.000000  "
      ]
     },
     "execution_count": 7,
     "metadata": {},
     "output_type": "execute_result"
    }
   ],
   "source": [
    "# Statistical Summary\n",
    "df.describe()"
   ]
  },
  {
   "cell_type": "code",
   "execution_count": 8,
   "metadata": {
    "scrolled": false
   },
   "outputs": [],
   "source": [
    "numeric_columns = list( df.describe().columns)"
   ]
  },
  {
   "cell_type": "code",
   "execution_count": 9,
   "metadata": {
    "scrolled": false
   },
   "outputs": [],
   "source": [
    "def num_outliers(df,feature):\n",
    "    Q1= df[feature].quantile(0.25)\n",
    "    Q3 = df[feature].quantile(0.75)\n",
    "    IQR =  Q3 - Q1 \n",
    "    filter = ( (df[feature] > Q3 + 1.5*IQR) | (df[feature] < Q1-1.5*IQR) )\n",
    "    # Percentage of records that are outliers\n",
    "    print(len(df[filter][feature])/len(df[feature])*100)"
   ]
  },
  {
   "cell_type": "code",
   "execution_count": 10,
   "metadata": {
    "scrolled": false
   },
   "outputs": [
    {
     "name": "stdout",
     "output_type": "stream",
     "text": [
      "6.7771117648359915\n"
     ]
    }
   ],
   "source": [
    "num_outliers(df,'campaign')"
   ]
  },
  {
   "cell_type": "code",
   "execution_count": 11,
   "metadata": {
    "scrolled": false
   },
   "outputs": [
    {
     "data": {
      "text/plain": [
       "age          33.0\n",
       "balance      72.0\n",
       "day           8.0\n",
       "duration    103.0\n",
       "campaign      1.0\n",
       "pdays        -1.0\n",
       "previous      0.0\n",
       "Name: 0.25, dtype: float64"
      ]
     },
     "execution_count": 11,
     "metadata": {},
     "output_type": "execute_result"
    }
   ],
   "source": [
    "df.quantile(0.25)"
   ]
  },
  {
   "cell_type": "code",
   "execution_count": 12,
   "metadata": {
    "scrolled": false
   },
   "outputs": [],
   "source": [
    "def num_outliers(df):\n",
    "    Q1= df.quantile(0.25)\n",
    "    Q3 = df.quantile(0.75)\n",
    "    IQR =  Q3 - Q1 \n",
    "    filter = ( (df > Q3 + 1.5*IQR) | (df < Q1-1.5*IQR) )\n",
    "    # Percentage of records that are outliers\n",
    "    return df[filter].count()/df.shape[0]*100"
   ]
  },
  {
   "cell_type": "code",
   "execution_count": 13,
   "metadata": {
    "scrolled": false
   },
   "outputs": [
    {
     "data": {
      "text/plain": [
       "age          1.077171\n",
       "balance     10.459844\n",
       "day          0.000000\n",
       "duration     7.155338\n",
       "campaign     6.777112\n",
       "pdays       18.263255\n",
       "previous    18.263255\n",
       "dtype: float64"
      ]
     },
     "execution_count": 13,
     "metadata": {},
     "output_type": "execute_result"
    }
   ],
   "source": [
    "num_outliers(df[numeric_columns])"
   ]
  },
  {
   "cell_type": "code",
   "execution_count": 14,
   "metadata": {
    "scrolled": false
   },
   "outputs": [
    {
     "data": {
      "text/html": [
       "<div>\n",
       "<style scoped>\n",
       "    .dataframe tbody tr th:only-of-type {\n",
       "        vertical-align: middle;\n",
       "    }\n",
       "\n",
       "    .dataframe tbody tr th {\n",
       "        vertical-align: top;\n",
       "    }\n",
       "\n",
       "    .dataframe thead th {\n",
       "        text-align: right;\n",
       "    }\n",
       "</style>\n",
       "<table border=\"1\" class=\"dataframe\">\n",
       "  <thead>\n",
       "    <tr style=\"text-align: right;\">\n",
       "      <th></th>\n",
       "      <th>skew</th>\n",
       "      <th>num_outliers_%</th>\n",
       "    </tr>\n",
       "  </thead>\n",
       "  <tbody>\n",
       "    <tr>\n",
       "      <th>age</th>\n",
       "      <td>0.684818</td>\n",
       "      <td>1.077171</td>\n",
       "    </tr>\n",
       "    <tr>\n",
       "      <th>balance</th>\n",
       "      <td>8.360308</td>\n",
       "      <td>10.459844</td>\n",
       "    </tr>\n",
       "    <tr>\n",
       "      <th>day</th>\n",
       "      <td>0.093079</td>\n",
       "      <td>0.000000</td>\n",
       "    </tr>\n",
       "    <tr>\n",
       "      <th>duration</th>\n",
       "      <td>3.144318</td>\n",
       "      <td>7.155338</td>\n",
       "    </tr>\n",
       "    <tr>\n",
       "      <th>campaign</th>\n",
       "      <td>4.898650</td>\n",
       "      <td>6.777112</td>\n",
       "    </tr>\n",
       "    <tr>\n",
       "      <th>pdays</th>\n",
       "      <td>2.615715</td>\n",
       "      <td>18.263255</td>\n",
       "    </tr>\n",
       "    <tr>\n",
       "      <th>previous</th>\n",
       "      <td>41.846454</td>\n",
       "      <td>18.263255</td>\n",
       "    </tr>\n",
       "  </tbody>\n",
       "</table>\n",
       "</div>"
      ],
      "text/plain": [
       "               skew  num_outliers_%\n",
       "age        0.684818        1.077171\n",
       "balance    8.360308       10.459844\n",
       "day        0.093079        0.000000\n",
       "duration   3.144318        7.155338\n",
       "campaign   4.898650        6.777112\n",
       "pdays      2.615715       18.263255\n",
       "previous  41.846454       18.263255"
      ]
     },
     "execution_count": 14,
     "metadata": {},
     "output_type": "execute_result"
    }
   ],
   "source": [
    "numeric_columns = list(df.describe().columns)\n",
    "pd.DataFrame({'skew' : df.skew(axis=0) , 'num_outliers_%' :num_outliers(df[numeric_columns])})"
   ]
  },
  {
   "cell_type": "code",
   "execution_count": 15,
   "metadata": {
    "scrolled": false
   },
   "outputs": [],
   "source": [
    "# Function for univariate plots\n",
    "# Distplots for continuous variables\n",
    "# Count plots for categorical variables\n",
    "def univariate_plot(df,feature):\n",
    "    print( \"**** {} \".format(feature),end=\"\")\n",
    "    if df[feature].dtype == 'object': # Categorical so countplot\n",
    "        print(\" (Categorical, Countplot)\")\n",
    "        sns.countplot(x=feature,data=df)\n",
    "    else:\n",
    "        print(\" (Continuous, Distplot)\")\n",
    "        sns.displot(df[feature],kde=False)\n",
    "    plt.show()\n",
    "        "
   ]
  },
  {
   "cell_type": "code",
   "execution_count": 16,
   "metadata": {
    "scrolled": false
   },
   "outputs": [
    {
     "name": "stdout",
     "output_type": "stream",
     "text": [
      "**** age  (Continuous, Distplot)\n"
     ]
    },
    {
     "data": {
      "image/png": "[encoded data removed]",
      "text/plain": [
       "<Figure size 360x360 with 1 Axes>"
      ]
     },
     "metadata": {
      "needs_background": "light"
     },
     "output_type": "display_data"
    },
    {
     "name": "stdout",
     "output_type": "stream",
     "text": [
      "**** job  (Categorical, Countplot)\n"
     ]
    },
    {
     "data": {
      "image/png": "[encoded data removed]",
      "text/plain": [
       "<Figure size 432x288 with 1 Axes>"
      ]
     },
     "metadata": {
      "needs_background": "light"
     },
     "output_type": "display_data"
    },
    {
     "name": "stdout",
     "output_type": "stream",
     "text": [
      "**** marital  (Categorical, Countplot)\n"
     ]
    },
    {
     "data": {
      "image/png": "[encoded data removed]",
      "text/plain": [
       "<Figure size 432x288 with 1 Axes>"
      ]
     },
     "metadata": {
      "needs_background": "light"
     },
     "output_type": "display_data"
    },
    {
     "name": "stdout",
     "output_type": "stream",
     "text": [
      "**** education  (Categorical, Countplot)\n"
     ]
    },
    {
     "data": {
      "image/png": "[encoded data removed]",
      "text/plain": [
       "<Figure size 432x288 with 1 Axes>"
      ]
     },
     "metadata": {
      "needs_background": "light"
     },
     "output_type": "display_data"
    },
    {
     "name": "stdout",
     "output_type": "stream",
     "text": [
      "**** default  (Categorical, Countplot)\n"
     ]
    },
    {
     "data": {
      "image/png": "[encoded data removed]",
      "text/plain": [
       "<Figure size 432x288 with 1 Axes>"
      ]
     },
     "metadata": {
      "needs_background": "light"
     },
     "output_type": "display_data"
    },
    {
     "name": "stdout",
     "output_type": "stream",
     "text": [
      "**** balance  (Continuous, Distplot)\n"
     ]
    },
    {
     "data": {
      "image/png": "[encoded data removed]",
      "text/plain": [
       "<Figure size 360x360 with 1 Axes>"
      ]
     },
     "metadata": {
      "needs_background": "light"
     },
     "output_type": "display_data"
    },
    {
     "name": "stdout",
     "output_type": "stream",
     "text": [
      "**** housing  (Categorical, Countplot)\n"
     ]
    },
    {
     "data": {
      "image/png": "[encoded data removed]",
      "text/plain": [
       "<Figure size 432x288 with 1 Axes>"
      ]
     },
     "metadata": {
      "needs_background": "light"
     },
     "output_type": "display_data"
    },
    {
     "name": "stdout",
     "output_type": "stream",
     "text": [
      "**** loan  (Categorical, Countplot)\n"
     ]
    },
    {
     "data": {
      "image/png": "[encoded data removed]",
      "text/plain": [
       "<Figure size 432x288 with 1 Axes>"
      ]
     },
     "metadata": {
      "needs_background": "light"
     },
     "output_type": "display_data"
    },
    {
     "name": "stdout",
     "output_type": "stream",
     "text": [
      "**** contact  (Categorical, Countplot)\n"
     ]
    },
    {
     "data": {
      "image/png": "[encoded data removed]",
      "text/plain": [
       "<Figure size 432x288 with 1 Axes>"
      ]
     },
     "metadata": {
      "needs_background": "light"
     },
     "output_type": "display_data"
    },
    {
     "name": "stdout",
     "output_type": "stream",
     "text": [
      "**** day  (Continuous, Distplot)\n"
     ]
    },
    {
     "data": {
      "image/png": "[encoded data removed]",
      "text/plain": [
       "<Figure size 360x360 with 1 Axes>"
      ]
     },
     "metadata": {
      "needs_background": "light"
     },
     "output_type": "display_data"
    },
    {
     "name": "stdout",
     "output_type": "stream",
     "text": [
      "**** month  (Categorical, Countplot)\n"
     ]
    },
    {
     "data": {
      "image/png": "[encoded data removed]",
      "text/plain": [
       "<Figure size 432x288 with 1 Axes>"
      ]
     },
     "metadata": {
      "needs_background": "light"
     },
     "output_type": "display_data"
    },
    {
     "name": "stdout",
     "output_type": "stream",
     "text": [
      "**** duration  (Continuous, Distplot)\n"
     ]
    },
    {
     "data": {
      "image/png": "[encoded data removed]",
      "text/plain": [
       "<Figure size 360x360 with 1 Axes>"
      ]
     },
     "metadata": {
      "needs_background": "light"
     },
     "output_type": "display_data"
    },
    {
     "name": "stdout",
     "output_type": "stream",
     "text": [
      "**** campaign  (Continuous, Distplot)\n"
     ]
    },
    {
     "data": {
      "image/png": "[encoded data removed]",
      "text/plain": [
       "<Figure size 360x360 with 1 Axes>"
      ]
     },
     "metadata": {
      "needs_background": "light"
     },
     "output_type": "display_data"
    },
    {
     "name": "stdout",
     "output_type": "stream",
     "text": [
      "**** pdays  (Continuous, Distplot)\n"
     ]
    },
    {
     "data": {
      "image/png": "[encoded data removed]",
      "text/plain": [
       "<Figure size 360x360 with 1 Axes>"
      ]
     },
     "metadata": {
      "needs_background": "light"
     },
     "output_type": "display_data"
    },
    {
     "name": "stdout",
     "output_type": "stream",
     "text": [
      "**** previous  (Continuous, Distplot)\n"
     ]
    },
    {
     "data": {
      "image/png": "[encoded data removed]",
      "text/plain": [
       "<Figure size 360x360 with 1 Axes>"
      ]
     },
     "metadata": {
      "needs_background": "light"
     },
     "output_type": "display_data"
    },
    {
     "name": "stdout",
     "output_type": "stream",
     "text": [
      "**** poutcome  (Categorical, Countplot)\n"
     ]
    },
    {
     "data": {
      "image/png": "[encoded data removed]",
      "text/plain": [
       "<Figure size 432x288 with 1 Axes>"
      ]
     },
     "metadata": {
      "needs_background": "light"
     },
     "output_type": "display_data"
    },
    {
     "name": "stdout",
     "output_type": "stream",
     "text": [
      "**** Target  (Categorical, Countplot)\n"
     ]
    },
    {
     "data": {
      "image/png": "[encoded data removed]",
      "text/plain": [
       "<Figure size 432x288 with 1 Axes>"
      ]
     },
     "metadata": {
      "needs_background": "light"
     },
     "output_type": "display_data"
    }
   ],
   "source": [
    "for feature in df.columns:\n",
    "    univariate_plot(df,feature)"
   ]
  },
  {
   "cell_type": "markdown",
   "metadata": {},
   "source": [
    "**Insights:**\n",
    "- "
   ]
  },
  {
   "cell_type": "code",
   "execution_count": 17,
   "metadata": {
    "scrolled": false
   },
   "outputs": [],
   "source": [
    "#from pandas_profiling import ProfileReport\n",
    "#prof = ProfileReport(df)\n",
    "#prof"
   ]
  },
  {
   "cell_type": "markdown",
   "metadata": {},
   "source": [
    "#### Bivariate plots"
   ]
  },
  {
   "cell_type": "code",
   "execution_count": 18,
   "metadata": {
    "scrolled": true
   },
   "outputs": [
    {
     "data": {
      "text/plain": [
       "<AxesSubplot:>"
      ]
     },
     "execution_count": 18,
     "metadata": {},
     "output_type": "execute_result"
    },
    {
     "data": {
      "image/png": "[encoded data removed]",
      "text/plain": [
       "<Figure size 432x288 with 2 Axes>"
      ]
     },
     "metadata": {
      "needs_background": "light"
     },
     "output_type": "display_data"
    }
   ],
   "source": [
    "sns.heatmap(df.corr())"
   ]
  },
  {
   "cell_type": "code",
   "execution_count": 19,
   "metadata": {
    "scrolled": true
   },
   "outputs": [],
   "source": [
    "# Function to plot boxplot for continuous variables\n",
    "# and Countplots vs Target \n",
    "def bivariate_plot(df,feature):\n",
    "    print( \"**** {} \".format(feature),end=\"\")\n",
    "    if df[feature].dtype == 'object': # Categorical so countplot\n",
    "        print(\" (Categorical, Countplot) vs Target\")\n",
    "        sns.countplot(x=feature,data=df,hue=\"Target\")\n",
    "    else:\n",
    "        print(\" (Continuous, Distplot) vs Target\")\n",
    "        sns.boxplot(x='Target', y=feature,data=df)\n",
    "    plt.show()"
   ]
  },
  {
   "cell_type": "code",
   "execution_count": 20,
   "metadata": {
    "scrolled": false
   },
   "outputs": [
    {
     "name": "stdout",
     "output_type": "stream",
     "text": [
      "**** age  (Continuous, Distplot) vs Target\n"
     ]
    },
    {
     "data": {
      "image/png": "[encoded data removed]",
      "text/plain": [
       "<Figure size 432x288 with 1 Axes>"
      ]
     },
     "metadata": {
      "needs_background": "light"
     },
     "output_type": "display_data"
    },
    {
     "name": "stdout",
     "output_type": "stream",
     "text": [
      "**** job  (Categorical, Countplot) vs Target\n"
     ]
    },
    {
     "data": {
      "image/png": "[encoded data removed]",
      "text/plain": [
       "<Figure size 432x288 with 1 Axes>"
      ]
     },
     "metadata": {
      "needs_background": "light"
     },
     "output_type": "display_data"
    },
    {
     "name": "stdout",
     "output_type": "stream",
     "text": [
      "**** marital  (Categorical, Countplot) vs Target\n"
     ]
    },
    {
     "data": {
      "image/png": "[encoded data removed]",
      "text/plain": [
       "<Figure size 432x288 with 1 Axes>"
      ]
     },
     "metadata": {
      "needs_background": "light"
     },
     "output_type": "display_data"
    },
    {
     "name": "stdout",
     "output_type": "stream",
     "text": [
      "**** education  (Categorical, Countplot) vs Target\n"
     ]
    },
    {
     "data": {
      "image/png": "[encoded data removed]",
      "text/plain": [
       "<Figure size 432x288 with 1 Axes>"
      ]
     },
     "metadata": {
      "needs_background": "light"
     },
     "output_type": "display_data"
    },
    {
     "name": "stdout",
     "output_type": "stream",
     "text": [
      "**** default  (Categorical, Countplot) vs Target\n"
     ]
    },
    {
     "data": {
      "image/png": "[encoded data removed]",
      "text/plain": [
       "<Figure size 432x288 with 1 Axes>"
      ]
     },
     "metadata": {
      "needs_background": "light"
     },
     "output_type": "display_data"
    },
    {
     "name": "stdout",
     "output_type": "stream",
     "text": [
      "**** balance  (Continuous, Distplot) vs Target\n"
     ]
    },
    {
     "data": {
      "image/png": "[encoded data removed]",
      "text/plain": [
       "<Figure size 432x288 with 1 Axes>"
      ]
     },
     "metadata": {
      "needs_background": "light"
     },
     "output_type": "display_data"
    },
    {
     "name": "stdout",
     "output_type": "stream",
     "text": [
      "**** housing  (Categorical, Countplot) vs Target\n"
     ]
    },
    {
     "data": {
      "image/png": "[encoded data removed]",
      "text/plain": [
       "<Figure size 432x288 with 1 Axes>"
      ]
     },
     "metadata": {
      "needs_background": "light"
     },
     "output_type": "display_data"
    },
    {
     "name": "stdout",
     "output_type": "stream",
     "text": [
      "**** loan  (Categorical, Countplot) vs Target\n"
     ]
    },
    {
     "data": {
      "image/png": "[encoded data removed]",
      "text/plain": [
       "<Figure size 432x288 with 1 Axes>"
      ]
     },
     "metadata": {
      "needs_background": "light"
     },
     "output_type": "display_data"
    },
    {
     "name": "stdout",
     "output_type": "stream",
     "text": [
      "**** contact  (Categorical, Countplot) vs Target\n"
     ]
    },
    {
     "data": {
      "image/png": "[encoded data removed]",
      "text/plain": [
       "<Figure size 432x288 with 1 Axes>"
      ]
     },
     "metadata": {
      "needs_background": "light"
     },
     "output_type": "display_data"
    },
    {
     "name": "stdout",
     "output_type": "stream",
     "text": [
      "**** day  (Continuous, Distplot) vs Target\n"
     ]
    },
    {
     "data": {
      "image/png": "[encoded data removed]",
      "text/plain": [
       "<Figure size 432x288 with 1 Axes>"
      ]
     },
     "metadata": {
      "needs_background": "light"
     },
     "output_type": "display_data"
    },
    {
     "name": "stdout",
     "output_type": "stream",
     "text": [
      "**** month  (Categorical, Countplot) vs Target\n"
     ]
    },
    {
     "data": {
      "image/png": "[encoded data removed]",
      "text/plain": [
       "<Figure size 432x288 with 1 Axes>"
      ]
     },
     "metadata": {
      "needs_background": "light"
     },
     "output_type": "display_data"
    },
    {
     "name": "stdout",
     "output_type": "stream",
     "text": [
      "**** duration  (Continuous, Distplot) vs Target\n"
     ]
    },
    {
     "data": {
      "image/png": "[encoded data removed]",
      "text/plain": [
       "<Figure size 432x288 with 1 Axes>"
      ]
     },
     "metadata": {
      "needs_background": "light"
     },
     "output_type": "display_data"
    },
    {
     "name": "stdout",
     "output_type": "stream",
     "text": [
      "**** campaign  (Continuous, Distplot) vs Target\n"
     ]
    },
    {
     "data": {
      "image/png": "[encoded data removed]",
      "text/plain": [
       "<Figure size 432x288 with 1 Axes>"
      ]
     },
     "metadata": {
      "needs_background": "light"
     },
     "output_type": "display_data"
    },
    {
     "name": "stdout",
     "output_type": "stream",
     "text": [
      "**** pdays  (Continuous, Distplot) vs Target\n"
     ]
    },
    {
     "data": {
      "image/png": "[encoded data removed]",
      "text/plain": [
       "<Figure size 432x288 with 1 Axes>"
      ]
     },
     "metadata": {
      "needs_background": "light"
     },
     "output_type": "display_data"
    },
    {
     "name": "stdout",
     "output_type": "stream",
     "text": [
      "**** previous  (Continuous, Distplot) vs Target\n"
     ]
    },
    {
     "data": {
      "image/png": "[encoded data removed]",
      "text/plain": [
       "<Figure size 432x288 with 1 Axes>"
      ]
     },
     "metadata": {
      "needs_background": "light"
     },
     "output_type": "display_data"
    },
    {
     "name": "stdout",
     "output_type": "stream",
     "text": [
      "**** poutcome  (Categorical, Countplot) vs Target\n"
     ]
    },
    {
     "data": {
      "image/png": "[encoded data removed]",
      "text/plain": [
       "<Figure size 432x288 with 1 Axes>"
      ]
     },
     "metadata": {
      "needs_background": "light"
     },
     "output_type": "display_data"
    },
    {
     "name": "stdout",
     "output_type": "stream",
     "text": [
      "**** Target  (Categorical, Countplot) vs Target\n"
     ]
    },
    {
     "data": {
      "image/png": "[encoded data removed]",
      "text/plain": [
       "<Figure size 432x288 with 1 Axes>"
      ]
     },
     "metadata": {
      "needs_background": "light"
     },
     "output_type": "display_data"
    }
   ],
   "source": [
    "for feature in df.columns:\n",
    "    bivariate_plot(df,feature)"
   ]
  },
  {
   "cell_type": "markdown",
   "metadata": {},
   "source": [
    "#### Get data model ready"
   ]
  },
  {
   "cell_type": "code",
   "execution_count": 21,
   "metadata": {
    "scrolled": true
   },
   "outputs": [
    {
     "data": {
      "text/plain": [
       "(45211, 17)"
      ]
     },
     "execution_count": 21,
     "metadata": {},
     "output_type": "execute_result"
    }
   ],
   "source": [
    "df.shape"
   ]
  },
  {
   "cell_type": "code",
   "execution_count": 22,
   "metadata": {
    "scrolled": false
   },
   "outputs": [],
   "source": [
    "df_save = df.copy(deep=True)"
   ]
  },
  {
   "cell_type": "markdown",
   "metadata": {},
   "source": [
    "### One hot encode categorical variables\n",
    "#### Even though CreditCart, Online,  CD Account, Securities Account are categorical variables, they already take on 0 or 1  (and so are already one hot encoded)\n",
    "#### So only 1-hot encode Education"
   ]
  },
  {
   "cell_type": "code",
   "execution_count": null,
   "metadata": {
    "scrolled": true
   },
   "outputs": [],
   "source": []
  },
  {
   "cell_type": "code",
   "execution_count": 23,
   "metadata": {
    "scrolled": false
   },
   "outputs": [
    {
     "data": {
      "text/html": [
       "<div>\n",
       "<style scoped>\n",
       "    .dataframe tbody tr th:only-of-type {\n",
       "        vertical-align: middle;\n",
       "    }\n",
       "\n",
       "    .dataframe tbody tr th {\n",
       "        vertical-align: top;\n",
       "    }\n",
       "\n",
       "    .dataframe thead th {\n",
       "        text-align: right;\n",
       "    }\n",
       "</style>\n",
       "<table border=\"1\" class=\"dataframe\">\n",
       "  <thead>\n",
       "    <tr style=\"text-align: right;\">\n",
       "      <th></th>\n",
       "      <th>age</th>\n",
       "      <th>job</th>\n",
       "      <th>marital</th>\n",
       "      <th>education</th>\n",
       "      <th>default</th>\n",
       "      <th>balance</th>\n",
       "      <th>housing</th>\n",
       "      <th>loan</th>\n",
       "      <th>contact</th>\n",
       "      <th>day</th>\n",
       "      <th>month</th>\n",
       "      <th>duration</th>\n",
       "      <th>campaign</th>\n",
       "      <th>pdays</th>\n",
       "      <th>previous</th>\n",
       "      <th>poutcome</th>\n",
       "      <th>Target</th>\n",
       "    </tr>\n",
       "  </thead>\n",
       "  <tbody>\n",
       "    <tr>\n",
       "      <th>0</th>\n",
       "      <td>58</td>\n",
       "      <td>4</td>\n",
       "      <td>1</td>\n",
       "      <td>2</td>\n",
       "      <td>0</td>\n",
       "      <td>2143</td>\n",
       "      <td>1</td>\n",
       "      <td>0</td>\n",
       "      <td>2</td>\n",
       "      <td>5</td>\n",
       "      <td>8</td>\n",
       "      <td>261</td>\n",
       "      <td>1</td>\n",
       "      <td>-1</td>\n",
       "      <td>0</td>\n",
       "      <td>3</td>\n",
       "      <td>0</td>\n",
       "    </tr>\n",
       "    <tr>\n",
       "      <th>1</th>\n",
       "      <td>44</td>\n",
       "      <td>9</td>\n",
       "      <td>2</td>\n",
       "      <td>1</td>\n",
       "      <td>0</td>\n",
       "      <td>29</td>\n",
       "      <td>1</td>\n",
       "      <td>0</td>\n",
       "      <td>2</td>\n",
       "      <td>5</td>\n",
       "      <td>8</td>\n",
       "      <td>151</td>\n",
       "      <td>1</td>\n",
       "      <td>-1</td>\n",
       "      <td>0</td>\n",
       "      <td>3</td>\n",
       "      <td>0</td>\n",
       "    </tr>\n",
       "    <tr>\n",
       "      <th>2</th>\n",
       "      <td>33</td>\n",
       "      <td>2</td>\n",
       "      <td>1</td>\n",
       "      <td>1</td>\n",
       "      <td>0</td>\n",
       "      <td>2</td>\n",
       "      <td>1</td>\n",
       "      <td>1</td>\n",
       "      <td>2</td>\n",
       "      <td>5</td>\n",
       "      <td>8</td>\n",
       "      <td>76</td>\n",
       "      <td>1</td>\n",
       "      <td>-1</td>\n",
       "      <td>0</td>\n",
       "      <td>3</td>\n",
       "      <td>0</td>\n",
       "    </tr>\n",
       "    <tr>\n",
       "      <th>3</th>\n",
       "      <td>47</td>\n",
       "      <td>1</td>\n",
       "      <td>1</td>\n",
       "      <td>3</td>\n",
       "      <td>0</td>\n",
       "      <td>1506</td>\n",
       "      <td>1</td>\n",
       "      <td>0</td>\n",
       "      <td>2</td>\n",
       "      <td>5</td>\n",
       "      <td>8</td>\n",
       "      <td>92</td>\n",
       "      <td>1</td>\n",
       "      <td>-1</td>\n",
       "      <td>0</td>\n",
       "      <td>3</td>\n",
       "      <td>0</td>\n",
       "    </tr>\n",
       "    <tr>\n",
       "      <th>4</th>\n",
       "      <td>33</td>\n",
       "      <td>11</td>\n",
       "      <td>2</td>\n",
       "      <td>3</td>\n",
       "      <td>0</td>\n",
       "      <td>1</td>\n",
       "      <td>0</td>\n",
       "      <td>0</td>\n",
       "      <td>2</td>\n",
       "      <td>5</td>\n",
       "      <td>8</td>\n",
       "      <td>198</td>\n",
       "      <td>1</td>\n",
       "      <td>-1</td>\n",
       "      <td>0</td>\n",
       "      <td>3</td>\n",
       "      <td>0</td>\n",
       "    </tr>\n",
       "    <tr>\n",
       "      <th>5</th>\n",
       "      <td>35</td>\n",
       "      <td>4</td>\n",
       "      <td>1</td>\n",
       "      <td>2</td>\n",
       "      <td>0</td>\n",
       "      <td>231</td>\n",
       "      <td>1</td>\n",
       "      <td>0</td>\n",
       "      <td>2</td>\n",
       "      <td>5</td>\n",
       "      <td>8</td>\n",
       "      <td>139</td>\n",
       "      <td>1</td>\n",
       "      <td>-1</td>\n",
       "      <td>0</td>\n",
       "      <td>3</td>\n",
       "      <td>0</td>\n",
       "    </tr>\n",
       "    <tr>\n",
       "      <th>6</th>\n",
       "      <td>28</td>\n",
       "      <td>4</td>\n",
       "      <td>2</td>\n",
       "      <td>2</td>\n",
       "      <td>0</td>\n",
       "      <td>447</td>\n",
       "      <td>1</td>\n",
       "      <td>1</td>\n",
       "      <td>2</td>\n",
       "      <td>5</td>\n",
       "      <td>8</td>\n",
       "      <td>217</td>\n",
       "      <td>1</td>\n",
       "      <td>-1</td>\n",
       "      <td>0</td>\n",
       "      <td>3</td>\n",
       "      <td>0</td>\n",
       "    </tr>\n",
       "    <tr>\n",
       "      <th>7</th>\n",
       "      <td>42</td>\n",
       "      <td>2</td>\n",
       "      <td>0</td>\n",
       "      <td>2</td>\n",
       "      <td>1</td>\n",
       "      <td>2</td>\n",
       "      <td>1</td>\n",
       "      <td>0</td>\n",
       "      <td>2</td>\n",
       "      <td>5</td>\n",
       "      <td>8</td>\n",
       "      <td>380</td>\n",
       "      <td>1</td>\n",
       "      <td>-1</td>\n",
       "      <td>0</td>\n",
       "      <td>3</td>\n",
       "      <td>0</td>\n",
       "    </tr>\n",
       "    <tr>\n",
       "      <th>8</th>\n",
       "      <td>58</td>\n",
       "      <td>5</td>\n",
       "      <td>1</td>\n",
       "      <td>0</td>\n",
       "      <td>0</td>\n",
       "      <td>121</td>\n",
       "      <td>1</td>\n",
       "      <td>0</td>\n",
       "      <td>2</td>\n",
       "      <td>5</td>\n",
       "      <td>8</td>\n",
       "      <td>50</td>\n",
       "      <td>1</td>\n",
       "      <td>-1</td>\n",
       "      <td>0</td>\n",
       "      <td>3</td>\n",
       "      <td>0</td>\n",
       "    </tr>\n",
       "    <tr>\n",
       "      <th>9</th>\n",
       "      <td>43</td>\n",
       "      <td>9</td>\n",
       "      <td>2</td>\n",
       "      <td>1</td>\n",
       "      <td>0</td>\n",
       "      <td>593</td>\n",
       "      <td>1</td>\n",
       "      <td>0</td>\n",
       "      <td>2</td>\n",
       "      <td>5</td>\n",
       "      <td>8</td>\n",
       "      <td>55</td>\n",
       "      <td>1</td>\n",
       "      <td>-1</td>\n",
       "      <td>0</td>\n",
       "      <td>3</td>\n",
       "      <td>0</td>\n",
       "    </tr>\n",
       "  </tbody>\n",
       "</table>\n",
       "</div>"
      ],
      "text/plain": [
       "   age  job  marital  education  default  balance  housing  loan  contact  \\\n",
       "0   58    4        1          2        0     2143        1     0        2   \n",
       "1   44    9        2          1        0       29        1     0        2   \n",
       "2   33    2        1          1        0        2        1     1        2   \n",
       "3   47    1        1          3        0     1506        1     0        2   \n",
       "4   33   11        2          3        0        1        0     0        2   \n",
       "5   35    4        1          2        0      231        1     0        2   \n",
       "6   28    4        2          2        0      447        1     1        2   \n",
       "7   42    2        0          2        1        2        1     0        2   \n",
       "8   58    5        1          0        0      121        1     0        2   \n",
       "9   43    9        2          1        0      593        1     0        2   \n",
       "\n",
       "   day  month  duration  campaign  pdays  previous  poutcome  Target  \n",
       "0    5      8       261         1     -1         0         3       0  \n",
       "1    5      8       151         1     -1         0         3       0  \n",
       "2    5      8        76         1     -1         0         3       0  \n",
       "3    5      8        92         1     -1         0         3       0  \n",
       "4    5      8       198         1     -1         0         3       0  \n",
       "5    5      8       139         1     -1         0         3       0  \n",
       "6    5      8       217         1     -1         0         3       0  \n",
       "7    5      8       380         1     -1         0         3       0  \n",
       "8    5      8        50         1     -1         0         3       0  \n",
       "9    5      8        55         1     -1         0         3       0  "
      ]
     },
     "execution_count": 23,
     "metadata": {},
     "output_type": "execute_result"
    }
   ],
   "source": [
    "for feature in df.columns: # Loop through all columns in the dataframe\n",
    "    if df[feature].dtype == 'object': # Only apply for columns with categorical strings\n",
    "        df[feature] = pd.Categorical(df[feature])\n",
    "        df[feature] = df[feature].cat.codes\n",
    "df.head(10)"
   ]
  },
  {
   "cell_type": "code",
   "execution_count": 24,
   "metadata": {
    "scrolled": true
   },
   "outputs": [
    {
     "name": "stdout",
     "output_type": "stream",
     "text": [
      "<class 'pandas.core.frame.DataFrame'>\n",
      "RangeIndex: 45211 entries, 0 to 45210\n",
      "Data columns (total 17 columns):\n",
      " #   Column     Non-Null Count  Dtype\n",
      "---  ------     --------------  -----\n",
      " 0   age        45211 non-null  int64\n",
      " 1   job        45211 non-null  int8 \n",
      " 2   marital    45211 non-null  int8 \n",
      " 3   education  45211 non-null  int8 \n",
      " 4   default    45211 non-null  int8 \n",
      " 5   balance    45211 non-null  int64\n",
      " 6   housing    45211 non-null  int8 \n",
      " 7   loan       45211 non-null  int8 \n",
      " 8   contact    45211 non-null  int8 \n",
      " 9   day        45211 non-null  int64\n",
      " 10  month      45211 non-null  int8 \n",
      " 11  duration   45211 non-null  int64\n",
      " 12  campaign   45211 non-null  int64\n",
      " 13  pdays      45211 non-null  int64\n",
      " 14  previous   45211 non-null  int64\n",
      " 15  poutcome   45211 non-null  int8 \n",
      " 16  Target     45211 non-null  int8 \n",
      "dtypes: int64(7), int8(10)\n",
      "memory usage: 2.8 MB\n"
     ]
    }
   ],
   "source": [
    "df.info()"
   ]
  },
  {
   "cell_type": "code",
   "execution_count": 25,
   "metadata": {
    "scrolled": false
   },
   "outputs": [],
   "source": [
    "df_save = df.copy()"
   ]
  },
  {
   "cell_type": "code",
   "execution_count": 26,
   "metadata": {
    "scrolled": false
   },
   "outputs": [],
   "source": [
    "#df_cat=pd.get_dummies(df_cleaned,columns=categorical_columns_one_hot)"
   ]
  },
  {
   "cell_type": "markdown",
   "metadata": {},
   "source": [
    "### Extract the y (dependent variable)"
   ]
  },
  {
   "cell_type": "code",
   "execution_count": 27,
   "metadata": {
    "scrolled": true
   },
   "outputs": [],
   "source": [
    "df = df_save.copy()"
   ]
  },
  {
   "cell_type": "code",
   "execution_count": 28,
   "metadata": {
    "scrolled": false
   },
   "outputs": [],
   "source": [
    "y = df['Target']"
   ]
  },
  {
   "cell_type": "markdown",
   "metadata": {},
   "source": [
    "### Now we can start dropping the columns we do not need"
   ]
  },
  {
   "cell_type": "code",
   "execution_count": 29,
   "metadata": {
    "scrolled": false
   },
   "outputs": [],
   "source": [
    "# Drop ID field, that is just a unique identifier for every record\n",
    "# Drop ZIP Code field, now that we have extracted the information we need\n",
    "# Drop Personal Loan (y dependent variable)\n",
    "df.drop(['Target'],inplace=True,axis='columns')"
   ]
  },
  {
   "cell_type": "code",
   "execution_count": 30,
   "metadata": {
    "scrolled": false
   },
   "outputs": [
    {
     "data": {
      "text/html": [
       "<div>\n",
       "<style scoped>\n",
       "    .dataframe tbody tr th:only-of-type {\n",
       "        vertical-align: middle;\n",
       "    }\n",
       "\n",
       "    .dataframe tbody tr th {\n",
       "        vertical-align: top;\n",
       "    }\n",
       "\n",
       "    .dataframe thead th {\n",
       "        text-align: right;\n",
       "    }\n",
       "</style>\n",
       "<table border=\"1\" class=\"dataframe\">\n",
       "  <thead>\n",
       "    <tr style=\"text-align: right;\">\n",
       "      <th></th>\n",
       "      <th>age</th>\n",
       "      <th>job</th>\n",
       "      <th>marital</th>\n",
       "      <th>education</th>\n",
       "      <th>default</th>\n",
       "      <th>balance</th>\n",
       "      <th>housing</th>\n",
       "      <th>loan</th>\n",
       "      <th>contact</th>\n",
       "      <th>day</th>\n",
       "      <th>month</th>\n",
       "      <th>duration</th>\n",
       "      <th>campaign</th>\n",
       "      <th>pdays</th>\n",
       "      <th>previous</th>\n",
       "      <th>poutcome</th>\n",
       "    </tr>\n",
       "  </thead>\n",
       "  <tbody>\n",
       "    <tr>\n",
       "      <th>0</th>\n",
       "      <td>58</td>\n",
       "      <td>4</td>\n",
       "      <td>1</td>\n",
       "      <td>2</td>\n",
       "      <td>0</td>\n",
       "      <td>2143</td>\n",
       "      <td>1</td>\n",
       "      <td>0</td>\n",
       "      <td>2</td>\n",
       "      <td>5</td>\n",
       "      <td>8</td>\n",
       "      <td>261</td>\n",
       "      <td>1</td>\n",
       "      <td>-1</td>\n",
       "      <td>0</td>\n",
       "      <td>3</td>\n",
       "    </tr>\n",
       "    <tr>\n",
       "      <th>1</th>\n",
       "      <td>44</td>\n",
       "      <td>9</td>\n",
       "      <td>2</td>\n",
       "      <td>1</td>\n",
       "      <td>0</td>\n",
       "      <td>29</td>\n",
       "      <td>1</td>\n",
       "      <td>0</td>\n",
       "      <td>2</td>\n",
       "      <td>5</td>\n",
       "      <td>8</td>\n",
       "      <td>151</td>\n",
       "      <td>1</td>\n",
       "      <td>-1</td>\n",
       "      <td>0</td>\n",
       "      <td>3</td>\n",
       "    </tr>\n",
       "    <tr>\n",
       "      <th>2</th>\n",
       "      <td>33</td>\n",
       "      <td>2</td>\n",
       "      <td>1</td>\n",
       "      <td>1</td>\n",
       "      <td>0</td>\n",
       "      <td>2</td>\n",
       "      <td>1</td>\n",
       "      <td>1</td>\n",
       "      <td>2</td>\n",
       "      <td>5</td>\n",
       "      <td>8</td>\n",
       "      <td>76</td>\n",
       "      <td>1</td>\n",
       "      <td>-1</td>\n",
       "      <td>0</td>\n",
       "      <td>3</td>\n",
       "    </tr>\n",
       "    <tr>\n",
       "      <th>3</th>\n",
       "      <td>47</td>\n",
       "      <td>1</td>\n",
       "      <td>1</td>\n",
       "      <td>3</td>\n",
       "      <td>0</td>\n",
       "      <td>1506</td>\n",
       "      <td>1</td>\n",
       "      <td>0</td>\n",
       "      <td>2</td>\n",
       "      <td>5</td>\n",
       "      <td>8</td>\n",
       "      <td>92</td>\n",
       "      <td>1</td>\n",
       "      <td>-1</td>\n",
       "      <td>0</td>\n",
       "      <td>3</td>\n",
       "    </tr>\n",
       "    <tr>\n",
       "      <th>4</th>\n",
       "      <td>33</td>\n",
       "      <td>11</td>\n",
       "      <td>2</td>\n",
       "      <td>3</td>\n",
       "      <td>0</td>\n",
       "      <td>1</td>\n",
       "      <td>0</td>\n",
       "      <td>0</td>\n",
       "      <td>2</td>\n",
       "      <td>5</td>\n",
       "      <td>8</td>\n",
       "      <td>198</td>\n",
       "      <td>1</td>\n",
       "      <td>-1</td>\n",
       "      <td>0</td>\n",
       "      <td>3</td>\n",
       "    </tr>\n",
       "  </tbody>\n",
       "</table>\n",
       "</div>"
      ],
      "text/plain": [
       "   age  job  marital  education  default  balance  housing  loan  contact  \\\n",
       "0   58    4        1          2        0     2143        1     0        2   \n",
       "1   44    9        2          1        0       29        1     0        2   \n",
       "2   33    2        1          1        0        2        1     1        2   \n",
       "3   47    1        1          3        0     1506        1     0        2   \n",
       "4   33   11        2          3        0        1        0     0        2   \n",
       "\n",
       "   day  month  duration  campaign  pdays  previous  poutcome  \n",
       "0    5      8       261         1     -1         0         3  \n",
       "1    5      8       151         1     -1         0         3  \n",
       "2    5      8        76         1     -1         0         3  \n",
       "3    5      8        92         1     -1         0         3  \n",
       "4    5      8       198         1     -1         0         3  "
      ]
     },
     "execution_count": 30,
     "metadata": {},
     "output_type": "execute_result"
    }
   ],
   "source": [
    "df.head()"
   ]
  },
  {
   "cell_type": "code",
   "execution_count": 31,
   "metadata": {
    "scrolled": false
   },
   "outputs": [
    {
     "data": {
      "text/html": [
       "<div>\n",
       "<style scoped>\n",
       "    .dataframe tbody tr th:only-of-type {\n",
       "        vertical-align: middle;\n",
       "    }\n",
       "\n",
       "    .dataframe tbody tr th {\n",
       "        vertical-align: top;\n",
       "    }\n",
       "\n",
       "    .dataframe thead th {\n",
       "        text-align: right;\n",
       "    }\n",
       "</style>\n",
       "<table border=\"1\" class=\"dataframe\">\n",
       "  <thead>\n",
       "    <tr style=\"text-align: right;\">\n",
       "      <th></th>\n",
       "      <th>age</th>\n",
       "      <th>job</th>\n",
       "      <th>marital</th>\n",
       "      <th>education</th>\n",
       "      <th>default</th>\n",
       "      <th>balance</th>\n",
       "      <th>housing</th>\n",
       "      <th>loan</th>\n",
       "      <th>contact</th>\n",
       "      <th>day</th>\n",
       "      <th>month</th>\n",
       "      <th>duration</th>\n",
       "      <th>campaign</th>\n",
       "      <th>pdays</th>\n",
       "      <th>previous</th>\n",
       "      <th>poutcome</th>\n",
       "    </tr>\n",
       "  </thead>\n",
       "  <tbody>\n",
       "    <tr>\n",
       "      <th>count</th>\n",
       "      <td>45211.000000</td>\n",
       "      <td>45211.000000</td>\n",
       "      <td>45211.000000</td>\n",
       "      <td>45211.000000</td>\n",
       "      <td>45211.000000</td>\n",
       "      <td>45211.000000</td>\n",
       "      <td>45211.000000</td>\n",
       "      <td>45211.000000</td>\n",
       "      <td>45211.000000</td>\n",
       "      <td>45211.000000</td>\n",
       "      <td>45211.000000</td>\n",
       "      <td>45211.000000</td>\n",
       "      <td>45211.000000</td>\n",
       "      <td>45211.000000</td>\n",
       "      <td>45211.000000</td>\n",
       "      <td>45211.000000</td>\n",
       "    </tr>\n",
       "    <tr>\n",
       "      <th>mean</th>\n",
       "      <td>40.936210</td>\n",
       "      <td>4.339762</td>\n",
       "      <td>1.167725</td>\n",
       "      <td>1.224813</td>\n",
       "      <td>0.018027</td>\n",
       "      <td>1362.272058</td>\n",
       "      <td>0.555838</td>\n",
       "      <td>0.160226</td>\n",
       "      <td>0.640242</td>\n",
       "      <td>15.806419</td>\n",
       "      <td>5.523014</td>\n",
       "      <td>258.163080</td>\n",
       "      <td>2.763841</td>\n",
       "      <td>40.197828</td>\n",
       "      <td>0.580323</td>\n",
       "      <td>2.559974</td>\n",
       "    </tr>\n",
       "    <tr>\n",
       "      <th>std</th>\n",
       "      <td>10.618762</td>\n",
       "      <td>3.272657</td>\n",
       "      <td>0.608230</td>\n",
       "      <td>0.747997</td>\n",
       "      <td>0.133049</td>\n",
       "      <td>3044.765829</td>\n",
       "      <td>0.496878</td>\n",
       "      <td>0.366820</td>\n",
       "      <td>0.897951</td>\n",
       "      <td>8.322476</td>\n",
       "      <td>3.006911</td>\n",
       "      <td>257.527812</td>\n",
       "      <td>3.098021</td>\n",
       "      <td>100.128746</td>\n",
       "      <td>2.303441</td>\n",
       "      <td>0.989059</td>\n",
       "    </tr>\n",
       "    <tr>\n",
       "      <th>min</th>\n",
       "      <td>18.000000</td>\n",
       "      <td>0.000000</td>\n",
       "      <td>0.000000</td>\n",
       "      <td>0.000000</td>\n",
       "      <td>0.000000</td>\n",
       "      <td>-8019.000000</td>\n",
       "      <td>0.000000</td>\n",
       "      <td>0.000000</td>\n",
       "      <td>0.000000</td>\n",
       "      <td>1.000000</td>\n",
       "      <td>0.000000</td>\n",
       "      <td>0.000000</td>\n",
       "      <td>1.000000</td>\n",
       "      <td>-1.000000</td>\n",
       "      <td>0.000000</td>\n",
       "      <td>0.000000</td>\n",
       "    </tr>\n",
       "    <tr>\n",
       "      <th>25%</th>\n",
       "      <td>33.000000</td>\n",
       "      <td>1.000000</td>\n",
       "      <td>1.000000</td>\n",
       "      <td>1.000000</td>\n",
       "      <td>0.000000</td>\n",
       "      <td>72.000000</td>\n",
       "      <td>0.000000</td>\n",
       "      <td>0.000000</td>\n",
       "      <td>0.000000</td>\n",
       "      <td>8.000000</td>\n",
       "      <td>3.000000</td>\n",
       "      <td>103.000000</td>\n",
       "      <td>1.000000</td>\n",
       "      <td>-1.000000</td>\n",
       "      <td>0.000000</td>\n",
       "      <td>3.000000</td>\n",
       "    </tr>\n",
       "    <tr>\n",
       "      <th>50%</th>\n",
       "      <td>39.000000</td>\n",
       "      <td>4.000000</td>\n",
       "      <td>1.000000</td>\n",
       "      <td>1.000000</td>\n",
       "      <td>0.000000</td>\n",
       "      <td>448.000000</td>\n",
       "      <td>1.000000</td>\n",
       "      <td>0.000000</td>\n",
       "      <td>0.000000</td>\n",
       "      <td>16.000000</td>\n",
       "      <td>6.000000</td>\n",
       "      <td>180.000000</td>\n",
       "      <td>2.000000</td>\n",
       "      <td>-1.000000</td>\n",
       "      <td>0.000000</td>\n",
       "      <td>3.000000</td>\n",
       "    </tr>\n",
       "    <tr>\n",
       "      <th>75%</th>\n",
       "      <td>48.000000</td>\n",
       "      <td>7.000000</td>\n",
       "      <td>2.000000</td>\n",
       "      <td>2.000000</td>\n",
       "      <td>0.000000</td>\n",
       "      <td>1428.000000</td>\n",
       "      <td>1.000000</td>\n",
       "      <td>0.000000</td>\n",
       "      <td>2.000000</td>\n",
       "      <td>21.000000</td>\n",
       "      <td>8.000000</td>\n",
       "      <td>319.000000</td>\n",
       "      <td>3.000000</td>\n",
       "      <td>-1.000000</td>\n",
       "      <td>0.000000</td>\n",
       "      <td>3.000000</td>\n",
       "    </tr>\n",
       "    <tr>\n",
       "      <th>max</th>\n",
       "      <td>95.000000</td>\n",
       "      <td>11.000000</td>\n",
       "      <td>2.000000</td>\n",
       "      <td>3.000000</td>\n",
       "      <td>1.000000</td>\n",
       "      <td>102127.000000</td>\n",
       "      <td>1.000000</td>\n",
       "      <td>1.000000</td>\n",
       "      <td>2.000000</td>\n",
       "      <td>31.000000</td>\n",
       "      <td>11.000000</td>\n",
       "      <td>4918.000000</td>\n",
       "      <td>63.000000</td>\n",
       "      <td>871.000000</td>\n",
       "      <td>275.000000</td>\n",
       "      <td>3.000000</td>\n",
       "    </tr>\n",
       "  </tbody>\n",
       "</table>\n",
       "</div>"
      ],
      "text/plain": [
       "                age           job       marital     education       default  \\\n",
       "count  45211.000000  45211.000000  45211.000000  45211.000000  45211.000000   \n",
       "mean      40.936210      4.339762      1.167725      1.224813      0.018027   \n",
       "std       10.618762      3.272657      0.608230      0.747997      0.133049   \n",
       "min       18.000000      0.000000      0.000000      0.000000      0.000000   \n",
       "25%       33.000000      1.000000      1.000000      1.000000      0.000000   \n",
       "50%       39.000000      4.000000      1.000000      1.000000      0.000000   \n",
       "75%       48.000000      7.000000      2.000000      2.000000      0.000000   \n",
       "max       95.000000     11.000000      2.000000      3.000000      1.000000   \n",
       "\n",
       "             balance       housing          loan       contact           day  \\\n",
       "count   45211.000000  45211.000000  45211.000000  45211.000000  45211.000000   \n",
       "mean     1362.272058      0.555838      0.160226      0.640242     15.806419   \n",
       "std      3044.765829      0.496878      0.366820      0.897951      8.322476   \n",
       "min     -8019.000000      0.000000      0.000000      0.000000      1.000000   \n",
       "25%        72.000000      0.000000      0.000000      0.000000      8.000000   \n",
       "50%       448.000000      1.000000      0.000000      0.000000     16.000000   \n",
       "75%      1428.000000      1.000000      0.000000      2.000000     21.000000   \n",
       "max    102127.000000      1.000000      1.000000      2.000000     31.000000   \n",
       "\n",
       "              month      duration      campaign         pdays      previous  \\\n",
       "count  45211.000000  45211.000000  45211.000000  45211.000000  45211.000000   \n",
       "mean       5.523014    258.163080      2.763841     40.197828      0.580323   \n",
       "std        3.006911    257.527812      3.098021    100.128746      2.303441   \n",
       "min        0.000000      0.000000      1.000000     -1.000000      0.000000   \n",
       "25%        3.000000    103.000000      1.000000     -1.000000      0.000000   \n",
       "50%        6.000000    180.000000      2.000000     -1.000000      0.000000   \n",
       "75%        8.000000    319.000000      3.000000     -1.000000      0.000000   \n",
       "max       11.000000   4918.000000     63.000000    871.000000    275.000000   \n",
       "\n",
       "           poutcome  \n",
       "count  45211.000000  \n",
       "mean       2.559974  \n",
       "std        0.989059  \n",
       "min        0.000000  \n",
       "25%        3.000000  \n",
       "50%        3.000000  \n",
       "75%        3.000000  \n",
       "max        3.000000  "
      ]
     },
     "execution_count": 31,
     "metadata": {},
     "output_type": "execute_result"
    }
   ],
   "source": [
    "df.describe()"
   ]
  },
  {
   "cell_type": "code",
   "execution_count": 32,
   "metadata": {
    "scrolled": false
   },
   "outputs": [],
   "source": [
    "X = df"
   ]
  },
  {
   "cell_type": "markdown",
   "metadata": {},
   "source": [
    "**This completes the Data model preparation**"
   ]
  },
  {
   "cell_type": "markdown",
   "metadata": {},
   "source": [
    "## Step 3. Split the data into training and test set in the ratio of 70:30 respectively (**5** marks)"
   ]
  },
  {
   "cell_type": "code",
   "execution_count": 33,
   "metadata": {
    "scrolled": false
   },
   "outputs": [],
   "source": [
    "from sklearn.model_selection import train_test_split\n",
    "X_train,X_test,y_train,y_test = train_test_split(X,y,test_size=0.3,random_state=0)"
   ]
  },
  {
   "cell_type": "code",
   "execution_count": 34,
   "metadata": {
    "scrolled": false
   },
   "outputs": [
    {
     "data": {
      "text/plain": [
       "0    0.883275\n",
       "1    0.116725\n",
       "Name: Target, dtype: float64"
      ]
     },
     "execution_count": 34,
     "metadata": {},
     "output_type": "execute_result"
    }
   ],
   "source": [
    "y_train.value_counts(normalize=True)"
   ]
  },
  {
   "cell_type": "code",
   "execution_count": 35,
   "metadata": {
    "scrolled": true
   },
   "outputs": [
    {
     "data": {
      "text/plain": [
       "0    0.882409\n",
       "1    0.117591\n",
       "Name: Target, dtype: float64"
      ]
     },
     "execution_count": 35,
     "metadata": {},
     "output_type": "execute_result"
    }
   ],
   "source": [
    "y_test.value_counts(normalize=True)"
   ]
  },
  {
   "cell_type": "markdown",
   "metadata": {},
   "source": [
    "**Insights:**\n",
    "- y distribution for Training and Test data is verified to be the same"
   ]
  },
  {
   "cell_type": "code",
   "execution_count": 36,
   "metadata": {
    "scrolled": false
   },
   "outputs": [],
   "source": [
    "# Imports for all models\n",
    "from sklearn.metrics import confusion_matrix, recall_score, precision_score, f1_score, roc_auc_score,accuracy_score\n",
    "from sklearn.linear_model import LogisticRegression\n",
    "from sklearn.tree import DecisionTreeClassifier\n",
    "from sklearn.ensemble import RandomForestClassifier, StackingClassifier, AdaBoostClassifier,BaggingClassifier,GradientBoostingRegressor\n",
    "from sklearn.pipeline import make_pipeline\n",
    "from sklearn.preprocessing import StandardScaler,MinMaxScaler\n",
    "from sklearn.dummy import DummyClassifier"
   ]
  },
  {
   "cell_type": "code",
   "execution_count": 37,
   "metadata": {
    "scrolled": false
   },
   "outputs": [],
   "source": [
    "## function to get confusion matrix in a proper format\n",
    "def draw_cm( actual, predicted ):\n",
    "    cm = confusion_matrix( actual, predicted)\n",
    "    plt.figure(figsize=(15, 10))\n",
    "    sns.heatmap(cm, annot=True,  fmt='.2f', xticklabels = [0,1] , yticklabels = [0,1] )\n",
    "    plt.ylabel('Actual')\n",
    "    plt.xlabel('Predicted')\n",
    "    plt.show()"
   ]
  },
  {
   "cell_type": "code",
   "execution_count": 38,
   "metadata": {
    "scrolled": false
   },
   "outputs": [],
   "source": [
    "def all_scores(models,X_train,y_train,X_test,y_test,threshold=0.5):\n",
    "\n",
    "    data = { 'Training-Accuracy':[],'Testing-Accuracy':[],\n",
    "            'Recall':[],'Precision':[],'F1-Score':[], 'Roc-Auc-Score':[]}\n",
    "    #data = { 'Training-Accuracy':[],'Testing-Accuracy':[],\n",
    "     #       'Recall':[],'F1-Score':[], 'Roc-Auc-Score':[]}\n",
    "    index_names = []\n",
    "    \n",
    "    test_vs_pred = {}\n",
    "    \n",
    "    for name,model in models.items():\n",
    "        \n",
    "        #pipe = make_pipeline(MinMaxScaler(), model )\n",
    "        pipe = make_pipeline(StandardScaler(), model )\n",
    "\n",
    "        pipe.fit( X_train, y_train)\n",
    "        #y_pred = pipe.predict(X_test)\n",
    "        y_pred = np.where(pipe.predict_proba(X_test)[:,1] > threshold ,1, 0)\n",
    "        \n",
    "        index_names.append(name)\n",
    "        \n",
    "        test_vs_pred[name] = [ y_test, y_pred ]\n",
    "        \n",
    "        data['Training-Accuracy'].append(pipe.score(X_train,y_train) )\n",
    "        data['Testing-Accuracy'].append(pipe.score(X_test,y_test) )\n",
    "        \n",
    "        data['Recall'].append(recall_score(y_test,y_pred) )\n",
    "        data['Precision'].append(precision_score(y_test,y_pred) )\n",
    "        data['F1-Score'].append(f1_score(y_test,y_pred) )\n",
    "        data['Roc-Auc-Score'].append(roc_auc_score(y_test,y_pred) )\n",
    "    \n",
    "    return pd.DataFrame(data,index=index_names), test_vs_pred"
   ]
  },
  {
   "cell_type": "code",
   "execution_count": 41,
   "metadata": {
    "scrolled": false
   },
   "outputs": [],
   "source": [
    "models = {}\n",
    "models['DecisionTree'] = DecisionTreeClassifier(criterion = 'entropy' ,random_state=7)\n",
    "models['RandomForest'] = RandomForestClassifier(criterion = 'entropy', random_state=7, class_weight={0:.5,1:.5}, max_depth = 5, min_samples_leaf=5)\n",
    "models['AdaBoost'] = AdaBoostClassifier( n_estimators= 20, random_state=7)\n",
    "models['Bagging'] = BaggingClassifier(n_estimators=10, max_samples= .7, bootstrap=True, random_state=7)\n",
    "models['LogisticRegression'] =  LogisticRegression(random_state=7)\n",
    "\n",
    "# Create Base Learners\n",
    "base_learners = [\n",
    "                 ('rf_1', RandomForestClassifier(n_estimators=10, random_state=7)),\n",
    "                 ('rf_2', BaggingClassifier(n_estimators=10, max_samples= .7, bootstrap=True, random_state=7))             \n",
    "                ]\n",
    "\n",
    "models['StackingClassifier'] = StackingClassifier(estimators=base_learners,\n",
    "                                 final_estimator=LogisticRegression(),  \n",
    "                                 cv=10)\n",
    "#models['GradientBoost'] = GradientBoostingRegressor()"
   ]
  },
  {
   "cell_type": "code",
   "execution_count": 42,
   "metadata": {
    "scrolled": false
   },
   "outputs": [
    {
     "data": {
      "text/html": [
       "<div>\n",
       "<style scoped>\n",
       "    .dataframe tbody tr th:only-of-type {\n",
       "        vertical-align: middle;\n",
       "    }\n",
       "\n",
       "    .dataframe tbody tr th {\n",
       "        vertical-align: top;\n",
       "    }\n",
       "\n",
       "    .dataframe thead th {\n",
       "        text-align: right;\n",
       "    }\n",
       "</style>\n",
       "<table border=\"1\" class=\"dataframe\">\n",
       "  <thead>\n",
       "    <tr style=\"text-align: right;\">\n",
       "      <th></th>\n",
       "      <th>Training-Accuracy</th>\n",
       "      <th>Testing-Accuracy</th>\n",
       "      <th>Recall</th>\n",
       "      <th>Precision</th>\n",
       "      <th>F1-Score</th>\n",
       "      <th>Roc-Auc-Score</th>\n",
       "    </tr>\n",
       "  </thead>\n",
       "  <tbody>\n",
       "    <tr>\n",
       "      <th>DecisionTree</th>\n",
       "      <td>1.000000</td>\n",
       "      <td>0.873636</td>\n",
       "      <td>0.484639</td>\n",
       "      <td>0.464264</td>\n",
       "      <td>0.474233</td>\n",
       "      <td>0.705057</td>\n",
       "    </tr>\n",
       "    <tr>\n",
       "      <th>RandomForest</th>\n",
       "      <td>0.895662</td>\n",
       "      <td>0.893468</td>\n",
       "      <td>0.905329</td>\n",
       "      <td>0.319823</td>\n",
       "      <td>0.472668</td>\n",
       "      <td>0.824375</td>\n",
       "    </tr>\n",
       "    <tr>\n",
       "      <th>AdaBoost</th>\n",
       "      <td>0.894650</td>\n",
       "      <td>0.887865</td>\n",
       "      <td>1.000000</td>\n",
       "      <td>0.117591</td>\n",
       "      <td>0.210436</td>\n",
       "      <td>0.500000</td>\n",
       "    </tr>\n",
       "    <tr>\n",
       "      <th>Bagging</th>\n",
       "      <td>0.979651</td>\n",
       "      <td>0.894942</td>\n",
       "      <td>0.832602</td>\n",
       "      <td>0.389786</td>\n",
       "      <td>0.530988</td>\n",
       "      <td>0.829452</td>\n",
       "    </tr>\n",
       "    <tr>\n",
       "      <th>LogisticRegression</th>\n",
       "      <td>0.892470</td>\n",
       "      <td>0.888307</td>\n",
       "      <td>0.835110</td>\n",
       "      <td>0.292041</td>\n",
       "      <td>0.432749</td>\n",
       "      <td>0.782665</td>\n",
       "    </tr>\n",
       "    <tr>\n",
       "      <th>StackingClassifier</th>\n",
       "      <td>0.991089</td>\n",
       "      <td>0.899219</td>\n",
       "      <td>0.823197</td>\n",
       "      <td>0.423685</td>\n",
       "      <td>0.559438</td>\n",
       "      <td>0.836989</td>\n",
       "    </tr>\n",
       "  </tbody>\n",
       "</table>\n",
       "</div>"
      ],
      "text/plain": [
       "                    Training-Accuracy  Testing-Accuracy    Recall  Precision  \\\n",
       "DecisionTree                 1.000000          0.873636  0.484639   0.464264   \n",
       "RandomForest                 0.895662          0.893468  0.905329   0.319823   \n",
       "AdaBoost                     0.894650          0.887865  1.000000   0.117591   \n",
       "Bagging                      0.979651          0.894942  0.832602   0.389786   \n",
       "LogisticRegression           0.892470          0.888307  0.835110   0.292041   \n",
       "StackingClassifier           0.991089          0.899219  0.823197   0.423685   \n",
       "\n",
       "                    F1-Score  Roc-Auc-Score  \n",
       "DecisionTree        0.474233       0.705057  \n",
       "RandomForest        0.472668       0.824375  \n",
       "AdaBoost            0.210436       0.500000  \n",
       "Bagging             0.530988       0.829452  \n",
       "LogisticRegression  0.432749       0.782665  \n",
       "StackingClassifier  0.559438       0.836989  "
      ]
     },
     "execution_count": 42,
     "metadata": {},
     "output_type": "execute_result"
    }
   ],
   "source": [
    "results_df , test_vs_pred = all_scores(models,X_train,y_train,X_test,y_test,threshold=0.1 )\n",
    "results_df"
   ]
  },
  {
   "cell_type": "code",
   "execution_count": 380,
   "metadata": {
    "scrolled": false
   },
   "outputs": [
    {
     "data": {
      "text/plain": [
       "Index(['age', 'job', 'marital', 'education', 'default', 'balance', 'housing',\n",
       "       'loan', 'contact', 'day', 'month', 'duration', 'campaign', 'pdays',\n",
       "       'poutcome'],\n",
       "      dtype='object')"
      ]
     },
     "execution_count": 380,
     "metadata": {},
     "output_type": "execute_result"
    }
   ],
   "source": [
    "df.columns"
   ]
  },
  {
   "cell_type": "code",
   "execution_count": 381,
   "metadata": {
    "scrolled": true
   },
   "outputs": [
    {
     "name": "stdout",
     "output_type": "stream",
     "text": [
      "**** Drop age ****\n",
      "                    Training-Accuracy  Testing-Accuracy    Recall  Precision  \\\n",
      "DecisionTree                 1.000000          0.879092  0.474576   0.466069   \n",
      "RandomForest                 0.893987          0.895164  0.741851   0.430408   \n",
      "AdaBoost                     0.891301          0.896564  1.000000   0.113093   \n",
      "Bagging                      0.978481          0.900840  0.750326   0.452437   \n",
      "LogisticRegression           0.889405          0.895459  0.629726   0.443730   \n",
      "\n",
      "                    F1-Score  Roc-Auc-Score  \n",
      "DecisionTree        0.470284       0.702625  \n",
      "RandomForest        0.544758       0.808332  \n",
      "AdaBoost            0.203206       0.500000  \n",
      "Bagging             0.564492       0.817266  \n",
      "LogisticRegression  0.520614       0.764531  \n",
      "**** Drop job ****\n",
      "                    Training-Accuracy  Testing-Accuracy    Recall  Precision  \\\n",
      "DecisionTree                 1.000000          0.877175  0.480443   0.458904   \n",
      "RandomForest                 0.893513          0.894795  0.721643   0.436686   \n",
      "AdaBoost                     0.891333          0.895016  1.000000   0.113093   \n",
      "Bagging                      0.977533          0.901135  0.737940   0.451896   \n",
      "LogisticRegression           0.889121          0.895385  0.628422   0.444855   \n",
      "\n",
      "                    F1-Score  Roc-Auc-Score  \n",
      "DecisionTree        0.469427       0.704104  \n",
      "RandomForest        0.544114       0.801470  \n",
      "AdaBoost            0.203206       0.500000  \n",
      "Bagging             0.560535       0.811904  \n",
      "LogisticRegression  0.520940       0.764211  \n",
      "**** Drop marital ****\n",
      "                    Training-Accuracy  Testing-Accuracy    Recall  Precision  \\\n",
      "DecisionTree                 1.000000          0.878281  0.490874   0.463956   \n",
      "RandomForest                 0.894050          0.895164  0.721643   0.430237   \n",
      "AdaBoost                     0.891333          0.895016  1.000000   0.113093   \n",
      "Bagging                      0.977691          0.901651  0.753585   0.459277   \n",
      "LogisticRegression           0.889026          0.895532  0.628422   0.445060   \n",
      "\n",
      "                    F1-Score  Roc-Auc-Score  \n",
      "DecisionTree        0.477035       0.709277  \n",
      "RandomForest        0.539080       0.799890  \n",
      "AdaBoost            0.203206       0.500000  \n",
      "Bagging             0.570723       0.820226  \n",
      "LogisticRegression  0.521081       0.764253  \n",
      "**** Drop education ****\n",
      "                    Training-Accuracy  Testing-Accuracy    Recall  Precision  \\\n",
      "DecisionTree                 1.000000          0.878944  0.498044   0.466993   \n",
      "RandomForest                 0.893639          0.895680  0.734029   0.426515   \n",
      "AdaBoost                     0.891491          0.894426  1.000000   0.113093   \n",
      "Bagging                      0.977312          0.900914  0.745111   0.453212   \n",
      "LogisticRegression           0.889405          0.895237  0.631682   0.450279   \n",
      "\n",
      "                    F1-Score  Roc-Auc-Score  \n",
      "DecisionTree        0.482019       0.712779  \n",
      "RandomForest        0.539530       0.804088  \n",
      "AdaBoost            0.203206       0.500000  \n",
      "Bagging             0.563609       0.815240  \n",
      "LogisticRegression  0.525773       0.766672  \n",
      "**** Drop default ****\n",
      "                    Training-Accuracy  Testing-Accuracy    Recall  Precision  \\\n",
      "DecisionTree                 1.000000          0.878428  0.494785   0.464789   \n",
      "RandomForest                 0.894303          0.895459  0.736636   0.436125   \n",
      "AdaBoost                     0.889879          0.894500  1.000000   0.113093   \n",
      "Bagging                      0.977786          0.899735  0.744459   0.460298   \n",
      "LogisticRegression           0.888425          0.895090  0.630378   0.444189   \n",
      "\n",
      "                    F1-Score  Roc-Auc-Score  \n",
      "DecisionTree        0.479318       0.711067  \n",
      "RandomForest        0.547879       0.807595  \n",
      "AdaBoost            0.203206       0.500000  \n",
      "Bagging             0.568867       0.816577  \n",
      "LogisticRegression  0.521153       0.764898  \n",
      "**** Drop balance ****\n",
      "                    Training-Accuracy  Testing-Accuracy    Recall  Precision  \\\n",
      "DecisionTree                 1.000000          0.877691  0.488266   0.461491   \n",
      "RandomForest                 0.894872          0.895901  0.739896   0.431723   \n",
      "AdaBoost                     0.889879          0.894500  1.000000   0.113093   \n",
      "Bagging                      0.977660          0.901651  0.735332   0.457421   \n",
      "LogisticRegression           0.888457          0.895090  0.629074   0.443882   \n",
      "\n",
      "                    F1-Score  Roc-Auc-Score  \n",
      "DecisionTree        0.474501       0.707807  \n",
      "RandomForest        0.545280       0.807853  \n",
      "AdaBoost            0.203206       0.500000  \n",
      "Bagging             0.564000       0.812055  \n",
      "LogisticRegression  0.520496       0.764288  \n",
      "**** Drop housing ****\n",
      "                    Training-Accuracy  Testing-Accuracy    Recall  Precision  \\\n",
      "DecisionTree                 0.999242          0.875553  0.476532   0.450956   \n",
      "RandomForest                 0.895282          0.895827  0.744459   0.433726   \n",
      "AdaBoost                     0.890448          0.896122  1.000000   0.113093   \n",
      "Bagging                      0.976649          0.900914  0.743807   0.461383   \n",
      "LogisticRegression           0.888741          0.896048  0.627771   0.441743   \n",
      "\n",
      "                    F1-Score  Roc-Auc-Score  \n",
      "DecisionTree        0.463391       0.701275  \n",
      "RandomForest        0.548116       0.810259  \n",
      "AdaBoost            0.203206       0.500000  \n",
      "Bagging             0.569503       0.816542  \n",
      "LogisticRegression  0.518578       0.763303  \n",
      "**** Drop loan ****\n",
      "                    Training-Accuracy  Testing-Accuracy    Recall  Precision  \\\n",
      "DecisionTree                 0.998862          0.879239  0.478488   0.463970   \n",
      "RandomForest                 0.896357          0.897744  0.725554   0.429398   \n",
      "AdaBoost                     0.890985          0.897081  1.000000   0.113093   \n",
      "Bagging                      0.975922          0.900324  0.735984   0.458570   \n",
      "LogisticRegression           0.887983          0.895753  0.545632   0.422727   \n",
      "\n",
      "                    F1-Score  Roc-Auc-Score  \n",
      "DecisionTree        0.471117       0.703999  \n",
      "RandomForest        0.539506       0.801306  \n",
      "AdaBoost            0.203206       0.500000  \n",
      "Bagging             0.565065       0.812589  \n",
      "LogisticRegression  0.476380       0.725310  \n",
      "**** Drop contact ****\n",
      "                    Training-Accuracy  Testing-Accuracy    Recall  Precision  \\\n",
      "DecisionTree                 0.998641          0.877838  0.473272   0.456891   \n",
      "RandomForest                 0.892344          0.894942  0.732725   0.419090   \n",
      "AdaBoost                     0.892691          0.898997  1.000000   0.113093   \n",
      "Bagging                      0.975795          0.899587  0.739244   0.463046   \n",
      "LogisticRegression           0.887888          0.894869  0.531291   0.417307   \n",
      "\n",
      "                    F1-Score  Roc-Auc-Score  \n",
      "DecisionTree        0.464938       0.700768  \n",
      "RandomForest        0.533207       0.801608  \n",
      "AdaBoost            0.203206       0.500000  \n",
      "Bagging             0.569420       0.814967  \n",
      "LogisticRegression  0.467451       0.718347  \n",
      "**** Drop day ****\n",
      "                    Training-Accuracy  Testing-Accuracy    Recall  Precision  \\\n",
      "DecisionTree                 0.998104          0.878723  0.481095   0.458955   \n",
      "RandomForest                 0.896578          0.897449  0.713168   0.424360   \n",
      "AdaBoost                     0.890890          0.898186  1.000000   0.113093   \n",
      "Bagging                      0.974342          0.897818  0.713168   0.434990   \n",
      "LogisticRegression           0.887035          0.893910  0.499348   0.421111   \n",
      "\n",
      "                    F1-Score  Roc-Auc-Score  \n",
      "DecisionTree        0.469764       0.704388  \n",
      "RandomForest        0.532101       0.794905  \n",
      "AdaBoost            0.203206       0.500000  \n",
      "Bagging             0.540380       0.797523  \n",
      "LogisticRegression  0.456904       0.705908  \n",
      "**** Drop month ****\n",
      "                    Training-Accuracy  Testing-Accuracy    Recall  Precision  \\\n",
      "DecisionTree                 0.980030          0.874447  0.455671   0.379891   \n",
      "RandomForest                 0.896641          0.898776  0.716428   0.420589   \n",
      "AdaBoost                     0.890890          0.898186  1.000000   0.113093   \n",
      "Bagging                      0.960281          0.888455  0.661017   0.391204   \n",
      "LogisticRegression           0.887035          0.893910  0.498696   0.420561   \n",
      "\n",
      "                    F1-Score  Roc-Auc-Score  \n",
      "DecisionTree        0.414345       0.680413  \n",
      "RandomForest        0.530022       0.795288  \n",
      "AdaBoost            0.203206       0.500000  \n",
      "Bagging             0.491517       0.764922  \n",
      "LogisticRegression  0.456308       0.705541  \n",
      "**** Drop duration ****\n"
     ]
    },
    {
     "name": "stdout",
     "output_type": "stream",
     "text": [
      "                    Training-Accuracy  Testing-Accuracy    Recall  Precision  \\\n",
      "DecisionTree                 0.952634          0.882262  0.430248   0.358501   \n",
      "RandomForest                 0.902044          0.903052  0.670795   0.417614   \n",
      "AdaBoost                     0.894050          0.899440  1.000000   0.113093   \n",
      "Bagging                      0.939647          0.890077  0.569100   0.370543   \n",
      "LogisticRegression           0.887351          0.893837  0.498044   0.423738   \n",
      "\n",
      "                    F1-Score  Roc-Auc-Score  \n",
      "DecisionTree        0.391111       0.666038  \n",
      "RandomForest        0.514757       0.775755  \n",
      "AdaBoost            0.203206       0.500000  \n",
      "Bagging             0.448843       0.722913  \n",
      "LogisticRegression  0.457896       0.705838  \n",
      "**** Drop campaign ****\n",
      "                    Training-Accuracy  Testing-Accuracy    Recall  Precision  \\\n",
      "DecisionTree                 0.914842          0.884179  0.176010   0.386266   \n",
      "RandomForest                 0.892723          0.894205  0.236636   0.504167   \n",
      "AdaBoost                     0.891333          0.893689  1.000000   0.113093   \n",
      "Bagging                      0.908333          0.888676  0.230769   0.388584   \n",
      "LogisticRegression           0.880431          0.885285  0.108866   0.245588   \n",
      "\n",
      "                    F1-Score  Roc-Auc-Score  \n",
      "DecisionTree        0.241827       0.570175  \n",
      "RandomForest        0.322094       0.603480  \n",
      "AdaBoost            0.203206       0.500000  \n",
      "Bagging             0.289571       0.592234  \n",
      "LogisticRegression  0.150858       0.533111  \n",
      "**** Drop pdays ****\n",
      "                    Training-Accuracy  Testing-Accuracy    Recall  Precision  \\\n",
      "DecisionTree                 0.909059          0.886464  0.192960   0.389474   \n",
      "RandomForest                 0.892312          0.894205  0.232725   0.496523   \n",
      "AdaBoost                     0.892154          0.894132  1.000000   0.113093   \n",
      "Bagging                      0.905078          0.888750  0.225554   0.381898   \n",
      "LogisticRegression           0.880463          0.885211  0.097132   0.227481   \n",
      "\n",
      "                    F1-Score  Roc-Auc-Score  \n",
      "DecisionTree        0.258065       0.577195  \n",
      "RandomForest        0.316911       0.601317  \n",
      "AdaBoost            0.203206       0.500000  \n",
      "Bagging             0.283607       0.589502  \n",
      "LogisticRegression  0.136135       0.527535  \n",
      "**** Drop previous ****\n",
      "                    Training-Accuracy  Testing-Accuracy    Recall  Precision  \\\n",
      "DecisionTree                 0.892470          0.894132  0.184485   0.503559   \n",
      "RandomForest                 0.892312          0.894279  0.176010   0.606742   \n",
      "AdaBoost                     0.892186          0.894279  1.000000   0.113093   \n",
      "Bagging                      0.892407          0.894132  0.186441   0.500000   \n",
      "LogisticRegression           0.880715          0.885653  0.048240   0.207283   \n",
      "\n",
      "                    F1-Score  Roc-Auc-Score  \n",
      "DecisionTree        0.270038       0.580646  \n",
      "RandomForest        0.272865       0.580732  \n",
      "AdaBoost            0.203206       0.500000  \n",
      "Bagging             0.271605       0.581333  \n",
      "LogisticRegression  0.078265       0.512358  \n",
      "**** Drop poutcome ****\n",
      "                    Training-Accuracy  Testing-Accuracy   Recall  Precision  \\\n",
      "DecisionTree                 0.892249          0.894279  0.17601   0.613636   \n",
      "RandomForest                 0.892249          0.894279  0.17601   0.613636   \n",
      "AdaBoost                     0.892249          0.894279  1.00000   0.113093   \n",
      "Bagging                      0.892249          0.894279  0.17601   0.613636   \n",
      "LogisticRegression           0.881347          0.886907  0.00000   0.000000   \n",
      "\n",
      "                    F1-Score  Roc-Auc-Score  \n",
      "DecisionTree        0.273556        0.58094  \n",
      "RandomForest        0.273556        0.58094  \n",
      "AdaBoost            0.203206        0.50000  \n",
      "Bagging             0.273556        0.58094  \n",
      "LogisticRegression  0.000000        0.50000  \n"
     ]
    },
    {
     "name": "stderr",
     "output_type": "stream",
     "text": [
      "/Users/vsananda/opt/anaconda3/lib/python3.8/site-packages/sklearn/metrics/_classification.py:1221: UndefinedMetricWarning: Precision is ill-defined and being set to 0.0 due to no predicted samples. Use `zero_division` parameter to control this behavior.\n",
      "  _warn_prf(average, modifier, msg_start, len(result))\n"
     ]
    }
   ],
   "source": [
    "df = df_save.copy()\n",
    "y = df['Target']\n",
    "df.drop('Target',inplace=True,axis='columns')\n",
    "\n",
    "for feature in df.columns:\n",
    "    #df = df_save.copy()\n",
    "\n",
    "    print(\"**** Drop {} ****\".format(feature))\n",
    "    #y = df['Target']\n",
    "    #df.drop(['Target',feature],inplace=True,axis='columns')\n",
    "\n",
    "    X = df\n",
    "    \n",
    "    X_train,X_test,y_train,y_test = train_test_split(X,y,test_size=0.3,random_state=7)\n",
    "    \n",
    "    results_df , test_vs_pred = all_scores(models,X_train,y_train,X_test,y_test,threshold=0.2 )\n",
    "\n",
    "    print(results_df)\n",
    "    \n",
    "    df.drop(feature,inplace=True,axis='columns')\n",
    "\n"
   ]
  },
  {
   "cell_type": "code",
   "execution_count": 271,
   "metadata": {
    "scrolled": true
   },
   "outputs": [
    {
     "name": "stdout",
     "output_type": "stream",
     "text": [
      "***** Confusion matrix for DecisionTree *****\n"
     ]
    },
    {
     "data": {
      "image/png": "[encoded data removed]",
      "text/plain": [
       "<Figure size 1080x720 with 2 Axes>"
      ]
     },
     "metadata": {
      "needs_background": "light"
     },
     "output_type": "display_data"
    },
    {
     "name": "stdout",
     "output_type": "stream",
     "text": [
      "***** Confusion matrix for RandomForest *****\n"
     ]
    },
    {
     "data": {
      "image/png": "[encoded data removed]",
      "text/plain": [
       "<Figure size 1080x720 with 2 Axes>"
      ]
     },
     "metadata": {
      "needs_background": "light"
     },
     "output_type": "display_data"
    },
    {
     "name": "stdout",
     "output_type": "stream",
     "text": [
      "***** Confusion matrix for AdaBoost *****\n"
     ]
    },
    {
     "data": {
      "image/png": "[encoded data removed]",
      "text/plain": [
       "<Figure size 1080x720 with 2 Axes>"
      ]
     },
     "metadata": {
      "needs_background": "light"
     },
     "output_type": "display_data"
    },
    {
     "name": "stdout",
     "output_type": "stream",
     "text": [
      "***** Confusion matrix for Bagging *****\n"
     ]
    },
    {
     "data": {
      "image/png": "[encoded data removed]",
      "text/plain": [
       "<Figure size 1080x720 with 2 Axes>"
      ]
     },
     "metadata": {
      "needs_background": "light"
     },
     "output_type": "display_data"
    },
    {
     "name": "stdout",
     "output_type": "stream",
     "text": [
      "***** Confusion matrix for LogisticRegression *****\n"
     ]
    },
    {
     "data": {
      "image/png": "[encoded data removed]",
      "text/plain": [
       "<Figure size 1080x720 with 2 Axes>"
      ]
     },
     "metadata": {
      "needs_background": "light"
     },
     "output_type": "display_data"
    }
   ],
   "source": [
    "for key in models:\n",
    "    print(\"***** Confusion matrix for {} *****\".format(key))\n",
    "    draw_cm( test_vs_pred[key][0], test_vs_pred[key][1] )"
   ]
  },
  {
   "cell_type": "code",
   "execution_count": 282,
   "metadata": {
    "scrolled": false
   },
   "outputs": [],
   "source": [
    "# Null accuracy , choose 1 of the classes all the time\n",
    "# Useful metric when we have an imbalance in class distribution\n",
    "def compute_null_accuracy(y):\n",
    "    distrib = y.value_counts(normalize=True)\n",
    "    return distrib[ np.argmax(distrib) ] * 100"
   ]
  },
  {
   "cell_type": "code",
   "execution_count": 283,
   "metadata": {
    "scrolled": false
   },
   "outputs": [
    {
     "name": "stdout",
     "output_type": "stream",
     "text": [
      "Null accuracy = 88.24093187850191% \n"
     ]
    }
   ],
   "source": [
    "print( \"Null accuracy = {}% \".format(compute_null_accuracy(y_test)))"
   ]
  },
  {
   "cell_type": "code",
   "execution_count": 286,
   "metadata": {
    "scrolled": false
   },
   "outputs": [
    {
     "name": "stdout",
     "output_type": "stream",
     "text": [
      "***** Model params for LogisticRegression *****\n",
      "          Col  Coeff\n",
      "0         age   0.09\n",
      "1         job   0.03\n",
      "2     marital   0.13\n",
      "3   education   0.14\n",
      "4     default   0.06\n",
      "5     housing   0.53\n",
      "6        loan   0.28\n",
      "7     contact   0.63\n",
      "8         day   0.05\n",
      "9       month   0.14\n",
      "10   duration   1.05\n",
      "11   campaign   0.40\n",
      "12      pdays   0.36\n",
      "13   previous   0.20\n",
      "14   poutcome   0.23\n"
     ]
    }
   ],
   "source": [
    "for key,model in models.items():\n",
    "    if hasattr(model,'coef_):\n",
    "        print(\"***** Model params for {} *****\".format(key))\n",
    "        ## Feature Importance or Coefficients \n",
    "        fi = pd.DataFrame()\n",
    "        fi['Col'] = X_train.columns\n",
    "        fi['Coeff'] = np.round(abs(model.coef_[0]),2)\n",
    "        fi.sort_values(by='Coeff',ascending=False)\n",
    "        print(fi)"
   ]
  },
  {
   "cell_type": "code",
   "execution_count": null,
   "metadata": {
    "scrolled": false
   },
   "outputs": [],
   "source": []
  },
  {
   "cell_type": "code",
   "execution_count": null,
   "metadata": {
    "scrolled": false
   },
   "outputs": [],
   "source": []
  },
  {
   "cell_type": "markdown",
   "metadata": {},
   "source": [
    "### AUC ROC Curve"
   ]
  },
  {
   "cell_type": "code",
   "execution_count": 266,
   "metadata": {
    "scrolled": false
   },
   "outputs": [
    {
     "data": {
      "image/png": "[encoded data removed]",
      "text/plain": [
       "<Figure size 1080x720 with 1 Axes>"
      ]
     },
     "metadata": {
      "needs_background": "light"
     },
     "output_type": "display_data"
    }
   ],
   "source": [
    "from sklearn.metrics import roc_auc_score\n",
    "from sklearn.metrics import roc_curve\n",
    "\n",
    "logit_roc_auc = roc_auc_score(y_test, model.predict(X_test))\n",
    "fpr, tpr, thresholds = roc_curve(y_test, model.predict_proba(X_test)[:,1])\n",
    "plt.figure(figsize=(15, 10))\n",
    "\n",
    "plt.plot(fpr, tpr, label='Logistic Regression (area = %0.2f)' % logit_roc_auc)\n",
    "plt.plot([0, 1], [0, 1],'r--')\n",
    "plt.xlim([-0.1, 1.1])\n",
    "plt.ylim([-0.1, 1.1])\n",
    "plt.xlabel('False Positive Rate')\n",
    "plt.ylabel('True Positive Rate')\n",
    "plt.title('Receiver operating characteristic')\n",
    "plt.legend(loc=\"lower right\")\n",
    "plt.savefig('Log_ROC')\n",
    "plt.grid('on')\n",
    "plt.show()"
   ]
  },
  {
   "cell_type": "markdown",
   "metadata": {},
   "source": [
    "**Insights:**\n",
    "- Looking at the scores and the AUC ROC Curve, we see that with the default threshold of 0.5, the True Positive Rate or Recall is 0.64. \n",
    "- You can increase Recall or the TPR by decreasing the number of False Negatives.\n",
    "- From the AUC ROC Curve we can see that the slope of the curve is high between 0.6 and 0.8, this means that for a small increase in the False Positive Rate, we will see a larger increase in the TPR (Recall score)\n",
    "- Increasing the Recall score will result in the Precision Score decreasing \n",
    "- Precision score decreasing will mean the number of False Positives are increasing.\n",
    "- From the confusion matrix we see that there are a lot more False Negatives (45) compared to False Positives (18), so there is some scope to make these more balanced without impacting the overall accuracy of ~95%.\n",
    "- We can do so by adjusting the threshold"
   ]
  },
  {
   "cell_type": "markdown",
   "metadata": {},
   "source": [
    "## Fine Tuning Threshold\n",
    "### We plot how the accuracy, precision and recall scores change as we vary the threshold\n"
   ]
  },
  {
   "cell_type": "code",
   "execution_count": 267,
   "metadata": {
    "scrolled": false
   },
   "outputs": [
    {
     "data": {
      "image/png": "[encoded data removed]",
      "text/plain": [
       "<Figure size 1080x720 with 1 Axes>"
      ]
     },
     "metadata": {
      "needs_background": "light"
     },
     "output_type": "display_data"
    }
   ],
   "source": [
    "accuracy_plot=[]\n",
    "recall_plot=[]\n",
    "precision_plot=[]\n",
    "x_range = np.linspace(0.1,0.9,100)\n",
    "\n",
    "for threshold in x_range:\n",
    "    y_pred = np.where(model.predict_proba(X_test)[:,1] > threshold ,1, 0)\n",
    "    accuracy_plot.append( accuracy_score(y_test,y_pred))\n",
    "    recall_plot.append( recall_score(y_test,y_pred))\n",
    "    precision_plot.append( precision_score(y_test,y_pred))\n",
    "\n",
    "plt.figure(figsize=(15, 10))\n",
    "plt.plot(x_range, accuracy_plot,label=\"accuracy\")\n",
    "plt.plot(x_range, recall_plot,label='recall')\n",
    "plt.plot(x_range, precision_plot,label='precision')\n",
    "plt.legend(loc=\"lower right\")\n",
    "plt.grid('on')\n",
    "plt.show()"
   ]
  },
  {
   "cell_type": "markdown",
   "metadata": {},
   "source": [
    "## From the graph a threshold value that balances the precision and recall score seems to be around 0.3"
   ]
  },
  {
   "cell_type": "code",
   "execution_count": 268,
   "metadata": {
    "scrolled": false
   },
   "outputs": [],
   "source": [
    "Threshold = 0.3\n",
    "y_pred = np.where(model.predict_proba(X_test)[:,1] > Threshold ,1, 0)"
   ]
  },
  {
   "cell_type": "code",
   "execution_count": 269,
   "metadata": {
    "scrolled": false
   },
   "outputs": [
    {
     "name": "stdout",
     "output_type": "stream",
     "text": [
      "Testing accuracy 0.952\n",
      "\n",
      "Confusion Matrix\n"
     ]
    },
    {
     "data": {
      "image/png": "[encoded data removed]",
      "text/plain": [
       "<Figure size 1080x720 with 2 Axes>"
      ]
     },
     "metadata": {
      "needs_background": "light"
     },
     "output_type": "display_data"
    },
    {
     "name": "stdout",
     "output_type": "stream",
     "text": [
      "\n",
      "Recall: 0.734375\n",
      "\n",
      "Precision: 0.7121212121212122\n",
      "\n",
      "F1 Score: 0.7230769230769231\n",
      "\n",
      "Roc Auc Score: 0.8533391034985423\n"
     ]
    }
   ],
   "source": [
    "print(\"Testing accuracy\",accuracy_score(y_test, y_pred))\n",
    "print()\n",
    "print('Confusion Matrix')\n",
    "draw_cm(y_test,y_pred)\n",
    "print()\n",
    "print(\"Recall:\",recall_score(y_test,y_pred))\n",
    "print()\n",
    "print(\"Precision:\",precision_score(y_test,y_pred))\n",
    "print()\n",
    "print(\"F1 Score:\",f1_score(y_test,y_pred))\n",
    "print()\n",
    "print(\"Roc Auc Score:\",roc_auc_score(y_test,y_pred))"
   ]
  },
  {
   "cell_type": "markdown",
   "metadata": {},
   "source": [
    "### By setting the threshold to 0.3, we the number of False Negatives and False Positives are closer at 34 and 38  each\n",
    "### The overall accuracy remains at ~95%\n"
   ]
  },
  {
   "cell_type": "markdown",
   "metadata": {},
   "source": [
    "## Step 5. Find out \n",
    "   * coefficients of all the attributes and show the output in a data frame with column names\n",
    "   * For test data show all the rows where the predicted class is not equal to the observed class. (**10** marks)"
   ]
  },
  {
   "cell_type": "code",
   "execution_count": 270,
   "metadata": {
    "scrolled": false
   },
   "outputs": [
    {
     "data": {
      "text/html": [
       "<div>\n",
       "<style scoped>\n",
       "    .dataframe tbody tr th:only-of-type {\n",
       "        vertical-align: middle;\n",
       "    }\n",
       "\n",
       "    .dataframe tbody tr th {\n",
       "        vertical-align: top;\n",
       "    }\n",
       "\n",
       "    .dataframe thead th {\n",
       "        text-align: right;\n",
       "    }\n",
       "</style>\n",
       "<table border=\"1\" class=\"dataframe\">\n",
       "  <thead>\n",
       "    <tr style=\"text-align: right;\">\n",
       "      <th></th>\n",
       "      <th>Col</th>\n",
       "      <th>Coeff</th>\n",
       "    </tr>\n",
       "  </thead>\n",
       "  <tbody>\n",
       "    <tr>\n",
       "      <th>10</th>\n",
       "      <td>Education_1</td>\n",
       "      <td>4.34</td>\n",
       "    </tr>\n",
       "    <tr>\n",
       "      <th>7</th>\n",
       "      <td>CD Account</td>\n",
       "      <td>3.23</td>\n",
       "    </tr>\n",
       "    <tr>\n",
       "      <th>9</th>\n",
       "      <td>CreditCard</td>\n",
       "      <td>0.87</td>\n",
       "    </tr>\n",
       "    <tr>\n",
       "      <th>8</th>\n",
       "      <td>Online</td>\n",
       "      <td>0.77</td>\n",
       "    </tr>\n",
       "    <tr>\n",
       "      <th>6</th>\n",
       "      <td>Securities Account</td>\n",
       "      <td>0.61</td>\n",
       "    </tr>\n",
       "    <tr>\n",
       "      <th>12</th>\n",
       "      <td>Education_3</td>\n",
       "      <td>0.61</td>\n",
       "    </tr>\n",
       "    <tr>\n",
       "      <th>11</th>\n",
       "      <td>Education_2</td>\n",
       "      <td>0.57</td>\n",
       "    </tr>\n",
       "    <tr>\n",
       "      <th>3</th>\n",
       "      <td>Family</td>\n",
       "      <td>0.36</td>\n",
       "    </tr>\n",
       "    <tr>\n",
       "      <th>4</th>\n",
       "      <td>CCAvg</td>\n",
       "      <td>0.20</td>\n",
       "    </tr>\n",
       "    <tr>\n",
       "      <th>0</th>\n",
       "      <td>Age</td>\n",
       "      <td>0.06</td>\n",
       "    </tr>\n",
       "    <tr>\n",
       "      <th>1</th>\n",
       "      <td>Experience</td>\n",
       "      <td>0.05</td>\n",
       "    </tr>\n",
       "    <tr>\n",
       "      <th>2</th>\n",
       "      <td>Income</td>\n",
       "      <td>0.05</td>\n",
       "    </tr>\n",
       "    <tr>\n",
       "      <th>13</th>\n",
       "      <td>Loans-By-Zipcode</td>\n",
       "      <td>0.05</td>\n",
       "    </tr>\n",
       "    <tr>\n",
       "      <th>5</th>\n",
       "      <td>Mortgage</td>\n",
       "      <td>0.00</td>\n",
       "    </tr>\n",
       "  </tbody>\n",
       "</table>\n",
       "</div>"
      ],
      "text/plain": [
       "                   Col  Coeff\n",
       "10         Education_1   4.34\n",
       "7           CD Account   3.23\n",
       "9           CreditCard   0.87\n",
       "8               Online   0.77\n",
       "6   Securities Account   0.61\n",
       "12         Education_3   0.61\n",
       "11         Education_2   0.57\n",
       "3               Family   0.36\n",
       "4                CCAvg   0.20\n",
       "0                  Age   0.06\n",
       "1           Experience   0.05\n",
       "2               Income   0.05\n",
       "13    Loans-By-Zipcode   0.05\n",
       "5             Mortgage   0.00"
      ]
     },
     "execution_count": 270,
     "metadata": {},
     "output_type": "execute_result"
    }
   ],
   "source": [
    "## Feature Importance or Coefficients \n",
    "fi = pd.DataFrame()\n",
    "fi['Col'] = X_train.columns\n",
    "fi['Coeff'] = np.round(abs(model.coef_[0]),2)\n",
    "fi.sort_values(by='Coeff',ascending=False)"
   ]
  },
  {
   "cell_type": "code",
   "execution_count": 271,
   "metadata": {
    "scrolled": false
   },
   "outputs": [],
   "source": [
    "# Observe the predicted and observed classes in a dataframe.\n",
    "z = X_test.copy()\n",
    "z['Actual-Output'] = y_test\n",
    "z['Predicted-Output'] = y_pred"
   ]
  },
  {
   "cell_type": "code",
   "execution_count": 272,
   "metadata": {
    "scrolled": false
   },
   "outputs": [],
   "source": [
    "filter_actual_not_equal_predicted = ( z['Actual-Output'] != z['Predicted-Output'])"
   ]
  },
  {
   "cell_type": "code",
   "execution_count": 273,
   "metadata": {
    "scrolled": false
   },
   "outputs": [
    {
     "data": {
      "text/html": [
       "<div>\n",
       "<style scoped>\n",
       "    .dataframe tbody tr th:only-of-type {\n",
       "        vertical-align: middle;\n",
       "    }\n",
       "\n",
       "    .dataframe tbody tr th {\n",
       "        vertical-align: top;\n",
       "    }\n",
       "\n",
       "    .dataframe thead th {\n",
       "        text-align: right;\n",
       "    }\n",
       "</style>\n",
       "<table border=\"1\" class=\"dataframe\">\n",
       "  <thead>\n",
       "    <tr style=\"text-align: right;\">\n",
       "      <th></th>\n",
       "      <th>Age</th>\n",
       "      <th>Experience</th>\n",
       "      <th>Income</th>\n",
       "      <th>Family</th>\n",
       "      <th>CCAvg</th>\n",
       "      <th>Mortgage</th>\n",
       "      <th>Securities Account</th>\n",
       "      <th>CD Account</th>\n",
       "      <th>Online</th>\n",
       "      <th>CreditCard</th>\n",
       "      <th>Education_1</th>\n",
       "      <th>Education_2</th>\n",
       "      <th>Education_3</th>\n",
       "      <th>Loans-By-Zipcode</th>\n",
       "      <th>Actual-Output</th>\n",
       "      <th>Predicted-Output</th>\n",
       "    </tr>\n",
       "  </thead>\n",
       "  <tbody>\n",
       "    <tr>\n",
       "      <th>4344</th>\n",
       "      <td>53</td>\n",
       "      <td>28.0</td>\n",
       "      <td>181</td>\n",
       "      <td>1</td>\n",
       "      <td>8.10</td>\n",
       "      <td>0</td>\n",
       "      <td>0</td>\n",
       "      <td>0</td>\n",
       "      <td>1</td>\n",
       "      <td>0</td>\n",
       "      <td>1</td>\n",
       "      <td>0</td>\n",
       "      <td>0</td>\n",
       "      <td>6</td>\n",
       "      <td>0</td>\n",
       "      <td>1</td>\n",
       "    </tr>\n",
       "    <tr>\n",
       "      <th>464</th>\n",
       "      <td>43</td>\n",
       "      <td>19.0</td>\n",
       "      <td>83</td>\n",
       "      <td>4</td>\n",
       "      <td>3.60</td>\n",
       "      <td>0</td>\n",
       "      <td>0</td>\n",
       "      <td>0</td>\n",
       "      <td>0</td>\n",
       "      <td>1</td>\n",
       "      <td>0</td>\n",
       "      <td>0</td>\n",
       "      <td>1</td>\n",
       "      <td>13</td>\n",
       "      <td>1</td>\n",
       "      <td>0</td>\n",
       "    </tr>\n",
       "    <tr>\n",
       "      <th>308</th>\n",
       "      <td>32</td>\n",
       "      <td>8.0</td>\n",
       "      <td>128</td>\n",
       "      <td>2</td>\n",
       "      <td>4.33</td>\n",
       "      <td>0</td>\n",
       "      <td>0</td>\n",
       "      <td>1</td>\n",
       "      <td>1</td>\n",
       "      <td>1</td>\n",
       "      <td>1</td>\n",
       "      <td>0</td>\n",
       "      <td>0</td>\n",
       "      <td>19</td>\n",
       "      <td>0</td>\n",
       "      <td>1</td>\n",
       "    </tr>\n",
       "    <tr>\n",
       "      <th>4284</th>\n",
       "      <td>38</td>\n",
       "      <td>13.0</td>\n",
       "      <td>173</td>\n",
       "      <td>2</td>\n",
       "      <td>3.30</td>\n",
       "      <td>243</td>\n",
       "      <td>0</td>\n",
       "      <td>0</td>\n",
       "      <td>0</td>\n",
       "      <td>0</td>\n",
       "      <td>1</td>\n",
       "      <td>0</td>\n",
       "      <td>0</td>\n",
       "      <td>13</td>\n",
       "      <td>0</td>\n",
       "      <td>1</td>\n",
       "    </tr>\n",
       "    <tr>\n",
       "      <th>3288</th>\n",
       "      <td>56</td>\n",
       "      <td>30.0</td>\n",
       "      <td>140</td>\n",
       "      <td>4</td>\n",
       "      <td>0.50</td>\n",
       "      <td>292</td>\n",
       "      <td>0</td>\n",
       "      <td>0</td>\n",
       "      <td>0</td>\n",
       "      <td>0</td>\n",
       "      <td>1</td>\n",
       "      <td>0</td>\n",
       "      <td>0</td>\n",
       "      <td>2</td>\n",
       "      <td>1</td>\n",
       "      <td>0</td>\n",
       "    </tr>\n",
       "    <tr>\n",
       "      <th>...</th>\n",
       "      <td>...</td>\n",
       "      <td>...</td>\n",
       "      <td>...</td>\n",
       "      <td>...</td>\n",
       "      <td>...</td>\n",
       "      <td>...</td>\n",
       "      <td>...</td>\n",
       "      <td>...</td>\n",
       "      <td>...</td>\n",
       "      <td>...</td>\n",
       "      <td>...</td>\n",
       "      <td>...</td>\n",
       "      <td>...</td>\n",
       "      <td>...</td>\n",
       "      <td>...</td>\n",
       "      <td>...</td>\n",
       "    </tr>\n",
       "    <tr>\n",
       "      <th>1303</th>\n",
       "      <td>29</td>\n",
       "      <td>5.0</td>\n",
       "      <td>112</td>\n",
       "      <td>2</td>\n",
       "      <td>2.00</td>\n",
       "      <td>382</td>\n",
       "      <td>1</td>\n",
       "      <td>0</td>\n",
       "      <td>0</td>\n",
       "      <td>0</td>\n",
       "      <td>0</td>\n",
       "      <td>1</td>\n",
       "      <td>0</td>\n",
       "      <td>19</td>\n",
       "      <td>0</td>\n",
       "      <td>1</td>\n",
       "    </tr>\n",
       "    <tr>\n",
       "      <th>1889</th>\n",
       "      <td>56</td>\n",
       "      <td>30.0</td>\n",
       "      <td>111</td>\n",
       "      <td>4</td>\n",
       "      <td>0.30</td>\n",
       "      <td>372</td>\n",
       "      <td>1</td>\n",
       "      <td>1</td>\n",
       "      <td>1</td>\n",
       "      <td>0</td>\n",
       "      <td>1</td>\n",
       "      <td>0</td>\n",
       "      <td>0</td>\n",
       "      <td>4</td>\n",
       "      <td>1</td>\n",
       "      <td>0</td>\n",
       "    </tr>\n",
       "    <tr>\n",
       "      <th>2748</th>\n",
       "      <td>32</td>\n",
       "      <td>7.0</td>\n",
       "      <td>82</td>\n",
       "      <td>1</td>\n",
       "      <td>2.60</td>\n",
       "      <td>240</td>\n",
       "      <td>0</td>\n",
       "      <td>1</td>\n",
       "      <td>1</td>\n",
       "      <td>1</td>\n",
       "      <td>0</td>\n",
       "      <td>1</td>\n",
       "      <td>0</td>\n",
       "      <td>13</td>\n",
       "      <td>0</td>\n",
       "      <td>1</td>\n",
       "    </tr>\n",
       "    <tr>\n",
       "      <th>3489</th>\n",
       "      <td>36</td>\n",
       "      <td>12.0</td>\n",
       "      <td>154</td>\n",
       "      <td>3</td>\n",
       "      <td>6.40</td>\n",
       "      <td>0</td>\n",
       "      <td>1</td>\n",
       "      <td>0</td>\n",
       "      <td>0</td>\n",
       "      <td>0</td>\n",
       "      <td>1</td>\n",
       "      <td>0</td>\n",
       "      <td>0</td>\n",
       "      <td>2</td>\n",
       "      <td>1</td>\n",
       "      <td>0</td>\n",
       "    </tr>\n",
       "    <tr>\n",
       "      <th>4179</th>\n",
       "      <td>29</td>\n",
       "      <td>3.0</td>\n",
       "      <td>91</td>\n",
       "      <td>1</td>\n",
       "      <td>3.40</td>\n",
       "      <td>0</td>\n",
       "      <td>0</td>\n",
       "      <td>0</td>\n",
       "      <td>0</td>\n",
       "      <td>0</td>\n",
       "      <td>0</td>\n",
       "      <td>0</td>\n",
       "      <td>1</td>\n",
       "      <td>2</td>\n",
       "      <td>1</td>\n",
       "      <td>0</td>\n",
       "    </tr>\n",
       "  </tbody>\n",
       "</table>\n",
       "<p>72 rows × 16 columns</p>\n",
       "</div>"
      ],
      "text/plain": [
       "      Age  Experience  Income  Family  CCAvg  Mortgage  Securities Account  \\\n",
       "4344   53        28.0     181       1   8.10         0                   0   \n",
       "464    43        19.0      83       4   3.60         0                   0   \n",
       "308    32         8.0     128       2   4.33         0                   0   \n",
       "4284   38        13.0     173       2   3.30       243                   0   \n",
       "3288   56        30.0     140       4   0.50       292                   0   \n",
       "...   ...         ...     ...     ...    ...       ...                 ...   \n",
       "1303   29         5.0     112       2   2.00       382                   1   \n",
       "1889   56        30.0     111       4   0.30       372                   1   \n",
       "2748   32         7.0      82       1   2.60       240                   0   \n",
       "3489   36        12.0     154       3   6.40         0                   1   \n",
       "4179   29         3.0      91       1   3.40         0                   0   \n",
       "\n",
       "      CD Account  Online  CreditCard  Education_1  Education_2  Education_3  \\\n",
       "4344           0       1           0            1            0            0   \n",
       "464            0       0           1            0            0            1   \n",
       "308            1       1           1            1            0            0   \n",
       "4284           0       0           0            1            0            0   \n",
       "3288           0       0           0            1            0            0   \n",
       "...          ...     ...         ...          ...          ...          ...   \n",
       "1303           0       0           0            0            1            0   \n",
       "1889           1       1           0            1            0            0   \n",
       "2748           1       1           1            0            1            0   \n",
       "3489           0       0           0            1            0            0   \n",
       "4179           0       0           0            0            0            1   \n",
       "\n",
       "      Loans-By-Zipcode  Actual-Output  Predicted-Output  \n",
       "4344                 6              0                 1  \n",
       "464                 13              1                 0  \n",
       "308                 19              0                 1  \n",
       "4284                13              0                 1  \n",
       "3288                 2              1                 0  \n",
       "...                ...            ...               ...  \n",
       "1303                19              0                 1  \n",
       "1889                 4              1                 0  \n",
       "2748                13              0                 1  \n",
       "3489                 2              1                 0  \n",
       "4179                 2              1                 0  \n",
       "\n",
       "[72 rows x 16 columns]"
      ]
     },
     "execution_count": 273,
     "metadata": {},
     "output_type": "execute_result"
    }
   ],
   "source": [
    "z[filter_actual_not_equal_predicted]"
   ]
  },
  {
   "cell_type": "markdown",
   "metadata": {},
   "source": [
    "## Step 6. Give conclusion related to the Business understanding of your model? (**5** marks)"
   ]
  },
  {
   "cell_type": "markdown",
   "metadata": {},
   "source": [
    "##### `Confusion matrix means`\n",
    "\n",
    "*True Positive (observed=1,predicted=1):*\n",
    "\n",
    "Predicted that the customer will accept Personal Loan, and the Customer did accept.\n",
    "\n",
    "*False Positive (observed=0,predicted=1):*\n",
    "\n",
    "Predicted that the customer will accept Personal Loan, but the Customer did **not** accept.\n",
    "\n",
    "*True Negative (observed=0,predicted=0):*\n",
    "\n",
    "Predicted that the customer will not accept Personal Loan, and the Customer did not accept.\n",
    "\n",
    "*False Negative (observed=1,predicted=0):*\n",
    "\n",
    "Predicted that the customer will not accept Personal Loan, and the Customer did accept.\n",
    "\n",
    "\n",
    "##### `Important Features`\n",
    "\n",
    "\"CDAccount\", \"Education\", \"Securities Account\", \"Online\", \"Family\", \"Credit Card\"\n",
    "\n",
    "seems to be top 56 features which influence the model's output. Based on the coefficients value.\n",
    "\n",
    "\n",
    "##### `Important Metric`\n",
    "\n",
    "False Negatives represent **Business Opportunities lost**, i,e the customer would have taken the Personal Loan if they were offered it.\n",
    "\n",
    "False Positives represent **waste of Marketing dollars**, we offered the Personal Loan but the customer did not take it.\n",
    "\n",
    "I would bias the model towards a lower number of False Negatives, because we can assume that the bank would make far **more profit by having customers accept a Personal Loan**, than the incremental marketing cost.\n",
    "Lower False Negatives means **Recall is the important metric**. We want to increase Recall without impacting accuracy.\n",
    "\n",
    "Moving the threshold from 0.5 to 0.3 accomplishes that while maintaining the same accuracy of the model at ~95%\n",
    "\n"
   ]
  },
  {
   "cell_type": "code",
   "execution_count": null,
   "metadata": {
    "scrolled": false
   },
   "outputs": [],
   "source": []
  }
 ],
 "metadata": {
  "anaconda-cloud": {},
  "kernelspec": {
   "display_name": "Python 3",
   "language": "python",
   "name": "python3"
  },
  "language_info": {
   "codemirror_mode": {
    "name": "ipython",
    "version": 3
   },
   "file_extension": ".py",
   "mimetype": "text/x-python",
   "name": "python",
   "nbconvert_exporter": "python",
   "pygments_lexer": "ipython3",
   "version": "3.8.5"
  }
 },
 "nbformat": 4,
 "nbformat_minor": 2
}
