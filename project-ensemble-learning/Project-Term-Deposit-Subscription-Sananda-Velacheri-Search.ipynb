{
 "cells": [
  {
   "cell_type": "markdown",
   "metadata": {},
   "source": [
    "### Project: Problem Statement - Term Deposit Subscription - Sananda Velacheri\n",
    " \n",
    "\n",
    "#### Problem statement (Term Deposit Sale)\n",
    "\n",
    "We have data from a Portuguese bank on details of customers related to selling a term deposit. The objective of the project is to help the marketing team identify potential customers who are relatively more likely to subscribe to the term deposit and this increase the hit ratio.\n",
    "\n",
    "\n",
    "#### What is a Term Deposit?\n",
    "A Term deposit is a deposit that a bank or a financial institution offers with a fixed rate (often better than just opening deposit account) in which your money will be returned back at a specific maturity time.\n",
    "\n",
    " \n",
    "\n",
    "#### Resources Available\n",
    "\n",
    "The historical data for this project is available in file https://archive.ics.uci.edu/ml/datasets/Bank+Marketing\n",
    "\n",
    " \n",
    "\n",
    "#### Deliverable –1 (Exploratory data analysis)–(15)\n",
    "\n",
    "##### Univariate analysis (9marks)\n",
    "- Data types and description of the independent attributes which should include (name,  range of values observed, central values (mean and median), standard deviation and quartiles, skewness). - 3 Marks\n",
    "\n",
    "- Make a function to plot ‘countplot’ if the variable is categorical and ‘distplot’ if the variable is numeric. - 3 Marks\n",
    "\n",
    "- Identify outliers using IQR and verify the same using plots. Also mention the percentage of data points which are considered outliers. Should we treat them, why or why not? - 3 Marks\n",
    "\n",
    "- Multivariate analysis (6marks)\n",
    "\n",
    "- Make a function to plot boxplots for all continuous variables VS ‘Target’ variable and countplots for all categorical variables VS ‘Target’ variable? - 3 Marks\n",
    "\n",
    "- Bi-variate analysis between predictor variables and target column. Comment on your findings in terms of their relationship and degree of relation if any. Visualize the analysis using pair plots, heatmaps, histograms or density curves. - 3 Marks\n",
    " \n",
    "\n",
    "#### Deliverable –2 (Prepare the data for analytics)–(5)\n",
    "\n",
    "- Label encode or create dummy variables for categorical variables. Give reason for selecting either of them. - 2 Marks\n",
    "\n",
    "- Create the training set and test set in a ratio of 70:30. Make sure and verify distribution of classes is the same in the full dataset and train test split data. - 3 Marks\n",
    " \n",
    "\n",
    "#### Deliverable –3 (Create the ensemble model)–(30)\n",
    "\n",
    "- Build the ensemble models (Bagging and Boosting) and Decision Tree model (at least 4 models in total). Note the model performance by using different metrics. Use confusion matrix to evaluate class level metrics i.e. Precision/Recall. - 10 Marks\n",
    "\n",
    "- Also reflect the training and testing score of all the models. Build a dataframe with model names as row index and all the metrics calculated as columns - 5 Marks\n",
    "\n",
    "- Explain the confusion matrix related terms like recall, precision etc. Also, select the best metric to choose one-  of the models from above. Give your reason for the same. - 5 Marks\n",
    "\n",
    "- Answer the following questions : - 10 Marks\n",
    "\n",
    "- What do you mean by recall and what information does it provide here?\n",
    "- Suggest some changes for the organization so that they can increase the number of customers who take term deposit.\n",
    "- How much influence does the previous campaign and mode of interaction have on financial performance.\n",
    "- Which features should be more/less focused by the bank to get better results and why?\n",
    "- What did you learn about banking industries from this data?\n",
    " \n",
    "Note : Use random_state=7 (wherever the parameter can be used) so that we can compare all submissions.\n",
    "\n",
    "#### Provide comments in the solution notebook regarding the steps you take and also provide insights drawn from the plots. - 5 Marks.\n",
    "\n",
    "#### Marks distribution for Students with recall_score (pos_label = ‘yes’) on the test set:\n",
    "\n",
    "- Above 43% - 5 Marks\n",
    "\n",
    "- Between 40% to 43% - 4 Marks\n",
    "\n",
    "- Less than 40% - 3 Marks\n",
    "\n",
    "- Note : Make sure you are not overfitting the model in order to increase the recall score only.\n",
    "\n",
    "#### Attribute Information\n",
    "\n",
    "- age\n",
    "- job : type of job\n",
    "- marital : marital status\n",
    "- education\n",
    "- default: has credit in default?\n",
    "- housing: has housing loan?- loan: has personal loan?\n",
    "- balance in account\n",
    "- contact: contact communication type\n",
    "- month: last contact month of year\n",
    "- day: last contact day of the month\n",
    "- duration: last contact duration, in seconds\n",
    "- campaign: number of contacts performed during this campaign and for this client\n",
    "- pdays: number of days that passed by after the client was last contacted from a previous campaign\n",
    "- previous: number of contacts performed before this campaign and for this client\n",
    "- poutcome: outcome of the previous marketing campaign\n",
    "- Output variable ('Target'): has the client subscribed a term deposit?"
   ]
  },
  {
   "cell_type": "markdown",
   "metadata": {},
   "source": [
    "## Deliverable 1 : Exploratory Data analysis"
   ]
  },
  {
   "cell_type": "code",
   "execution_count": 64,
   "metadata": {
    "scrolled": false
   },
   "outputs": [],
   "source": [
    "#Import Libraries\n",
    "import pandas as pd\n",
    "import numpy as np\n",
    "import matplotlib.pyplot as plt\n",
    "import seaborn as sns\n",
    "%matplotlib inline\n",
    "#pd.options.display.float_format = '{:,.2f}'.format\n"
   ]
  },
  {
   "cell_type": "code",
   "execution_count": 65,
   "metadata": {
    "scrolled": false
   },
   "outputs": [
    {
     "name": "stdout",
     "output_type": "stream",
     "text": [
      "bank-full.csv\r\n"
     ]
    }
   ],
   "source": [
    "# List .csv file\n",
    "!ls *.csv"
   ]
  },
  {
   "cell_type": "code",
   "execution_count": 66,
   "metadata": {
    "scrolled": false
   },
   "outputs": [],
   "source": [
    "# Import dataset\n",
    "df = pd.read_csv('bank-full.csv')"
   ]
  },
  {
   "cell_type": "code",
   "execution_count": 67,
   "metadata": {
    "scrolled": false
   },
   "outputs": [
    {
     "name": "stdout",
     "output_type": "stream",
     "text": [
      "<class 'pandas.core.frame.DataFrame'>\n",
      "RangeIndex: 45211 entries, 0 to 45210\n",
      "Data columns (total 17 columns):\n",
      " #   Column     Non-Null Count  Dtype \n",
      "---  ------     --------------  ----- \n",
      " 0   age        45211 non-null  int64 \n",
      " 1   job        45211 non-null  object\n",
      " 2   marital    45211 non-null  object\n",
      " 3   education  45211 non-null  object\n",
      " 4   default    45211 non-null  object\n",
      " 5   balance    45211 non-null  int64 \n",
      " 6   housing    45211 non-null  object\n",
      " 7   loan       45211 non-null  object\n",
      " 8   contact    45211 non-null  object\n",
      " 9   day        45211 non-null  int64 \n",
      " 10  month      45211 non-null  object\n",
      " 11  duration   45211 non-null  int64 \n",
      " 12  campaign   45211 non-null  int64 \n",
      " 13  pdays      45211 non-null  int64 \n",
      " 14  previous   45211 non-null  int64 \n",
      " 15  poutcome   45211 non-null  object\n",
      " 16  Target     45211 non-null  object\n",
      "dtypes: int64(7), object(10)\n",
      "memory usage: 5.9+ MB\n"
     ]
    }
   ],
   "source": [
    "# check data type\n",
    "df.info()"
   ]
  },
  {
   "cell_type": "code",
   "execution_count": 68,
   "metadata": {
    "scrolled": false
   },
   "outputs": [
    {
     "data": {
      "text/plain": [
       "(45211, 17)"
      ]
     },
     "execution_count": 68,
     "metadata": {},
     "output_type": "execute_result"
    }
   ],
   "source": [
    "# Shape\n",
    "df.shape"
   ]
  },
  {
   "cell_type": "code",
   "execution_count": 69,
   "metadata": {
    "scrolled": false
   },
   "outputs": [
    {
     "data": {
      "text/plain": [
       "age          0\n",
       "job          0\n",
       "marital      0\n",
       "education    0\n",
       "default      0\n",
       "balance      0\n",
       "housing      0\n",
       "loan         0\n",
       "contact      0\n",
       "day          0\n",
       "month        0\n",
       "duration     0\n",
       "campaign     0\n",
       "pdays        0\n",
       "previous     0\n",
       "poutcome     0\n",
       "Target       0\n",
       "dtype: int64"
      ]
     },
     "execution_count": 69,
     "metadata": {},
     "output_type": "execute_result"
    }
   ],
   "source": [
    "# Null values\n",
    "df.isna().sum()"
   ]
  },
  {
   "cell_type": "markdown",
   "metadata": {},
   "source": [
    "**Insights:**\n",
    "- Dataset has 45211 rows and 17 columns\n",
    "- No null values"
   ]
  },
  {
   "cell_type": "markdown",
   "metadata": {},
   "source": [
    "#### Data types and description of the independent attributes which should include (name, range of values observed, central values (mean and median), standard deviation and quartiles, skewness). - 3 Marks"
   ]
  },
  {
   "cell_type": "code",
   "execution_count": 70,
   "metadata": {
    "scrolled": false
   },
   "outputs": [
    {
     "data": {
      "text/html": [
       "<div>\n",
       "<style scoped>\n",
       "    .dataframe tbody tr th:only-of-type {\n",
       "        vertical-align: middle;\n",
       "    }\n",
       "\n",
       "    .dataframe tbody tr th {\n",
       "        vertical-align: top;\n",
       "    }\n",
       "\n",
       "    .dataframe thead th {\n",
       "        text-align: right;\n",
       "    }\n",
       "</style>\n",
       "<table border=\"1\" class=\"dataframe\">\n",
       "  <thead>\n",
       "    <tr style=\"text-align: right;\">\n",
       "      <th></th>\n",
       "      <th>age</th>\n",
       "      <th>balance</th>\n",
       "      <th>day</th>\n",
       "      <th>duration</th>\n",
       "      <th>campaign</th>\n",
       "      <th>pdays</th>\n",
       "      <th>previous</th>\n",
       "    </tr>\n",
       "  </thead>\n",
       "  <tbody>\n",
       "    <tr>\n",
       "      <th>count</th>\n",
       "      <td>45211.000000</td>\n",
       "      <td>45211.000000</td>\n",
       "      <td>45211.000000</td>\n",
       "      <td>45211.000000</td>\n",
       "      <td>45211.000000</td>\n",
       "      <td>45211.000000</td>\n",
       "      <td>45211.000000</td>\n",
       "    </tr>\n",
       "    <tr>\n",
       "      <th>mean</th>\n",
       "      <td>40.936210</td>\n",
       "      <td>1362.272058</td>\n",
       "      <td>15.806419</td>\n",
       "      <td>258.163080</td>\n",
       "      <td>2.763841</td>\n",
       "      <td>40.197828</td>\n",
       "      <td>0.580323</td>\n",
       "    </tr>\n",
       "    <tr>\n",
       "      <th>std</th>\n",
       "      <td>10.618762</td>\n",
       "      <td>3044.765829</td>\n",
       "      <td>8.322476</td>\n",
       "      <td>257.527812</td>\n",
       "      <td>3.098021</td>\n",
       "      <td>100.128746</td>\n",
       "      <td>2.303441</td>\n",
       "    </tr>\n",
       "    <tr>\n",
       "      <th>min</th>\n",
       "      <td>18.000000</td>\n",
       "      <td>-8019.000000</td>\n",
       "      <td>1.000000</td>\n",
       "      <td>0.000000</td>\n",
       "      <td>1.000000</td>\n",
       "      <td>-1.000000</td>\n",
       "      <td>0.000000</td>\n",
       "    </tr>\n",
       "    <tr>\n",
       "      <th>25%</th>\n",
       "      <td>33.000000</td>\n",
       "      <td>72.000000</td>\n",
       "      <td>8.000000</td>\n",
       "      <td>103.000000</td>\n",
       "      <td>1.000000</td>\n",
       "      <td>-1.000000</td>\n",
       "      <td>0.000000</td>\n",
       "    </tr>\n",
       "    <tr>\n",
       "      <th>50%</th>\n",
       "      <td>39.000000</td>\n",
       "      <td>448.000000</td>\n",
       "      <td>16.000000</td>\n",
       "      <td>180.000000</td>\n",
       "      <td>2.000000</td>\n",
       "      <td>-1.000000</td>\n",
       "      <td>0.000000</td>\n",
       "    </tr>\n",
       "    <tr>\n",
       "      <th>75%</th>\n",
       "      <td>48.000000</td>\n",
       "      <td>1428.000000</td>\n",
       "      <td>21.000000</td>\n",
       "      <td>319.000000</td>\n",
       "      <td>3.000000</td>\n",
       "      <td>-1.000000</td>\n",
       "      <td>0.000000</td>\n",
       "    </tr>\n",
       "    <tr>\n",
       "      <th>max</th>\n",
       "      <td>95.000000</td>\n",
       "      <td>102127.000000</td>\n",
       "      <td>31.000000</td>\n",
       "      <td>4918.000000</td>\n",
       "      <td>63.000000</td>\n",
       "      <td>871.000000</td>\n",
       "      <td>275.000000</td>\n",
       "    </tr>\n",
       "  </tbody>\n",
       "</table>\n",
       "</div>"
      ],
      "text/plain": [
       "                age        balance           day      duration      campaign  \\\n",
       "count  45211.000000   45211.000000  45211.000000  45211.000000  45211.000000   \n",
       "mean      40.936210    1362.272058     15.806419    258.163080      2.763841   \n",
       "std       10.618762    3044.765829      8.322476    257.527812      3.098021   \n",
       "min       18.000000   -8019.000000      1.000000      0.000000      1.000000   \n",
       "25%       33.000000      72.000000      8.000000    103.000000      1.000000   \n",
       "50%       39.000000     448.000000     16.000000    180.000000      2.000000   \n",
       "75%       48.000000    1428.000000     21.000000    319.000000      3.000000   \n",
       "max       95.000000  102127.000000     31.000000   4918.000000     63.000000   \n",
       "\n",
       "              pdays      previous  \n",
       "count  45211.000000  45211.000000  \n",
       "mean      40.197828      0.580323  \n",
       "std      100.128746      2.303441  \n",
       "min       -1.000000      0.000000  \n",
       "25%       -1.000000      0.000000  \n",
       "50%       -1.000000      0.000000  \n",
       "75%       -1.000000      0.000000  \n",
       "max      871.000000    275.000000  "
      ]
     },
     "execution_count": 70,
     "metadata": {},
     "output_type": "execute_result"
    }
   ],
   "source": [
    "# Statistical Summary\n",
    "df.describe()"
   ]
  },
  {
   "cell_type": "code",
   "execution_count": 71,
   "metadata": {
    "scrolled": false
   },
   "outputs": [],
   "source": [
    "numeric_columns = list( df.describe().columns)"
   ]
  },
  {
   "cell_type": "code",
   "execution_count": 72,
   "metadata": {
    "scrolled": false
   },
   "outputs": [],
   "source": [
    "def num_outliers(df,feature):\n",
    "    Q1= df[feature].quantile(0.25)\n",
    "    Q3 = df[feature].quantile(0.75)\n",
    "    IQR =  Q3 - Q1 \n",
    "    filter = ( (df[feature] > Q3 + 1.5*IQR) | (df[feature] < Q1-1.5*IQR) )\n",
    "    # Percentage of records that are outliers\n",
    "    print(len(df[filter][feature])/len(df[feature])*100)"
   ]
  },
  {
   "cell_type": "code",
   "execution_count": 73,
   "metadata": {
    "scrolled": false
   },
   "outputs": [
    {
     "name": "stdout",
     "output_type": "stream",
     "text": [
      "6.7771117648359915\n"
     ]
    }
   ],
   "source": [
    "num_outliers(df,'campaign')"
   ]
  },
  {
   "cell_type": "code",
   "execution_count": 74,
   "metadata": {
    "scrolled": false
   },
   "outputs": [
    {
     "data": {
      "text/plain": [
       "age          33.0\n",
       "balance      72.0\n",
       "day           8.0\n",
       "duration    103.0\n",
       "campaign      1.0\n",
       "pdays        -1.0\n",
       "previous      0.0\n",
       "Name: 0.25, dtype: float64"
      ]
     },
     "execution_count": 74,
     "metadata": {},
     "output_type": "execute_result"
    }
   ],
   "source": [
    "df.quantile(0.25)"
   ]
  },
  {
   "cell_type": "code",
   "execution_count": 75,
   "metadata": {
    "scrolled": false
   },
   "outputs": [],
   "source": [
    "def num_outliers(df):\n",
    "    Q1= df.quantile(0.25)\n",
    "    Q3 = df.quantile(0.75)\n",
    "    IQR =  Q3 - Q1 \n",
    "    filter = ( (df > Q3 + 1.5*IQR) | (df < Q1-1.5*IQR) )\n",
    "    # Percentage of records that are outliers\n",
    "    return df[filter].count()/df.shape[0]*100"
   ]
  },
  {
   "cell_type": "code",
   "execution_count": 76,
   "metadata": {
    "scrolled": false
   },
   "outputs": [
    {
     "data": {
      "text/plain": [
       "age          1.077171\n",
       "balance     10.459844\n",
       "day          0.000000\n",
       "duration     7.155338\n",
       "campaign     6.777112\n",
       "pdays       18.263255\n",
       "previous    18.263255\n",
       "dtype: float64"
      ]
     },
     "execution_count": 76,
     "metadata": {},
     "output_type": "execute_result"
    }
   ],
   "source": [
    "num_outliers(df[numeric_columns])"
   ]
  },
  {
   "cell_type": "code",
   "execution_count": 77,
   "metadata": {
    "scrolled": false
   },
   "outputs": [
    {
     "data": {
      "text/html": [
       "<div>\n",
       "<style scoped>\n",
       "    .dataframe tbody tr th:only-of-type {\n",
       "        vertical-align: middle;\n",
       "    }\n",
       "\n",
       "    .dataframe tbody tr th {\n",
       "        vertical-align: top;\n",
       "    }\n",
       "\n",
       "    .dataframe thead th {\n",
       "        text-align: right;\n",
       "    }\n",
       "</style>\n",
       "<table border=\"1\" class=\"dataframe\">\n",
       "  <thead>\n",
       "    <tr style=\"text-align: right;\">\n",
       "      <th></th>\n",
       "      <th>skew</th>\n",
       "      <th>num_outliers_%</th>\n",
       "    </tr>\n",
       "  </thead>\n",
       "  <tbody>\n",
       "    <tr>\n",
       "      <th>age</th>\n",
       "      <td>0.684818</td>\n",
       "      <td>1.077171</td>\n",
       "    </tr>\n",
       "    <tr>\n",
       "      <th>balance</th>\n",
       "      <td>8.360308</td>\n",
       "      <td>10.459844</td>\n",
       "    </tr>\n",
       "    <tr>\n",
       "      <th>day</th>\n",
       "      <td>0.093079</td>\n",
       "      <td>0.000000</td>\n",
       "    </tr>\n",
       "    <tr>\n",
       "      <th>duration</th>\n",
       "      <td>3.144318</td>\n",
       "      <td>7.155338</td>\n",
       "    </tr>\n",
       "    <tr>\n",
       "      <th>campaign</th>\n",
       "      <td>4.898650</td>\n",
       "      <td>6.777112</td>\n",
       "    </tr>\n",
       "    <tr>\n",
       "      <th>pdays</th>\n",
       "      <td>2.615715</td>\n",
       "      <td>18.263255</td>\n",
       "    </tr>\n",
       "    <tr>\n",
       "      <th>previous</th>\n",
       "      <td>41.846454</td>\n",
       "      <td>18.263255</td>\n",
       "    </tr>\n",
       "  </tbody>\n",
       "</table>\n",
       "</div>"
      ],
      "text/plain": [
       "               skew  num_outliers_%\n",
       "age        0.684818        1.077171\n",
       "balance    8.360308       10.459844\n",
       "day        0.093079        0.000000\n",
       "duration   3.144318        7.155338\n",
       "campaign   4.898650        6.777112\n",
       "pdays      2.615715       18.263255\n",
       "previous  41.846454       18.263255"
      ]
     },
     "execution_count": 77,
     "metadata": {},
     "output_type": "execute_result"
    }
   ],
   "source": [
    "numeric_columns = list(df.describe().columns)\n",
    "pd.DataFrame({'skew' : df.skew(axis=0) , 'num_outliers_%' :num_outliers(df[numeric_columns])})"
   ]
  },
  {
   "cell_type": "code",
   "execution_count": 78,
   "metadata": {
    "scrolled": false
   },
   "outputs": [],
   "source": [
    "# Function for univariate plots\n",
    "# Distplots for continuous variables\n",
    "# Count plots for categorical variables\n",
    "def univariate_plot(df,feature):\n",
    "    print( \"**** {} \".format(feature),end=\"\")\n",
    "    if df[feature].dtype == 'object': # Categorical so countplot\n",
    "        print(\" (Categorical, Countplot)\")\n",
    "        sns.countplot(x=feature,data=df)\n",
    "    else:\n",
    "        print(\" (Continuous, Distplot)\")\n",
    "        sns.displot(df[feature],kde=False)\n",
    "    plt.show()\n",
    "        "
   ]
  },
  {
   "cell_type": "code",
   "execution_count": 79,
   "metadata": {
    "scrolled": false
   },
   "outputs": [
    {
     "name": "stdout",
     "output_type": "stream",
     "text": [
      "**** age  (Continuous, Distplot)\n"
     ]
    },
    {
     "data": {
      "image/png": "[encoded data removed]",
      "text/plain": [
       "<Figure size 360x360 with 1 Axes>"
      ]
     },
     "metadata": {
      "needs_background": "light"
     },
     "output_type": "display_data"
    },
    {
     "name": "stdout",
     "output_type": "stream",
     "text": [
      "**** job  (Categorical, Countplot)\n"
     ]
    },
    {
     "data": {
      "image/png": "[encoded data removed]",
      "text/plain": [
       "<Figure size 432x288 with 1 Axes>"
      ]
     },
     "metadata": {
      "needs_background": "light"
     },
     "output_type": "display_data"
    },
    {
     "name": "stdout",
     "output_type": "stream",
     "text": [
      "**** marital  (Categorical, Countplot)\n"
     ]
    },
    {
     "data": {
      "image/png": "[encoded data removed]",
      "text/plain": [
       "<Figure size 432x288 with 1 Axes>"
      ]
     },
     "metadata": {
      "needs_background": "light"
     },
     "output_type": "display_data"
    },
    {
     "name": "stdout",
     "output_type": "stream",
     "text": [
      "**** education  (Categorical, Countplot)\n"
     ]
    },
    {
     "data": {
      "image/png": "[encoded data removed]",
      "text/plain": [
       "<Figure size 432x288 with 1 Axes>"
      ]
     },
     "metadata": {
      "needs_background": "light"
     },
     "output_type": "display_data"
    },
    {
     "name": "stdout",
     "output_type": "stream",
     "text": [
      "**** default  (Categorical, Countplot)\n"
     ]
    },
    {
     "data": {
      "image/png": "[encoded data removed]",
      "text/plain": [
       "<Figure size 432x288 with 1 Axes>"
      ]
     },
     "metadata": {
      "needs_background": "light"
     },
     "output_type": "display_data"
    },
    {
     "name": "stdout",
     "output_type": "stream",
     "text": [
      "**** balance  (Continuous, Distplot)\n"
     ]
    },
    {
     "data": {
      "image/png": "[encoded data removed]",
      "text/plain": [
       "<Figure size 360x360 with 1 Axes>"
      ]
     },
     "metadata": {
      "needs_background": "light"
     },
     "output_type": "display_data"
    },
    {
     "name": "stdout",
     "output_type": "stream",
     "text": [
      "**** housing  (Categorical, Countplot)\n"
     ]
    },
    {
     "data": {
      "image/png": "[encoded data removed]",
      "text/plain": [
       "<Figure size 432x288 with 1 Axes>"
      ]
     },
     "metadata": {
      "needs_background": "light"
     },
     "output_type": "display_data"
    },
    {
     "name": "stdout",
     "output_type": "stream",
     "text": [
      "**** loan  (Categorical, Countplot)\n"
     ]
    },
    {
     "data": {
      "image/png": "[encoded data removed]",
      "text/plain": [
       "<Figure size 432x288 with 1 Axes>"
      ]
     },
     "metadata": {
      "needs_background": "light"
     },
     "output_type": "display_data"
    },
    {
     "name": "stdout",
     "output_type": "stream",
     "text": [
      "**** contact  (Categorical, Countplot)\n"
     ]
    },
    {
     "data": {
      "image/png": "[encoded data removed]",
      "text/plain": [
       "<Figure size 432x288 with 1 Axes>"
      ]
     },
     "metadata": {
      "needs_background": "light"
     },
     "output_type": "display_data"
    },
    {
     "name": "stdout",
     "output_type": "stream",
     "text": [
      "**** day  (Continuous, Distplot)\n"
     ]
    },
    {
     "data": {
      "image/png": "[encoded data removed]",
      "text/plain": [
       "<Figure size 360x360 with 1 Axes>"
      ]
     },
     "metadata": {
      "needs_background": "light"
     },
     "output_type": "display_data"
    },
    {
     "name": "stdout",
     "output_type": "stream",
     "text": [
      "**** month  (Categorical, Countplot)\n"
     ]
    },
    {
     "data": {
      "image/png": "[encoded data removed]",
      "text/plain": [
       "<Figure size 432x288 with 1 Axes>"
      ]
     },
     "metadata": {
      "needs_background": "light"
     },
     "output_type": "display_data"
    },
    {
     "name": "stdout",
     "output_type": "stream",
     "text": [
      "**** duration  (Continuous, Distplot)\n"
     ]
    },
    {
     "data": {
      "image/png": "[encoded data removed]",
      "text/plain": [
       "<Figure size 360x360 with 1 Axes>"
      ]
     },
     "metadata": {
      "needs_background": "light"
     },
     "output_type": "display_data"
    },
    {
     "name": "stdout",
     "output_type": "stream",
     "text": [
      "**** campaign  (Continuous, Distplot)\n"
     ]
    },
    {
     "data": {
      "image/png": "[encoded data removed]",
      "text/plain": [
       "<Figure size 360x360 with 1 Axes>"
      ]
     },
     "metadata": {
      "needs_background": "light"
     },
     "output_type": "display_data"
    },
    {
     "name": "stdout",
     "output_type": "stream",
     "text": [
      "**** pdays  (Continuous, Distplot)\n"
     ]
    },
    {
     "data": {
      "image/png": "[encoded data removed]",
      "text/plain": [
       "<Figure size 360x360 with 1 Axes>"
      ]
     },
     "metadata": {
      "needs_background": "light"
     },
     "output_type": "display_data"
    },
    {
     "name": "stdout",
     "output_type": "stream",
     "text": [
      "**** previous  (Continuous, Distplot)\n"
     ]
    },
    {
     "data": {
      "image/png": "[encoded data removed]",
      "text/plain": [
       "<Figure size 360x360 with 1 Axes>"
      ]
     },
     "metadata": {
      "needs_background": "light"
     },
     "output_type": "display_data"
    },
    {
     "name": "stdout",
     "output_type": "stream",
     "text": [
      "**** poutcome  (Categorical, Countplot)\n"
     ]
    },
    {
     "data": {
      "image/png": "[encoded data removed]",
      "text/plain": [
       "<Figure size 432x288 with 1 Axes>"
      ]
     },
     "metadata": {
      "needs_background": "light"
     },
     "output_type": "display_data"
    },
    {
     "name": "stdout",
     "output_type": "stream",
     "text": [
      "**** Target  (Categorical, Countplot)\n"
     ]
    },
    {
     "data": {
      "image/png": "[encoded data removed]",
      "text/plain": [
       "<Figure size 432x288 with 1 Axes>"
      ]
     },
     "metadata": {
      "needs_background": "light"
     },
     "output_type": "display_data"
    }
   ],
   "source": [
    "for feature in df.columns:\n",
    "    univariate_plot(df,feature)"
   ]
  },
  {
   "cell_type": "markdown",
   "metadata": {},
   "source": [
    "**Insights:**\n",
    "- "
   ]
  },
  {
   "cell_type": "code",
   "execution_count": 80,
   "metadata": {
    "scrolled": false
   },
   "outputs": [],
   "source": [
    "#from pandas_profiling import ProfileReport\n",
    "#prof = ProfileReport(df)\n",
    "#prof"
   ]
  },
  {
   "cell_type": "markdown",
   "metadata": {},
   "source": [
    "#### Bivariate plots"
   ]
  },
  {
   "cell_type": "code",
   "execution_count": 81,
   "metadata": {
    "scrolled": true
   },
   "outputs": [
    {
     "data": {
      "text/plain": [
       "<AxesSubplot:>"
      ]
     },
     "execution_count": 81,
     "metadata": {},
     "output_type": "execute_result"
    },
    {
     "data": {
      "image/png": "[encoded data removed]",
      "text/plain": [
       "<Figure size 432x288 with 2 Axes>"
      ]
     },
     "metadata": {
      "needs_background": "light"
     },
     "output_type": "display_data"
    }
   ],
   "source": [
    "sns.heatmap(df.corr())"
   ]
  },
  {
   "cell_type": "code",
   "execution_count": 82,
   "metadata": {
    "scrolled": true
   },
   "outputs": [],
   "source": [
    "# Function to plot boxplot for continuous variables\n",
    "# and Countplots vs Target \n",
    "def bivariate_plot(df,feature):\n",
    "    print( \"**** {} \".format(feature),end=\"\")\n",
    "    if df[feature].dtype == 'object': # Categorical so countplot\n",
    "        print(\" (Categorical, Countplot) vs Target\")\n",
    "        sns.countplot(x=feature,data=df,hue=\"Target\")\n",
    "    else:\n",
    "        print(\" (Continuous, Distplot) vs Target\")\n",
    "        sns.boxplot(x='Target', y=feature,data=df)\n",
    "    plt.show()"
   ]
  },
  {
   "cell_type": "code",
   "execution_count": 83,
   "metadata": {
    "scrolled": false
   },
   "outputs": [
    {
     "name": "stdout",
     "output_type": "stream",
     "text": [
      "**** age  (Continuous, Distplot) vs Target\n"
     ]
    },
    {
     "data": {
      "image/png": "[encoded data removed]",
      "text/plain": [
       "<Figure size 432x288 with 1 Axes>"
      ]
     },
     "metadata": {
      "needs_background": "light"
     },
     "output_type": "display_data"
    },
    {
     "name": "stdout",
     "output_type": "stream",
     "text": [
      "**** job  (Categorical, Countplot) vs Target\n"
     ]
    },
    {
     "data": {
      "image/png": "[encoded data removed]",
      "text/plain": [
       "<Figure size 432x288 with 1 Axes>"
      ]
     },
     "metadata": {
      "needs_background": "light"
     },
     "output_type": "display_data"
    },
    {
     "name": "stdout",
     "output_type": "stream",
     "text": [
      "**** marital  (Categorical, Countplot) vs Target\n"
     ]
    },
    {
     "data": {
      "image/png": "[encoded data removed]",
      "text/plain": [
       "<Figure size 432x288 with 1 Axes>"
      ]
     },
     "metadata": {
      "needs_background": "light"
     },
     "output_type": "display_data"
    },
    {
     "name": "stdout",
     "output_type": "stream",
     "text": [
      "**** education  (Categorical, Countplot) vs Target\n"
     ]
    },
    {
     "data": {
      "image/png": "[encoded data removed]",
      "text/plain": [
       "<Figure size 432x288 with 1 Axes>"
      ]
     },
     "metadata": {
      "needs_background": "light"
     },
     "output_type": "display_data"
    },
    {
     "name": "stdout",
     "output_type": "stream",
     "text": [
      "**** default  (Categorical, Countplot) vs Target\n"
     ]
    },
    {
     "data": {
      "image/png": "[encoded data removed]",
      "text/plain": [
       "<Figure size 432x288 with 1 Axes>"
      ]
     },
     "metadata": {
      "needs_background": "light"
     },
     "output_type": "display_data"
    },
    {
     "name": "stdout",
     "output_type": "stream",
     "text": [
      "**** balance  (Continuous, Distplot) vs Target\n"
     ]
    },
    {
     "data": {
      "image/png": "[encoded data removed]",
      "text/plain": [
       "<Figure size 432x288 with 1 Axes>"
      ]
     },
     "metadata": {
      "needs_background": "light"
     },
     "output_type": "display_data"
    },
    {
     "name": "stdout",
     "output_type": "stream",
     "text": [
      "**** housing  (Categorical, Countplot) vs Target\n"
     ]
    },
    {
     "data": {
      "image/png": "[encoded data removed]",
      "text/plain": [
       "<Figure size 432x288 with 1 Axes>"
      ]
     },
     "metadata": {
      "needs_background": "light"
     },
     "output_type": "display_data"
    },
    {
     "name": "stdout",
     "output_type": "stream",
     "text": [
      "**** loan  (Categorical, Countplot) vs Target\n"
     ]
    },
    {
     "data": {
      "image/png": "[encoded data removed]",
      "text/plain": [
       "<Figure size 432x288 with 1 Axes>"
      ]
     },
     "metadata": {
      "needs_background": "light"
     },
     "output_type": "display_data"
    },
    {
     "name": "stdout",
     "output_type": "stream",
     "text": [
      "**** contact  (Categorical, Countplot) vs Target\n"
     ]
    },
    {
     "data": {
      "image/png": "[encoded data removed]",
      "text/plain": [
       "<Figure size 432x288 with 1 Axes>"
      ]
     },
     "metadata": {
      "needs_background": "light"
     },
     "output_type": "display_data"
    },
    {
     "name": "stdout",
     "output_type": "stream",
     "text": [
      "**** day  (Continuous, Distplot) vs Target\n"
     ]
    },
    {
     "data": {
      "image/png": "[encoded data removed]",
      "text/plain": [
       "<Figure size 432x288 with 1 Axes>"
      ]
     },
     "metadata": {
      "needs_background": "light"
     },
     "output_type": "display_data"
    },
    {
     "name": "stdout",
     "output_type": "stream",
     "text": [
      "**** month  (Categorical, Countplot) vs Target\n"
     ]
    },
    {
     "data": {
      "image/png": "[encoded data removed]",
      "text/plain": [
       "<Figure size 432x288 with 1 Axes>"
      ]
     },
     "metadata": {
      "needs_background": "light"
     },
     "output_type": "display_data"
    },
    {
     "name": "stdout",
     "output_type": "stream",
     "text": [
      "**** duration  (Continuous, Distplot) vs Target\n"
     ]
    },
    {
     "data": {
      "image/png": "[encoded data removed]",
      "text/plain": [
       "<Figure size 432x288 with 1 Axes>"
      ]
     },
     "metadata": {
      "needs_background": "light"
     },
     "output_type": "display_data"
    },
    {
     "name": "stdout",
     "output_type": "stream",
     "text": [
      "**** campaign  (Continuous, Distplot) vs Target\n"
     ]
    },
    {
     "data": {
      "image/png": "[encoded data removed]",
      "text/plain": [
       "<Figure size 432x288 with 1 Axes>"
      ]
     },
     "metadata": {
      "needs_background": "light"
     },
     "output_type": "display_data"
    },
    {
     "name": "stdout",
     "output_type": "stream",
     "text": [
      "**** pdays  (Continuous, Distplot) vs Target\n"
     ]
    },
    {
     "data": {
      "image/png": "[encoded data removed]",
      "text/plain": [
       "<Figure size 432x288 with 1 Axes>"
      ]
     },
     "metadata": {
      "needs_background": "light"
     },
     "output_type": "display_data"
    },
    {
     "name": "stdout",
     "output_type": "stream",
     "text": [
      "**** previous  (Continuous, Distplot) vs Target\n"
     ]
    },
    {
     "data": {
      "image/png": "[encoded data removed]",
      "text/plain": [
       "<Figure size 432x288 with 1 Axes>"
      ]
     },
     "metadata": {
      "needs_background": "light"
     },
     "output_type": "display_data"
    },
    {
     "name": "stdout",
     "output_type": "stream",
     "text": [
      "**** poutcome  (Categorical, Countplot) vs Target\n"
     ]
    },
    {
     "data": {
      "image/png": "[encoded data removed]",
      "text/plain": [
       "<Figure size 432x288 with 1 Axes>"
      ]
     },
     "metadata": {
      "needs_background": "light"
     },
     "output_type": "display_data"
    },
    {
     "name": "stdout",
     "output_type": "stream",
     "text": [
      "**** Target  (Categorical, Countplot) vs Target\n"
     ]
    },
    {
     "data": {
      "image/png": "[encoded data removed]",
      "text/plain": [
       "<Figure size 432x288 with 1 Axes>"
      ]
     },
     "metadata": {
      "needs_background": "light"
     },
     "output_type": "display_data"
    }
   ],
   "source": [
    "for feature in df.columns:\n",
    "    bivariate_plot(df,feature)"
   ]
  },
  {
   "cell_type": "markdown",
   "metadata": {},
   "source": [
    "#### Get data model ready"
   ]
  },
  {
   "cell_type": "code",
   "execution_count": 84,
   "metadata": {
    "scrolled": true
   },
   "outputs": [
    {
     "data": {
      "text/plain": [
       "(45211, 17)"
      ]
     },
     "execution_count": 84,
     "metadata": {},
     "output_type": "execute_result"
    }
   ],
   "source": [
    "df.shape"
   ]
  },
  {
   "cell_type": "code",
   "execution_count": 85,
   "metadata": {
    "scrolled": false
   },
   "outputs": [],
   "source": [
    "df_save = df.copy(deep=True)"
   ]
  },
  {
   "cell_type": "markdown",
   "metadata": {},
   "source": [
    "### One hot encode categorical variables\n",
    "#### Even though CreditCart, Online,  CD Account, Securities Account are categorical variables, they already take on 0 or 1  (and so are already one hot encoded)\n",
    "#### So only 1-hot encode Education"
   ]
  },
  {
   "cell_type": "code",
   "execution_count": null,
   "metadata": {
    "scrolled": true
   },
   "outputs": [],
   "source": []
  },
  {
   "cell_type": "code",
   "execution_count": 86,
   "metadata": {
    "scrolled": false
   },
   "outputs": [
    {
     "data": {
      "text/html": [
       "<div>\n",
       "<style scoped>\n",
       "    .dataframe tbody tr th:only-of-type {\n",
       "        vertical-align: middle;\n",
       "    }\n",
       "\n",
       "    .dataframe tbody tr th {\n",
       "        vertical-align: top;\n",
       "    }\n",
       "\n",
       "    .dataframe thead th {\n",
       "        text-align: right;\n",
       "    }\n",
       "</style>\n",
       "<table border=\"1\" class=\"dataframe\">\n",
       "  <thead>\n",
       "    <tr style=\"text-align: right;\">\n",
       "      <th></th>\n",
       "      <th>age</th>\n",
       "      <th>job</th>\n",
       "      <th>marital</th>\n",
       "      <th>education</th>\n",
       "      <th>default</th>\n",
       "      <th>balance</th>\n",
       "      <th>housing</th>\n",
       "      <th>loan</th>\n",
       "      <th>contact</th>\n",
       "      <th>day</th>\n",
       "      <th>month</th>\n",
       "      <th>duration</th>\n",
       "      <th>campaign</th>\n",
       "      <th>pdays</th>\n",
       "      <th>previous</th>\n",
       "      <th>poutcome</th>\n",
       "      <th>Target</th>\n",
       "    </tr>\n",
       "  </thead>\n",
       "  <tbody>\n",
       "    <tr>\n",
       "      <th>0</th>\n",
       "      <td>58</td>\n",
       "      <td>4</td>\n",
       "      <td>1</td>\n",
       "      <td>2</td>\n",
       "      <td>0</td>\n",
       "      <td>2143</td>\n",
       "      <td>1</td>\n",
       "      <td>0</td>\n",
       "      <td>2</td>\n",
       "      <td>5</td>\n",
       "      <td>8</td>\n",
       "      <td>261</td>\n",
       "      <td>1</td>\n",
       "      <td>-1</td>\n",
       "      <td>0</td>\n",
       "      <td>3</td>\n",
       "      <td>0</td>\n",
       "    </tr>\n",
       "    <tr>\n",
       "      <th>1</th>\n",
       "      <td>44</td>\n",
       "      <td>9</td>\n",
       "      <td>2</td>\n",
       "      <td>1</td>\n",
       "      <td>0</td>\n",
       "      <td>29</td>\n",
       "      <td>1</td>\n",
       "      <td>0</td>\n",
       "      <td>2</td>\n",
       "      <td>5</td>\n",
       "      <td>8</td>\n",
       "      <td>151</td>\n",
       "      <td>1</td>\n",
       "      <td>-1</td>\n",
       "      <td>0</td>\n",
       "      <td>3</td>\n",
       "      <td>0</td>\n",
       "    </tr>\n",
       "    <tr>\n",
       "      <th>2</th>\n",
       "      <td>33</td>\n",
       "      <td>2</td>\n",
       "      <td>1</td>\n",
       "      <td>1</td>\n",
       "      <td>0</td>\n",
       "      <td>2</td>\n",
       "      <td>1</td>\n",
       "      <td>1</td>\n",
       "      <td>2</td>\n",
       "      <td>5</td>\n",
       "      <td>8</td>\n",
       "      <td>76</td>\n",
       "      <td>1</td>\n",
       "      <td>-1</td>\n",
       "      <td>0</td>\n",
       "      <td>3</td>\n",
       "      <td>0</td>\n",
       "    </tr>\n",
       "    <tr>\n",
       "      <th>3</th>\n",
       "      <td>47</td>\n",
       "      <td>1</td>\n",
       "      <td>1</td>\n",
       "      <td>3</td>\n",
       "      <td>0</td>\n",
       "      <td>1506</td>\n",
       "      <td>1</td>\n",
       "      <td>0</td>\n",
       "      <td>2</td>\n",
       "      <td>5</td>\n",
       "      <td>8</td>\n",
       "      <td>92</td>\n",
       "      <td>1</td>\n",
       "      <td>-1</td>\n",
       "      <td>0</td>\n",
       "      <td>3</td>\n",
       "      <td>0</td>\n",
       "    </tr>\n",
       "    <tr>\n",
       "      <th>4</th>\n",
       "      <td>33</td>\n",
       "      <td>11</td>\n",
       "      <td>2</td>\n",
       "      <td>3</td>\n",
       "      <td>0</td>\n",
       "      <td>1</td>\n",
       "      <td>0</td>\n",
       "      <td>0</td>\n",
       "      <td>2</td>\n",
       "      <td>5</td>\n",
       "      <td>8</td>\n",
       "      <td>198</td>\n",
       "      <td>1</td>\n",
       "      <td>-1</td>\n",
       "      <td>0</td>\n",
       "      <td>3</td>\n",
       "      <td>0</td>\n",
       "    </tr>\n",
       "    <tr>\n",
       "      <th>5</th>\n",
       "      <td>35</td>\n",
       "      <td>4</td>\n",
       "      <td>1</td>\n",
       "      <td>2</td>\n",
       "      <td>0</td>\n",
       "      <td>231</td>\n",
       "      <td>1</td>\n",
       "      <td>0</td>\n",
       "      <td>2</td>\n",
       "      <td>5</td>\n",
       "      <td>8</td>\n",
       "      <td>139</td>\n",
       "      <td>1</td>\n",
       "      <td>-1</td>\n",
       "      <td>0</td>\n",
       "      <td>3</td>\n",
       "      <td>0</td>\n",
       "    </tr>\n",
       "    <tr>\n",
       "      <th>6</th>\n",
       "      <td>28</td>\n",
       "      <td>4</td>\n",
       "      <td>2</td>\n",
       "      <td>2</td>\n",
       "      <td>0</td>\n",
       "      <td>447</td>\n",
       "      <td>1</td>\n",
       "      <td>1</td>\n",
       "      <td>2</td>\n",
       "      <td>5</td>\n",
       "      <td>8</td>\n",
       "      <td>217</td>\n",
       "      <td>1</td>\n",
       "      <td>-1</td>\n",
       "      <td>0</td>\n",
       "      <td>3</td>\n",
       "      <td>0</td>\n",
       "    </tr>\n",
       "    <tr>\n",
       "      <th>7</th>\n",
       "      <td>42</td>\n",
       "      <td>2</td>\n",
       "      <td>0</td>\n",
       "      <td>2</td>\n",
       "      <td>1</td>\n",
       "      <td>2</td>\n",
       "      <td>1</td>\n",
       "      <td>0</td>\n",
       "      <td>2</td>\n",
       "      <td>5</td>\n",
       "      <td>8</td>\n",
       "      <td>380</td>\n",
       "      <td>1</td>\n",
       "      <td>-1</td>\n",
       "      <td>0</td>\n",
       "      <td>3</td>\n",
       "      <td>0</td>\n",
       "    </tr>\n",
       "    <tr>\n",
       "      <th>8</th>\n",
       "      <td>58</td>\n",
       "      <td>5</td>\n",
       "      <td>1</td>\n",
       "      <td>0</td>\n",
       "      <td>0</td>\n",
       "      <td>121</td>\n",
       "      <td>1</td>\n",
       "      <td>0</td>\n",
       "      <td>2</td>\n",
       "      <td>5</td>\n",
       "      <td>8</td>\n",
       "      <td>50</td>\n",
       "      <td>1</td>\n",
       "      <td>-1</td>\n",
       "      <td>0</td>\n",
       "      <td>3</td>\n",
       "      <td>0</td>\n",
       "    </tr>\n",
       "    <tr>\n",
       "      <th>9</th>\n",
       "      <td>43</td>\n",
       "      <td>9</td>\n",
       "      <td>2</td>\n",
       "      <td>1</td>\n",
       "      <td>0</td>\n",
       "      <td>593</td>\n",
       "      <td>1</td>\n",
       "      <td>0</td>\n",
       "      <td>2</td>\n",
       "      <td>5</td>\n",
       "      <td>8</td>\n",
       "      <td>55</td>\n",
       "      <td>1</td>\n",
       "      <td>-1</td>\n",
       "      <td>0</td>\n",
       "      <td>3</td>\n",
       "      <td>0</td>\n",
       "    </tr>\n",
       "  </tbody>\n",
       "</table>\n",
       "</div>"
      ],
      "text/plain": [
       "   age  job  marital  education  default  balance  housing  loan  contact  \\\n",
       "0   58    4        1          2        0     2143        1     0        2   \n",
       "1   44    9        2          1        0       29        1     0        2   \n",
       "2   33    2        1          1        0        2        1     1        2   \n",
       "3   47    1        1          3        0     1506        1     0        2   \n",
       "4   33   11        2          3        0        1        0     0        2   \n",
       "5   35    4        1          2        0      231        1     0        2   \n",
       "6   28    4        2          2        0      447        1     1        2   \n",
       "7   42    2        0          2        1        2        1     0        2   \n",
       "8   58    5        1          0        0      121        1     0        2   \n",
       "9   43    9        2          1        0      593        1     0        2   \n",
       "\n",
       "   day  month  duration  campaign  pdays  previous  poutcome  Target  \n",
       "0    5      8       261         1     -1         0         3       0  \n",
       "1    5      8       151         1     -1         0         3       0  \n",
       "2    5      8        76         1     -1         0         3       0  \n",
       "3    5      8        92         1     -1         0         3       0  \n",
       "4    5      8       198         1     -1         0         3       0  \n",
       "5    5      8       139         1     -1         0         3       0  \n",
       "6    5      8       217         1     -1         0         3       0  \n",
       "7    5      8       380         1     -1         0         3       0  \n",
       "8    5      8        50         1     -1         0         3       0  \n",
       "9    5      8        55         1     -1         0         3       0  "
      ]
     },
     "execution_count": 86,
     "metadata": {},
     "output_type": "execute_result"
    }
   ],
   "source": [
    "for feature in df.columns: # Loop through all columns in the dataframe\n",
    "    if df[feature].dtype == 'object': # Only apply for columns with categorical strings\n",
    "        df[feature] = pd.Categorical(df[feature])\n",
    "        df[feature] = df[feature].cat.codes\n",
    "df.head(10)"
   ]
  },
  {
   "cell_type": "code",
   "execution_count": 87,
   "metadata": {
    "scrolled": true
   },
   "outputs": [
    {
     "name": "stdout",
     "output_type": "stream",
     "text": [
      "<class 'pandas.core.frame.DataFrame'>\n",
      "RangeIndex: 45211 entries, 0 to 45210\n",
      "Data columns (total 17 columns):\n",
      " #   Column     Non-Null Count  Dtype\n",
      "---  ------     --------------  -----\n",
      " 0   age        45211 non-null  int64\n",
      " 1   job        45211 non-null  int8 \n",
      " 2   marital    45211 non-null  int8 \n",
      " 3   education  45211 non-null  int8 \n",
      " 4   default    45211 non-null  int8 \n",
      " 5   balance    45211 non-null  int64\n",
      " 6   housing    45211 non-null  int8 \n",
      " 7   loan       45211 non-null  int8 \n",
      " 8   contact    45211 non-null  int8 \n",
      " 9   day        45211 non-null  int64\n",
      " 10  month      45211 non-null  int8 \n",
      " 11  duration   45211 non-null  int64\n",
      " 12  campaign   45211 non-null  int64\n",
      " 13  pdays      45211 non-null  int64\n",
      " 14  previous   45211 non-null  int64\n",
      " 15  poutcome   45211 non-null  int8 \n",
      " 16  Target     45211 non-null  int8 \n",
      "dtypes: int64(7), int8(10)\n",
      "memory usage: 2.8 MB\n"
     ]
    }
   ],
   "source": [
    "df.info()"
   ]
  },
  {
   "cell_type": "code",
   "execution_count": 88,
   "metadata": {
    "scrolled": false
   },
   "outputs": [],
   "source": [
    "df_save = df.copy()"
   ]
  },
  {
   "cell_type": "code",
   "execution_count": 89,
   "metadata": {
    "scrolled": false
   },
   "outputs": [],
   "source": [
    "#df_cat=pd.get_dummies(df_cleaned,columns=categorical_columns_one_hot)"
   ]
  },
  {
   "cell_type": "markdown",
   "metadata": {},
   "source": [
    "### Extract the y (dependent variable)"
   ]
  },
  {
   "cell_type": "code",
   "execution_count": 90,
   "metadata": {
    "scrolled": true
   },
   "outputs": [],
   "source": [
    "df = df_save.copy()"
   ]
  },
  {
   "cell_type": "code",
   "execution_count": 91,
   "metadata": {
    "scrolled": false
   },
   "outputs": [],
   "source": [
    "y = df['Target']"
   ]
  },
  {
   "cell_type": "markdown",
   "metadata": {},
   "source": [
    "### Now we can start dropping the columns we do not need"
   ]
  },
  {
   "cell_type": "code",
   "execution_count": 92,
   "metadata": {
    "scrolled": false
   },
   "outputs": [],
   "source": [
    "# Drop ID field, that is just a unique identifier for every record\n",
    "# Drop ZIP Code field, now that we have extracted the information we need\n",
    "# Drop Personal Loan (y dependent variable)\n",
    "df.drop(['Target'],inplace=True,axis='columns')"
   ]
  },
  {
   "cell_type": "code",
   "execution_count": 93,
   "metadata": {
    "scrolled": false
   },
   "outputs": [
    {
     "data": {
      "text/html": [
       "<div>\n",
       "<style scoped>\n",
       "    .dataframe tbody tr th:only-of-type {\n",
       "        vertical-align: middle;\n",
       "    }\n",
       "\n",
       "    .dataframe tbody tr th {\n",
       "        vertical-align: top;\n",
       "    }\n",
       "\n",
       "    .dataframe thead th {\n",
       "        text-align: right;\n",
       "    }\n",
       "</style>\n",
       "<table border=\"1\" class=\"dataframe\">\n",
       "  <thead>\n",
       "    <tr style=\"text-align: right;\">\n",
       "      <th></th>\n",
       "      <th>age</th>\n",
       "      <th>job</th>\n",
       "      <th>marital</th>\n",
       "      <th>education</th>\n",
       "      <th>default</th>\n",
       "      <th>balance</th>\n",
       "      <th>housing</th>\n",
       "      <th>loan</th>\n",
       "      <th>contact</th>\n",
       "      <th>day</th>\n",
       "      <th>month</th>\n",
       "      <th>duration</th>\n",
       "      <th>campaign</th>\n",
       "      <th>pdays</th>\n",
       "      <th>previous</th>\n",
       "      <th>poutcome</th>\n",
       "    </tr>\n",
       "  </thead>\n",
       "  <tbody>\n",
       "    <tr>\n",
       "      <th>0</th>\n",
       "      <td>58</td>\n",
       "      <td>4</td>\n",
       "      <td>1</td>\n",
       "      <td>2</td>\n",
       "      <td>0</td>\n",
       "      <td>2143</td>\n",
       "      <td>1</td>\n",
       "      <td>0</td>\n",
       "      <td>2</td>\n",
       "      <td>5</td>\n",
       "      <td>8</td>\n",
       "      <td>261</td>\n",
       "      <td>1</td>\n",
       "      <td>-1</td>\n",
       "      <td>0</td>\n",
       "      <td>3</td>\n",
       "    </tr>\n",
       "    <tr>\n",
       "      <th>1</th>\n",
       "      <td>44</td>\n",
       "      <td>9</td>\n",
       "      <td>2</td>\n",
       "      <td>1</td>\n",
       "      <td>0</td>\n",
       "      <td>29</td>\n",
       "      <td>1</td>\n",
       "      <td>0</td>\n",
       "      <td>2</td>\n",
       "      <td>5</td>\n",
       "      <td>8</td>\n",
       "      <td>151</td>\n",
       "      <td>1</td>\n",
       "      <td>-1</td>\n",
       "      <td>0</td>\n",
       "      <td>3</td>\n",
       "    </tr>\n",
       "    <tr>\n",
       "      <th>2</th>\n",
       "      <td>33</td>\n",
       "      <td>2</td>\n",
       "      <td>1</td>\n",
       "      <td>1</td>\n",
       "      <td>0</td>\n",
       "      <td>2</td>\n",
       "      <td>1</td>\n",
       "      <td>1</td>\n",
       "      <td>2</td>\n",
       "      <td>5</td>\n",
       "      <td>8</td>\n",
       "      <td>76</td>\n",
       "      <td>1</td>\n",
       "      <td>-1</td>\n",
       "      <td>0</td>\n",
       "      <td>3</td>\n",
       "    </tr>\n",
       "    <tr>\n",
       "      <th>3</th>\n",
       "      <td>47</td>\n",
       "      <td>1</td>\n",
       "      <td>1</td>\n",
       "      <td>3</td>\n",
       "      <td>0</td>\n",
       "      <td>1506</td>\n",
       "      <td>1</td>\n",
       "      <td>0</td>\n",
       "      <td>2</td>\n",
       "      <td>5</td>\n",
       "      <td>8</td>\n",
       "      <td>92</td>\n",
       "      <td>1</td>\n",
       "      <td>-1</td>\n",
       "      <td>0</td>\n",
       "      <td>3</td>\n",
       "    </tr>\n",
       "    <tr>\n",
       "      <th>4</th>\n",
       "      <td>33</td>\n",
       "      <td>11</td>\n",
       "      <td>2</td>\n",
       "      <td>3</td>\n",
       "      <td>0</td>\n",
       "      <td>1</td>\n",
       "      <td>0</td>\n",
       "      <td>0</td>\n",
       "      <td>2</td>\n",
       "      <td>5</td>\n",
       "      <td>8</td>\n",
       "      <td>198</td>\n",
       "      <td>1</td>\n",
       "      <td>-1</td>\n",
       "      <td>0</td>\n",
       "      <td>3</td>\n",
       "    </tr>\n",
       "  </tbody>\n",
       "</table>\n",
       "</div>"
      ],
      "text/plain": [
       "   age  job  marital  education  default  balance  housing  loan  contact  \\\n",
       "0   58    4        1          2        0     2143        1     0        2   \n",
       "1   44    9        2          1        0       29        1     0        2   \n",
       "2   33    2        1          1        0        2        1     1        2   \n",
       "3   47    1        1          3        0     1506        1     0        2   \n",
       "4   33   11        2          3        0        1        0     0        2   \n",
       "\n",
       "   day  month  duration  campaign  pdays  previous  poutcome  \n",
       "0    5      8       261         1     -1         0         3  \n",
       "1    5      8       151         1     -1         0         3  \n",
       "2    5      8        76         1     -1         0         3  \n",
       "3    5      8        92         1     -1         0         3  \n",
       "4    5      8       198         1     -1         0         3  "
      ]
     },
     "execution_count": 93,
     "metadata": {},
     "output_type": "execute_result"
    }
   ],
   "source": [
    "df.head()"
   ]
  },
  {
   "cell_type": "code",
   "execution_count": 94,
   "metadata": {
    "scrolled": false
   },
   "outputs": [
    {
     "data": {
      "text/html": [
       "<div>\n",
       "<style scoped>\n",
       "    .dataframe tbody tr th:only-of-type {\n",
       "        vertical-align: middle;\n",
       "    }\n",
       "\n",
       "    .dataframe tbody tr th {\n",
       "        vertical-align: top;\n",
       "    }\n",
       "\n",
       "    .dataframe thead th {\n",
       "        text-align: right;\n",
       "    }\n",
       "</style>\n",
       "<table border=\"1\" class=\"dataframe\">\n",
       "  <thead>\n",
       "    <tr style=\"text-align: right;\">\n",
       "      <th></th>\n",
       "      <th>age</th>\n",
       "      <th>job</th>\n",
       "      <th>marital</th>\n",
       "      <th>education</th>\n",
       "      <th>default</th>\n",
       "      <th>balance</th>\n",
       "      <th>housing</th>\n",
       "      <th>loan</th>\n",
       "      <th>contact</th>\n",
       "      <th>day</th>\n",
       "      <th>month</th>\n",
       "      <th>duration</th>\n",
       "      <th>campaign</th>\n",
       "      <th>pdays</th>\n",
       "      <th>previous</th>\n",
       "      <th>poutcome</th>\n",
       "    </tr>\n",
       "  </thead>\n",
       "  <tbody>\n",
       "    <tr>\n",
       "      <th>count</th>\n",
       "      <td>45211.000000</td>\n",
       "      <td>45211.000000</td>\n",
       "      <td>45211.000000</td>\n",
       "      <td>45211.000000</td>\n",
       "      <td>45211.000000</td>\n",
       "      <td>45211.000000</td>\n",
       "      <td>45211.000000</td>\n",
       "      <td>45211.000000</td>\n",
       "      <td>45211.000000</td>\n",
       "      <td>45211.000000</td>\n",
       "      <td>45211.000000</td>\n",
       "      <td>45211.000000</td>\n",
       "      <td>45211.000000</td>\n",
       "      <td>45211.000000</td>\n",
       "      <td>45211.000000</td>\n",
       "      <td>45211.000000</td>\n",
       "    </tr>\n",
       "    <tr>\n",
       "      <th>mean</th>\n",
       "      <td>40.936210</td>\n",
       "      <td>4.339762</td>\n",
       "      <td>1.167725</td>\n",
       "      <td>1.224813</td>\n",
       "      <td>0.018027</td>\n",
       "      <td>1362.272058</td>\n",
       "      <td>0.555838</td>\n",
       "      <td>0.160226</td>\n",
       "      <td>0.640242</td>\n",
       "      <td>15.806419</td>\n",
       "      <td>5.523014</td>\n",
       "      <td>258.163080</td>\n",
       "      <td>2.763841</td>\n",
       "      <td>40.197828</td>\n",
       "      <td>0.580323</td>\n",
       "      <td>2.559974</td>\n",
       "    </tr>\n",
       "    <tr>\n",
       "      <th>std</th>\n",
       "      <td>10.618762</td>\n",
       "      <td>3.272657</td>\n",
       "      <td>0.608230</td>\n",
       "      <td>0.747997</td>\n",
       "      <td>0.133049</td>\n",
       "      <td>3044.765829</td>\n",
       "      <td>0.496878</td>\n",
       "      <td>0.366820</td>\n",
       "      <td>0.897951</td>\n",
       "      <td>8.322476</td>\n",
       "      <td>3.006911</td>\n",
       "      <td>257.527812</td>\n",
       "      <td>3.098021</td>\n",
       "      <td>100.128746</td>\n",
       "      <td>2.303441</td>\n",
       "      <td>0.989059</td>\n",
       "    </tr>\n",
       "    <tr>\n",
       "      <th>min</th>\n",
       "      <td>18.000000</td>\n",
       "      <td>0.000000</td>\n",
       "      <td>0.000000</td>\n",
       "      <td>0.000000</td>\n",
       "      <td>0.000000</td>\n",
       "      <td>-8019.000000</td>\n",
       "      <td>0.000000</td>\n",
       "      <td>0.000000</td>\n",
       "      <td>0.000000</td>\n",
       "      <td>1.000000</td>\n",
       "      <td>0.000000</td>\n",
       "      <td>0.000000</td>\n",
       "      <td>1.000000</td>\n",
       "      <td>-1.000000</td>\n",
       "      <td>0.000000</td>\n",
       "      <td>0.000000</td>\n",
       "    </tr>\n",
       "    <tr>\n",
       "      <th>25%</th>\n",
       "      <td>33.000000</td>\n",
       "      <td>1.000000</td>\n",
       "      <td>1.000000</td>\n",
       "      <td>1.000000</td>\n",
       "      <td>0.000000</td>\n",
       "      <td>72.000000</td>\n",
       "      <td>0.000000</td>\n",
       "      <td>0.000000</td>\n",
       "      <td>0.000000</td>\n",
       "      <td>8.000000</td>\n",
       "      <td>3.000000</td>\n",
       "      <td>103.000000</td>\n",
       "      <td>1.000000</td>\n",
       "      <td>-1.000000</td>\n",
       "      <td>0.000000</td>\n",
       "      <td>3.000000</td>\n",
       "    </tr>\n",
       "    <tr>\n",
       "      <th>50%</th>\n",
       "      <td>39.000000</td>\n",
       "      <td>4.000000</td>\n",
       "      <td>1.000000</td>\n",
       "      <td>1.000000</td>\n",
       "      <td>0.000000</td>\n",
       "      <td>448.000000</td>\n",
       "      <td>1.000000</td>\n",
       "      <td>0.000000</td>\n",
       "      <td>0.000000</td>\n",
       "      <td>16.000000</td>\n",
       "      <td>6.000000</td>\n",
       "      <td>180.000000</td>\n",
       "      <td>2.000000</td>\n",
       "      <td>-1.000000</td>\n",
       "      <td>0.000000</td>\n",
       "      <td>3.000000</td>\n",
       "    </tr>\n",
       "    <tr>\n",
       "      <th>75%</th>\n",
       "      <td>48.000000</td>\n",
       "      <td>7.000000</td>\n",
       "      <td>2.000000</td>\n",
       "      <td>2.000000</td>\n",
       "      <td>0.000000</td>\n",
       "      <td>1428.000000</td>\n",
       "      <td>1.000000</td>\n",
       "      <td>0.000000</td>\n",
       "      <td>2.000000</td>\n",
       "      <td>21.000000</td>\n",
       "      <td>8.000000</td>\n",
       "      <td>319.000000</td>\n",
       "      <td>3.000000</td>\n",
       "      <td>-1.000000</td>\n",
       "      <td>0.000000</td>\n",
       "      <td>3.000000</td>\n",
       "    </tr>\n",
       "    <tr>\n",
       "      <th>max</th>\n",
       "      <td>95.000000</td>\n",
       "      <td>11.000000</td>\n",
       "      <td>2.000000</td>\n",
       "      <td>3.000000</td>\n",
       "      <td>1.000000</td>\n",
       "      <td>102127.000000</td>\n",
       "      <td>1.000000</td>\n",
       "      <td>1.000000</td>\n",
       "      <td>2.000000</td>\n",
       "      <td>31.000000</td>\n",
       "      <td>11.000000</td>\n",
       "      <td>4918.000000</td>\n",
       "      <td>63.000000</td>\n",
       "      <td>871.000000</td>\n",
       "      <td>275.000000</td>\n",
       "      <td>3.000000</td>\n",
       "    </tr>\n",
       "  </tbody>\n",
       "</table>\n",
       "</div>"
      ],
      "text/plain": [
       "                age           job       marital     education       default  \\\n",
       "count  45211.000000  45211.000000  45211.000000  45211.000000  45211.000000   \n",
       "mean      40.936210      4.339762      1.167725      1.224813      0.018027   \n",
       "std       10.618762      3.272657      0.608230      0.747997      0.133049   \n",
       "min       18.000000      0.000000      0.000000      0.000000      0.000000   \n",
       "25%       33.000000      1.000000      1.000000      1.000000      0.000000   \n",
       "50%       39.000000      4.000000      1.000000      1.000000      0.000000   \n",
       "75%       48.000000      7.000000      2.000000      2.000000      0.000000   \n",
       "max       95.000000     11.000000      2.000000      3.000000      1.000000   \n",
       "\n",
       "             balance       housing          loan       contact           day  \\\n",
       "count   45211.000000  45211.000000  45211.000000  45211.000000  45211.000000   \n",
       "mean     1362.272058      0.555838      0.160226      0.640242     15.806419   \n",
       "std      3044.765829      0.496878      0.366820      0.897951      8.322476   \n",
       "min     -8019.000000      0.000000      0.000000      0.000000      1.000000   \n",
       "25%        72.000000      0.000000      0.000000      0.000000      8.000000   \n",
       "50%       448.000000      1.000000      0.000000      0.000000     16.000000   \n",
       "75%      1428.000000      1.000000      0.000000      2.000000     21.000000   \n",
       "max    102127.000000      1.000000      1.000000      2.000000     31.000000   \n",
       "\n",
       "              month      duration      campaign         pdays      previous  \\\n",
       "count  45211.000000  45211.000000  45211.000000  45211.000000  45211.000000   \n",
       "mean       5.523014    258.163080      2.763841     40.197828      0.580323   \n",
       "std        3.006911    257.527812      3.098021    100.128746      2.303441   \n",
       "min        0.000000      0.000000      1.000000     -1.000000      0.000000   \n",
       "25%        3.000000    103.000000      1.000000     -1.000000      0.000000   \n",
       "50%        6.000000    180.000000      2.000000     -1.000000      0.000000   \n",
       "75%        8.000000    319.000000      3.000000     -1.000000      0.000000   \n",
       "max       11.000000   4918.000000     63.000000    871.000000    275.000000   \n",
       "\n",
       "           poutcome  \n",
       "count  45211.000000  \n",
       "mean       2.559974  \n",
       "std        0.989059  \n",
       "min        0.000000  \n",
       "25%        3.000000  \n",
       "50%        3.000000  \n",
       "75%        3.000000  \n",
       "max        3.000000  "
      ]
     },
     "execution_count": 94,
     "metadata": {},
     "output_type": "execute_result"
    }
   ],
   "source": [
    "df.describe()"
   ]
  },
  {
   "cell_type": "code",
   "execution_count": 95,
   "metadata": {
    "scrolled": false
   },
   "outputs": [],
   "source": [
    "X = df"
   ]
  },
  {
   "cell_type": "markdown",
   "metadata": {},
   "source": [
    "**This completes the Data model preparation**"
   ]
  },
  {
   "cell_type": "markdown",
   "metadata": {},
   "source": [
    "## Step 3. Split the data into training and test set in the ratio of 70:30 respectively (**5** marks)"
   ]
  },
  {
   "cell_type": "code",
   "execution_count": 124,
   "metadata": {
    "scrolled": false
   },
   "outputs": [],
   "source": [
    "from sklearn.model_selection import train_test_split\n",
    "X_train,X_test,y_train,y_test = train_test_split(X,y,test_size=0.3,random_state=0)"
   ]
  },
  {
   "cell_type": "code",
   "execution_count": 125,
   "metadata": {
    "scrolled": false
   },
   "outputs": [
    {
     "data": {
      "text/plain": [
       "0    0.883275\n",
       "1    0.116725\n",
       "Name: Target, dtype: float64"
      ]
     },
     "execution_count": 125,
     "metadata": {},
     "output_type": "execute_result"
    }
   ],
   "source": [
    "y_train.value_counts(normalize=True)"
   ]
  },
  {
   "cell_type": "code",
   "execution_count": 126,
   "metadata": {
    "scrolled": true
   },
   "outputs": [
    {
     "data": {
      "text/plain": [
       "0    0.882409\n",
       "1    0.117591\n",
       "Name: Target, dtype: float64"
      ]
     },
     "execution_count": 126,
     "metadata": {},
     "output_type": "execute_result"
    }
   ],
   "source": [
    "y_test.value_counts(normalize=True)"
   ]
  },
  {
   "cell_type": "markdown",
   "metadata": {},
   "source": [
    "**Insights:**\n",
    "- y distribution for Training and Test data is verified to be the same"
   ]
  },
  {
   "cell_type": "code",
   "execution_count": 127,
   "metadata": {
    "scrolled": false
   },
   "outputs": [],
   "source": [
    "# Imports for all models\n",
    "from sklearn.metrics import confusion_matrix, recall_score, precision_score, f1_score, roc_auc_score,accuracy_score\n",
    "from sklearn.linear_model import LogisticRegression\n",
    "from sklearn.tree import DecisionTreeClassifier\n",
    "from sklearn.ensemble import RandomForestClassifier, StackingClassifier, AdaBoostClassifier,BaggingClassifier,GradientBoostingRegressor\n",
    "from sklearn.pipeline import make_pipeline\n",
    "from sklearn.preprocessing import StandardScaler,MinMaxScaler\n",
    "from sklearn.dummy import DummyClassifier\n",
    "from sklearn.model_selection import GridSearchCV,RandomizedSearchCV"
   ]
  },
  {
   "cell_type": "code",
   "execution_count": 128,
   "metadata": {
    "scrolled": false
   },
   "outputs": [],
   "source": [
    "## function to get confusion matrix in a proper format\n",
    "def draw_cm( actual, predicted ):\n",
    "    cm = confusion_matrix( actual, predicted)\n",
    "    plt.figure(figsize=(15, 10))\n",
    "    sns.heatmap(cm, annot=True,  fmt='.2f', xticklabels = [0,1] , yticklabels = [0,1] )\n",
    "    plt.ylabel('Actual')\n",
    "    plt.xlabel('Predicted')\n",
    "    plt.show()"
   ]
  },
  {
   "cell_type": "code",
   "execution_count": 190,
   "metadata": {},
   "outputs": [],
   "source": [
    "def process_pipe( pipe,X_train,y_train,X_test,y_test,threshold,probab=True ):\n",
    "\n",
    "    pipe.fit( X_train, y_train)\n",
    "    \n",
    "    if probab:\n",
    "        y_pred = np.where(pipe.predict_proba(X_test)[:,1] > threshold ,1, 0)\n",
    "    else:\n",
    "        y_pred = pipe.predict(X_test)\n",
    "\n",
    "    test_vs_pred = [y_test.values, y_pred]\n",
    "    \n",
    "    scores_list = [\n",
    "        pipe.score(X_train,y_train),\n",
    "        pipe.score(X_test,y_test),\n",
    "        recall_score(y_test,y_pred),\n",
    "        precision_score(y_test,y_pred),\n",
    "        f1_score(y_test,y_pred),\n",
    "        roc_auc_score(y_test,y_pred)\n",
    "    ]\n",
    "    \n",
    "    return test_vs_pred, scores_list"
   ]
  },
  {
   "cell_type": "code",
   "execution_count": 191,
   "metadata": {
    "scrolled": false
   },
   "outputs": [],
   "source": [
    "def all_scores(models,X_train,y_train,X_test,y_test,threshold=0.5,probab=True):\n",
    "\n",
    "    data = { 'Training-Accuracy':[],'Testing-Accuracy':[],\n",
    "            'Recall':[],'Precision':[],'F1-Score':[], 'Roc-Auc-Score':[]}\n",
    "    #data = { 'Training-Accuracy':[],'Testing-Accuracy':[],\n",
    "     #       'Recall':[],'F1-Score':[], 'Roc-Auc-Score':[]}\n",
    "    index_names = []\n",
    "    \n",
    "    test_vs_pred = {}\n",
    "    \n",
    "    for name,model in models.items():\n",
    "        \n",
    "        scores_list = []\n",
    "        \n",
    "        print(\"*** Processing {} ***\".format(name))\n",
    "        index_names.append(name)\n",
    "\n",
    "        #pipe = make_pipeline(MinMaxScaler(), model )\n",
    "        pipe = make_pipeline(StandardScaler(), model )\n",
    "        \n",
    "        test_vs_pred[name],scores_list = process_pipe(pipe,X_train,y_train,X_test,y_test,threshold,probab)\n",
    "        \n",
    "        data['Training-Accuracy'].append(scores_list[0] )\n",
    "        data['Testing-Accuracy'].append(scores_list[1] )\n",
    "        data['Recall'].append(scores_list[2] )\n",
    "        data['Precision'].append(scores_list[3] )\n",
    "        data['F1-Score'].append(scores_list[4] )\n",
    "        data['Roc-Auc-Score'].append(scores_list[5] )\n",
    "    \n",
    "    return pd.DataFrame(data,index=index_names), test_vs_pred"
   ]
  },
  {
   "cell_type": "code",
   "execution_count": 192,
   "metadata": {},
   "outputs": [
    {
     "data": {
      "text/plain": [
       "([array([0, 1, 0, ..., 0, 0, 0], dtype=int8), array([0, 1, 0, ..., 0, 0, 0])],\n",
       " [1.0,\n",
       "  0.8684753759952816,\n",
       "  0.48150470219435737,\n",
       "  0.44521739130434784,\n",
       "  0.4626506024096385,\n",
       "  0.7007740738810371])"
      ]
     },
     "execution_count": 192,
     "metadata": {},
     "output_type": "execute_result"
    }
   ],
   "source": [
    "pipe = make_pipeline( StandardScaler(), DecisionTreeClassifier())\n",
    "process_pipe( pipe,X_train,y_train,X_test,y_test,threshold=0.5 )"
   ]
  },
  {
   "cell_type": "code",
   "execution_count": 193,
   "metadata": {},
   "outputs": [],
   "source": [
    "params = {}\n",
    "params[\"DecisionTree\"] =   { 'criterion' :['gini','entropy'],\n",
    "                                               'splitter'  :['best','random'],\n",
    "                                               'max_depth' :[ None, 2,3,4,5,6,7,8],\n",
    "                                               'min_samples_split' :[2,3,4,5],\n",
    "                                               'max_features' : ['sqrt','log2',None]\n",
    "                                             }"
   ]
  },
  {
   "cell_type": "code",
   "execution_count": 194,
   "metadata": {},
   "outputs": [],
   "source": [
    "params[\"RandomForest\"] = { \n",
    "    'n_estimators' : [20,40,60,80,100,200,400],\n",
    "    'criterion' : ['gini','entropy'],\n",
    "    'max_depth' : [None,2,4,8,10,12],\n",
    "    'min_samples_split' : [1,2,4,8],\n",
    "    'min_samples_leaf' : [1,2,4],\n",
    "    'max_features' :['sqrt','log2',None,0.2,0.4,0.6,0.8],\n",
    "    'bootstrap' :[True,False],\n",
    "    'n_jobs': [-1],\n",
    "    'verbose':[1],\n",
    "    'oob_score' : [True,False],\n",
    "    'warm_start':[True,False],\n",
    "    'class_weight':[None,'balanced','balanced_subsample'],\n",
    "    'max_samples':[None,0.2,0.4,0.6,0.8]\n",
    "}"
   ]
  },
  {
   "cell_type": "code",
   "execution_count": 195,
   "metadata": {},
   "outputs": [],
   "source": [
    "params['Bagging'] = {\n",
    "    'n_estimators' : [20,40,60,80,100,200,400],\n",
    "    'max_features' :[1.0,0.2,0.4,0.6,0.8],\n",
    "    'bootstrap' :[True,False],\n",
    "    'n_jobs': [-1],\n",
    "    'verbose':[1],\n",
    "    'oob_score' : [True,False],\n",
    "    'warm_start':[True,False]\n",
    "}"
   ]
  },
  {
   "cell_type": "code",
   "execution_count": 203,
   "metadata": {},
   "outputs": [],
   "source": [
    "params['AdaBoost'] = {\n",
    "    'base_estimator' :[DecisionTreeClassifier(max_depth=1)\n",
    "                       ,DecisionTreeClassifier(max_depth=2)\n",
    "                       ,DecisionTreeClassifier(max_depth=3)\n",
    "                      ,DecisionTreeClassifier()],\n",
    "    'n_estimators' : [20,40,60,80,100,200,400],\n",
    "    'learning_rate' :[1.0,0.8,0.6,0.4,0.2,0.1],\n",
    "}"
   ]
  },
  {
   "cell_type": "code",
   "execution_count": 204,
   "metadata": {},
   "outputs": [],
   "source": [
    "params['LogisticRegression'] = {\n",
    "    'penalty' : ['l1','l2','elasticnet'],\n",
    "    'solver' :['newton-cg','lbfgs','liblinear','sag','saga'],\n",
    "    'verbose' : [1],\n",
    "    'warm_start' :[True,False],\n",
    "    'n_jobs':[-1]\n",
    "}"
   ]
  },
  {
   "cell_type": "code",
   "execution_count": 215,
   "metadata": {},
   "outputs": [],
   "source": [
    "params['GradientBoost'] = {\n",
    "    'n_estimators' : [20,40,60,80,100,200,400],\n",
    "    'loss' :['ls','lad','huber','quantile'],\n",
    "    'learning_rate':[0.1,0.3,0.05,0.01],\n",
    "    'max_depth':[2,3,4,5],\n",
    "    'max_features' :[1.0,0.2,0.4,0.6,0.8],\n",
    "    'subsample':[0.3,0.5,1],\n",
    "    'min_samples_split' : [1,2,4,8],\n",
    "    'min_samples_leaf' : [1,2,4],\n",
    "    'max_features' :['sqrt','log2',None,0.2,0.4,0.6,0.8],    \n",
    "    'verbose':[1],\n",
    "    'warm_start':[True,False]\n",
    "}"
   ]
  },
  {
   "cell_type": "code",
   "execution_count": 216,
   "metadata": {},
   "outputs": [],
   "source": [
    "def create_randomized_search( classifier, params, n_iter=100, verbose = 1, n_jobs=-1,scoring='accuracy',cv=5):\n",
    "    return RandomizedSearchCV( classifier, params, n_iter=n_iter, verbose=verbose,n_jobs=n_jobs,scoring=scoring,cv=cv)"
   ]
  },
  {
   "cell_type": "code",
   "execution_count": 217,
   "metadata": {},
   "outputs": [],
   "source": [
    "def create_grid_search( classifier, params, verbose = 1, n_jobs=-1,scoring='accuracy',cv=5):\n",
    "    return GridSearchCV( classifier, params, verbose=verbose,n_jobs=n_jobs,scoring=scoring,cv=cv)"
   ]
  },
  {
   "cell_type": "code",
   "execution_count": 220,
   "metadata": {
    "scrolled": false
   },
   "outputs": [],
   "source": [
    "models = {}\n",
    "\n",
    "models['DecisionTree'] = DecisionTreeClassifier(criterion = 'entropy' ,random_state=7)\n",
    "models['DecisionTree-Random-Search'] = create_randomized_search( DecisionTreeClassifier(), params['DecisionTree'])                                          \n",
    "models['DecisionTree-Grid-Search'] = create_grid_search( DecisionTreeClassifier(), params['DecisionTree'])\n",
    "\n",
    "models['RandomForest'] = RandomForestClassifier(criterion = 'entropy', random_state=7, class_weight={0:.5,1:.5}, max_depth = 5, min_samples_leaf=5)\n",
    "models['RandomForest-Random-Search'] = create_randomized_search( RandomForestClassifier(), params['RandomForest'])                                            \n",
    "models['RandomForest-Grid-Search'] = create_grid_search( RandomForestClassifier(), params['RandomForest'])\n",
    "\n",
    "models['Bagging'] = BaggingClassifier(n_estimators=10, max_samples= .7, bootstrap=True, random_state=7)\n",
    "models['Bagging-Random-Search'] = create_randomized_search( BaggingClassifier(), params['Bagging'])                                            \n",
    "models['Bagging-Grid-Search'] = create_grid_search( BaggingClassifier(), params['Bagging'])\n",
    "\n",
    "models['AdaBoost'] = AdaBoostClassifier( n_estimators= 20, random_state=7)\n",
    "models['AdaBoost-Random-Search'] = create_randomized_search( AdaBoostClassifier(), params['AdaBoost'])                                            \n",
    "models['AdaBoost-Grid-Search'] = create_grid_search( AdaBoostClassifier(), params['AdaBoost'])\n",
    "\n",
    "\"\"\"\n",
    "models['LogisticRegression'] =  LogisticRegression(random_state=7)\n",
    "models['GradientBoost'] = GradientBoostingRegressor()\n",
    "models['GradientBoost-Random-Search'] = create_randomized_search( BaggingClassifier(), params['GradientBoost'])                                            \n",
    "models['GradientBoost-Grid-Search'] = create_grid_search( BaggingClassifier(), params['GradientBoost'])\n",
    "\"\"\""
   ]
  },
  {
   "cell_type": "code",
   "execution_count": 221,
   "metadata": {},
   "outputs": [],
   "source": [
    "# Create Base Learners\n",
    "base_learners = [\n",
    "                 ('rf_1', RandomForestClassifier(random_state=7)),\n",
    "                 ('rf_2', BaggingClassifier(random_state=7)) ,\n",
    "                 ('rf_3', DecisionTreeClassifier(random_state=7) ),\n",
    "                 ('rf_4', AdaBoostClassifier() )\n",
    "                ]"
   ]
  },
  {
   "cell_type": "code",
   "execution_count": 225,
   "metadata": {},
   "outputs": [],
   "source": [
    "params['Stacking'] = {\n",
    "    'final_estimator' :[ LogisticRegression(), DecisionTreeClassifier(), \n",
    "                        RandomForestClassifier(), BaggingClassifier() ],\n",
    "    'cv':[5,10],\n",
    "    'n_jobs':[-1],\n",
    "    'passthrough':[True,False],\n",
    "    'verbose':[1]\n",
    "}"
   ]
  },
  {
   "cell_type": "code",
   "execution_count": 226,
   "metadata": {},
   "outputs": [],
   "source": [
    "models['Stacking'] = StackingClassifier(estimators=base_learners,final_estimator=LogisticRegression(),cv=10)\n",
    "models['Stacking-Random-Search'] = create_randomized_search( StackingClassifier(base_learners), params['Stacking'])                                            \n",
    "models['Stacking-Grid-Search'] = create_grid_search( StackingClassifier(base_learners), params['Stacking'])"
   ]
  },
  {
   "cell_type": "code",
   "execution_count": 227,
   "metadata": {
    "scrolled": false
   },
   "outputs": [
    {
     "name": "stdout",
     "output_type": "stream",
     "text": [
      "*** Processing Stacking ***\n",
      "*** Processing Stacking-Random-Search ***\n",
      "Fitting 10 folds for each of 16 candidates, totalling 160 fits\n"
     ]
    },
    {
     "name": "stderr",
     "output_type": "stream",
     "text": [
      "/Users/vsananda/opt/anaconda3/lib/python3.8/site-packages/sklearn/model_selection/_search.py:278: UserWarning: The total space of parameters 16 is smaller than n_iter=100. Running 16 iterations. For exhaustive searches, use GridSearchCV.\n",
      "  warnings.warn(\n",
      "[Parallel(n_jobs=-1)]: Using backend LokyBackend with 8 concurrent workers.\n",
      "[Parallel(n_jobs=-1)]: Done  34 tasks      | elapsed:  5.5min\n",
      "[Parallel(n_jobs=-1)]: Done 160 out of 160 | elapsed: 32.2min finished\n"
     ]
    },
    {
     "name": "stdout",
     "output_type": "stream",
     "text": [
      "*** Processing Stacking-Grid-Search ***\n",
      "Fitting 10 folds for each of 16 candidates, totalling 160 fits\n"
     ]
    },
    {
     "name": "stderr",
     "output_type": "stream",
     "text": [
      "[Parallel(n_jobs=-1)]: Using backend LokyBackend with 8 concurrent workers.\n",
      "[Parallel(n_jobs=-1)]: Done  34 tasks      | elapsed:  5.0min\n",
      "[Parallel(n_jobs=-1)]: Done 160 out of 160 | elapsed: 30.1min finished\n"
     ]
    },
    {
     "data": {
      "text/html": [
       "<div>\n",
       "<style scoped>\n",
       "    .dataframe tbody tr th:only-of-type {\n",
       "        vertical-align: middle;\n",
       "    }\n",
       "\n",
       "    .dataframe tbody tr th {\n",
       "        vertical-align: top;\n",
       "    }\n",
       "\n",
       "    .dataframe thead th {\n",
       "        text-align: right;\n",
       "    }\n",
       "</style>\n",
       "<table border=\"1\" class=\"dataframe\">\n",
       "  <thead>\n",
       "    <tr style=\"text-align: right;\">\n",
       "      <th></th>\n",
       "      <th>Training-Accuracy</th>\n",
       "      <th>Testing-Accuracy</th>\n",
       "      <th>Recall</th>\n",
       "      <th>Precision</th>\n",
       "      <th>F1-Score</th>\n",
       "      <th>Roc-Auc-Score</th>\n",
       "    </tr>\n",
       "  </thead>\n",
       "  <tbody>\n",
       "    <tr>\n",
       "      <th>Stacking</th>\n",
       "      <td>0.999968</td>\n",
       "      <td>0.903495</td>\n",
       "      <td>0.445768</td>\n",
       "      <td>0.625880</td>\n",
       "      <td>0.520688</td>\n",
       "      <td>0.705130</td>\n",
       "    </tr>\n",
       "    <tr>\n",
       "      <th>Stacking-Random-Search</th>\n",
       "      <td>0.957089</td>\n",
       "      <td>0.901799</td>\n",
       "      <td>0.476489</td>\n",
       "      <td>0.604614</td>\n",
       "      <td>0.532959</td>\n",
       "      <td>0.717483</td>\n",
       "    </tr>\n",
       "    <tr>\n",
       "      <th>Stacking-Grid-Search</th>\n",
       "      <td>0.998736</td>\n",
       "      <td>0.901578</td>\n",
       "      <td>0.445768</td>\n",
       "      <td>0.611876</td>\n",
       "      <td>0.515778</td>\n",
       "      <td>0.704044</td>\n",
       "    </tr>\n",
       "  </tbody>\n",
       "</table>\n",
       "</div>"
      ],
      "text/plain": [
       "                        Training-Accuracy  Testing-Accuracy    Recall  \\\n",
       "Stacking                         0.999968          0.903495  0.445768   \n",
       "Stacking-Random-Search           0.957089          0.901799  0.476489   \n",
       "Stacking-Grid-Search             0.998736          0.901578  0.445768   \n",
       "\n",
       "                        Precision  F1-Score  Roc-Auc-Score  \n",
       "Stacking                 0.625880  0.520688       0.705130  \n",
       "Stacking-Random-Search   0.604614  0.532959       0.717483  \n",
       "Stacking-Grid-Search     0.611876  0.515778       0.704044  "
      ]
     },
     "execution_count": 227,
     "metadata": {},
     "output_type": "execute_result"
    }
   ],
   "source": [
    "results_df , test_vs_pred = all_scores(models,X_train,y_train,X_test,y_test,threshold=0.5 ,probab=True)\n",
    "results_df"
   ]
  },
  {
   "cell_type": "code",
   "execution_count": null,
   "metadata": {
    "scrolled": false
   },
   "outputs": [],
   "source": [
    "df.columns"
   ]
  },
  {
   "cell_type": "code",
   "execution_count": null,
   "metadata": {
    "scrolled": true
   },
   "outputs": [],
   "source": [
    "df = df_save.copy()\n",
    "y = df['Target']\n",
    "df.drop('Target',inplace=True,axis='columns')\n",
    "\n",
    "for feature in df.columns:\n",
    "    #df = df_save.copy()\n",
    "\n",
    "    print(\"**** Drop {} ****\".format(feature))\n",
    "    #y = df['Target']\n",
    "    #df.drop(['Target',feature],inplace=True,axis='columns')\n",
    "\n",
    "    X = df\n",
    "    \n",
    "    X_train,X_test,y_train,y_test = train_test_split(X,y,test_size=0.3,random_state=7)\n",
    "    \n",
    "    results_df , test_vs_pred = all_scores(models,X_train,y_train,X_test,y_test,threshold=0.2 )\n",
    "\n",
    "    print(results_df)\n",
    "    \n",
    "    df.drop(feature,inplace=True,axis='columns')"
   ]
  },
  {
   "cell_type": "code",
   "execution_count": null,
   "metadata": {
    "scrolled": true
   },
   "outputs": [],
   "source": [
    "for key in models:\n",
    "    print(\"***** Confusion matrix for {} *****\".format(key))\n",
    "    draw_cm( test_vs_pred[key][0], test_vs_pred[key][1] )"
   ]
  },
  {
   "cell_type": "code",
   "execution_count": null,
   "metadata": {
    "scrolled": false
   },
   "outputs": [],
   "source": [
    "# Null accuracy , choose 1 of the classes all the time\n",
    "# Useful metric when we have an imbalance in class distribution\n",
    "def compute_null_accuracy(y):\n",
    "    distrib = y.value_counts(normalize=True)\n",
    "    return distrib[ np.argmax(distrib) ] * 100"
   ]
  },
  {
   "cell_type": "code",
   "execution_count": null,
   "metadata": {
    "scrolled": false
   },
   "outputs": [],
   "source": [
    "print( \"Null accuracy = {}% \".format(compute_null_accuracy(y_test)))"
   ]
  },
  {
   "cell_type": "code",
   "execution_count": null,
   "metadata": {
    "scrolled": false
   },
   "outputs": [],
   "source": [
    "for key,model in models.items():\n",
    "    if hasattr(model,'coef_):\n",
    "        print(\"***** Model params for {} *****\".format(key))\n",
    "        ## Feature Importance or Coefficients \n",
    "        fi = pd.DataFrame()\n",
    "        fi['Col'] = X_train.columns\n",
    "        fi['Coeff'] = np.round(abs(model.coef_[0]),2)\n",
    "        fi.sort_values(by='Coeff',ascending=False)\n",
    "        print(fi)"
   ]
  },
  {
   "cell_type": "markdown",
   "metadata": {},
   "source": [
    "### AUC ROC Curve"
   ]
  },
  {
   "cell_type": "code",
   "execution_count": null,
   "metadata": {
    "scrolled": false
   },
   "outputs": [],
   "source": [
    "from sklearn.metrics import roc_auc_score\n",
    "from sklearn.metrics import roc_curve\n",
    "\n",
    "logit_roc_auc = roc_auc_score(y_test, model.predict(X_test))\n",
    "fpr, tpr, thresholds = roc_curve(y_test, model.predict_proba(X_test)[:,1])\n",
    "plt.figure(figsize=(15, 10))\n",
    "\n",
    "plt.plot(fpr, tpr, label='Logistic Regression (area = %0.2f)' % logit_roc_auc)\n",
    "plt.plot([0, 1], [0, 1],'r--')\n",
    "plt.xlim([-0.1, 1.1])\n",
    "plt.ylim([-0.1, 1.1])\n",
    "plt.xlabel('False Positive Rate')\n",
    "plt.ylabel('True Positive Rate')\n",
    "plt.title('Receiver operating characteristic')\n",
    "plt.legend(loc=\"lower right\")\n",
    "plt.savefig('Log_ROC')\n",
    "plt.grid('on')\n",
    "plt.show()"
   ]
  },
  {
   "cell_type": "markdown",
   "metadata": {},
   "source": [
    "**Insights:**\n",
    "- Looking at the scores and the AUC ROC Curve, we see that with the default threshold of 0.5, the True Positive Rate or Recall is 0.64. \n",
    "- You can increase Recall or the TPR by decreasing the number of False Negatives.\n",
    "- From the AUC ROC Curve we can see that the slope of the curve is high between 0.6 and 0.8, this means that for a small increase in the False Positive Rate, we will see a larger increase in the TPR (Recall score)\n",
    "- Increasing the Recall score will result in the Precision Score decreasing \n",
    "- Precision score decreasing will mean the number of False Positives are increasing.\n",
    "- From the confusion matrix we see that there are a lot more False Negatives (45) compared to False Positives (18), so there is some scope to make these more balanced without impacting the overall accuracy of ~95%.\n",
    "- We can do so by adjusting the threshold"
   ]
  },
  {
   "cell_type": "markdown",
   "metadata": {},
   "source": [
    "## Fine Tuning Threshold\n",
    "### We plot how the accuracy, precision and recall scores change as we vary the threshold\n"
   ]
  },
  {
   "cell_type": "code",
   "execution_count": null,
   "metadata": {
    "scrolled": false
   },
   "outputs": [],
   "source": [
    "accuracy_plot=[]\n",
    "recall_plot=[]\n",
    "precision_plot=[]\n",
    "x_range = np.linspace(0.1,0.9,100)\n",
    "\n",
    "for threshold in x_range:\n",
    "    y_pred = np.where(model.predict_proba(X_test)[:,1] > threshold ,1, 0)\n",
    "    accuracy_plot.append( accuracy_score(y_test,y_pred))\n",
    "    recall_plot.append( recall_score(y_test,y_pred))\n",
    "    precision_plot.append( precision_score(y_test,y_pred))\n",
    "\n",
    "plt.figure(figsize=(15, 10))\n",
    "plt.plot(x_range, accuracy_plot,label=\"accuracy\")\n",
    "plt.plot(x_range, recall_plot,label='recall')\n",
    "plt.plot(x_range, precision_plot,label='precision')\n",
    "plt.legend(loc=\"lower right\")\n",
    "plt.grid('on')\n",
    "plt.show()"
   ]
  },
  {
   "cell_type": "markdown",
   "metadata": {},
   "source": [
    "## From the graph a threshold value that balances the precision and recall score seems to be around 0.3"
   ]
  },
  {
   "cell_type": "code",
   "execution_count": null,
   "metadata": {
    "scrolled": false
   },
   "outputs": [],
   "source": [
    "Threshold = 0.3\n",
    "y_pred = np.where(model.predict_proba(X_test)[:,1] > Threshold ,1, 0)"
   ]
  },
  {
   "cell_type": "code",
   "execution_count": null,
   "metadata": {
    "scrolled": false
   },
   "outputs": [],
   "source": [
    "print(\"Testing accuracy\",accuracy_score(y_test, y_pred))\n",
    "print()\n",
    "print('Confusion Matrix')\n",
    "draw_cm(y_test,y_pred)\n",
    "print()\n",
    "print(\"Recall:\",recall_score(y_test,y_pred))\n",
    "print()\n",
    "print(\"Precision:\",precision_score(y_test,y_pred))\n",
    "print()\n",
    "print(\"F1 Score:\",f1_score(y_test,y_pred))\n",
    "print()\n",
    "print(\"Roc Auc Score:\",roc_auc_score(y_test,y_pred))"
   ]
  },
  {
   "cell_type": "markdown",
   "metadata": {},
   "source": [
    "### By setting the threshold to 0.3, we the number of False Negatives and False Positives are closer at 34 and 38  each\n",
    "### The overall accuracy remains at ~95%\n"
   ]
  },
  {
   "cell_type": "markdown",
   "metadata": {},
   "source": [
    "## Step 5. Find out \n",
    "   * coefficients of all the attributes and show the output in a data frame with column names\n",
    "   * For test data show all the rows where the predicted class is not equal to the observed class. (**10** marks)"
   ]
  },
  {
   "cell_type": "code",
   "execution_count": null,
   "metadata": {
    "scrolled": false
   },
   "outputs": [],
   "source": [
    "## Feature Importance or Coefficients \n",
    "fi = pd.DataFrame()\n",
    "fi['Col'] = X_train.columns\n",
    "fi['Coeff'] = np.round(abs(model.coef_[0]),2)\n",
    "fi.sort_values(by='Coeff',ascending=False)"
   ]
  },
  {
   "cell_type": "code",
   "execution_count": null,
   "metadata": {
    "scrolled": false
   },
   "outputs": [],
   "source": [
    "# Observe the predicted and observed classes in a dataframe.\n",
    "z = X_test.copy()\n",
    "z['Actual-Output'] = y_test\n",
    "z['Predicted-Output'] = y_pred"
   ]
  },
  {
   "cell_type": "code",
   "execution_count": null,
   "metadata": {
    "scrolled": false
   },
   "outputs": [],
   "source": [
    "filter_actual_not_equal_predicted = ( z['Actual-Output'] != z['Predicted-Output'])"
   ]
  },
  {
   "cell_type": "code",
   "execution_count": null,
   "metadata": {
    "scrolled": false
   },
   "outputs": [],
   "source": [
    "z[filter_actual_not_equal_predicted]"
   ]
  },
  {
   "cell_type": "markdown",
   "metadata": {},
   "source": [
    "## Step 6. Give conclusion related to the Business understanding of your model? (**5** marks)"
   ]
  },
  {
   "cell_type": "markdown",
   "metadata": {},
   "source": [
    "##### `Confusion matrix means`\n",
    "\n",
    "*True Positive (observed=1,predicted=1):*\n",
    "\n",
    "Predicted that the customer will accept Personal Loan, and the Customer did accept.\n",
    "\n",
    "*False Positive (observed=0,predicted=1):*\n",
    "\n",
    "Predicted that the customer will accept Personal Loan, but the Customer did **not** accept.\n",
    "\n",
    "*True Negative (observed=0,predicted=0):*\n",
    "\n",
    "Predicted that the customer will not accept Personal Loan, and the Customer did not accept.\n",
    "\n",
    "*False Negative (observed=1,predicted=0):*\n",
    "\n",
    "Predicted that the customer will not accept Personal Loan, and the Customer did accept.\n",
    "\n",
    "\n",
    "##### `Important Features`\n",
    "\n",
    "\"CDAccount\", \"Education\", \"Securities Account\", \"Online\", \"Family\", \"Credit Card\"\n",
    "\n",
    "seems to be top 56 features which influence the model's output. Based on the coefficients value.\n",
    "\n",
    "\n",
    "##### `Important Metric`\n",
    "\n",
    "False Negatives represent **Business Opportunities lost**, i,e the customer would have taken the Personal Loan if they were offered it.\n",
    "\n",
    "False Positives represent **waste of Marketing dollars**, we offered the Personal Loan but the customer did not take it.\n",
    "\n",
    "I would bias the model towards a lower number of False Negatives, because we can assume that the bank would make far **more profit by having customers accept a Personal Loan**, than the incremental marketing cost.\n",
    "Lower False Negatives means **Recall is the important metric**. We want to increase Recall without impacting accuracy.\n",
    "\n",
    "Moving the threshold from 0.5 to 0.3 accomplishes that while maintaining the same accuracy of the model at ~95%\n",
    "\n"
   ]
  },
  {
   "cell_type": "code",
   "execution_count": null,
   "metadata": {
    "scrolled": false
   },
   "outputs": [],
   "source": []
  }
 ],
 "metadata": {
  "anaconda-cloud": {},
  "kernelspec": {
   "display_name": "Python 3",
   "language": "python",
   "name": "python3"
  },
  "language_info": {
   "codemirror_mode": {
    "name": "ipython",
    "version": 3
   },
   "file_extension": ".py",
   "mimetype": "text/x-python",
   "name": "python",
   "nbconvert_exporter": "python",
   "pygments_lexer": "ipython3",
   "version": "3.8.5"
  }
 },
 "nbformat": 4,
 "nbformat_minor": 2
}
