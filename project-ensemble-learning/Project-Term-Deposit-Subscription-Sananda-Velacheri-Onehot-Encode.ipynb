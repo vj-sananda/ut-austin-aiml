{
 "cells": [
  {
   "cell_type": "markdown",
   "metadata": {},
   "source": [
    "### Project: Problem Statement - Term Deposit Subscription - Sananda Velacheri\n",
    " \n",
    "\n",
    "#### Problem statement (Term Deposit Sale)\n",
    "\n",
    "We have data from a Portuguese bank on details of customers related to selling a term deposit. The objective of the project is to help the marketing team identify potential customers who are relatively more likely to subscribe to the term deposit and this increase the hit ratio.\n",
    "\n",
    "\n",
    "#### What is a Term Deposit?\n",
    "A Term deposit is a deposit that a bank or a financial institution offers with a fixed rate (often better than just opening deposit account) in which your money will be returned back at a specific maturity time.\n",
    "\n",
    " \n",
    "\n",
    "#### Resources Available\n",
    "\n",
    "The historical data for this project is available in file https://archive.ics.uci.edu/ml/datasets/Bank+Marketing\n",
    "\n",
    " \n",
    "\n",
    "#### Deliverable –1 (Exploratory data analysis)–(15)\n",
    "\n",
    "##### Univariate analysis (9marks)\n",
    "- Data types and description of the independent attributes which should include (name,  range of values observed, central values (mean and median), standard deviation and quartiles, skewness). - 3 Marks\n",
    "\n",
    "- Make a function to plot ‘countplot’ if the variable is categorical and ‘distplot’ if the variable is numeric. - 3 Marks\n",
    "\n",
    "- Identify outliers using IQR and verify the same using plots. Also mention the percentage of data points which are considered outliers. Should we treat them, why or why not? - 3 Marks\n",
    "\n",
    "- Multivariate analysis (6marks)\n",
    "\n",
    "- Make a function to plot boxplots for all continuous variables VS ‘Target’ variable and countplots for all categorical variables VS ‘Target’ variable? - 3 Marks\n",
    "\n",
    "- Bi-variate analysis between predictor variables and target column. Comment on your findings in terms of their relationship and degree of relation if any. Visualize the analysis using pair plots, heatmaps, histograms or density curves. - 3 Marks\n",
    " \n",
    "\n",
    "#### Deliverable –2 (Prepare the data for analytics)–(5)\n",
    "\n",
    "- Label encode or create dummy variables for categorical variables. Give reason for selecting either of them. - 2 Marks\n",
    "\n",
    "- Create the training set and test set in a ratio of 70:30. Make sure and verify distribution of classes is the same in the full dataset and train test split data. - 3 Marks\n",
    " \n",
    "\n",
    "#### Deliverable –3 (Create the ensemble model)–(30)\n",
    "\n",
    "- Build the ensemble models (Bagging and Boosting) and Decision Tree model (at least 4 models in total). Note the model performance by using different metrics. Use confusion matrix to evaluate class level metrics i.e. Precision/Recall. - 10 Marks\n",
    "\n",
    "- Also reflect the training and testing score of all the models. Build a dataframe with model names as row index and all the metrics calculated as columns - 5 Marks\n",
    "\n",
    "- Explain the confusion matrix related terms like recall, precision etc. Also, select the best metric to choose one-  of the models from above. Give your reason for the same. - 5 Marks\n",
    "\n",
    "- Answer the following questions : - 10 Marks\n",
    "\n",
    "- What do you mean by recall and what information does it provide here?\n",
    "- Suggest some changes for the organization so that they can increase the number of customers who take term deposit.\n",
    "- How much influence does the previous campaign and mode of interaction have on financial performance.\n",
    "- Which features should be more/less focused by the bank to get better results and why?\n",
    "- What did you learn about banking industries from this data?\n",
    " \n",
    "Note : Use random_state=7 (wherever the parameter can be used) so that we can compare all submissions.\n",
    "\n",
    "#### Provide comments in the solution notebook regarding the steps you take and also provide insights drawn from the plots. - 5 Marks.\n",
    "\n",
    "#### Marks distribution for Students with recall_score (pos_label = ‘yes’) on the test set:\n",
    "\n",
    "- Above 43% - 5 Marks\n",
    "\n",
    "- Between 40% to 43% - 4 Marks\n",
    "\n",
    "- Less than 40% - 3 Marks\n",
    "\n",
    "- Note : Make sure you are not overfitting the model in order to increase the recall score only.\n",
    "\n",
    "#### Attribute Information\n",
    "\n",
    "- age\n",
    "- job : type of job\n",
    "- marital : marital status\n",
    "- education\n",
    "- default: has credit in default?\n",
    "- housing: has housing loan?- loan: has personal loan?\n",
    "- balance in account\n",
    "- contact: contact communication type\n",
    "- month: last contact month of year\n",
    "- day: last contact day of the month\n",
    "- duration: last contact duration, in seconds\n",
    "- campaign: number of contacts performed during this campaign and for this client\n",
    "- pdays: number of days that passed by after the client was last contacted from a previous campaign\n",
    "- previous: number of contacts performed before this campaign and for this client\n",
    "- poutcome: outcome of the previous marketing campaign\n",
    "- Output variable ('Target'): has the client subscribed a term deposit?"
   ]
  },
  {
   "cell_type": "markdown",
   "metadata": {},
   "source": [
    "## Deliverable 1 : Exploratory Data analysis"
   ]
  },
  {
   "cell_type": "code",
   "execution_count": 203,
   "metadata": {
    "scrolled": false
   },
   "outputs": [],
   "source": [
    "#Import Libraries\n",
    "import pandas as pd\n",
    "import numpy as np\n",
    "import matplotlib.pyplot as plt\n",
    "import seaborn as sns\n",
    "%matplotlib inline\n",
    "#pd.options.display.float_format = '{:,.2f}'.format\n"
   ]
  },
  {
   "cell_type": "code",
   "execution_count": 204,
   "metadata": {
    "scrolled": false
   },
   "outputs": [
    {
     "name": "stdout",
     "output_type": "stream",
     "text": [
      "bank-full.csv\r\n"
     ]
    }
   ],
   "source": [
    "# List .csv file\n",
    "!ls *.csv"
   ]
  },
  {
   "cell_type": "code",
   "execution_count": 205,
   "metadata": {
    "scrolled": false
   },
   "outputs": [],
   "source": [
    "# Import dataset\n",
    "df = pd.read_csv('bank-full.csv')"
   ]
  },
  {
   "cell_type": "code",
   "execution_count": 206,
   "metadata": {
    "scrolled": false
   },
   "outputs": [
    {
     "name": "stdout",
     "output_type": "stream",
     "text": [
      "<class 'pandas.core.frame.DataFrame'>\n",
      "RangeIndex: 45211 entries, 0 to 45210\n",
      "Data columns (total 17 columns):\n",
      " #   Column     Non-Null Count  Dtype \n",
      "---  ------     --------------  ----- \n",
      " 0   age        45211 non-null  int64 \n",
      " 1   job        45211 non-null  object\n",
      " 2   marital    45211 non-null  object\n",
      " 3   education  45211 non-null  object\n",
      " 4   default    45211 non-null  object\n",
      " 5   balance    45211 non-null  int64 \n",
      " 6   housing    45211 non-null  object\n",
      " 7   loan       45211 non-null  object\n",
      " 8   contact    45211 non-null  object\n",
      " 9   day        45211 non-null  int64 \n",
      " 10  month      45211 non-null  object\n",
      " 11  duration   45211 non-null  int64 \n",
      " 12  campaign   45211 non-null  int64 \n",
      " 13  pdays      45211 non-null  int64 \n",
      " 14  previous   45211 non-null  int64 \n",
      " 15  poutcome   45211 non-null  object\n",
      " 16  Target     45211 non-null  object\n",
      "dtypes: int64(7), object(10)\n",
      "memory usage: 5.9+ MB\n"
     ]
    }
   ],
   "source": [
    "# check data type\n",
    "df.info()"
   ]
  },
  {
   "cell_type": "code",
   "execution_count": 207,
   "metadata": {
    "scrolled": false
   },
   "outputs": [
    {
     "data": {
      "text/plain": [
       "(45211, 17)"
      ]
     },
     "execution_count": 207,
     "metadata": {},
     "output_type": "execute_result"
    }
   ],
   "source": [
    "# Shape\n",
    "df.shape"
   ]
  },
  {
   "cell_type": "code",
   "execution_count": 208,
   "metadata": {
    "scrolled": false
   },
   "outputs": [
    {
     "data": {
      "text/plain": [
       "age          0\n",
       "job          0\n",
       "marital      0\n",
       "education    0\n",
       "default      0\n",
       "balance      0\n",
       "housing      0\n",
       "loan         0\n",
       "contact      0\n",
       "day          0\n",
       "month        0\n",
       "duration     0\n",
       "campaign     0\n",
       "pdays        0\n",
       "previous     0\n",
       "poutcome     0\n",
       "Target       0\n",
       "dtype: int64"
      ]
     },
     "execution_count": 208,
     "metadata": {},
     "output_type": "execute_result"
    }
   ],
   "source": [
    "# Null values\n",
    "df.isna().sum()"
   ]
  },
  {
   "cell_type": "markdown",
   "metadata": {},
   "source": [
    "**Insights:**\n",
    "- Dataset has 45211 rows and 17 columns\n",
    "- No null values"
   ]
  },
  {
   "cell_type": "markdown",
   "metadata": {},
   "source": [
    "#### Data types and description of the independent attributes which should include (name, range of values observed, central values (mean and median), standard deviation and quartiles, skewness). - 3 Marks"
   ]
  },
  {
   "cell_type": "code",
   "execution_count": 209,
   "metadata": {
    "scrolled": false
   },
   "outputs": [
    {
     "data": {
      "text/html": [
       "<div>\n",
       "<style scoped>\n",
       "    .dataframe tbody tr th:only-of-type {\n",
       "        vertical-align: middle;\n",
       "    }\n",
       "\n",
       "    .dataframe tbody tr th {\n",
       "        vertical-align: top;\n",
       "    }\n",
       "\n",
       "    .dataframe thead th {\n",
       "        text-align: right;\n",
       "    }\n",
       "</style>\n",
       "<table border=\"1\" class=\"dataframe\">\n",
       "  <thead>\n",
       "    <tr style=\"text-align: right;\">\n",
       "      <th></th>\n",
       "      <th>age</th>\n",
       "      <th>balance</th>\n",
       "      <th>day</th>\n",
       "      <th>duration</th>\n",
       "      <th>campaign</th>\n",
       "      <th>pdays</th>\n",
       "      <th>previous</th>\n",
       "    </tr>\n",
       "  </thead>\n",
       "  <tbody>\n",
       "    <tr>\n",
       "      <th>count</th>\n",
       "      <td>45211.00</td>\n",
       "      <td>45211.00</td>\n",
       "      <td>45211.00</td>\n",
       "      <td>45211.00</td>\n",
       "      <td>45211.00</td>\n",
       "      <td>45211.00</td>\n",
       "      <td>45211.00</td>\n",
       "    </tr>\n",
       "    <tr>\n",
       "      <th>mean</th>\n",
       "      <td>40.94</td>\n",
       "      <td>1362.27</td>\n",
       "      <td>15.81</td>\n",
       "      <td>258.16</td>\n",
       "      <td>2.76</td>\n",
       "      <td>40.20</td>\n",
       "      <td>0.58</td>\n",
       "    </tr>\n",
       "    <tr>\n",
       "      <th>std</th>\n",
       "      <td>10.62</td>\n",
       "      <td>3044.77</td>\n",
       "      <td>8.32</td>\n",
       "      <td>257.53</td>\n",
       "      <td>3.10</td>\n",
       "      <td>100.13</td>\n",
       "      <td>2.30</td>\n",
       "    </tr>\n",
       "    <tr>\n",
       "      <th>min</th>\n",
       "      <td>18.00</td>\n",
       "      <td>-8019.00</td>\n",
       "      <td>1.00</td>\n",
       "      <td>0.00</td>\n",
       "      <td>1.00</td>\n",
       "      <td>-1.00</td>\n",
       "      <td>0.00</td>\n",
       "    </tr>\n",
       "    <tr>\n",
       "      <th>25%</th>\n",
       "      <td>33.00</td>\n",
       "      <td>72.00</td>\n",
       "      <td>8.00</td>\n",
       "      <td>103.00</td>\n",
       "      <td>1.00</td>\n",
       "      <td>-1.00</td>\n",
       "      <td>0.00</td>\n",
       "    </tr>\n",
       "    <tr>\n",
       "      <th>50%</th>\n",
       "      <td>39.00</td>\n",
       "      <td>448.00</td>\n",
       "      <td>16.00</td>\n",
       "      <td>180.00</td>\n",
       "      <td>2.00</td>\n",
       "      <td>-1.00</td>\n",
       "      <td>0.00</td>\n",
       "    </tr>\n",
       "    <tr>\n",
       "      <th>75%</th>\n",
       "      <td>48.00</td>\n",
       "      <td>1428.00</td>\n",
       "      <td>21.00</td>\n",
       "      <td>319.00</td>\n",
       "      <td>3.00</td>\n",
       "      <td>-1.00</td>\n",
       "      <td>0.00</td>\n",
       "    </tr>\n",
       "    <tr>\n",
       "      <th>max</th>\n",
       "      <td>95.00</td>\n",
       "      <td>102127.00</td>\n",
       "      <td>31.00</td>\n",
       "      <td>4918.00</td>\n",
       "      <td>63.00</td>\n",
       "      <td>871.00</td>\n",
       "      <td>275.00</td>\n",
       "    </tr>\n",
       "  </tbody>\n",
       "</table>\n",
       "</div>"
      ],
      "text/plain": [
       "           age   balance      day  duration  campaign    pdays  previous\n",
       "count 45211.00  45211.00 45211.00  45211.00  45211.00 45211.00  45211.00\n",
       "mean     40.94   1362.27    15.81    258.16      2.76    40.20      0.58\n",
       "std      10.62   3044.77     8.32    257.53      3.10   100.13      2.30\n",
       "min      18.00  -8019.00     1.00      0.00      1.00    -1.00      0.00\n",
       "25%      33.00     72.00     8.00    103.00      1.00    -1.00      0.00\n",
       "50%      39.00    448.00    16.00    180.00      2.00    -1.00      0.00\n",
       "75%      48.00   1428.00    21.00    319.00      3.00    -1.00      0.00\n",
       "max      95.00 102127.00    31.00   4918.00     63.00   871.00    275.00"
      ]
     },
     "execution_count": 209,
     "metadata": {},
     "output_type": "execute_result"
    }
   ],
   "source": [
    "# Statistical Summary\n",
    "df.describe()"
   ]
  },
  {
   "cell_type": "code",
   "execution_count": 210,
   "metadata": {
    "scrolled": false
   },
   "outputs": [],
   "source": [
    "numeric_columns = list( df.describe().columns)"
   ]
  },
  {
   "cell_type": "code",
   "execution_count": 211,
   "metadata": {
    "scrolled": false
   },
   "outputs": [],
   "source": [
    "def num_outliers(df,feature):\n",
    "    Q1= df[feature].quantile(0.25)\n",
    "    Q3 = df[feature].quantile(0.75)\n",
    "    IQR =  Q3 - Q1 \n",
    "    filter = ( (df[feature] > Q3 + 1.5*IQR) | (df[feature] < Q1-1.5*IQR) )\n",
    "    # Percentage of records that are outliers\n",
    "    print(len(df[filter][feature])/len(df[feature])*100)"
   ]
  },
  {
   "cell_type": "code",
   "execution_count": 212,
   "metadata": {
    "scrolled": false
   },
   "outputs": [
    {
     "name": "stdout",
     "output_type": "stream",
     "text": [
      "6.7771117648359915\n"
     ]
    }
   ],
   "source": [
    "num_outliers(df,'campaign')"
   ]
  },
  {
   "cell_type": "code",
   "execution_count": 213,
   "metadata": {
    "scrolled": false
   },
   "outputs": [
    {
     "data": {
      "text/plain": [
       "age         33.00\n",
       "balance     72.00\n",
       "day          8.00\n",
       "duration   103.00\n",
       "campaign     1.00\n",
       "pdays       -1.00\n",
       "previous     0.00\n",
       "Name: 0.25, dtype: float64"
      ]
     },
     "execution_count": 213,
     "metadata": {},
     "output_type": "execute_result"
    }
   ],
   "source": [
    "df.quantile(0.25)"
   ]
  },
  {
   "cell_type": "code",
   "execution_count": 214,
   "metadata": {
    "scrolled": false
   },
   "outputs": [],
   "source": [
    "def num_outliers(df):\n",
    "    Q1= df.quantile(0.25)\n",
    "    Q3 = df.quantile(0.75)\n",
    "    IQR =  Q3 - Q1 \n",
    "    filter = ( (df > Q3 + 1.5*IQR) | (df < Q1-1.5*IQR) )\n",
    "    # Percentage of records that are outliers\n",
    "    return df[filter].count()/df.shape[0]*100"
   ]
  },
  {
   "cell_type": "code",
   "execution_count": 215,
   "metadata": {
    "scrolled": false
   },
   "outputs": [
    {
     "data": {
      "text/plain": [
       "age         1.08\n",
       "balance    10.46\n",
       "day         0.00\n",
       "duration    7.16\n",
       "campaign    6.78\n",
       "pdays      18.26\n",
       "previous   18.26\n",
       "dtype: float64"
      ]
     },
     "execution_count": 215,
     "metadata": {},
     "output_type": "execute_result"
    }
   ],
   "source": [
    "num_outliers(df[numeric_columns])"
   ]
  },
  {
   "cell_type": "code",
   "execution_count": 216,
   "metadata": {
    "scrolled": false
   },
   "outputs": [
    {
     "data": {
      "text/html": [
       "<div>\n",
       "<style scoped>\n",
       "    .dataframe tbody tr th:only-of-type {\n",
       "        vertical-align: middle;\n",
       "    }\n",
       "\n",
       "    .dataframe tbody tr th {\n",
       "        vertical-align: top;\n",
       "    }\n",
       "\n",
       "    .dataframe thead th {\n",
       "        text-align: right;\n",
       "    }\n",
       "</style>\n",
       "<table border=\"1\" class=\"dataframe\">\n",
       "  <thead>\n",
       "    <tr style=\"text-align: right;\">\n",
       "      <th></th>\n",
       "      <th>skew</th>\n",
       "      <th>num_outliers_%</th>\n",
       "    </tr>\n",
       "  </thead>\n",
       "  <tbody>\n",
       "    <tr>\n",
       "      <th>age</th>\n",
       "      <td>0.68</td>\n",
       "      <td>1.08</td>\n",
       "    </tr>\n",
       "    <tr>\n",
       "      <th>balance</th>\n",
       "      <td>8.36</td>\n",
       "      <td>10.46</td>\n",
       "    </tr>\n",
       "    <tr>\n",
       "      <th>day</th>\n",
       "      <td>0.09</td>\n",
       "      <td>0.00</td>\n",
       "    </tr>\n",
       "    <tr>\n",
       "      <th>duration</th>\n",
       "      <td>3.14</td>\n",
       "      <td>7.16</td>\n",
       "    </tr>\n",
       "    <tr>\n",
       "      <th>campaign</th>\n",
       "      <td>4.90</td>\n",
       "      <td>6.78</td>\n",
       "    </tr>\n",
       "    <tr>\n",
       "      <th>pdays</th>\n",
       "      <td>2.62</td>\n",
       "      <td>18.26</td>\n",
       "    </tr>\n",
       "    <tr>\n",
       "      <th>previous</th>\n",
       "      <td>41.85</td>\n",
       "      <td>18.26</td>\n",
       "    </tr>\n",
       "  </tbody>\n",
       "</table>\n",
       "</div>"
      ],
      "text/plain": [
       "          skew  num_outliers_%\n",
       "age       0.68            1.08\n",
       "balance   8.36           10.46\n",
       "day       0.09            0.00\n",
       "duration  3.14            7.16\n",
       "campaign  4.90            6.78\n",
       "pdays     2.62           18.26\n",
       "previous 41.85           18.26"
      ]
     },
     "execution_count": 216,
     "metadata": {},
     "output_type": "execute_result"
    }
   ],
   "source": [
    "numeric_columns = list(df.describe().columns)\n",
    "pd.DataFrame({'skew' : df.skew(axis=0) , 'num_outliers_%' :num_outliers(df[numeric_columns])})"
   ]
  },
  {
   "cell_type": "code",
   "execution_count": 217,
   "metadata": {
    "scrolled": false
   },
   "outputs": [],
   "source": [
    "# Function for univariate plots\n",
    "# Distplots for continuous variables\n",
    "# Count plots for categorical variables\n",
    "def univariate_plot(df,feature):\n",
    "    print( \"**** {} \".format(feature),end=\"\")\n",
    "    if df[feature].dtype == 'object': # Categorical so countplot\n",
    "        print(\" (Categorical, Countplot)\")\n",
    "        sns.countplot(x=feature,data=df)\n",
    "    else:\n",
    "        print(\" (Continuous, Distplot)\")\n",
    "        sns.displot(df[feature],kde=False)\n",
    "    plt.show()\n",
    "        "
   ]
  },
  {
   "cell_type": "code",
   "execution_count": 218,
   "metadata": {
    "scrolled": false
   },
   "outputs": [],
   "source": [
    "#for feature in df.columns:\n",
    "#    univariate_plot(df,feature)"
   ]
  },
  {
   "cell_type": "markdown",
   "metadata": {},
   "source": [
    "**Insights:**\n",
    "- "
   ]
  },
  {
   "cell_type": "code",
   "execution_count": 219,
   "metadata": {
    "scrolled": false
   },
   "outputs": [],
   "source": [
    "#from pandas_profiling import ProfileReport\n",
    "#prof = ProfileReport(df)\n",
    "#prof"
   ]
  },
  {
   "cell_type": "markdown",
   "metadata": {},
   "source": [
    "#### Bivariate plots"
   ]
  },
  {
   "cell_type": "code",
   "execution_count": 220,
   "metadata": {
    "scrolled": true
   },
   "outputs": [],
   "source": [
    "#sns.heatmap(df.corr())"
   ]
  },
  {
   "cell_type": "code",
   "execution_count": 221,
   "metadata": {
    "scrolled": true
   },
   "outputs": [],
   "source": [
    "# Function to plot boxplot for continuous variables\n",
    "# and Countplots vs Target \n",
    "def bivariate_plot(df,feature):\n",
    "    print( \"**** {} \".format(feature),end=\"\")\n",
    "    if df[feature].dtype == 'object': # Categorical so countplot\n",
    "        print(\" (Categorical, Countplot) vs Target\")\n",
    "        sns.countplot(x=feature,data=df,hue=\"Target\")\n",
    "    else:\n",
    "        print(\" (Continuous, Distplot) vs Target\")\n",
    "        sns.boxplot(x='Target', y=feature,data=df)\n",
    "    plt.show()"
   ]
  },
  {
   "cell_type": "code",
   "execution_count": 222,
   "metadata": {
    "scrolled": false
   },
   "outputs": [],
   "source": [
    "#for feature in df.columns:\n",
    "#    bivariate_plot(df,feature)"
   ]
  },
  {
   "cell_type": "markdown",
   "metadata": {},
   "source": [
    "#### Get data model ready"
   ]
  },
  {
   "cell_type": "code",
   "execution_count": 223,
   "metadata": {
    "scrolled": false
   },
   "outputs": [
    {
     "data": {
      "text/plain": [
       "(45211, 17)"
      ]
     },
     "execution_count": 223,
     "metadata": {},
     "output_type": "execute_result"
    }
   ],
   "source": [
    "df.shape"
   ]
  },
  {
   "cell_type": "code",
   "execution_count": 224,
   "metadata": {
    "scrolled": false
   },
   "outputs": [],
   "source": [
    "df_save = df.copy(deep=True)"
   ]
  },
  {
   "cell_type": "markdown",
   "metadata": {},
   "source": [
    "### One hot encode categorical variables\n",
    "#### Even though CreditCart, Online,  CD Account, Securities Account are categorical variables, they already take on 0 or 1  (and so are already one hot encoded)\n",
    "#### So only 1-hot encode Education"
   ]
  },
  {
   "cell_type": "code",
   "execution_count": 225,
   "metadata": {
    "scrolled": true
   },
   "outputs": [
    {
     "data": {
      "text/html": [
       "<div>\n",
       "<style scoped>\n",
       "    .dataframe tbody tr th:only-of-type {\n",
       "        vertical-align: middle;\n",
       "    }\n",
       "\n",
       "    .dataframe tbody tr th {\n",
       "        vertical-align: top;\n",
       "    }\n",
       "\n",
       "    .dataframe thead th {\n",
       "        text-align: right;\n",
       "    }\n",
       "</style>\n",
       "<table border=\"1\" class=\"dataframe\">\n",
       "  <thead>\n",
       "    <tr style=\"text-align: right;\">\n",
       "      <th></th>\n",
       "      <th>age</th>\n",
       "      <th>job</th>\n",
       "      <th>marital</th>\n",
       "      <th>education</th>\n",
       "      <th>default</th>\n",
       "      <th>balance</th>\n",
       "      <th>housing</th>\n",
       "      <th>loan</th>\n",
       "      <th>contact</th>\n",
       "      <th>day</th>\n",
       "      <th>month</th>\n",
       "      <th>duration</th>\n",
       "      <th>campaign</th>\n",
       "      <th>pdays</th>\n",
       "      <th>previous</th>\n",
       "      <th>poutcome</th>\n",
       "      <th>Target</th>\n",
       "    </tr>\n",
       "  </thead>\n",
       "  <tbody>\n",
       "    <tr>\n",
       "      <th>0</th>\n",
       "      <td>58</td>\n",
       "      <td>management</td>\n",
       "      <td>married</td>\n",
       "      <td>tertiary</td>\n",
       "      <td>no</td>\n",
       "      <td>2143</td>\n",
       "      <td>yes</td>\n",
       "      <td>no</td>\n",
       "      <td>unknown</td>\n",
       "      <td>5</td>\n",
       "      <td>may</td>\n",
       "      <td>261</td>\n",
       "      <td>1</td>\n",
       "      <td>-1</td>\n",
       "      <td>0</td>\n",
       "      <td>unknown</td>\n",
       "      <td>no</td>\n",
       "    </tr>\n",
       "    <tr>\n",
       "      <th>1</th>\n",
       "      <td>44</td>\n",
       "      <td>technician</td>\n",
       "      <td>single</td>\n",
       "      <td>secondary</td>\n",
       "      <td>no</td>\n",
       "      <td>29</td>\n",
       "      <td>yes</td>\n",
       "      <td>no</td>\n",
       "      <td>unknown</td>\n",
       "      <td>5</td>\n",
       "      <td>may</td>\n",
       "      <td>151</td>\n",
       "      <td>1</td>\n",
       "      <td>-1</td>\n",
       "      <td>0</td>\n",
       "      <td>unknown</td>\n",
       "      <td>no</td>\n",
       "    </tr>\n",
       "    <tr>\n",
       "      <th>2</th>\n",
       "      <td>33</td>\n",
       "      <td>entrepreneur</td>\n",
       "      <td>married</td>\n",
       "      <td>secondary</td>\n",
       "      <td>no</td>\n",
       "      <td>2</td>\n",
       "      <td>yes</td>\n",
       "      <td>yes</td>\n",
       "      <td>unknown</td>\n",
       "      <td>5</td>\n",
       "      <td>may</td>\n",
       "      <td>76</td>\n",
       "      <td>1</td>\n",
       "      <td>-1</td>\n",
       "      <td>0</td>\n",
       "      <td>unknown</td>\n",
       "      <td>no</td>\n",
       "    </tr>\n",
       "    <tr>\n",
       "      <th>3</th>\n",
       "      <td>47</td>\n",
       "      <td>blue-collar</td>\n",
       "      <td>married</td>\n",
       "      <td>unknown</td>\n",
       "      <td>no</td>\n",
       "      <td>1506</td>\n",
       "      <td>yes</td>\n",
       "      <td>no</td>\n",
       "      <td>unknown</td>\n",
       "      <td>5</td>\n",
       "      <td>may</td>\n",
       "      <td>92</td>\n",
       "      <td>1</td>\n",
       "      <td>-1</td>\n",
       "      <td>0</td>\n",
       "      <td>unknown</td>\n",
       "      <td>no</td>\n",
       "    </tr>\n",
       "    <tr>\n",
       "      <th>4</th>\n",
       "      <td>33</td>\n",
       "      <td>unknown</td>\n",
       "      <td>single</td>\n",
       "      <td>unknown</td>\n",
       "      <td>no</td>\n",
       "      <td>1</td>\n",
       "      <td>no</td>\n",
       "      <td>no</td>\n",
       "      <td>unknown</td>\n",
       "      <td>5</td>\n",
       "      <td>may</td>\n",
       "      <td>198</td>\n",
       "      <td>1</td>\n",
       "      <td>-1</td>\n",
       "      <td>0</td>\n",
       "      <td>unknown</td>\n",
       "      <td>no</td>\n",
       "    </tr>\n",
       "    <tr>\n",
       "      <th>...</th>\n",
       "      <td>...</td>\n",
       "      <td>...</td>\n",
       "      <td>...</td>\n",
       "      <td>...</td>\n",
       "      <td>...</td>\n",
       "      <td>...</td>\n",
       "      <td>...</td>\n",
       "      <td>...</td>\n",
       "      <td>...</td>\n",
       "      <td>...</td>\n",
       "      <td>...</td>\n",
       "      <td>...</td>\n",
       "      <td>...</td>\n",
       "      <td>...</td>\n",
       "      <td>...</td>\n",
       "      <td>...</td>\n",
       "      <td>...</td>\n",
       "    </tr>\n",
       "    <tr>\n",
       "      <th>45206</th>\n",
       "      <td>51</td>\n",
       "      <td>technician</td>\n",
       "      <td>married</td>\n",
       "      <td>tertiary</td>\n",
       "      <td>no</td>\n",
       "      <td>825</td>\n",
       "      <td>no</td>\n",
       "      <td>no</td>\n",
       "      <td>cellular</td>\n",
       "      <td>17</td>\n",
       "      <td>nov</td>\n",
       "      <td>977</td>\n",
       "      <td>3</td>\n",
       "      <td>-1</td>\n",
       "      <td>0</td>\n",
       "      <td>unknown</td>\n",
       "      <td>yes</td>\n",
       "    </tr>\n",
       "    <tr>\n",
       "      <th>45207</th>\n",
       "      <td>71</td>\n",
       "      <td>retired</td>\n",
       "      <td>divorced</td>\n",
       "      <td>primary</td>\n",
       "      <td>no</td>\n",
       "      <td>1729</td>\n",
       "      <td>no</td>\n",
       "      <td>no</td>\n",
       "      <td>cellular</td>\n",
       "      <td>17</td>\n",
       "      <td>nov</td>\n",
       "      <td>456</td>\n",
       "      <td>2</td>\n",
       "      <td>-1</td>\n",
       "      <td>0</td>\n",
       "      <td>unknown</td>\n",
       "      <td>yes</td>\n",
       "    </tr>\n",
       "    <tr>\n",
       "      <th>45208</th>\n",
       "      <td>72</td>\n",
       "      <td>retired</td>\n",
       "      <td>married</td>\n",
       "      <td>secondary</td>\n",
       "      <td>no</td>\n",
       "      <td>5715</td>\n",
       "      <td>no</td>\n",
       "      <td>no</td>\n",
       "      <td>cellular</td>\n",
       "      <td>17</td>\n",
       "      <td>nov</td>\n",
       "      <td>1127</td>\n",
       "      <td>5</td>\n",
       "      <td>184</td>\n",
       "      <td>3</td>\n",
       "      <td>success</td>\n",
       "      <td>yes</td>\n",
       "    </tr>\n",
       "    <tr>\n",
       "      <th>45209</th>\n",
       "      <td>57</td>\n",
       "      <td>blue-collar</td>\n",
       "      <td>married</td>\n",
       "      <td>secondary</td>\n",
       "      <td>no</td>\n",
       "      <td>668</td>\n",
       "      <td>no</td>\n",
       "      <td>no</td>\n",
       "      <td>telephone</td>\n",
       "      <td>17</td>\n",
       "      <td>nov</td>\n",
       "      <td>508</td>\n",
       "      <td>4</td>\n",
       "      <td>-1</td>\n",
       "      <td>0</td>\n",
       "      <td>unknown</td>\n",
       "      <td>no</td>\n",
       "    </tr>\n",
       "    <tr>\n",
       "      <th>45210</th>\n",
       "      <td>37</td>\n",
       "      <td>entrepreneur</td>\n",
       "      <td>married</td>\n",
       "      <td>secondary</td>\n",
       "      <td>no</td>\n",
       "      <td>2971</td>\n",
       "      <td>no</td>\n",
       "      <td>no</td>\n",
       "      <td>cellular</td>\n",
       "      <td>17</td>\n",
       "      <td>nov</td>\n",
       "      <td>361</td>\n",
       "      <td>2</td>\n",
       "      <td>188</td>\n",
       "      <td>11</td>\n",
       "      <td>other</td>\n",
       "      <td>no</td>\n",
       "    </tr>\n",
       "  </tbody>\n",
       "</table>\n",
       "<p>45211 rows × 17 columns</p>\n",
       "</div>"
      ],
      "text/plain": [
       "       age           job   marital  education default  balance housing loan  \\\n",
       "0       58    management   married   tertiary      no     2143     yes   no   \n",
       "1       44    technician    single  secondary      no       29     yes   no   \n",
       "2       33  entrepreneur   married  secondary      no        2     yes  yes   \n",
       "3       47   blue-collar   married    unknown      no     1506     yes   no   \n",
       "4       33       unknown    single    unknown      no        1      no   no   \n",
       "...    ...           ...       ...        ...     ...      ...     ...  ...   \n",
       "45206   51    technician   married   tertiary      no      825      no   no   \n",
       "45207   71       retired  divorced    primary      no     1729      no   no   \n",
       "45208   72       retired   married  secondary      no     5715      no   no   \n",
       "45209   57   blue-collar   married  secondary      no      668      no   no   \n",
       "45210   37  entrepreneur   married  secondary      no     2971      no   no   \n",
       "\n",
       "         contact  day month  duration  campaign  pdays  previous poutcome  \\\n",
       "0        unknown    5   may       261         1     -1         0  unknown   \n",
       "1        unknown    5   may       151         1     -1         0  unknown   \n",
       "2        unknown    5   may        76         1     -1         0  unknown   \n",
       "3        unknown    5   may        92         1     -1         0  unknown   \n",
       "4        unknown    5   may       198         1     -1         0  unknown   \n",
       "...          ...  ...   ...       ...       ...    ...       ...      ...   \n",
       "45206   cellular   17   nov       977         3     -1         0  unknown   \n",
       "45207   cellular   17   nov       456         2     -1         0  unknown   \n",
       "45208   cellular   17   nov      1127         5    184         3  success   \n",
       "45209  telephone   17   nov       508         4     -1         0  unknown   \n",
       "45210   cellular   17   nov       361         2    188        11    other   \n",
       "\n",
       "      Target  \n",
       "0         no  \n",
       "1         no  \n",
       "2         no  \n",
       "3         no  \n",
       "4         no  \n",
       "...      ...  \n",
       "45206    yes  \n",
       "45207    yes  \n",
       "45208    yes  \n",
       "45209     no  \n",
       "45210     no  \n",
       "\n",
       "[45211 rows x 17 columns]"
      ]
     },
     "execution_count": 225,
     "metadata": {},
     "output_type": "execute_result"
    }
   ],
   "source": [
    "df"
   ]
  },
  {
   "cell_type": "code",
   "execution_count": 226,
   "metadata": {},
   "outputs": [
    {
     "data": {
      "text/plain": [
       "['job',\n",
       " 'marital',\n",
       " 'education',\n",
       " 'default',\n",
       " 'housing',\n",
       " 'loan',\n",
       " 'contact',\n",
       " 'month',\n",
       " 'poutcome',\n",
       " 'Target']"
      ]
     },
     "execution_count": 226,
     "metadata": {},
     "output_type": "execute_result"
    }
   ],
   "source": [
    "categorical_features = list(df.select_dtypes('object').columns)\n",
    "categorical_features"
   ]
  },
  {
   "cell_type": "code",
   "execution_count": 227,
   "metadata": {
    "scrolled": true
   },
   "outputs": [
    {
     "data": {
      "text/plain": [
       "['job',\n",
       " 'marital',\n",
       " 'education',\n",
       " 'default',\n",
       " 'housing',\n",
       " 'loan',\n",
       " 'contact',\n",
       " 'month',\n",
       " 'poutcome']"
      ]
     },
     "execution_count": 227,
     "metadata": {},
     "output_type": "execute_result"
    }
   ],
   "source": [
    "categorical_features.remove('Target')\n",
    "categorical_features"
   ]
  },
  {
   "cell_type": "code",
   "execution_count": null,
   "metadata": {},
   "outputs": [],
   "source": []
  },
  {
   "cell_type": "code",
   "execution_count": 228,
   "metadata": {
    "scrolled": true
   },
   "outputs": [
    {
     "data": {
      "text/html": [
       "<div>\n",
       "<style scoped>\n",
       "    .dataframe tbody tr th:only-of-type {\n",
       "        vertical-align: middle;\n",
       "    }\n",
       "\n",
       "    .dataframe tbody tr th {\n",
       "        vertical-align: top;\n",
       "    }\n",
       "\n",
       "    .dataframe thead th {\n",
       "        text-align: right;\n",
       "    }\n",
       "</style>\n",
       "<table border=\"1\" class=\"dataframe\">\n",
       "  <thead>\n",
       "    <tr style=\"text-align: right;\">\n",
       "      <th></th>\n",
       "      <th>age</th>\n",
       "      <th>job</th>\n",
       "      <th>marital</th>\n",
       "      <th>education</th>\n",
       "      <th>default</th>\n",
       "      <th>balance</th>\n",
       "      <th>housing</th>\n",
       "      <th>loan</th>\n",
       "      <th>contact</th>\n",
       "      <th>day</th>\n",
       "      <th>month</th>\n",
       "      <th>duration</th>\n",
       "      <th>campaign</th>\n",
       "      <th>pdays</th>\n",
       "      <th>previous</th>\n",
       "      <th>poutcome</th>\n",
       "      <th>Target</th>\n",
       "    </tr>\n",
       "  </thead>\n",
       "  <tbody>\n",
       "    <tr>\n",
       "      <th>0</th>\n",
       "      <td>58</td>\n",
       "      <td>4</td>\n",
       "      <td>1</td>\n",
       "      <td>2</td>\n",
       "      <td>0</td>\n",
       "      <td>2143</td>\n",
       "      <td>1</td>\n",
       "      <td>0</td>\n",
       "      <td>2</td>\n",
       "      <td>5</td>\n",
       "      <td>8</td>\n",
       "      <td>261</td>\n",
       "      <td>1</td>\n",
       "      <td>-1</td>\n",
       "      <td>0</td>\n",
       "      <td>3</td>\n",
       "      <td>0</td>\n",
       "    </tr>\n",
       "    <tr>\n",
       "      <th>1</th>\n",
       "      <td>44</td>\n",
       "      <td>9</td>\n",
       "      <td>2</td>\n",
       "      <td>1</td>\n",
       "      <td>0</td>\n",
       "      <td>29</td>\n",
       "      <td>1</td>\n",
       "      <td>0</td>\n",
       "      <td>2</td>\n",
       "      <td>5</td>\n",
       "      <td>8</td>\n",
       "      <td>151</td>\n",
       "      <td>1</td>\n",
       "      <td>-1</td>\n",
       "      <td>0</td>\n",
       "      <td>3</td>\n",
       "      <td>0</td>\n",
       "    </tr>\n",
       "    <tr>\n",
       "      <th>2</th>\n",
       "      <td>33</td>\n",
       "      <td>2</td>\n",
       "      <td>1</td>\n",
       "      <td>1</td>\n",
       "      <td>0</td>\n",
       "      <td>2</td>\n",
       "      <td>1</td>\n",
       "      <td>1</td>\n",
       "      <td>2</td>\n",
       "      <td>5</td>\n",
       "      <td>8</td>\n",
       "      <td>76</td>\n",
       "      <td>1</td>\n",
       "      <td>-1</td>\n",
       "      <td>0</td>\n",
       "      <td>3</td>\n",
       "      <td>0</td>\n",
       "    </tr>\n",
       "    <tr>\n",
       "      <th>3</th>\n",
       "      <td>47</td>\n",
       "      <td>1</td>\n",
       "      <td>1</td>\n",
       "      <td>3</td>\n",
       "      <td>0</td>\n",
       "      <td>1506</td>\n",
       "      <td>1</td>\n",
       "      <td>0</td>\n",
       "      <td>2</td>\n",
       "      <td>5</td>\n",
       "      <td>8</td>\n",
       "      <td>92</td>\n",
       "      <td>1</td>\n",
       "      <td>-1</td>\n",
       "      <td>0</td>\n",
       "      <td>3</td>\n",
       "      <td>0</td>\n",
       "    </tr>\n",
       "    <tr>\n",
       "      <th>4</th>\n",
       "      <td>33</td>\n",
       "      <td>11</td>\n",
       "      <td>2</td>\n",
       "      <td>3</td>\n",
       "      <td>0</td>\n",
       "      <td>1</td>\n",
       "      <td>0</td>\n",
       "      <td>0</td>\n",
       "      <td>2</td>\n",
       "      <td>5</td>\n",
       "      <td>8</td>\n",
       "      <td>198</td>\n",
       "      <td>1</td>\n",
       "      <td>-1</td>\n",
       "      <td>0</td>\n",
       "      <td>3</td>\n",
       "      <td>0</td>\n",
       "    </tr>\n",
       "    <tr>\n",
       "      <th>5</th>\n",
       "      <td>35</td>\n",
       "      <td>4</td>\n",
       "      <td>1</td>\n",
       "      <td>2</td>\n",
       "      <td>0</td>\n",
       "      <td>231</td>\n",
       "      <td>1</td>\n",
       "      <td>0</td>\n",
       "      <td>2</td>\n",
       "      <td>5</td>\n",
       "      <td>8</td>\n",
       "      <td>139</td>\n",
       "      <td>1</td>\n",
       "      <td>-1</td>\n",
       "      <td>0</td>\n",
       "      <td>3</td>\n",
       "      <td>0</td>\n",
       "    </tr>\n",
       "    <tr>\n",
       "      <th>6</th>\n",
       "      <td>28</td>\n",
       "      <td>4</td>\n",
       "      <td>2</td>\n",
       "      <td>2</td>\n",
       "      <td>0</td>\n",
       "      <td>447</td>\n",
       "      <td>1</td>\n",
       "      <td>1</td>\n",
       "      <td>2</td>\n",
       "      <td>5</td>\n",
       "      <td>8</td>\n",
       "      <td>217</td>\n",
       "      <td>1</td>\n",
       "      <td>-1</td>\n",
       "      <td>0</td>\n",
       "      <td>3</td>\n",
       "      <td>0</td>\n",
       "    </tr>\n",
       "    <tr>\n",
       "      <th>7</th>\n",
       "      <td>42</td>\n",
       "      <td>2</td>\n",
       "      <td>0</td>\n",
       "      <td>2</td>\n",
       "      <td>1</td>\n",
       "      <td>2</td>\n",
       "      <td>1</td>\n",
       "      <td>0</td>\n",
       "      <td>2</td>\n",
       "      <td>5</td>\n",
       "      <td>8</td>\n",
       "      <td>380</td>\n",
       "      <td>1</td>\n",
       "      <td>-1</td>\n",
       "      <td>0</td>\n",
       "      <td>3</td>\n",
       "      <td>0</td>\n",
       "    </tr>\n",
       "    <tr>\n",
       "      <th>8</th>\n",
       "      <td>58</td>\n",
       "      <td>5</td>\n",
       "      <td>1</td>\n",
       "      <td>0</td>\n",
       "      <td>0</td>\n",
       "      <td>121</td>\n",
       "      <td>1</td>\n",
       "      <td>0</td>\n",
       "      <td>2</td>\n",
       "      <td>5</td>\n",
       "      <td>8</td>\n",
       "      <td>50</td>\n",
       "      <td>1</td>\n",
       "      <td>-1</td>\n",
       "      <td>0</td>\n",
       "      <td>3</td>\n",
       "      <td>0</td>\n",
       "    </tr>\n",
       "    <tr>\n",
       "      <th>9</th>\n",
       "      <td>43</td>\n",
       "      <td>9</td>\n",
       "      <td>2</td>\n",
       "      <td>1</td>\n",
       "      <td>0</td>\n",
       "      <td>593</td>\n",
       "      <td>1</td>\n",
       "      <td>0</td>\n",
       "      <td>2</td>\n",
       "      <td>5</td>\n",
       "      <td>8</td>\n",
       "      <td>55</td>\n",
       "      <td>1</td>\n",
       "      <td>-1</td>\n",
       "      <td>0</td>\n",
       "      <td>3</td>\n",
       "      <td>0</td>\n",
       "    </tr>\n",
       "  </tbody>\n",
       "</table>\n",
       "</div>"
      ],
      "text/plain": [
       "   age  job  marital  education  default  balance  housing  loan  contact  \\\n",
       "0   58    4        1          2        0     2143        1     0        2   \n",
       "1   44    9        2          1        0       29        1     0        2   \n",
       "2   33    2        1          1        0        2        1     1        2   \n",
       "3   47    1        1          3        0     1506        1     0        2   \n",
       "4   33   11        2          3        0        1        0     0        2   \n",
       "5   35    4        1          2        0      231        1     0        2   \n",
       "6   28    4        2          2        0      447        1     1        2   \n",
       "7   42    2        0          2        1        2        1     0        2   \n",
       "8   58    5        1          0        0      121        1     0        2   \n",
       "9   43    9        2          1        0      593        1     0        2   \n",
       "\n",
       "   day  month  duration  campaign  pdays  previous  poutcome  Target  \n",
       "0    5      8       261         1     -1         0         3       0  \n",
       "1    5      8       151         1     -1         0         3       0  \n",
       "2    5      8        76         1     -1         0         3       0  \n",
       "3    5      8        92         1     -1         0         3       0  \n",
       "4    5      8       198         1     -1         0         3       0  \n",
       "5    5      8       139         1     -1         0         3       0  \n",
       "6    5      8       217         1     -1         0         3       0  \n",
       "7    5      8       380         1     -1         0         3       0  \n",
       "8    5      8        50         1     -1         0         3       0  \n",
       "9    5      8        55         1     -1         0         3       0  "
      ]
     },
     "execution_count": 228,
     "metadata": {},
     "output_type": "execute_result"
    }
   ],
   "source": [
    "for feature in df.columns: # Loop through all columns in the dataframe\n",
    "    if df[feature].dtype == 'object': # Only apply for columns with categorical strings\n",
    "        df[feature] = pd.Categorical(df[feature])\n",
    "        df[feature] = df[feature].cat.codes\n",
    "df.head(10)"
   ]
  },
  {
   "cell_type": "code",
   "execution_count": 229,
   "metadata": {
    "scrolled": false
   },
   "outputs": [],
   "source": [
    "df_save = df.copy()"
   ]
  },
  {
   "cell_type": "code",
   "execution_count": 230,
   "metadata": {
    "scrolled": false
   },
   "outputs": [],
   "source": [
    "df_cat=pd.get_dummies(df,columns=categorical_features)"
   ]
  },
  {
   "cell_type": "markdown",
   "metadata": {},
   "source": [
    "### Extract the y (dependent variable)"
   ]
  },
  {
   "cell_type": "code",
   "execution_count": 231,
   "metadata": {
    "scrolled": false
   },
   "outputs": [],
   "source": [
    "df = df_cat"
   ]
  },
  {
   "cell_type": "code",
   "execution_count": 232,
   "metadata": {
    "scrolled": false
   },
   "outputs": [
    {
     "data": {
      "text/plain": [
       "0        0\n",
       "1        0\n",
       "2        0\n",
       "3        0\n",
       "4        0\n",
       "        ..\n",
       "45206    1\n",
       "45207    1\n",
       "45208    1\n",
       "45209    0\n",
       "45210    0\n",
       "Name: Target, Length: 45211, dtype: int8"
      ]
     },
     "execution_count": 232,
     "metadata": {},
     "output_type": "execute_result"
    }
   ],
   "source": [
    "df['Target'] = pd.Categorical( df['Target'] )\n",
    "df['Target'] = df['Target'].cat.codes\n",
    "y = df['Target']\n",
    "y"
   ]
  },
  {
   "cell_type": "markdown",
   "metadata": {},
   "source": [
    "### Now we can start dropping the columns we do not need"
   ]
  },
  {
   "cell_type": "code",
   "execution_count": 233,
   "metadata": {
    "scrolled": false
   },
   "outputs": [],
   "source": [
    "# Drop ID field, that is just a unique identifier for every record\n",
    "# Drop ZIP Code field, now that we have extracted the information we need\n",
    "# Drop Personal Loan (y dependent variable)\n",
    "df.drop(['Target'],inplace=True,axis='columns')"
   ]
  },
  {
   "cell_type": "code",
   "execution_count": 234,
   "metadata": {
    "scrolled": false
   },
   "outputs": [
    {
     "data": {
      "text/html": [
       "<div>\n",
       "<style scoped>\n",
       "    .dataframe tbody tr th:only-of-type {\n",
       "        vertical-align: middle;\n",
       "    }\n",
       "\n",
       "    .dataframe tbody tr th {\n",
       "        vertical-align: top;\n",
       "    }\n",
       "\n",
       "    .dataframe thead th {\n",
       "        text-align: right;\n",
       "    }\n",
       "</style>\n",
       "<table border=\"1\" class=\"dataframe\">\n",
       "  <thead>\n",
       "    <tr style=\"text-align: right;\">\n",
       "      <th></th>\n",
       "      <th>age</th>\n",
       "      <th>balance</th>\n",
       "      <th>day</th>\n",
       "      <th>duration</th>\n",
       "      <th>campaign</th>\n",
       "      <th>pdays</th>\n",
       "      <th>previous</th>\n",
       "      <th>job_0</th>\n",
       "      <th>job_1</th>\n",
       "      <th>job_2</th>\n",
       "      <th>...</th>\n",
       "      <th>month_6</th>\n",
       "      <th>month_7</th>\n",
       "      <th>month_8</th>\n",
       "      <th>month_9</th>\n",
       "      <th>month_10</th>\n",
       "      <th>month_11</th>\n",
       "      <th>poutcome_0</th>\n",
       "      <th>poutcome_1</th>\n",
       "      <th>poutcome_2</th>\n",
       "      <th>poutcome_3</th>\n",
       "    </tr>\n",
       "  </thead>\n",
       "  <tbody>\n",
       "    <tr>\n",
       "      <th>0</th>\n",
       "      <td>58</td>\n",
       "      <td>2143</td>\n",
       "      <td>5</td>\n",
       "      <td>261</td>\n",
       "      <td>1</td>\n",
       "      <td>-1</td>\n",
       "      <td>0</td>\n",
       "      <td>0</td>\n",
       "      <td>0</td>\n",
       "      <td>0</td>\n",
       "      <td>...</td>\n",
       "      <td>0</td>\n",
       "      <td>0</td>\n",
       "      <td>1</td>\n",
       "      <td>0</td>\n",
       "      <td>0</td>\n",
       "      <td>0</td>\n",
       "      <td>0</td>\n",
       "      <td>0</td>\n",
       "      <td>0</td>\n",
       "      <td>1</td>\n",
       "    </tr>\n",
       "    <tr>\n",
       "      <th>1</th>\n",
       "      <td>44</td>\n",
       "      <td>29</td>\n",
       "      <td>5</td>\n",
       "      <td>151</td>\n",
       "      <td>1</td>\n",
       "      <td>-1</td>\n",
       "      <td>0</td>\n",
       "      <td>0</td>\n",
       "      <td>0</td>\n",
       "      <td>0</td>\n",
       "      <td>...</td>\n",
       "      <td>0</td>\n",
       "      <td>0</td>\n",
       "      <td>1</td>\n",
       "      <td>0</td>\n",
       "      <td>0</td>\n",
       "      <td>0</td>\n",
       "      <td>0</td>\n",
       "      <td>0</td>\n",
       "      <td>0</td>\n",
       "      <td>1</td>\n",
       "    </tr>\n",
       "    <tr>\n",
       "      <th>2</th>\n",
       "      <td>33</td>\n",
       "      <td>2</td>\n",
       "      <td>5</td>\n",
       "      <td>76</td>\n",
       "      <td>1</td>\n",
       "      <td>-1</td>\n",
       "      <td>0</td>\n",
       "      <td>0</td>\n",
       "      <td>0</td>\n",
       "      <td>1</td>\n",
       "      <td>...</td>\n",
       "      <td>0</td>\n",
       "      <td>0</td>\n",
       "      <td>1</td>\n",
       "      <td>0</td>\n",
       "      <td>0</td>\n",
       "      <td>0</td>\n",
       "      <td>0</td>\n",
       "      <td>0</td>\n",
       "      <td>0</td>\n",
       "      <td>1</td>\n",
       "    </tr>\n",
       "    <tr>\n",
       "      <th>3</th>\n",
       "      <td>47</td>\n",
       "      <td>1506</td>\n",
       "      <td>5</td>\n",
       "      <td>92</td>\n",
       "      <td>1</td>\n",
       "      <td>-1</td>\n",
       "      <td>0</td>\n",
       "      <td>0</td>\n",
       "      <td>1</td>\n",
       "      <td>0</td>\n",
       "      <td>...</td>\n",
       "      <td>0</td>\n",
       "      <td>0</td>\n",
       "      <td>1</td>\n",
       "      <td>0</td>\n",
       "      <td>0</td>\n",
       "      <td>0</td>\n",
       "      <td>0</td>\n",
       "      <td>0</td>\n",
       "      <td>0</td>\n",
       "      <td>1</td>\n",
       "    </tr>\n",
       "    <tr>\n",
       "      <th>4</th>\n",
       "      <td>33</td>\n",
       "      <td>1</td>\n",
       "      <td>5</td>\n",
       "      <td>198</td>\n",
       "      <td>1</td>\n",
       "      <td>-1</td>\n",
       "      <td>0</td>\n",
       "      <td>0</td>\n",
       "      <td>0</td>\n",
       "      <td>0</td>\n",
       "      <td>...</td>\n",
       "      <td>0</td>\n",
       "      <td>0</td>\n",
       "      <td>1</td>\n",
       "      <td>0</td>\n",
       "      <td>0</td>\n",
       "      <td>0</td>\n",
       "      <td>0</td>\n",
       "      <td>0</td>\n",
       "      <td>0</td>\n",
       "      <td>1</td>\n",
       "    </tr>\n",
       "  </tbody>\n",
       "</table>\n",
       "<p>5 rows × 51 columns</p>\n",
       "</div>"
      ],
      "text/plain": [
       "   age  balance  day  duration  campaign  pdays  previous  job_0  job_1  \\\n",
       "0   58     2143    5       261         1     -1         0      0      0   \n",
       "1   44       29    5       151         1     -1         0      0      0   \n",
       "2   33        2    5        76         1     -1         0      0      0   \n",
       "3   47     1506    5        92         1     -1         0      0      1   \n",
       "4   33        1    5       198         1     -1         0      0      0   \n",
       "\n",
       "   job_2  ...  month_6  month_7  month_8  month_9  month_10  month_11  \\\n",
       "0      0  ...        0        0        1        0         0         0   \n",
       "1      0  ...        0        0        1        0         0         0   \n",
       "2      1  ...        0        0        1        0         0         0   \n",
       "3      0  ...        0        0        1        0         0         0   \n",
       "4      0  ...        0        0        1        0         0         0   \n",
       "\n",
       "   poutcome_0  poutcome_1  poutcome_2  poutcome_3  \n",
       "0           0           0           0           1  \n",
       "1           0           0           0           1  \n",
       "2           0           0           0           1  \n",
       "3           0           0           0           1  \n",
       "4           0           0           0           1  \n",
       "\n",
       "[5 rows x 51 columns]"
      ]
     },
     "execution_count": 234,
     "metadata": {},
     "output_type": "execute_result"
    }
   ],
   "source": [
    "df.head()"
   ]
  },
  {
   "cell_type": "code",
   "execution_count": 235,
   "metadata": {
    "scrolled": false
   },
   "outputs": [
    {
     "data": {
      "text/html": [
       "<div>\n",
       "<style scoped>\n",
       "    .dataframe tbody tr th:only-of-type {\n",
       "        vertical-align: middle;\n",
       "    }\n",
       "\n",
       "    .dataframe tbody tr th {\n",
       "        vertical-align: top;\n",
       "    }\n",
       "\n",
       "    .dataframe thead th {\n",
       "        text-align: right;\n",
       "    }\n",
       "</style>\n",
       "<table border=\"1\" class=\"dataframe\">\n",
       "  <thead>\n",
       "    <tr style=\"text-align: right;\">\n",
       "      <th></th>\n",
       "      <th>age</th>\n",
       "      <th>balance</th>\n",
       "      <th>day</th>\n",
       "      <th>duration</th>\n",
       "      <th>campaign</th>\n",
       "      <th>pdays</th>\n",
       "      <th>previous</th>\n",
       "      <th>job_0</th>\n",
       "      <th>job_1</th>\n",
       "      <th>job_2</th>\n",
       "      <th>...</th>\n",
       "      <th>month_6</th>\n",
       "      <th>month_7</th>\n",
       "      <th>month_8</th>\n",
       "      <th>month_9</th>\n",
       "      <th>month_10</th>\n",
       "      <th>month_11</th>\n",
       "      <th>poutcome_0</th>\n",
       "      <th>poutcome_1</th>\n",
       "      <th>poutcome_2</th>\n",
       "      <th>poutcome_3</th>\n",
       "    </tr>\n",
       "  </thead>\n",
       "  <tbody>\n",
       "    <tr>\n",
       "      <th>count</th>\n",
       "      <td>45211.00</td>\n",
       "      <td>45211.00</td>\n",
       "      <td>45211.00</td>\n",
       "      <td>45211.00</td>\n",
       "      <td>45211.00</td>\n",
       "      <td>45211.00</td>\n",
       "      <td>45211.00</td>\n",
       "      <td>45211.00</td>\n",
       "      <td>45211.00</td>\n",
       "      <td>45211.00</td>\n",
       "      <td>...</td>\n",
       "      <td>45211.00</td>\n",
       "      <td>45211.00</td>\n",
       "      <td>45211.00</td>\n",
       "      <td>45211.00</td>\n",
       "      <td>45211.00</td>\n",
       "      <td>45211.00</td>\n",
       "      <td>45211.00</td>\n",
       "      <td>45211.00</td>\n",
       "      <td>45211.00</td>\n",
       "      <td>45211.00</td>\n",
       "    </tr>\n",
       "    <tr>\n",
       "      <th>mean</th>\n",
       "      <td>40.94</td>\n",
       "      <td>1362.27</td>\n",
       "      <td>15.81</td>\n",
       "      <td>258.16</td>\n",
       "      <td>2.76</td>\n",
       "      <td>40.20</td>\n",
       "      <td>0.58</td>\n",
       "      <td>0.11</td>\n",
       "      <td>0.22</td>\n",
       "      <td>0.03</td>\n",
       "      <td>...</td>\n",
       "      <td>0.12</td>\n",
       "      <td>0.01</td>\n",
       "      <td>0.30</td>\n",
       "      <td>0.09</td>\n",
       "      <td>0.02</td>\n",
       "      <td>0.01</td>\n",
       "      <td>0.11</td>\n",
       "      <td>0.04</td>\n",
       "      <td>0.03</td>\n",
       "      <td>0.82</td>\n",
       "    </tr>\n",
       "    <tr>\n",
       "      <th>std</th>\n",
       "      <td>10.62</td>\n",
       "      <td>3044.77</td>\n",
       "      <td>8.32</td>\n",
       "      <td>257.53</td>\n",
       "      <td>3.10</td>\n",
       "      <td>100.13</td>\n",
       "      <td>2.30</td>\n",
       "      <td>0.32</td>\n",
       "      <td>0.41</td>\n",
       "      <td>0.18</td>\n",
       "      <td>...</td>\n",
       "      <td>0.32</td>\n",
       "      <td>0.10</td>\n",
       "      <td>0.46</td>\n",
       "      <td>0.28</td>\n",
       "      <td>0.13</td>\n",
       "      <td>0.11</td>\n",
       "      <td>0.31</td>\n",
       "      <td>0.20</td>\n",
       "      <td>0.18</td>\n",
       "      <td>0.39</td>\n",
       "    </tr>\n",
       "    <tr>\n",
       "      <th>min</th>\n",
       "      <td>18.00</td>\n",
       "      <td>-8019.00</td>\n",
       "      <td>1.00</td>\n",
       "      <td>0.00</td>\n",
       "      <td>1.00</td>\n",
       "      <td>-1.00</td>\n",
       "      <td>0.00</td>\n",
       "      <td>0.00</td>\n",
       "      <td>0.00</td>\n",
       "      <td>0.00</td>\n",
       "      <td>...</td>\n",
       "      <td>0.00</td>\n",
       "      <td>0.00</td>\n",
       "      <td>0.00</td>\n",
       "      <td>0.00</td>\n",
       "      <td>0.00</td>\n",
       "      <td>0.00</td>\n",
       "      <td>0.00</td>\n",
       "      <td>0.00</td>\n",
       "      <td>0.00</td>\n",
       "      <td>0.00</td>\n",
       "    </tr>\n",
       "    <tr>\n",
       "      <th>25%</th>\n",
       "      <td>33.00</td>\n",
       "      <td>72.00</td>\n",
       "      <td>8.00</td>\n",
       "      <td>103.00</td>\n",
       "      <td>1.00</td>\n",
       "      <td>-1.00</td>\n",
       "      <td>0.00</td>\n",
       "      <td>0.00</td>\n",
       "      <td>0.00</td>\n",
       "      <td>0.00</td>\n",
       "      <td>...</td>\n",
       "      <td>0.00</td>\n",
       "      <td>0.00</td>\n",
       "      <td>0.00</td>\n",
       "      <td>0.00</td>\n",
       "      <td>0.00</td>\n",
       "      <td>0.00</td>\n",
       "      <td>0.00</td>\n",
       "      <td>0.00</td>\n",
       "      <td>0.00</td>\n",
       "      <td>1.00</td>\n",
       "    </tr>\n",
       "    <tr>\n",
       "      <th>50%</th>\n",
       "      <td>39.00</td>\n",
       "      <td>448.00</td>\n",
       "      <td>16.00</td>\n",
       "      <td>180.00</td>\n",
       "      <td>2.00</td>\n",
       "      <td>-1.00</td>\n",
       "      <td>0.00</td>\n",
       "      <td>0.00</td>\n",
       "      <td>0.00</td>\n",
       "      <td>0.00</td>\n",
       "      <td>...</td>\n",
       "      <td>0.00</td>\n",
       "      <td>0.00</td>\n",
       "      <td>0.00</td>\n",
       "      <td>0.00</td>\n",
       "      <td>0.00</td>\n",
       "      <td>0.00</td>\n",
       "      <td>0.00</td>\n",
       "      <td>0.00</td>\n",
       "      <td>0.00</td>\n",
       "      <td>1.00</td>\n",
       "    </tr>\n",
       "    <tr>\n",
       "      <th>75%</th>\n",
       "      <td>48.00</td>\n",
       "      <td>1428.00</td>\n",
       "      <td>21.00</td>\n",
       "      <td>319.00</td>\n",
       "      <td>3.00</td>\n",
       "      <td>-1.00</td>\n",
       "      <td>0.00</td>\n",
       "      <td>0.00</td>\n",
       "      <td>0.00</td>\n",
       "      <td>0.00</td>\n",
       "      <td>...</td>\n",
       "      <td>0.00</td>\n",
       "      <td>0.00</td>\n",
       "      <td>1.00</td>\n",
       "      <td>0.00</td>\n",
       "      <td>0.00</td>\n",
       "      <td>0.00</td>\n",
       "      <td>0.00</td>\n",
       "      <td>0.00</td>\n",
       "      <td>0.00</td>\n",
       "      <td>1.00</td>\n",
       "    </tr>\n",
       "    <tr>\n",
       "      <th>max</th>\n",
       "      <td>95.00</td>\n",
       "      <td>102127.00</td>\n",
       "      <td>31.00</td>\n",
       "      <td>4918.00</td>\n",
       "      <td>63.00</td>\n",
       "      <td>871.00</td>\n",
       "      <td>275.00</td>\n",
       "      <td>1.00</td>\n",
       "      <td>1.00</td>\n",
       "      <td>1.00</td>\n",
       "      <td>...</td>\n",
       "      <td>1.00</td>\n",
       "      <td>1.00</td>\n",
       "      <td>1.00</td>\n",
       "      <td>1.00</td>\n",
       "      <td>1.00</td>\n",
       "      <td>1.00</td>\n",
       "      <td>1.00</td>\n",
       "      <td>1.00</td>\n",
       "      <td>1.00</td>\n",
       "      <td>1.00</td>\n",
       "    </tr>\n",
       "  </tbody>\n",
       "</table>\n",
       "<p>8 rows × 51 columns</p>\n",
       "</div>"
      ],
      "text/plain": [
       "           age   balance      day  duration  campaign    pdays  previous  \\\n",
       "count 45211.00  45211.00 45211.00  45211.00  45211.00 45211.00  45211.00   \n",
       "mean     40.94   1362.27    15.81    258.16      2.76    40.20      0.58   \n",
       "std      10.62   3044.77     8.32    257.53      3.10   100.13      2.30   \n",
       "min      18.00  -8019.00     1.00      0.00      1.00    -1.00      0.00   \n",
       "25%      33.00     72.00     8.00    103.00      1.00    -1.00      0.00   \n",
       "50%      39.00    448.00    16.00    180.00      2.00    -1.00      0.00   \n",
       "75%      48.00   1428.00    21.00    319.00      3.00    -1.00      0.00   \n",
       "max      95.00 102127.00    31.00   4918.00     63.00   871.00    275.00   \n",
       "\n",
       "         job_0    job_1    job_2  ...  month_6  month_7  month_8  month_9  \\\n",
       "count 45211.00 45211.00 45211.00  ... 45211.00 45211.00 45211.00 45211.00   \n",
       "mean      0.11     0.22     0.03  ...     0.12     0.01     0.30     0.09   \n",
       "std       0.32     0.41     0.18  ...     0.32     0.10     0.46     0.28   \n",
       "min       0.00     0.00     0.00  ...     0.00     0.00     0.00     0.00   \n",
       "25%       0.00     0.00     0.00  ...     0.00     0.00     0.00     0.00   \n",
       "50%       0.00     0.00     0.00  ...     0.00     0.00     0.00     0.00   \n",
       "75%       0.00     0.00     0.00  ...     0.00     0.00     1.00     0.00   \n",
       "max       1.00     1.00     1.00  ...     1.00     1.00     1.00     1.00   \n",
       "\n",
       "       month_10  month_11  poutcome_0  poutcome_1  poutcome_2  poutcome_3  \n",
       "count  45211.00  45211.00    45211.00    45211.00    45211.00    45211.00  \n",
       "mean       0.02      0.01        0.11        0.04        0.03        0.82  \n",
       "std        0.13      0.11        0.31        0.20        0.18        0.39  \n",
       "min        0.00      0.00        0.00        0.00        0.00        0.00  \n",
       "25%        0.00      0.00        0.00        0.00        0.00        1.00  \n",
       "50%        0.00      0.00        0.00        0.00        0.00        1.00  \n",
       "75%        0.00      0.00        0.00        0.00        0.00        1.00  \n",
       "max        1.00      1.00        1.00        1.00        1.00        1.00  \n",
       "\n",
       "[8 rows x 51 columns]"
      ]
     },
     "execution_count": 235,
     "metadata": {},
     "output_type": "execute_result"
    }
   ],
   "source": [
    "df.describe()"
   ]
  },
  {
   "cell_type": "code",
   "execution_count": 236,
   "metadata": {
    "scrolled": false
   },
   "outputs": [],
   "source": [
    "X = df"
   ]
  },
  {
   "cell_type": "markdown",
   "metadata": {},
   "source": [
    "**This completes the Data model preparation**"
   ]
  },
  {
   "cell_type": "markdown",
   "metadata": {},
   "source": [
    "## Step 3. Split the data into training and test set in the ratio of 70:30 respectively (**5** marks)"
   ]
  },
  {
   "cell_type": "code",
   "execution_count": 237,
   "metadata": {
    "scrolled": false
   },
   "outputs": [],
   "source": [
    "# Imports for all models\n",
    "from sklearn.metrics import confusion_matrix, recall_score, precision_score, f1_score, roc_auc_score,accuracy_score\n",
    "from sklearn.linear_model import LogisticRegression\n",
    "from sklearn.tree import DecisionTreeClassifier\n",
    "from sklearn.ensemble import RandomForestClassifier, AdaBoostClassifier,BaggingClassifier,GradientBoostingRegressor\n",
    "from sklearn.pipeline import make_pipeline\n",
    "from sklearn.preprocessing import StandardScaler,MinMaxScaler\n",
    "from sklearn.dummy import DummyClassifier"
   ]
  },
  {
   "cell_type": "code",
   "execution_count": 238,
   "metadata": {},
   "outputs": [],
   "source": [
    "scaler = StandardScaler()"
   ]
  },
  {
   "cell_type": "code",
   "execution_count": 239,
   "metadata": {},
   "outputs": [],
   "source": [
    "data_scaled = scaler.fit_transform(X)"
   ]
  },
  {
   "cell_type": "code",
   "execution_count": 240,
   "metadata": {},
   "outputs": [],
   "source": [
    "X_scaled = pd.DataFrame( data_scaled, columns=df.columns)"
   ]
  },
  {
   "cell_type": "code",
   "execution_count": 241,
   "metadata": {},
   "outputs": [],
   "source": [
    "from sklearn.model_selection import train_test_split\n",
    "X_train,X_test,y_train,y_test = train_test_split(X_scaled,y,test_size=0.3,random_state=0)"
   ]
  },
  {
   "cell_type": "code",
   "execution_count": 242,
   "metadata": {},
   "outputs": [
    {
     "name": "stdout",
     "output_type": "stream",
     "text": [
      "Warning: Maximum number of iterations has been exceeded.\n",
      "         Current function value: 0.234635\n",
      "         Iterations: 35\n",
      "                           Logit Regression Results                           \n",
      "==============================================================================\n",
      "Dep. Variable:                 Target   No. Observations:                31647\n",
      "Model:                          Logit   Df Residuals:                    31604\n",
      "Method:                           MLE   Df Model:                           42\n",
      "Date:                Thu, 28 Jan 2021   Pseudo R-squ.:                  0.3489\n",
      "Time:                        12:15:44   Log-Likelihood:                -7425.5\n",
      "converged:                      False   LL-Null:                       -11404.\n",
      "Covariance Type:            nonrobust   LLR p-value:                     0.000\n",
      "===============================================================================\n",
      "                  coef    std err          z      P>|z|      [0.025      0.975]\n",
      "-------------------------------------------------------------------------------\n",
      "const          -2.8718      0.031    -92.509      0.000      -2.933      -2.811\n",
      "age            -0.0012      0.028     -0.043      0.966      -0.057       0.054\n",
      "balance         0.0490      0.018      2.710      0.007       0.014       0.084\n",
      "day             0.0730      0.025      2.903      0.004       0.024       0.122\n",
      "duration        1.1134      0.020     54.930      0.000       1.074       1.153\n",
      "campaign       -0.2723      0.038     -7.157      0.000      -0.347      -0.198\n",
      "pdays          -0.0328      0.038     -0.870      0.384      -0.107       0.041\n",
      "previous        0.0188      0.015      1.272      0.203      -0.010       0.048\n",
      "job_0           0.0518   5.95e+05   8.72e-08      1.000   -1.17e+06    1.17e+06\n",
      "job_1          -0.0348   7.89e+05  -4.41e-08      1.000   -1.55e+06    1.55e+06\n",
      "job_2          -0.0442    3.5e+05  -1.26e-07      1.000   -6.85e+05    6.85e+05\n",
      "job_3          -0.0764   3.18e+05   -2.4e-07      1.000   -6.24e+05    6.24e+05\n",
      "job_4          -0.0165   8.08e+05  -2.04e-08      1.000   -1.58e+06    1.58e+06\n",
      "job_5           0.0923   4.29e+05   2.15e-07      1.000   -8.41e+05    8.41e+05\n",
      "job_6          -0.0072   3.44e+05  -2.09e-08      1.000   -6.75e+05    6.75e+05\n",
      "job_7          -0.0177   4.73e+05  -3.73e-08      1.000   -9.28e+05    9.28e+05\n",
      "job_8           0.0606   2.82e+05   2.15e-07      1.000   -5.52e+05    5.52e+05\n",
      "job_9          -0.0001   7.01e+05  -1.97e-10      1.000   -1.37e+06    1.37e+06\n",
      "job_10          0.0204   3.08e+05   6.64e-08      1.000   -6.03e+05    6.03e+05\n",
      "job_11         -0.0106   1.46e+05  -7.27e-08      1.000   -2.85e+05    2.85e+05\n",
      "marital_0       0.0288   6.14e+05    4.7e-08      1.000    -1.2e+06     1.2e+06\n",
      "marital_1      -0.0761   9.24e+05  -8.24e-08      1.000   -1.81e+06    1.81e+06\n",
      "marital_2       0.0623   8.52e+05   7.31e-08      1.000   -1.67e+06    1.67e+06\n",
      "education_0    -0.0716   9.06e+05  -7.91e-08      1.000   -1.78e+06    1.78e+06\n",
      "education_1    -0.0123    4.4e+05   -2.8e-08      1.000   -8.62e+05    8.62e+05\n",
      "education_2     0.0705        nan        nan        nan         nan         nan\n",
      "education_3    -0.0015        nan        nan        nan         nan         nan\n",
      "default_0       0.0029        nan        nan        nan         nan         nan\n",
      "default_1      -0.0029        nan        nan        nan         nan         nan\n",
      "housing_0       0.1734        nan        nan        nan         nan         nan\n",
      "housing_1      -0.1734        nan        nan        nan         nan         nan\n",
      "loan_0          0.0849   5.84e+05   1.45e-07      1.000   -1.15e+06    1.15e+06\n",
      "loan_1         -0.0849   5.33e+05  -1.59e-07      1.000   -1.05e+06    1.05e+06\n",
      "contact_0       0.3561        nan        nan        nan         nan         nan\n",
      "contact_1       0.1261        nan        nan        nan         nan         nan\n",
      "contact_2      -0.4440        nan        nan        nan         nan         nan\n",
      "month_0         0.0780        nan        nan        nan         nan         nan\n",
      "month_1        -0.1225        nan        nan        nan         nan         nan\n",
      "month_2         0.0726        nan        nan        nan         nan         nan\n",
      "month_3         0.0402        nan        nan        nan         nan         nan\n",
      "month_4        -0.1358        nan        nan        nan         nan         nan\n",
      "month_5        -0.1759        nan        nan        nan         nan         nan\n",
      "month_6         0.2553        nan        nan        nan         nan         nan\n",
      "month_7         0.2023        nan        nan        nan         nan         nan\n",
      "month_8        -0.0100        nan        nan        nan         nan         nan\n",
      "month_9        -0.1424        nan        nan        nan         nan         nan\n",
      "month_10        0.1550        nan        nan        nan         nan         nan\n",
      "month_11        0.1564        nan        nan        nan         nan         nan\n",
      "poutcome_0     -0.0591   4.42e+05  -1.34e-07      1.000   -8.67e+05    8.67e+05\n",
      "poutcome_1     -0.0152   2.81e+05  -5.39e-08      1.000   -5.51e+05    5.51e+05\n",
      "poutcome_2      0.3824   2.56e+05    1.5e-06      1.000   -5.01e+05    5.01e+05\n",
      "poutcome_3     -0.1227    5.5e+05  -2.23e-07      1.000   -1.08e+06    1.08e+06\n",
      "===============================================================================\n"
     ]
    },
    {
     "name": "stderr",
     "output_type": "stream",
     "text": [
      "/Users/vsananda/opt/anaconda3/lib/python3.8/site-packages/statsmodels/base/model.py:566: ConvergenceWarning: Maximum Likelihood optimization failed to converge. Check mle_retvals\n",
      "  warnings.warn(\"Maximum Likelihood optimization failed to \"\n"
     ]
    },
    {
     "data": {
      "text/html": [
       "<div>\n",
       "<style scoped>\n",
       "    .dataframe tbody tr th:only-of-type {\n",
       "        vertical-align: middle;\n",
       "    }\n",
       "\n",
       "    .dataframe tbody tr th {\n",
       "        vertical-align: top;\n",
       "    }\n",
       "\n",
       "    .dataframe thead th {\n",
       "        text-align: right;\n",
       "    }\n",
       "</style>\n",
       "<table border=\"1\" class=\"dataframe\">\n",
       "  <thead>\n",
       "    <tr style=\"text-align: right;\">\n",
       "      <th></th>\n",
       "      <th>coef</th>\n",
       "      <th>Odds_ratio</th>\n",
       "      <th>probability</th>\n",
       "      <th>pval</th>\n",
       "    </tr>\n",
       "  </thead>\n",
       "  <tbody>\n",
       "    <tr>\n",
       "      <th>duration</th>\n",
       "      <td>1.11</td>\n",
       "      <td>3.04</td>\n",
       "      <td>0.75</td>\n",
       "      <td>0.00</td>\n",
       "    </tr>\n",
       "    <tr>\n",
       "      <th>day</th>\n",
       "      <td>0.07</td>\n",
       "      <td>1.08</td>\n",
       "      <td>0.52</td>\n",
       "      <td>0.00</td>\n",
       "    </tr>\n",
       "    <tr>\n",
       "      <th>balance</th>\n",
       "      <td>0.05</td>\n",
       "      <td>1.05</td>\n",
       "      <td>0.51</td>\n",
       "      <td>0.01</td>\n",
       "    </tr>\n",
       "    <tr>\n",
       "      <th>campaign</th>\n",
       "      <td>-0.27</td>\n",
       "      <td>0.76</td>\n",
       "      <td>0.43</td>\n",
       "      <td>0.00</td>\n",
       "    </tr>\n",
       "    <tr>\n",
       "      <th>const</th>\n",
       "      <td>-2.87</td>\n",
       "      <td>0.06</td>\n",
       "      <td>0.05</td>\n",
       "      <td>0.00</td>\n",
       "    </tr>\n",
       "  </tbody>\n",
       "</table>\n",
       "</div>"
      ],
      "text/plain": [
       "          coef  Odds_ratio  probability  pval\n",
       "duration  1.11        3.04         0.75  0.00\n",
       "day       0.07        1.08         0.52  0.00\n",
       "balance   0.05        1.05         0.51  0.01\n",
       "campaign -0.27        0.76         0.43  0.00\n",
       "const    -2.87        0.06         0.05  0.00"
      ]
     },
     "execution_count": 242,
     "metadata": {},
     "output_type": "execute_result"
    }
   ],
   "source": [
    "import statsmodels.api as sm\n",
    "from scipy import stats\n",
    "\n",
    "\n",
    "logit = sm.Logit(y_train, sm.add_constant(X_train))\n",
    "lg = logit.fit()\n",
    "\n",
    "stats.chisqprob = lambda chisq, df:stats.chi2.sf(chisq, df)\n",
    "print(lg.summary())\n",
    "\n",
    "lgcoef = pd.DataFrame(lg.params, columns=['coef'])\n",
    "lgcoef.loc[:, \"Odds_ratio\"] = np.exp(lgcoef.coef)\n",
    "lgcoef['probability'] = lgcoef['Odds_ratio']/(1+lgcoef['Odds_ratio'])\n",
    "lgcoef['pval']= lg.pvalues\n",
    "pd.options.display.float_format = '{:.2f}'.format\n",
    "lgcoef = lgcoef.sort_values(by = \"Odds_ratio\", ascending =False)\n",
    "pval_filter = lgcoef['pval']<=0.1\n",
    "lgcoef[pval_filter]"
   ]
  },
  {
   "cell_type": "code",
   "execution_count": 243,
   "metadata": {
    "scrolled": false
   },
   "outputs": [],
   "source": [
    "## function to get confusion matrix in a proper format\n",
    "def draw_cm( actual, predicted ):\n",
    "    cm = confusion_matrix( actual, predicted)\n",
    "    plt.figure(figsize=(15, 10))\n",
    "    sns.heatmap(cm, annot=True,  fmt='.2f', xticklabels = [0,1] , yticklabels = [0,1] )\n",
    "    plt.ylabel('Actual')\n",
    "    plt.xlabel('Predicted')\n",
    "    plt.show()"
   ]
  },
  {
   "cell_type": "code",
   "execution_count": 244,
   "metadata": {
    "scrolled": false
   },
   "outputs": [],
   "source": [
    "def all_scores(models,X_train,y_train,X_test,y_test,threshold=0.5):\n",
    "\n",
    "    data = { 'Training-Accuracy':[],'Testing-Accuracy':[],\n",
    "            'Recall':[],'Precision':[],'F1-Score':[], 'Roc-Auc-Score':[]}\n",
    "    #data = { 'Training-Accuracy':[],'Testing-Accuracy':[],\n",
    "     #       'Recall':[],'F1-Score':[], 'Roc-Auc-Score':[]}\n",
    "    index_names = []\n",
    "    \n",
    "    test_vs_pred = {}\n",
    "    \n",
    "    for name,model in models.items():\n",
    "        \n",
    "        #pipe = make_pipeline(MinMaxScaler(), model )\n",
    "        pipe = make_pipeline(StandardScaler(), model )\n",
    "\n",
    "        pipe.fit( X_train, y_train)\n",
    "        #y_pred = pipe.predict(X_test)\n",
    "        y_pred = np.where(pipe.predict_proba(X_test)[:,1] > threshold ,1, 0)\n",
    "        \n",
    "        index_names.append(name)\n",
    "        \n",
    "        test_vs_pred[name] = [ y_test, y_pred ]\n",
    "        \n",
    "        data['Training-Accuracy'].append(pipe.score(X_train,y_train) )\n",
    "        data['Testing-Accuracy'].append(pipe.score(X_test,y_test) )\n",
    "        \n",
    "        data['Recall'].append(recall_score(y_test,y_pred) )\n",
    "        data['Precision'].append(precision_score(y_test,y_pred) )\n",
    "        data['F1-Score'].append(f1_score(y_test,y_pred) )\n",
    "        data['Roc-Auc-Score'].append(roc_auc_score(y_test,y_pred) )\n",
    "    \n",
    "    return pd.DataFrame(data,index=index_names), test_vs_pred"
   ]
  },
  {
   "cell_type": "code",
   "execution_count": 245,
   "metadata": {
    "scrolled": false
   },
   "outputs": [],
   "source": [
    "models = {}\n",
    "models['DecisionTree'] = DecisionTreeClassifier(criterion = 'entropy' ,random_state=7)\n",
    "models['RandomForest'] = RandomForestClassifier(criterion = 'entropy', random_state=7, class_weight={0:.5,1:.5}, max_depth = 5, min_samples_leaf=5)\n",
    "models['AdaBoost'] = AdaBoostClassifier( n_estimators= 20, random_state=7)\n",
    "models['Bagging'] = BaggingClassifier(n_estimators=10, max_samples= .7, bootstrap=True, random_state=7)\n",
    "models['LogisticRegression'] =  LogisticRegression(random_state=7)\n",
    "#models['DummyClassifier'] = DummyClassifier(strategy='constant',constant=0)\n",
    "#models['GradientBoost'] = GradientBoostingRegressor()"
   ]
  },
  {
   "cell_type": "code",
   "execution_count": 248,
   "metadata": {
    "scrolled": false
   },
   "outputs": [
    {
     "data": {
      "text/html": [
       "<div>\n",
       "<style scoped>\n",
       "    .dataframe tbody tr th:only-of-type {\n",
       "        vertical-align: middle;\n",
       "    }\n",
       "\n",
       "    .dataframe tbody tr th {\n",
       "        vertical-align: top;\n",
       "    }\n",
       "\n",
       "    .dataframe thead th {\n",
       "        text-align: right;\n",
       "    }\n",
       "</style>\n",
       "<table border=\"1\" class=\"dataframe\">\n",
       "  <thead>\n",
       "    <tr style=\"text-align: right;\">\n",
       "      <th></th>\n",
       "      <th>Training-Accuracy</th>\n",
       "      <th>Testing-Accuracy</th>\n",
       "      <th>Recall</th>\n",
       "      <th>Precision</th>\n",
       "      <th>F1-Score</th>\n",
       "      <th>Roc-Auc-Score</th>\n",
       "    </tr>\n",
       "  </thead>\n",
       "  <tbody>\n",
       "    <tr>\n",
       "      <th>DecisionTree</th>\n",
       "      <td>1.00</td>\n",
       "      <td>0.88</td>\n",
       "      <td>0.48</td>\n",
       "      <td>0.47</td>\n",
       "      <td>0.48</td>\n",
       "      <td>0.70</td>\n",
       "    </tr>\n",
       "    <tr>\n",
       "      <th>RandomForest</th>\n",
       "      <td>0.90</td>\n",
       "      <td>0.89</td>\n",
       "      <td>0.35</td>\n",
       "      <td>0.60</td>\n",
       "      <td>0.44</td>\n",
       "      <td>0.66</td>\n",
       "    </tr>\n",
       "    <tr>\n",
       "      <th>AdaBoost</th>\n",
       "      <td>0.90</td>\n",
       "      <td>0.89</td>\n",
       "      <td>1.00</td>\n",
       "      <td>0.12</td>\n",
       "      <td>0.21</td>\n",
       "      <td>0.50</td>\n",
       "    </tr>\n",
       "    <tr>\n",
       "      <th>Bagging</th>\n",
       "      <td>0.98</td>\n",
       "      <td>0.90</td>\n",
       "      <td>0.67</td>\n",
       "      <td>0.53</td>\n",
       "      <td>0.59</td>\n",
       "      <td>0.80</td>\n",
       "    </tr>\n",
       "    <tr>\n",
       "      <th>LogisticRegression</th>\n",
       "      <td>0.90</td>\n",
       "      <td>0.90</td>\n",
       "      <td>0.54</td>\n",
       "      <td>0.55</td>\n",
       "      <td>0.54</td>\n",
       "      <td>0.74</td>\n",
       "    </tr>\n",
       "  </tbody>\n",
       "</table>\n",
       "</div>"
      ],
      "text/plain": [
       "                    Training-Accuracy  Testing-Accuracy  Recall  Precision  \\\n",
       "DecisionTree                     1.00              0.88    0.48       0.47   \n",
       "RandomForest                     0.90              0.89    0.35       0.60   \n",
       "AdaBoost                         0.90              0.89    1.00       0.12   \n",
       "Bagging                          0.98              0.90    0.67       0.53   \n",
       "LogisticRegression               0.90              0.90    0.54       0.55   \n",
       "\n",
       "                    F1-Score  Roc-Auc-Score  \n",
       "DecisionTree            0.48           0.70  \n",
       "RandomForest            0.44           0.66  \n",
       "AdaBoost                0.21           0.50  \n",
       "Bagging                 0.59           0.80  \n",
       "LogisticRegression      0.54           0.74  "
      ]
     },
     "execution_count": 248,
     "metadata": {},
     "output_type": "execute_result"
    }
   ],
   "source": [
    "results_df , test_vs_pred = all_scores(models,X_train,y_train,X_test,y_test,threshold=0.3)\n",
    "results_df"
   ]
  },
  {
   "cell_type": "code",
   "execution_count": 380,
   "metadata": {
    "scrolled": false
   },
   "outputs": [
    {
     "data": {
      "text/plain": [
       "Index(['age', 'job', 'marital', 'education', 'default', 'balance', 'housing',\n",
       "       'loan', 'contact', 'day', 'month', 'duration', 'campaign', 'pdays',\n",
       "       'poutcome'],\n",
       "      dtype='object')"
      ]
     },
     "execution_count": 380,
     "metadata": {},
     "output_type": "execute_result"
    }
   ],
   "source": [
    "df.columns"
   ]
  },
  {
   "cell_type": "code",
   "execution_count": 381,
   "metadata": {
    "scrolled": true
   },
   "outputs": [
    {
     "name": "stdout",
     "output_type": "stream",
     "text": [
      "**** Drop age ****\n",
      "                    Training-Accuracy  Testing-Accuracy    Recall  Precision  \\\n",
      "DecisionTree                 1.000000          0.879092  0.474576   0.466069   \n",
      "RandomForest                 0.893987          0.895164  0.741851   0.430408   \n",
      "AdaBoost                     0.891301          0.896564  1.000000   0.113093   \n",
      "Bagging                      0.978481          0.900840  0.750326   0.452437   \n",
      "LogisticRegression           0.889405          0.895459  0.629726   0.443730   \n",
      "\n",
      "                    F1-Score  Roc-Auc-Score  \n",
      "DecisionTree        0.470284       0.702625  \n",
      "RandomForest        0.544758       0.808332  \n",
      "AdaBoost            0.203206       0.500000  \n",
      "Bagging             0.564492       0.817266  \n",
      "LogisticRegression  0.520614       0.764531  \n",
      "**** Drop job ****\n",
      "                    Training-Accuracy  Testing-Accuracy    Recall  Precision  \\\n",
      "DecisionTree                 1.000000          0.877175  0.480443   0.458904   \n",
      "RandomForest                 0.893513          0.894795  0.721643   0.436686   \n",
      "AdaBoost                     0.891333          0.895016  1.000000   0.113093   \n",
      "Bagging                      0.977533          0.901135  0.737940   0.451896   \n",
      "LogisticRegression           0.889121          0.895385  0.628422   0.444855   \n",
      "\n",
      "                    F1-Score  Roc-Auc-Score  \n",
      "DecisionTree        0.469427       0.704104  \n",
      "RandomForest        0.544114       0.801470  \n",
      "AdaBoost            0.203206       0.500000  \n",
      "Bagging             0.560535       0.811904  \n",
      "LogisticRegression  0.520940       0.764211  \n",
      "**** Drop marital ****\n",
      "                    Training-Accuracy  Testing-Accuracy    Recall  Precision  \\\n",
      "DecisionTree                 1.000000          0.878281  0.490874   0.463956   \n",
      "RandomForest                 0.894050          0.895164  0.721643   0.430237   \n",
      "AdaBoost                     0.891333          0.895016  1.000000   0.113093   \n",
      "Bagging                      0.977691          0.901651  0.753585   0.459277   \n",
      "LogisticRegression           0.889026          0.895532  0.628422   0.445060   \n",
      "\n",
      "                    F1-Score  Roc-Auc-Score  \n",
      "DecisionTree        0.477035       0.709277  \n",
      "RandomForest        0.539080       0.799890  \n",
      "AdaBoost            0.203206       0.500000  \n",
      "Bagging             0.570723       0.820226  \n",
      "LogisticRegression  0.521081       0.764253  \n",
      "**** Drop education ****\n",
      "                    Training-Accuracy  Testing-Accuracy    Recall  Precision  \\\n",
      "DecisionTree                 1.000000          0.878944  0.498044   0.466993   \n",
      "RandomForest                 0.893639          0.895680  0.734029   0.426515   \n",
      "AdaBoost                     0.891491          0.894426  1.000000   0.113093   \n",
      "Bagging                      0.977312          0.900914  0.745111   0.453212   \n",
      "LogisticRegression           0.889405          0.895237  0.631682   0.450279   \n",
      "\n",
      "                    F1-Score  Roc-Auc-Score  \n",
      "DecisionTree        0.482019       0.712779  \n",
      "RandomForest        0.539530       0.804088  \n",
      "AdaBoost            0.203206       0.500000  \n",
      "Bagging             0.563609       0.815240  \n",
      "LogisticRegression  0.525773       0.766672  \n",
      "**** Drop default ****\n",
      "                    Training-Accuracy  Testing-Accuracy    Recall  Precision  \\\n",
      "DecisionTree                 1.000000          0.878428  0.494785   0.464789   \n",
      "RandomForest                 0.894303          0.895459  0.736636   0.436125   \n",
      "AdaBoost                     0.889879          0.894500  1.000000   0.113093   \n",
      "Bagging                      0.977786          0.899735  0.744459   0.460298   \n",
      "LogisticRegression           0.888425          0.895090  0.630378   0.444189   \n",
      "\n",
      "                    F1-Score  Roc-Auc-Score  \n",
      "DecisionTree        0.479318       0.711067  \n",
      "RandomForest        0.547879       0.807595  \n",
      "AdaBoost            0.203206       0.500000  \n",
      "Bagging             0.568867       0.816577  \n",
      "LogisticRegression  0.521153       0.764898  \n",
      "**** Drop balance ****\n",
      "                    Training-Accuracy  Testing-Accuracy    Recall  Precision  \\\n",
      "DecisionTree                 1.000000          0.877691  0.488266   0.461491   \n",
      "RandomForest                 0.894872          0.895901  0.739896   0.431723   \n",
      "AdaBoost                     0.889879          0.894500  1.000000   0.113093   \n",
      "Bagging                      0.977660          0.901651  0.735332   0.457421   \n",
      "LogisticRegression           0.888457          0.895090  0.629074   0.443882   \n",
      "\n",
      "                    F1-Score  Roc-Auc-Score  \n",
      "DecisionTree        0.474501       0.707807  \n",
      "RandomForest        0.545280       0.807853  \n",
      "AdaBoost            0.203206       0.500000  \n",
      "Bagging             0.564000       0.812055  \n",
      "LogisticRegression  0.520496       0.764288  \n",
      "**** Drop housing ****\n",
      "                    Training-Accuracy  Testing-Accuracy    Recall  Precision  \\\n",
      "DecisionTree                 0.999242          0.875553  0.476532   0.450956   \n",
      "RandomForest                 0.895282          0.895827  0.744459   0.433726   \n",
      "AdaBoost                     0.890448          0.896122  1.000000   0.113093   \n",
      "Bagging                      0.976649          0.900914  0.743807   0.461383   \n",
      "LogisticRegression           0.888741          0.896048  0.627771   0.441743   \n",
      "\n",
      "                    F1-Score  Roc-Auc-Score  \n",
      "DecisionTree        0.463391       0.701275  \n",
      "RandomForest        0.548116       0.810259  \n",
      "AdaBoost            0.203206       0.500000  \n",
      "Bagging             0.569503       0.816542  \n",
      "LogisticRegression  0.518578       0.763303  \n",
      "**** Drop loan ****\n",
      "                    Training-Accuracy  Testing-Accuracy    Recall  Precision  \\\n",
      "DecisionTree                 0.998862          0.879239  0.478488   0.463970   \n",
      "RandomForest                 0.896357          0.897744  0.725554   0.429398   \n",
      "AdaBoost                     0.890985          0.897081  1.000000   0.113093   \n",
      "Bagging                      0.975922          0.900324  0.735984   0.458570   \n",
      "LogisticRegression           0.887983          0.895753  0.545632   0.422727   \n",
      "\n",
      "                    F1-Score  Roc-Auc-Score  \n",
      "DecisionTree        0.471117       0.703999  \n",
      "RandomForest        0.539506       0.801306  \n",
      "AdaBoost            0.203206       0.500000  \n",
      "Bagging             0.565065       0.812589  \n",
      "LogisticRegression  0.476380       0.725310  \n",
      "**** Drop contact ****\n",
      "                    Training-Accuracy  Testing-Accuracy    Recall  Precision  \\\n",
      "DecisionTree                 0.998641          0.877838  0.473272   0.456891   \n",
      "RandomForest                 0.892344          0.894942  0.732725   0.419090   \n",
      "AdaBoost                     0.892691          0.898997  1.000000   0.113093   \n",
      "Bagging                      0.975795          0.899587  0.739244   0.463046   \n",
      "LogisticRegression           0.887888          0.894869  0.531291   0.417307   \n",
      "\n",
      "                    F1-Score  Roc-Auc-Score  \n",
      "DecisionTree        0.464938       0.700768  \n",
      "RandomForest        0.533207       0.801608  \n",
      "AdaBoost            0.203206       0.500000  \n",
      "Bagging             0.569420       0.814967  \n",
      "LogisticRegression  0.467451       0.718347  \n",
      "**** Drop day ****\n",
      "                    Training-Accuracy  Testing-Accuracy    Recall  Precision  \\\n",
      "DecisionTree                 0.998104          0.878723  0.481095   0.458955   \n",
      "RandomForest                 0.896578          0.897449  0.713168   0.424360   \n",
      "AdaBoost                     0.890890          0.898186  1.000000   0.113093   \n",
      "Bagging                      0.974342          0.897818  0.713168   0.434990   \n",
      "LogisticRegression           0.887035          0.893910  0.499348   0.421111   \n",
      "\n",
      "                    F1-Score  Roc-Auc-Score  \n",
      "DecisionTree        0.469764       0.704388  \n",
      "RandomForest        0.532101       0.794905  \n",
      "AdaBoost            0.203206       0.500000  \n",
      "Bagging             0.540380       0.797523  \n",
      "LogisticRegression  0.456904       0.705908  \n",
      "**** Drop month ****\n",
      "                    Training-Accuracy  Testing-Accuracy    Recall  Precision  \\\n",
      "DecisionTree                 0.980030          0.874447  0.455671   0.379891   \n",
      "RandomForest                 0.896641          0.898776  0.716428   0.420589   \n",
      "AdaBoost                     0.890890          0.898186  1.000000   0.113093   \n",
      "Bagging                      0.960281          0.888455  0.661017   0.391204   \n",
      "LogisticRegression           0.887035          0.893910  0.498696   0.420561   \n",
      "\n",
      "                    F1-Score  Roc-Auc-Score  \n",
      "DecisionTree        0.414345       0.680413  \n",
      "RandomForest        0.530022       0.795288  \n",
      "AdaBoost            0.203206       0.500000  \n",
      "Bagging             0.491517       0.764922  \n",
      "LogisticRegression  0.456308       0.705541  \n",
      "**** Drop duration ****\n"
     ]
    },
    {
     "name": "stdout",
     "output_type": "stream",
     "text": [
      "                    Training-Accuracy  Testing-Accuracy    Recall  Precision  \\\n",
      "DecisionTree                 0.952634          0.882262  0.430248   0.358501   \n",
      "RandomForest                 0.902044          0.903052  0.670795   0.417614   \n",
      "AdaBoost                     0.894050          0.899440  1.000000   0.113093   \n",
      "Bagging                      0.939647          0.890077  0.569100   0.370543   \n",
      "LogisticRegression           0.887351          0.893837  0.498044   0.423738   \n",
      "\n",
      "                    F1-Score  Roc-Auc-Score  \n",
      "DecisionTree        0.391111       0.666038  \n",
      "RandomForest        0.514757       0.775755  \n",
      "AdaBoost            0.203206       0.500000  \n",
      "Bagging             0.448843       0.722913  \n",
      "LogisticRegression  0.457896       0.705838  \n",
      "**** Drop campaign ****\n",
      "                    Training-Accuracy  Testing-Accuracy    Recall  Precision  \\\n",
      "DecisionTree                 0.914842          0.884179  0.176010   0.386266   \n",
      "RandomForest                 0.892723          0.894205  0.236636   0.504167   \n",
      "AdaBoost                     0.891333          0.893689  1.000000   0.113093   \n",
      "Bagging                      0.908333          0.888676  0.230769   0.388584   \n",
      "LogisticRegression           0.880431          0.885285  0.108866   0.245588   \n",
      "\n",
      "                    F1-Score  Roc-Auc-Score  \n",
      "DecisionTree        0.241827       0.570175  \n",
      "RandomForest        0.322094       0.603480  \n",
      "AdaBoost            0.203206       0.500000  \n",
      "Bagging             0.289571       0.592234  \n",
      "LogisticRegression  0.150858       0.533111  \n",
      "**** Drop pdays ****\n",
      "                    Training-Accuracy  Testing-Accuracy    Recall  Precision  \\\n",
      "DecisionTree                 0.909059          0.886464  0.192960   0.389474   \n",
      "RandomForest                 0.892312          0.894205  0.232725   0.496523   \n",
      "AdaBoost                     0.892154          0.894132  1.000000   0.113093   \n",
      "Bagging                      0.905078          0.888750  0.225554   0.381898   \n",
      "LogisticRegression           0.880463          0.885211  0.097132   0.227481   \n",
      "\n",
      "                    F1-Score  Roc-Auc-Score  \n",
      "DecisionTree        0.258065       0.577195  \n",
      "RandomForest        0.316911       0.601317  \n",
      "AdaBoost            0.203206       0.500000  \n",
      "Bagging             0.283607       0.589502  \n",
      "LogisticRegression  0.136135       0.527535  \n",
      "**** Drop previous ****\n",
      "                    Training-Accuracy  Testing-Accuracy    Recall  Precision  \\\n",
      "DecisionTree                 0.892470          0.894132  0.184485   0.503559   \n",
      "RandomForest                 0.892312          0.894279  0.176010   0.606742   \n",
      "AdaBoost                     0.892186          0.894279  1.000000   0.113093   \n",
      "Bagging                      0.892407          0.894132  0.186441   0.500000   \n",
      "LogisticRegression           0.880715          0.885653  0.048240   0.207283   \n",
      "\n",
      "                    F1-Score  Roc-Auc-Score  \n",
      "DecisionTree        0.270038       0.580646  \n",
      "RandomForest        0.272865       0.580732  \n",
      "AdaBoost            0.203206       0.500000  \n",
      "Bagging             0.271605       0.581333  \n",
      "LogisticRegression  0.078265       0.512358  \n",
      "**** Drop poutcome ****\n",
      "                    Training-Accuracy  Testing-Accuracy   Recall  Precision  \\\n",
      "DecisionTree                 0.892249          0.894279  0.17601   0.613636   \n",
      "RandomForest                 0.892249          0.894279  0.17601   0.613636   \n",
      "AdaBoost                     0.892249          0.894279  1.00000   0.113093   \n",
      "Bagging                      0.892249          0.894279  0.17601   0.613636   \n",
      "LogisticRegression           0.881347          0.886907  0.00000   0.000000   \n",
      "\n",
      "                    F1-Score  Roc-Auc-Score  \n",
      "DecisionTree        0.273556        0.58094  \n",
      "RandomForest        0.273556        0.58094  \n",
      "AdaBoost            0.203206        0.50000  \n",
      "Bagging             0.273556        0.58094  \n",
      "LogisticRegression  0.000000        0.50000  \n"
     ]
    },
    {
     "name": "stderr",
     "output_type": "stream",
     "text": [
      "/Users/vsananda/opt/anaconda3/lib/python3.8/site-packages/sklearn/metrics/_classification.py:1221: UndefinedMetricWarning: Precision is ill-defined and being set to 0.0 due to no predicted samples. Use `zero_division` parameter to control this behavior.\n",
      "  _warn_prf(average, modifier, msg_start, len(result))\n"
     ]
    }
   ],
   "source": [
    "df = df_save.copy()\n",
    "y = df['Target']\n",
    "df.drop('Target',inplace=True,axis='columns')\n",
    "\n",
    "for feature in df.columns:\n",
    "    #df = df_save.copy()\n",
    "\n",
    "    print(\"**** Drop {} ****\".format(feature))\n",
    "    #y = df['Target']\n",
    "    #df.drop(['Target',feature],inplace=True,axis='columns')\n",
    "\n",
    "    X = df\n",
    "    \n",
    "    X_train,X_test,y_train,y_test = train_test_split(X,y,test_size=0.3,random_state=7)\n",
    "    \n",
    "    results_df , test_vs_pred = all_scores(models,X_train,y_train,X_test,y_test,threshold=0.2 )\n",
    "\n",
    "    print(results_df)\n",
    "    \n",
    "    df.drop(feature,inplace=True,axis='columns')\n",
    "\n"
   ]
  },
  {
   "cell_type": "code",
   "execution_count": null,
   "metadata": {
    "scrolled": false
   },
   "outputs": [],
   "source": []
  },
  {
   "cell_type": "code",
   "execution_count": null,
   "metadata": {
    "scrolled": false
   },
   "outputs": [],
   "source": []
  },
  {
   "cell_type": "code",
   "execution_count": 198,
   "metadata": {
    "scrolled": false
   },
   "outputs": [
    {
     "name": "stdout",
     "output_type": "stream",
     "text": [
      "***** Confusion matrix for DecisionTree *****\n"
     ]
    },
    {
     "data": {
      "image/png": "[encoded data removed]",
      "text/plain": [
       "<Figure size 1080x720 with 2 Axes>"
      ]
     },
     "metadata": {
      "needs_background": "light"
     },
     "output_type": "display_data"
    },
    {
     "name": "stdout",
     "output_type": "stream",
     "text": [
      "***** Confusion matrix for RandomForest *****\n"
     ]
    },
    {
     "data": {
      "image/png": "[encoded data removed]",
      "text/plain": [
       "<Figure size 1080x720 with 2 Axes>"
      ]
     },
     "metadata": {
      "needs_background": "light"
     },
     "output_type": "display_data"
    },
    {
     "name": "stdout",
     "output_type": "stream",
     "text": [
      "***** Confusion matrix for AdaBoost *****\n"
     ]
    },
    {
     "data": {
      "image/png": "[encoded data removed]",
      "text/plain": [
       "<Figure size 1080x720 with 2 Axes>"
      ]
     },
     "metadata": {
      "needs_background": "light"
     },
     "output_type": "display_data"
    },
    {
     "name": "stdout",
     "output_type": "stream",
     "text": [
      "***** Confusion matrix for Bagging *****\n"
     ]
    },
    {
     "data": {
      "image/png": "[encoded data removed]",
      "text/plain": [
       "<Figure size 1080x720 with 2 Axes>"
      ]
     },
     "metadata": {
      "needs_background": "light"
     },
     "output_type": "display_data"
    },
    {
     "name": "stdout",
     "output_type": "stream",
     "text": [
      "***** Confusion matrix for LogisticRegression *****\n"
     ]
    },
    {
     "data": {
      "image/png": "[encoded data removed]",
      "text/plain": [
       "<Figure size 1080x720 with 2 Axes>"
      ]
     },
     "metadata": {
      "needs_background": "light"
     },
     "output_type": "display_data"
    }
   ],
   "source": [
    "for key in models:\n",
    "    print(\"***** Confusion matrix for {} *****\".format(key))\n",
    "    draw_cm( test_vs_pred[key][0], test_vs_pred[key][1] )"
   ]
  },
  {
   "cell_type": "code",
   "execution_count": 199,
   "metadata": {
    "scrolled": false
   },
   "outputs": [],
   "source": [
    "# Null accuracy , choose 1 of the classes all the time\n",
    "# Useful metric when we have an imbalance in class distribution\n",
    "def compute_null_accuracy(y):\n",
    "    distrib = y.value_counts(normalize=True)\n",
    "    return distrib[ np.argmax(distrib) ] * 100"
   ]
  },
  {
   "cell_type": "code",
   "execution_count": 200,
   "metadata": {
    "scrolled": false
   },
   "outputs": [
    {
     "name": "stdout",
     "output_type": "stream",
     "text": [
      "Null accuracy = 88.24093187850191% \n"
     ]
    }
   ],
   "source": [
    "print( \"Null accuracy = {}% \".format(compute_null_accuracy(y_test)))"
   ]
  },
  {
   "cell_type": "markdown",
   "metadata": {},
   "source": [
    "#### Just choosing 0 all the time, will result in 91.5% accuracy, logistic regression  increased it to 95.8%"
   ]
  },
  {
   "cell_type": "code",
   "execution_count": 202,
   "metadata": {
    "scrolled": false
   },
   "outputs": [
    {
     "name": "stdout",
     "output_type": "stream",
     "text": [
      "***** Model params for LogisticRegression *****\n",
      "                    Col  Coeff\n",
      "0                   age   0.00\n",
      "1               balance   0.05\n",
      "2                   day   0.07\n",
      "3              duration   1.11\n",
      "4              campaign   0.27\n",
      "5                 pdays   0.03\n",
      "6              previous   0.02\n",
      "7            job_admin.   0.05\n",
      "8       job_blue-collar   0.03\n",
      "9      job_entrepreneur   0.04\n",
      "10        job_housemaid   0.07\n",
      "11       job_management   0.02\n",
      "12          job_retired   0.09\n",
      "13    job_self-employed   0.01\n",
      "14         job_services   0.02\n",
      "15          job_student   0.06\n",
      "16       job_technician   0.00\n",
      "17       job_unemployed   0.02\n",
      "18          job_unknown   0.01\n",
      "19     marital_divorced   0.03\n",
      "20      marital_married   0.08\n",
      "21       marital_single   0.06\n",
      "22    education_primary   0.07\n",
      "23  education_secondary   0.01\n",
      "24   education_tertiary   0.07\n",
      "25    education_unknown   0.00\n",
      "26           default_no   0.00\n",
      "27          default_yes   0.00\n",
      "28           housing_no   0.17\n",
      "29          housing_yes   0.17\n",
      "30              loan_no   0.08\n",
      "31             loan_yes   0.08\n",
      "32     contact_cellular   0.35\n",
      "33    contact_telephone   0.13\n",
      "34      contact_unknown   0.44\n",
      "35            month_apr   0.08\n",
      "36            month_aug   0.12\n",
      "37            month_dec   0.08\n",
      "38            month_feb   0.04\n",
      "39            month_jan   0.14\n",
      "40            month_jul   0.17\n",
      "41            month_jun   0.25\n",
      "42            month_mar   0.21\n",
      "43            month_may   0.01\n",
      "44            month_nov   0.14\n",
      "45            month_oct   0.15\n",
      "46            month_sep   0.15\n",
      "47     poutcome_failure   0.06\n",
      "48       poutcome_other   0.01\n",
      "49     poutcome_success   0.38\n",
      "50     poutcome_unknown   0.12\n"
     ]
    }
   ],
   "source": [
    "for key,model in models.items():\n",
    "    if hasattr(model,'coef_'):\n",
    "        print(\"***** Model params for {} *****\".format(key))\n",
    "        ## Feature Importance or Coefficients \n",
    "        fi = pd.DataFrame()\n",
    "        fi['Col'] = X_train.columns\n",
    "        fi['Coeff'] = np.round(abs(model.coef_[0]),2)\n",
    "        fi.sort_values(by='Coeff',ascending=False)\n",
    "        print(fi)"
   ]
  },
  {
   "cell_type": "markdown",
   "metadata": {},
   "source": [
    "### AUC ROC Curve"
   ]
  },
  {
   "cell_type": "code",
   "execution_count": 266,
   "metadata": {
    "scrolled": false
   },
   "outputs": [
    {
     "data": {
      "image/png": "[encoded data removed]",
      "text/plain": [
       "<Figure size 1080x720 with 1 Axes>"
      ]
     },
     "metadata": {
      "needs_background": "light"
     },
     "output_type": "display_data"
    }
   ],
   "source": [
    "from sklearn.metrics import roc_auc_score\n",
    "from sklearn.metrics import roc_curve\n",
    "\n",
    "\n",
    "\n",
    "logit_roc_auc = roc_auc_score(y_test, model.predict(X_test))\n",
    "fpr, tpr, thresholds = roc_curve(y_test, model.predict_proba(X_test)[:,1])\n",
    "plt.figure(figsize=(15, 10))\n",
    "\n",
    "plt.plot(fpr, tpr, label='Logistic Regression (area = %0.2f)' % logit_roc_auc)\n",
    "plt.plot([0, 1], [0, 1],'r--')\n",
    "plt.xlim([-0.1, 1.1])\n",
    "plt.ylim([-0.1, 1.1])\n",
    "plt.xlabel('False Positive Rate')\n",
    "plt.ylabel('True Positive Rate')\n",
    "plt.title('Receiver operating characteristic')\n",
    "plt.legend(loc=\"lower right\")\n",
    "plt.savefig('Log_ROC')\n",
    "plt.grid('on')\n",
    "plt.show()"
   ]
  },
  {
   "cell_type": "markdown",
   "metadata": {},
   "source": [
    "**Insights:**\n",
    "- Looking at the scores and the AUC ROC Curve, we see that with the default threshold of 0.5, the True Positive Rate or Recall is 0.64. \n",
    "- You can increase Recall or the TPR by decreasing the number of False Negatives.\n",
    "- From the AUC ROC Curve we can see that the slope of the curve is high between 0.6 and 0.8, this means that for a small increase in the False Positive Rate, we will see a larger increase in the TPR (Recall score)\n",
    "- Increasing the Recall score will result in the Precision Score decreasing \n",
    "- Precision score decreasing will mean the number of False Positives are increasing.\n",
    "- From the confusion matrix we see that there are a lot more False Negatives (45) compared to False Positives (18), so there is some scope to make these more balanced without impacting the overall accuracy of ~95%.\n",
    "- We can do so by adjusting the threshold"
   ]
  },
  {
   "cell_type": "markdown",
   "metadata": {},
   "source": [
    "## Fine Tuning Threshold\n",
    "### We plot how the accuracy, precision and recall scores change as we vary the threshold\n"
   ]
  },
  {
   "cell_type": "code",
   "execution_count": 267,
   "metadata": {
    "scrolled": false
   },
   "outputs": [
    {
     "data": {
      "image/png": "[encoded data removed]",
      "text/plain": [
       "<Figure size 1080x720 with 1 Axes>"
      ]
     },
     "metadata": {
      "needs_background": "light"
     },
     "output_type": "display_data"
    }
   ],
   "source": [
    "accuracy_plot=[]\n",
    "recall_plot=[]\n",
    "precision_plot=[]\n",
    "x_range = np.linspace(0.1,0.9,100)\n",
    "\n",
    "for threshold in x_range:\n",
    "    y_pred = np.where(model.predict_proba(X_test)[:,1] > threshold ,1, 0)\n",
    "    accuracy_plot.append( accuracy_score(y_test,y_pred))\n",
    "    recall_plot.append( recall_score(y_test,y_pred))\n",
    "    precision_plot.append( precision_score(y_test,y_pred))\n",
    "\n",
    "plt.figure(figsize=(15, 10))\n",
    "plt.plot(x_range, accuracy_plot,label=\"accuracy\")\n",
    "plt.plot(x_range, recall_plot,label='recall')\n",
    "plt.plot(x_range, precision_plot,label='precision')\n",
    "plt.legend(loc=\"lower right\")\n",
    "plt.grid('on')\n",
    "plt.show()"
   ]
  },
  {
   "cell_type": "markdown",
   "metadata": {},
   "source": [
    "## From the graph a threshold value that balances the precision and recall score seems to be around 0.3"
   ]
  },
  {
   "cell_type": "code",
   "execution_count": 268,
   "metadata": {
    "scrolled": false
   },
   "outputs": [],
   "source": [
    "Threshold = 0.3\n",
    "y_pred = np.where(model.predict_proba(X_test)[:,1] > Threshold ,1, 0)"
   ]
  },
  {
   "cell_type": "code",
   "execution_count": 269,
   "metadata": {
    "scrolled": false
   },
   "outputs": [
    {
     "name": "stdout",
     "output_type": "stream",
     "text": [
      "Testing accuracy 0.952\n",
      "\n",
      "Confusion Matrix\n"
     ]
    },
    {
     "data": {
      "image/png": "[encoded data removed]",
      "text/plain": [
       "<Figure size 1080x720 with 2 Axes>"
      ]
     },
     "metadata": {
      "needs_background": "light"
     },
     "output_type": "display_data"
    },
    {
     "name": "stdout",
     "output_type": "stream",
     "text": [
      "\n",
      "Recall: 0.734375\n",
      "\n",
      "Precision: 0.7121212121212122\n",
      "\n",
      "F1 Score: 0.7230769230769231\n",
      "\n",
      "Roc Auc Score: 0.8533391034985423\n"
     ]
    }
   ],
   "source": [
    "print(\"Testing accuracy\",accuracy_score(y_test, y_pred))\n",
    "print()\n",
    "print('Confusion Matrix')\n",
    "draw_cm(y_test,y_pred)\n",
    "print()\n",
    "print(\"Recall:\",recall_score(y_test,y_pred))\n",
    "print()\n",
    "print(\"Precision:\",precision_score(y_test,y_pred))\n",
    "print()\n",
    "print(\"F1 Score:\",f1_score(y_test,y_pred))\n",
    "print()\n",
    "print(\"Roc Auc Score:\",roc_auc_score(y_test,y_pred))"
   ]
  },
  {
   "cell_type": "markdown",
   "metadata": {},
   "source": [
    "### By setting the threshold to 0.3, we the number of False Negatives and False Positives are closer at 34 and 38  each\n",
    "### The overall accuracy remains at ~95%\n"
   ]
  },
  {
   "cell_type": "markdown",
   "metadata": {},
   "source": [
    "## Step 5. Find out \n",
    "   * coefficients of all the attributes and show the output in a data frame with column names\n",
    "   * For test data show all the rows where the predicted class is not equal to the observed class. (**10** marks)"
   ]
  },
  {
   "cell_type": "code",
   "execution_count": 270,
   "metadata": {
    "scrolled": false
   },
   "outputs": [
    {
     "data": {
      "text/html": [
       "<div>\n",
       "<style scoped>\n",
       "    .dataframe tbody tr th:only-of-type {\n",
       "        vertical-align: middle;\n",
       "    }\n",
       "\n",
       "    .dataframe tbody tr th {\n",
       "        vertical-align: top;\n",
       "    }\n",
       "\n",
       "    .dataframe thead th {\n",
       "        text-align: right;\n",
       "    }\n",
       "</style>\n",
       "<table border=\"1\" class=\"dataframe\">\n",
       "  <thead>\n",
       "    <tr style=\"text-align: right;\">\n",
       "      <th></th>\n",
       "      <th>Col</th>\n",
       "      <th>Coeff</th>\n",
       "    </tr>\n",
       "  </thead>\n",
       "  <tbody>\n",
       "    <tr>\n",
       "      <th>10</th>\n",
       "      <td>Education_1</td>\n",
       "      <td>4.34</td>\n",
       "    </tr>\n",
       "    <tr>\n",
       "      <th>7</th>\n",
       "      <td>CD Account</td>\n",
       "      <td>3.23</td>\n",
       "    </tr>\n",
       "    <tr>\n",
       "      <th>9</th>\n",
       "      <td>CreditCard</td>\n",
       "      <td>0.87</td>\n",
       "    </tr>\n",
       "    <tr>\n",
       "      <th>8</th>\n",
       "      <td>Online</td>\n",
       "      <td>0.77</td>\n",
       "    </tr>\n",
       "    <tr>\n",
       "      <th>6</th>\n",
       "      <td>Securities Account</td>\n",
       "      <td>0.61</td>\n",
       "    </tr>\n",
       "    <tr>\n",
       "      <th>12</th>\n",
       "      <td>Education_3</td>\n",
       "      <td>0.61</td>\n",
       "    </tr>\n",
       "    <tr>\n",
       "      <th>11</th>\n",
       "      <td>Education_2</td>\n",
       "      <td>0.57</td>\n",
       "    </tr>\n",
       "    <tr>\n",
       "      <th>3</th>\n",
       "      <td>Family</td>\n",
       "      <td>0.36</td>\n",
       "    </tr>\n",
       "    <tr>\n",
       "      <th>4</th>\n",
       "      <td>CCAvg</td>\n",
       "      <td>0.20</td>\n",
       "    </tr>\n",
       "    <tr>\n",
       "      <th>0</th>\n",
       "      <td>Age</td>\n",
       "      <td>0.06</td>\n",
       "    </tr>\n",
       "    <tr>\n",
       "      <th>1</th>\n",
       "      <td>Experience</td>\n",
       "      <td>0.05</td>\n",
       "    </tr>\n",
       "    <tr>\n",
       "      <th>2</th>\n",
       "      <td>Income</td>\n",
       "      <td>0.05</td>\n",
       "    </tr>\n",
       "    <tr>\n",
       "      <th>13</th>\n",
       "      <td>Loans-By-Zipcode</td>\n",
       "      <td>0.05</td>\n",
       "    </tr>\n",
       "    <tr>\n",
       "      <th>5</th>\n",
       "      <td>Mortgage</td>\n",
       "      <td>0.00</td>\n",
       "    </tr>\n",
       "  </tbody>\n",
       "</table>\n",
       "</div>"
      ],
      "text/plain": [
       "                   Col  Coeff\n",
       "10         Education_1   4.34\n",
       "7           CD Account   3.23\n",
       "9           CreditCard   0.87\n",
       "8               Online   0.77\n",
       "6   Securities Account   0.61\n",
       "12         Education_3   0.61\n",
       "11         Education_2   0.57\n",
       "3               Family   0.36\n",
       "4                CCAvg   0.20\n",
       "0                  Age   0.06\n",
       "1           Experience   0.05\n",
       "2               Income   0.05\n",
       "13    Loans-By-Zipcode   0.05\n",
       "5             Mortgage   0.00"
      ]
     },
     "execution_count": 270,
     "metadata": {},
     "output_type": "execute_result"
    }
   ],
   "source": [
    "## Feature Importance or Coefficients \n",
    "fi = pd.DataFrame()\n",
    "fi['Col'] = X_train.columns\n",
    "fi['Coeff'] = np.round(abs(model.coef_[0]),2)\n",
    "fi.sort_values(by='Coeff',ascending=False)"
   ]
  },
  {
   "cell_type": "code",
   "execution_count": 271,
   "metadata": {
    "scrolled": false
   },
   "outputs": [],
   "source": [
    "# Observe the predicted and observed classes in a dataframe.\n",
    "z = X_test.copy()\n",
    "z['Actual-Output'] = y_test\n",
    "z['Predicted-Output'] = y_pred"
   ]
  },
  {
   "cell_type": "code",
   "execution_count": 272,
   "metadata": {
    "scrolled": false
   },
   "outputs": [],
   "source": [
    "filter_actual_not_equal_predicted = ( z['Actual-Output'] != z['Predicted-Output'])"
   ]
  },
  {
   "cell_type": "code",
   "execution_count": 273,
   "metadata": {
    "scrolled": false
   },
   "outputs": [
    {
     "data": {
      "text/html": [
       "<div>\n",
       "<style scoped>\n",
       "    .dataframe tbody tr th:only-of-type {\n",
       "        vertical-align: middle;\n",
       "    }\n",
       "\n",
       "    .dataframe tbody tr th {\n",
       "        vertical-align: top;\n",
       "    }\n",
       "\n",
       "    .dataframe thead th {\n",
       "        text-align: right;\n",
       "    }\n",
       "</style>\n",
       "<table border=\"1\" class=\"dataframe\">\n",
       "  <thead>\n",
       "    <tr style=\"text-align: right;\">\n",
       "      <th></th>\n",
       "      <th>Age</th>\n",
       "      <th>Experience</th>\n",
       "      <th>Income</th>\n",
       "      <th>Family</th>\n",
       "      <th>CCAvg</th>\n",
       "      <th>Mortgage</th>\n",
       "      <th>Securities Account</th>\n",
       "      <th>CD Account</th>\n",
       "      <th>Online</th>\n",
       "      <th>CreditCard</th>\n",
       "      <th>Education_1</th>\n",
       "      <th>Education_2</th>\n",
       "      <th>Education_3</th>\n",
       "      <th>Loans-By-Zipcode</th>\n",
       "      <th>Actual-Output</th>\n",
       "      <th>Predicted-Output</th>\n",
       "    </tr>\n",
       "  </thead>\n",
       "  <tbody>\n",
       "    <tr>\n",
       "      <th>4344</th>\n",
       "      <td>53</td>\n",
       "      <td>28.0</td>\n",
       "      <td>181</td>\n",
       "      <td>1</td>\n",
       "      <td>8.10</td>\n",
       "      <td>0</td>\n",
       "      <td>0</td>\n",
       "      <td>0</td>\n",
       "      <td>1</td>\n",
       "      <td>0</td>\n",
       "      <td>1</td>\n",
       "      <td>0</td>\n",
       "      <td>0</td>\n",
       "      <td>6</td>\n",
       "      <td>0</td>\n",
       "      <td>1</td>\n",
       "    </tr>\n",
       "    <tr>\n",
       "      <th>464</th>\n",
       "      <td>43</td>\n",
       "      <td>19.0</td>\n",
       "      <td>83</td>\n",
       "      <td>4</td>\n",
       "      <td>3.60</td>\n",
       "      <td>0</td>\n",
       "      <td>0</td>\n",
       "      <td>0</td>\n",
       "      <td>0</td>\n",
       "      <td>1</td>\n",
       "      <td>0</td>\n",
       "      <td>0</td>\n",
       "      <td>1</td>\n",
       "      <td>13</td>\n",
       "      <td>1</td>\n",
       "      <td>0</td>\n",
       "    </tr>\n",
       "    <tr>\n",
       "      <th>308</th>\n",
       "      <td>32</td>\n",
       "      <td>8.0</td>\n",
       "      <td>128</td>\n",
       "      <td>2</td>\n",
       "      <td>4.33</td>\n",
       "      <td>0</td>\n",
       "      <td>0</td>\n",
       "      <td>1</td>\n",
       "      <td>1</td>\n",
       "      <td>1</td>\n",
       "      <td>1</td>\n",
       "      <td>0</td>\n",
       "      <td>0</td>\n",
       "      <td>19</td>\n",
       "      <td>0</td>\n",
       "      <td>1</td>\n",
       "    </tr>\n",
       "    <tr>\n",
       "      <th>4284</th>\n",
       "      <td>38</td>\n",
       "      <td>13.0</td>\n",
       "      <td>173</td>\n",
       "      <td>2</td>\n",
       "      <td>3.30</td>\n",
       "      <td>243</td>\n",
       "      <td>0</td>\n",
       "      <td>0</td>\n",
       "      <td>0</td>\n",
       "      <td>0</td>\n",
       "      <td>1</td>\n",
       "      <td>0</td>\n",
       "      <td>0</td>\n",
       "      <td>13</td>\n",
       "      <td>0</td>\n",
       "      <td>1</td>\n",
       "    </tr>\n",
       "    <tr>\n",
       "      <th>3288</th>\n",
       "      <td>56</td>\n",
       "      <td>30.0</td>\n",
       "      <td>140</td>\n",
       "      <td>4</td>\n",
       "      <td>0.50</td>\n",
       "      <td>292</td>\n",
       "      <td>0</td>\n",
       "      <td>0</td>\n",
       "      <td>0</td>\n",
       "      <td>0</td>\n",
       "      <td>1</td>\n",
       "      <td>0</td>\n",
       "      <td>0</td>\n",
       "      <td>2</td>\n",
       "      <td>1</td>\n",
       "      <td>0</td>\n",
       "    </tr>\n",
       "    <tr>\n",
       "      <th>...</th>\n",
       "      <td>...</td>\n",
       "      <td>...</td>\n",
       "      <td>...</td>\n",
       "      <td>...</td>\n",
       "      <td>...</td>\n",
       "      <td>...</td>\n",
       "      <td>...</td>\n",
       "      <td>...</td>\n",
       "      <td>...</td>\n",
       "      <td>...</td>\n",
       "      <td>...</td>\n",
       "      <td>...</td>\n",
       "      <td>...</td>\n",
       "      <td>...</td>\n",
       "      <td>...</td>\n",
       "      <td>...</td>\n",
       "    </tr>\n",
       "    <tr>\n",
       "      <th>1303</th>\n",
       "      <td>29</td>\n",
       "      <td>5.0</td>\n",
       "      <td>112</td>\n",
       "      <td>2</td>\n",
       "      <td>2.00</td>\n",
       "      <td>382</td>\n",
       "      <td>1</td>\n",
       "      <td>0</td>\n",
       "      <td>0</td>\n",
       "      <td>0</td>\n",
       "      <td>0</td>\n",
       "      <td>1</td>\n",
       "      <td>0</td>\n",
       "      <td>19</td>\n",
       "      <td>0</td>\n",
       "      <td>1</td>\n",
       "    </tr>\n",
       "    <tr>\n",
       "      <th>1889</th>\n",
       "      <td>56</td>\n",
       "      <td>30.0</td>\n",
       "      <td>111</td>\n",
       "      <td>4</td>\n",
       "      <td>0.30</td>\n",
       "      <td>372</td>\n",
       "      <td>1</td>\n",
       "      <td>1</td>\n",
       "      <td>1</td>\n",
       "      <td>0</td>\n",
       "      <td>1</td>\n",
       "      <td>0</td>\n",
       "      <td>0</td>\n",
       "      <td>4</td>\n",
       "      <td>1</td>\n",
       "      <td>0</td>\n",
       "    </tr>\n",
       "    <tr>\n",
       "      <th>2748</th>\n",
       "      <td>32</td>\n",
       "      <td>7.0</td>\n",
       "      <td>82</td>\n",
       "      <td>1</td>\n",
       "      <td>2.60</td>\n",
       "      <td>240</td>\n",
       "      <td>0</td>\n",
       "      <td>1</td>\n",
       "      <td>1</td>\n",
       "      <td>1</td>\n",
       "      <td>0</td>\n",
       "      <td>1</td>\n",
       "      <td>0</td>\n",
       "      <td>13</td>\n",
       "      <td>0</td>\n",
       "      <td>1</td>\n",
       "    </tr>\n",
       "    <tr>\n",
       "      <th>3489</th>\n",
       "      <td>36</td>\n",
       "      <td>12.0</td>\n",
       "      <td>154</td>\n",
       "      <td>3</td>\n",
       "      <td>6.40</td>\n",
       "      <td>0</td>\n",
       "      <td>1</td>\n",
       "      <td>0</td>\n",
       "      <td>0</td>\n",
       "      <td>0</td>\n",
       "      <td>1</td>\n",
       "      <td>0</td>\n",
       "      <td>0</td>\n",
       "      <td>2</td>\n",
       "      <td>1</td>\n",
       "      <td>0</td>\n",
       "    </tr>\n",
       "    <tr>\n",
       "      <th>4179</th>\n",
       "      <td>29</td>\n",
       "      <td>3.0</td>\n",
       "      <td>91</td>\n",
       "      <td>1</td>\n",
       "      <td>3.40</td>\n",
       "      <td>0</td>\n",
       "      <td>0</td>\n",
       "      <td>0</td>\n",
       "      <td>0</td>\n",
       "      <td>0</td>\n",
       "      <td>0</td>\n",
       "      <td>0</td>\n",
       "      <td>1</td>\n",
       "      <td>2</td>\n",
       "      <td>1</td>\n",
       "      <td>0</td>\n",
       "    </tr>\n",
       "  </tbody>\n",
       "</table>\n",
       "<p>72 rows × 16 columns</p>\n",
       "</div>"
      ],
      "text/plain": [
       "      Age  Experience  Income  Family  CCAvg  Mortgage  Securities Account  \\\n",
       "4344   53        28.0     181       1   8.10         0                   0   \n",
       "464    43        19.0      83       4   3.60         0                   0   \n",
       "308    32         8.0     128       2   4.33         0                   0   \n",
       "4284   38        13.0     173       2   3.30       243                   0   \n",
       "3288   56        30.0     140       4   0.50       292                   0   \n",
       "...   ...         ...     ...     ...    ...       ...                 ...   \n",
       "1303   29         5.0     112       2   2.00       382                   1   \n",
       "1889   56        30.0     111       4   0.30       372                   1   \n",
       "2748   32         7.0      82       1   2.60       240                   0   \n",
       "3489   36        12.0     154       3   6.40         0                   1   \n",
       "4179   29         3.0      91       1   3.40         0                   0   \n",
       "\n",
       "      CD Account  Online  CreditCard  Education_1  Education_2  Education_3  \\\n",
       "4344           0       1           0            1            0            0   \n",
       "464            0       0           1            0            0            1   \n",
       "308            1       1           1            1            0            0   \n",
       "4284           0       0           0            1            0            0   \n",
       "3288           0       0           0            1            0            0   \n",
       "...          ...     ...         ...          ...          ...          ...   \n",
       "1303           0       0           0            0            1            0   \n",
       "1889           1       1           0            1            0            0   \n",
       "2748           1       1           1            0            1            0   \n",
       "3489           0       0           0            1            0            0   \n",
       "4179           0       0           0            0            0            1   \n",
       "\n",
       "      Loans-By-Zipcode  Actual-Output  Predicted-Output  \n",
       "4344                 6              0                 1  \n",
       "464                 13              1                 0  \n",
       "308                 19              0                 1  \n",
       "4284                13              0                 1  \n",
       "3288                 2              1                 0  \n",
       "...                ...            ...               ...  \n",
       "1303                19              0                 1  \n",
       "1889                 4              1                 0  \n",
       "2748                13              0                 1  \n",
       "3489                 2              1                 0  \n",
       "4179                 2              1                 0  \n",
       "\n",
       "[72 rows x 16 columns]"
      ]
     },
     "execution_count": 273,
     "metadata": {},
     "output_type": "execute_result"
    }
   ],
   "source": [
    "z[filter_actual_not_equal_predicted]"
   ]
  },
  {
   "cell_type": "markdown",
   "metadata": {},
   "source": [
    "## Step 6. Give conclusion related to the Business understanding of your model? (**5** marks)"
   ]
  },
  {
   "cell_type": "markdown",
   "metadata": {},
   "source": [
    "##### `Confusion matrix means`\n",
    "\n",
    "*True Positive (observed=1,predicted=1):*\n",
    "\n",
    "Predicted that the customer will accept Personal Loan, and the Customer did accept.\n",
    "\n",
    "*False Positive (observed=0,predicted=1):*\n",
    "\n",
    "Predicted that the customer will accept Personal Loan, but the Customer did **not** accept.\n",
    "\n",
    "*True Negative (observed=0,predicted=0):*\n",
    "\n",
    "Predicted that the customer will not accept Personal Loan, and the Customer did not accept.\n",
    "\n",
    "*False Negative (observed=1,predicted=0):*\n",
    "\n",
    "Predicted that the customer will not accept Personal Loan, and the Customer did accept.\n",
    "\n",
    "\n",
    "##### `Important Features`\n",
    "\n",
    "\"CDAccount\", \"Education\", \"Securities Account\", \"Online\", \"Family\", \"Credit Card\"\n",
    "\n",
    "seems to be top 56 features which influence the model's output. Based on the coefficients value.\n",
    "\n",
    "\n",
    "##### `Important Metric`\n",
    "\n",
    "False Negatives represent **Business Opportunities lost**, i,e the customer would have taken the Personal Loan if they were offered it.\n",
    "\n",
    "False Positives represent **waste of Marketing dollars**, we offered the Personal Loan but the customer did not take it.\n",
    "\n",
    "I would bias the model towards a lower number of False Negatives, because we can assume that the bank would make far **more profit by having customers accept a Personal Loan**, than the incremental marketing cost.\n",
    "Lower False Negatives means **Recall is the important metric**. We want to increase Recall without impacting accuracy.\n",
    "\n",
    "Moving the threshold from 0.5 to 0.3 accomplishes that while maintaining the same accuracy of the model at ~95%\n",
    "\n"
   ]
  },
  {
   "cell_type": "code",
   "execution_count": null,
   "metadata": {
    "scrolled": false
   },
   "outputs": [],
   "source": []
  }
 ],
 "metadata": {
  "anaconda-cloud": {},
  "kernelspec": {
   "display_name": "Python 3",
   "language": "python",
   "name": "python3"
  },
  "language_info": {
   "codemirror_mode": {
    "name": "ipython",
    "version": 3
   },
   "file_extension": ".py",
   "mimetype": "text/x-python",
   "name": "python",
   "nbconvert_exporter": "python",
   "pygments_lexer": "ipython3",
   "version": "3.8.5"
  }
 },
 "nbformat": 4,
 "nbformat_minor": 2
}
